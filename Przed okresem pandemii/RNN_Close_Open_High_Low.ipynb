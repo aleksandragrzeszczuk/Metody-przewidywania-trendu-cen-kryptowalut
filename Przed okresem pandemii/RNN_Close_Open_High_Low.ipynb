{
 "cells": [
  {
   "cell_type": "code",
   "execution_count": 1,
   "id": "0e245b21",
   "metadata": {},
   "outputs": [],
   "source": [
    "from keras.models import Sequential\n",
    "from keras.layers import SimpleRNN, Dense, Dropout\n",
    "from keras.optimizers import Adam"
   ]
  },
  {
   "cell_type": "code",
   "execution_count": 2,
   "id": "745310cc",
   "metadata": {},
   "outputs": [],
   "source": [
    "import pandas as pd\n",
    "import optuna\n",
    "import yfinance as yf\n",
    "import pandas_datareader.data as web\n",
    "from datetime import datetime\n",
    "import numpy as np\n",
    "import pandas_ta as ta\n",
    "from keras.optimizers import Adam\n",
    "from keras.optimizers import SGD\n",
    "from keras.optimizers import Nadam\n",
    "from sklearn.metrics import confusion_matrix\n",
    "from tensorflow.keras.models import Sequential\n",
    "from tensorflow.keras.layers import Dense\n",
    "from tensorflow.keras.utils import to_categorical\n",
    "from keras.models import Sequential\n",
    "from keras.layers import Dense, Dropout\n",
    "from keras.regularizers import l2\n",
    "from keras.callbacks import EarlyStopping\n",
    "from sklearn.preprocessing import MinMaxScaler\n",
    "from keras.utils import plot_model\n",
    "from keras.layers import Dropout, Dense, GRU, LSTM, Flatten\n",
    "import matplotlib.pyplot as plt"
   ]
  },
  {
   "cell_type": "code",
   "execution_count": 3,
   "id": "ecfe67dc",
   "metadata": {},
   "outputs": [],
   "source": [
    "import warnings\n",
    "warnings.filterwarnings('ignore', category = pd.errors.PerformanceWarning)"
   ]
  },
  {
   "cell_type": "code",
   "execution_count": 4,
   "id": "3bdd371a",
   "metadata": {
    "scrolled": true
   },
   "outputs": [
    {
     "name": "stderr",
     "output_type": "stream",
     "text": [
      "\r",
      "[*********************100%%**********************]  1 of 1 completed"
     ]
    },
    {
     "name": "stdout",
     "output_type": "stream",
     "text": [
      "729\n",
      "(729, 127)\n"
     ]
    },
    {
     "name": "stderr",
     "output_type": "stream",
     "text": [
      "\n"
     ]
    }
   ],
   "source": [
    "# Pobieramy dane dotyczące BTC z yahoo\n",
    "BTC = yf.download('BTC-USD', start = '2018-01-01', end = '2019-12-31')\n",
    "\n",
    "BTC['Target'] = (BTC['Close'].diff() > 0).astype(int)\n",
    "\n",
    "def add_lagged_features(data, column_name, n_days):\n",
    "    for i in range(1, n_days + 1):\n",
    "        lagged_column_name = f'{column_name}_{i}d_back'\n",
    "        data[lagged_column_name] = data[column_name].shift(i)\n",
    "    return data\n",
    "\n",
    "BTC = add_lagged_features(BTC, 'Close', 30)\n",
    "BTC = add_lagged_features(BTC, 'Open', 30)\n",
    "BTC = add_lagged_features(BTC, 'High', 30)\n",
    "BTC = add_lagged_features(BTC, 'Low', 30)\n",
    "\n",
    "# df = pd.DataFrame()\n",
    "# df = BTC.copy()\n",
    "# print(BTC.head())\n",
    "print(len(BTC))\n",
    "print(BTC.shape)"
   ]
  },
  {
   "cell_type": "code",
   "execution_count": 5,
   "id": "bea0121c",
   "metadata": {},
   "outputs": [],
   "source": [
    "BTC = BTC.drop('Adj Close', axis=1)\n",
    "BTC = BTC.dropna().reset_index(drop = True)\n",
    "# BTC"
   ]
  },
  {
   "cell_type": "code",
   "execution_count": 6,
   "id": "148e7526",
   "metadata": {
    "scrolled": true
   },
   "outputs": [],
   "source": [
    "dataset = pd.DataFrame()\n",
    "dataset = BTC[['Open', 'High', 'Low', 'Close', 'Volume', 'Target']].copy()\n",
    "# dataset"
   ]
  },
  {
   "cell_type": "code",
   "execution_count": 7,
   "id": "a4639688",
   "metadata": {},
   "outputs": [],
   "source": [
    "n_steps_in = 20\n",
    "output_features = 2"
   ]
  },
  {
   "cell_type": "code",
   "execution_count": 8,
   "id": "c36088bd",
   "metadata": {},
   "outputs": [],
   "source": [
    "X_value = pd.DataFrame(dataset.iloc[:, :])\n",
    "X_value = X_value.drop('Target', axis='columns')\n",
    "# X_value"
   ]
  },
  {
   "cell_type": "code",
   "execution_count": 9,
   "id": "9eb64e54",
   "metadata": {},
   "outputs": [],
   "source": [
    "y_value = pd.DataFrame(dataset.Target)\n",
    "y_value = to_categorical(y_value)\n",
    "# y_value"
   ]
  },
  {
   "cell_type": "code",
   "execution_count": 10,
   "id": "d3d27bf1",
   "metadata": {},
   "outputs": [],
   "source": [
    "scaler = MinMaxScaler(feature_range=(-1, 1))\n",
    "scaler.fit(X_value)\n",
    "X_value = scaler.fit_transform(X_value)"
   ]
  },
  {
   "cell_type": "code",
   "execution_count": 11,
   "id": "b089df56",
   "metadata": {},
   "outputs": [],
   "source": [
    "def get_X_y(X_data, y_data):\n",
    "    X = list()\n",
    "    y = list()\n",
    "\n",
    "    length = len(X_data)\n",
    "    for i in range(0, length-n_steps_in, 1):\n",
    "        X_value = X_data[i: i + n_steps_in][:, :]\n",
    "        # y_value = y_data[i + n_steps_in: i + (n_steps_in + n_steps_out)][:, :]\n",
    "        y_value = y_data[i + n_steps_in]\n",
    "        if len(X_value) == n_steps_in and len(y_value) == output_features:\n",
    "            X.append(X_value)\n",
    "            y.append(y_value)\n",
    "\n",
    "    return np.array(X), np.array(y)"
   ]
  },
  {
   "cell_type": "code",
   "execution_count": 12,
   "id": "421d0771",
   "metadata": {},
   "outputs": [],
   "source": [
    "def split_train_test(data):\n",
    "    train_size = int(0.8 * len(X))\n",
    "    data_train = data[0:train_size]\n",
    "    data_test = data[train_size:]\n",
    "    return data_train, data_test"
   ]
  },
  {
   "cell_type": "code",
   "execution_count": 13,
   "id": "d239ce9e",
   "metadata": {},
   "outputs": [
    {
     "name": "stdout",
     "output_type": "stream",
     "text": [
      "X shape:  (679, 20, 5)\n",
      "y shape:  (679, 2)\n",
      "Train features shape:  (543, 20, 5)\n",
      "Test features shape:  (136, 20, 5)\n",
      "Train features shape:  (543, 2)\n",
      "Test features shape:  (136, 2)\n"
     ]
    }
   ],
   "source": [
    "X, y = get_X_y(X_value, y_value)\n",
    "print('X shape: ', X.shape)\n",
    "print('y shape: ', y.shape)\n",
    "train_features, test_features = split_train_test(X) \n",
    "train_target, test_target = split_train_test(y) \n",
    "\n",
    "print('Train features shape: ', train_features.shape)\n",
    "print('Test features shape: ', test_features.shape)\n",
    "print('Train features shape: ', train_target.shape)\n",
    "print('Test features shape: ', test_target.shape)"
   ]
  },
  {
   "cell_type": "code",
   "execution_count": 14,
   "id": "2450a260",
   "metadata": {},
   "outputs": [],
   "source": [
    "input_dim = train_features.shape[1]\n",
    "input_feature_size = train_features.shape[2]\n",
    "output_dim = train_target.shape[1]"
   ]
  },
  {
   "cell_type": "code",
   "execution_count": 15,
   "id": "0f4fece6",
   "metadata": {},
   "outputs": [],
   "source": [
    "N_EPOCH = 50\n",
    "BATCH_SIZE = 64\n",
    "\n",
    "def basic_simpleRNN(input_dim, output_dim, input_feature_size):\n",
    "    model = Sequential()\n",
    "    model.add(SimpleRNN(units=63, return_sequences=True, activation='relu', input_shape=(input_dim, input_feature_size)))\n",
    "    model.add(Dropout(0.2))\n",
    "    model.add(SimpleRNN(250, return_sequences=False))\n",
    "    model.add(Dropout(0.2))\n",
    "    model.add(Dense(output_dim, activation='softmax'))\n",
    "\n",
    "    model.compile(optimizer=Adam(),\n",
    "                  loss='categorical_crossentropy',\n",
    "                  metrics=['accuracy'])\n",
    "    \n",
    "    history = model.fit(train_features, train_target, epochs = N_EPOCH, \n",
    "                        validation_data = (test_features, test_target),\n",
    "                        batch_size = BATCH_SIZE, verbose = 2, shuffle = False)\n",
    "\n",
    "    return model, history"
   ]
  },
  {
   "cell_type": "code",
   "execution_count": 16,
   "id": "5b79d271",
   "metadata": {
    "scrolled": true
   },
   "outputs": [
    {
     "name": "stderr",
     "output_type": "stream",
     "text": [
      "C:\\Users\\48798\\anaconda3\\Lib\\site-packages\\keras\\src\\layers\\rnn\\rnn.py:204: UserWarning: Do not pass an `input_shape`/`input_dim` argument to a layer. When using Sequential models, prefer using an `Input(shape)` object as the first layer in the model instead.\n",
      "  super().__init__(**kwargs)\n"
     ]
    },
    {
     "name": "stdout",
     "output_type": "stream",
     "text": [
      "Epoch 1/50\n",
      "9/9 - 6s - 719ms/step - accuracy: 0.5249 - loss: 0.7805 - val_accuracy: 0.4191 - val_loss: 0.9232\n",
      "Epoch 2/50\n",
      "9/9 - 0s - 36ms/step - accuracy: 0.4862 - loss: 0.7634 - val_accuracy: 0.5441 - val_loss: 0.6958\n",
      "Epoch 3/50\n",
      "9/9 - 0s - 36ms/step - accuracy: 0.5064 - loss: 0.7396 - val_accuracy: 0.5368 - val_loss: 0.7028\n",
      "Epoch 4/50\n",
      "9/9 - 0s - 34ms/step - accuracy: 0.5212 - loss: 0.7792 - val_accuracy: 0.4412 - val_loss: 0.7397\n",
      "Epoch 5/50\n",
      "9/9 - 0s - 35ms/step - accuracy: 0.4807 - loss: 0.7269 - val_accuracy: 0.4265 - val_loss: 0.7447\n",
      "Epoch 6/50\n",
      "9/9 - 0s - 33ms/step - accuracy: 0.5285 - loss: 0.7088 - val_accuracy: 0.4632 - val_loss: 0.7234\n",
      "Epoch 7/50\n",
      "9/9 - 0s - 33ms/step - accuracy: 0.5175 - loss: 0.7263 - val_accuracy: 0.5588 - val_loss: 0.6881\n",
      "Epoch 8/50\n",
      "9/9 - 0s - 34ms/step - accuracy: 0.5304 - loss: 0.7367 - val_accuracy: 0.4485 - val_loss: 0.7844\n",
      "Epoch 9/50\n",
      "9/9 - 0s - 35ms/step - accuracy: 0.5101 - loss: 0.7037 - val_accuracy: 0.4191 - val_loss: 0.7428\n",
      "Epoch 10/50\n",
      "9/9 - 0s - 36ms/step - accuracy: 0.5046 - loss: 0.7325 - val_accuracy: 0.4559 - val_loss: 0.7123\n",
      "Epoch 11/50\n",
      "9/9 - 0s - 37ms/step - accuracy: 0.5064 - loss: 0.7186 - val_accuracy: 0.3676 - val_loss: 0.7415\n",
      "Epoch 12/50\n",
      "9/9 - 0s - 35ms/step - accuracy: 0.4991 - loss: 0.7107 - val_accuracy: 0.4265 - val_loss: 0.8164\n",
      "Epoch 13/50\n",
      "9/9 - 0s - 33ms/step - accuracy: 0.5341 - loss: 0.7168 - val_accuracy: 0.4853 - val_loss: 0.7068\n",
      "Epoch 14/50\n",
      "9/9 - 0s - 33ms/step - accuracy: 0.4917 - loss: 0.7418 - val_accuracy: 0.5074 - val_loss: 0.7031\n",
      "Epoch 15/50\n",
      "9/9 - 0s - 37ms/step - accuracy: 0.5359 - loss: 0.7132 - val_accuracy: 0.4044 - val_loss: 0.7336\n",
      "Epoch 16/50\n",
      "9/9 - 0s - 36ms/step - accuracy: 0.5175 - loss: 0.7192 - val_accuracy: 0.4191 - val_loss: 0.7772\n",
      "Epoch 17/50\n",
      "9/9 - 0s - 36ms/step - accuracy: 0.5396 - loss: 0.7119 - val_accuracy: 0.5147 - val_loss: 0.6903\n",
      "Epoch 18/50\n",
      "9/9 - 0s - 34ms/step - accuracy: 0.4954 - loss: 0.7185 - val_accuracy: 0.4706 - val_loss: 0.7076\n",
      "Epoch 19/50\n",
      "9/9 - 0s - 35ms/step - accuracy: 0.5341 - loss: 0.7183 - val_accuracy: 0.4118 - val_loss: 0.8428\n",
      "Epoch 20/50\n",
      "9/9 - 0s - 36ms/step - accuracy: 0.5433 - loss: 0.6970 - val_accuracy: 0.5074 - val_loss: 0.7064\n",
      "Epoch 21/50\n",
      "9/9 - 0s - 35ms/step - accuracy: 0.5580 - loss: 0.6890 - val_accuracy: 0.4191 - val_loss: 0.7289\n",
      "Epoch 22/50\n",
      "9/9 - 0s - 33ms/step - accuracy: 0.5322 - loss: 0.6840 - val_accuracy: 0.3971 - val_loss: 0.7938\n",
      "Epoch 23/50\n",
      "9/9 - 0s - 36ms/step - accuracy: 0.5488 - loss: 0.6913 - val_accuracy: 0.4412 - val_loss: 0.8141\n",
      "Epoch 24/50\n",
      "9/9 - 0s - 34ms/step - accuracy: 0.5451 - loss: 0.6877 - val_accuracy: 0.4853 - val_loss: 0.7144\n",
      "Epoch 25/50\n",
      "9/9 - 0s - 33ms/step - accuracy: 0.5727 - loss: 0.6773 - val_accuracy: 0.3824 - val_loss: 0.8111\n",
      "Epoch 26/50\n",
      "9/9 - 0s - 33ms/step - accuracy: 0.5820 - loss: 0.7021 - val_accuracy: 0.4559 - val_loss: 0.7634\n",
      "Epoch 27/50\n",
      "9/9 - 0s - 31ms/step - accuracy: 0.5230 - loss: 0.6819 - val_accuracy: 0.4412 - val_loss: 0.7275\n",
      "Epoch 28/50\n",
      "9/9 - 0s - 31ms/step - accuracy: 0.5654 - loss: 0.6945 - val_accuracy: 0.5000 - val_loss: 0.7208\n",
      "Epoch 29/50\n",
      "9/9 - 0s - 31ms/step - accuracy: 0.5746 - loss: 0.6791 - val_accuracy: 0.4044 - val_loss: 0.8343\n",
      "Epoch 30/50\n",
      "9/9 - 0s - 32ms/step - accuracy: 0.5341 - loss: 0.6809 - val_accuracy: 0.4485 - val_loss: 0.7504\n",
      "Epoch 31/50\n",
      "9/9 - 0s - 35ms/step - accuracy: 0.5967 - loss: 0.6604 - val_accuracy: 0.4706 - val_loss: 0.8401\n",
      "Epoch 32/50\n",
      "9/9 - 0s - 30ms/step - accuracy: 0.5764 - loss: 0.6703 - val_accuracy: 0.5368 - val_loss: 0.7492\n",
      "Epoch 33/50\n",
      "9/9 - 0s - 32ms/step - accuracy: 0.5893 - loss: 0.6782 - val_accuracy: 0.4118 - val_loss: 0.9061\n",
      "Epoch 34/50\n",
      "9/9 - 0s - 33ms/step - accuracy: 0.5562 - loss: 0.6970 - val_accuracy: 0.5882 - val_loss: 0.6893\n",
      "Epoch 35/50\n",
      "9/9 - 0s - 31ms/step - accuracy: 0.5856 - loss: 0.6650 - val_accuracy: 0.4779 - val_loss: 0.7220\n",
      "Epoch 36/50\n",
      "9/9 - 0s - 32ms/step - accuracy: 0.6041 - loss: 0.6511 - val_accuracy: 0.4485 - val_loss: 0.7806\n",
      "Epoch 37/50\n",
      "9/9 - 0s - 29ms/step - accuracy: 0.5746 - loss: 0.6456 - val_accuracy: 0.4412 - val_loss: 0.7884\n",
      "Epoch 38/50\n",
      "9/9 - 0s - 34ms/step - accuracy: 0.5930 - loss: 0.6577 - val_accuracy: 0.4779 - val_loss: 0.8105\n",
      "Epoch 39/50\n",
      "9/9 - 0s - 29ms/step - accuracy: 0.5764 - loss: 0.6755 - val_accuracy: 0.4338 - val_loss: 0.7988\n",
      "Epoch 40/50\n",
      "9/9 - 0s - 33ms/step - accuracy: 0.6169 - loss: 0.6372 - val_accuracy: 0.5294 - val_loss: 0.7299\n",
      "Epoch 41/50\n",
      "9/9 - 0s - 35ms/step - accuracy: 0.5746 - loss: 0.6442 - val_accuracy: 0.4632 - val_loss: 0.8141\n",
      "Epoch 42/50\n",
      "9/9 - 0s - 32ms/step - accuracy: 0.5727 - loss: 0.6565 - val_accuracy: 0.5368 - val_loss: 0.7741\n",
      "Epoch 43/50\n",
      "9/9 - 0s - 31ms/step - accuracy: 0.5893 - loss: 0.6352 - val_accuracy: 0.4338 - val_loss: 0.8429\n",
      "Epoch 44/50\n",
      "9/9 - 0s - 31ms/step - accuracy: 0.6151 - loss: 0.6238 - val_accuracy: 0.4118 - val_loss: 0.9028\n",
      "Epoch 45/50\n",
      "9/9 - 0s - 32ms/step - accuracy: 0.5856 - loss: 0.6426 - val_accuracy: 0.4559 - val_loss: 0.8549\n",
      "Epoch 46/50\n",
      "9/9 - 0s - 32ms/step - accuracy: 0.5801 - loss: 0.6518 - val_accuracy: 0.4338 - val_loss: 0.8860\n",
      "Epoch 47/50\n",
      "9/9 - 0s - 33ms/step - accuracy: 0.6041 - loss: 0.6470 - val_accuracy: 0.5441 - val_loss: 0.7650\n",
      "Epoch 48/50\n",
      "9/9 - 0s - 34ms/step - accuracy: 0.5985 - loss: 0.6240 - val_accuracy: 0.4265 - val_loss: 0.9544\n",
      "Epoch 49/50\n",
      "9/9 - 0s - 30ms/step - accuracy: 0.6519 - loss: 0.5902 - val_accuracy: 0.4412 - val_loss: 1.0827\n",
      "Epoch 50/50\n",
      "9/9 - 0s - 33ms/step - accuracy: 0.5856 - loss: 0.6522 - val_accuracy: 0.4853 - val_loss: 0.8310\n"
     ]
    }
   ],
   "source": [
    "model, history = basic_simpleRNN(input_dim, output_dim, input_feature_size)"
   ]
  },
  {
   "cell_type": "code",
   "execution_count": 17,
   "id": "65419d2a",
   "metadata": {},
   "outputs": [
    {
     "name": "stdout",
     "output_type": "stream",
     "text": [
      "\u001b[1m17/17\u001b[0m \u001b[32m━━━━━━━━━━━━━━━━━━━━\u001b[0m\u001b[37m\u001b[0m \u001b[1m0s\u001b[0m 7ms/step - accuracy: 0.5830 - loss: 0.6633\n",
      "Train loss: 0.6203647255897522\n",
      "Train accuracy: 0.6114180684089661\n",
      "\u001b[1m5/5\u001b[0m \u001b[32m━━━━━━━━━━━━━━━━━━━━\u001b[0m\u001b[37m\u001b[0m \u001b[1m0s\u001b[0m 9ms/step - accuracy: 0.4704 - loss: 0.8474 \n",
      "Test loss: 0.8310095071792603\n",
      "Test accuracy: 0.4852941036224365\n"
     ]
    }
   ],
   "source": [
    "# Ocena modelu na danych treningowych\n",
    "train_performance = model.evaluate(train_features, train_target)\n",
    "print('Train loss:', train_performance[0])\n",
    "print('Train accuracy:', train_performance[1])\n",
    "\n",
    "test_performance = model.evaluate(test_features, test_target)\n",
    "print('Test loss:', test_performance[0])\n",
    "print('Test accuracy:', test_performance[1])"
   ]
  },
  {
   "cell_type": "code",
   "execution_count": 18,
   "id": "4bce4c33",
   "metadata": {},
   "outputs": [
    {
     "name": "stdout",
     "output_type": "stream",
     "text": [
      "\u001b[1m17/17\u001b[0m \u001b[32m━━━━━━━━━━━━━━━━━━━━\u001b[0m\u001b[37m\u001b[0m \u001b[1m1s\u001b[0m 31ms/step\n",
      "290\n",
      "42\n",
      "207\n",
      "4\n",
      "Accuracy (ACC): 0.6114180478821363\n",
      "True Positive Rate (TPR): 0.9863945578231292\n",
      "False Positive Rate (FPR): 0.8313253012048193\n",
      "True Negative Rate (TNR): 0.1686746987951807\n",
      "Positive Predictive Value (PPV): 0.5835010060362174\n",
      "Negative Predictive Value (NPV): 0.9130434782608695\n"
     ]
    }
   ],
   "source": [
    "# Predykcja na zbiorze treningowym\n",
    "train_predictions = model.predict(train_features)\n",
    "train_predictions = np.argmax(train_predictions, axis = 1)\n",
    "train_true = np.argmax(train_target, axis = 1)\n",
    "\n",
    "# Obliczanie macierzy pomyłek\n",
    "cm = confusion_matrix(train_true, train_predictions)\n",
    "TP = cm[1, 1]  # True Positives\n",
    "TN = cm[0, 0]  # True Negatives\n",
    "FP = cm[0, 1]  # False Positives\n",
    "FN = cm[1, 0]  # False Negatives\n",
    "\n",
    "print(TP)\n",
    "print(TN)\n",
    "print(FP)\n",
    "print(FN)\n",
    "\n",
    "# TPR, FPR, TNR, PPV, NPV\n",
    "ACC = (TP + TN) / (TP + TN + FP + FN)\n",
    "TPR = TP / (TP + FN)\n",
    "FPR = FP / (FP + TN)\n",
    "TNR = TN / (TN + FP)\n",
    "PPV = TP / (TP + FP)\n",
    "NPV = TN / (TN + FN)\n",
    "\n",
    "print('Accuracy (ACC):', ACC)\n",
    "print('True Positive Rate (TPR):', TPR)\n",
    "print('False Positive Rate (FPR):', FPR)\n",
    "print('True Negative Rate (TNR):', TNR)\n",
    "print('Positive Predictive Value (PPV):', PPV)\n",
    "print('Negative Predictive Value (NPV):', NPV)"
   ]
  },
  {
   "cell_type": "code",
   "execution_count": 19,
   "id": "8e441350",
   "metadata": {},
   "outputs": [
    {
     "name": "stdout",
     "output_type": "stream",
     "text": [
      "\u001b[1m5/5\u001b[0m \u001b[32m━━━━━━━━━━━━━━━━━━━━\u001b[0m\u001b[37m\u001b[0m \u001b[1m0s\u001b[0m 9ms/step \n",
      "46\n",
      "20\n",
      "59\n",
      "11\n",
      "Accuracy (ACC): 0.4852941176470588\n",
      "True Positive Rate (TPR): 0.8070175438596491\n",
      "False Positive Rate (FPR): 0.7468354430379747\n",
      "True Negative Rate (TNR): 0.25316455696202533\n",
      "Positive Predictive Value (PPV): 0.4380952380952381\n",
      "Negative Predictive Value (NPV): 0.6451612903225806\n"
     ]
    }
   ],
   "source": [
    "# Predykcja na zbiorze testowym\n",
    "test_predictions = model.predict(test_features)\n",
    "test_predictions = np.argmax(test_predictions, axis = 1)\n",
    "test_true = np.argmax(test_target, axis = 1)\n",
    "\n",
    "# Obliczanie macierzy pomyłek\n",
    "cm = confusion_matrix(test_true, test_predictions)\n",
    "TP = cm[1, 1]  # True Positives\n",
    "TN = cm[0, 0]  # True Negatives\n",
    "FP = cm[0, 1]  # False Positives\n",
    "FN = cm[1, 0]  # False Negatives\n",
    "\n",
    "print(TP)\n",
    "print(TN)\n",
    "print(FP)\n",
    "print(FN)\n",
    "\n",
    "# TPR, FPR, TNR, PPV, NPV\n",
    "ACC = (TP + TN) / (TP + TN + FP + FN)\n",
    "TPR = TP / (TP + FN)\n",
    "FPR = FP / (FP + TN)\n",
    "TNR = TN / (TN + FP)\n",
    "PPV = TP / (TP + FP)\n",
    "NPV = TN / (TN + FN)\n",
    "\n",
    "print('Accuracy (ACC):', ACC)\n",
    "print('True Positive Rate (TPR):', TPR)\n",
    "print('False Positive Rate (FPR):', FPR)\n",
    "print('True Negative Rate (TNR):', TNR)\n",
    "print('Positive Predictive Value (PPV):', PPV)\n",
    "print('Negative Predictive Value (NPV):', NPV)"
   ]
  }
 ],
 "metadata": {
  "kernelspec": {
   "display_name": "Python 3 (ipykernel)",
   "language": "python",
   "name": "python3"
  },
  "language_info": {
   "codemirror_mode": {
    "name": "ipython",
    "version": 3
   },
   "file_extension": ".py",
   "mimetype": "text/x-python",
   "name": "python",
   "nbconvert_exporter": "python",
   "pygments_lexer": "ipython3",
   "version": "3.11.5"
  }
 },
 "nbformat": 4,
 "nbformat_minor": 5
}
