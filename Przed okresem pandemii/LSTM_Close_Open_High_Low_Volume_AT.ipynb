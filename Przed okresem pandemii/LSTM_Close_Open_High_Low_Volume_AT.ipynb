{
 "cells": [
  {
   "cell_type": "code",
   "execution_count": 1,
   "id": "745310cc",
   "metadata": {},
   "outputs": [],
   "source": [
    "import pandas as pd\n",
    "import optuna\n",
    "import yfinance as yf\n",
    "import pandas_datareader.data as web\n",
    "from datetime import datetime\n",
    "import numpy as np\n",
    "import pandas_ta as ta\n",
    "from keras.optimizers import Adam\n",
    "from keras.optimizers import SGD\n",
    "from keras.optimizers import Nadam\n",
    "from sklearn.metrics import confusion_matrix\n",
    "from tensorflow.keras.models import Sequential\n",
    "from tensorflow.keras.layers import Dense\n",
    "from tensorflow.keras.utils import to_categorical\n",
    "from keras.models import Sequential\n",
    "from keras.layers import Dense, Dropout\n",
    "from keras.regularizers import l2\n",
    "from keras.callbacks import EarlyStopping\n",
    "from sklearn.preprocessing import MinMaxScaler\n",
    "from keras.utils import plot_model\n",
    "from keras.layers import Dropout, Dense, GRU, LSTM, Flatten\n",
    "import matplotlib.pyplot as plt"
   ]
  },
  {
   "cell_type": "code",
   "execution_count": 2,
   "id": "ecfe67dc",
   "metadata": {},
   "outputs": [],
   "source": [
    "import warnings\n",
    "warnings.filterwarnings('ignore', category = pd.errors.PerformanceWarning)"
   ]
  },
  {
   "cell_type": "code",
   "execution_count": 3,
   "id": "3bdd371a",
   "metadata": {
    "scrolled": true
   },
   "outputs": [
    {
     "name": "stderr",
     "output_type": "stream",
     "text": [
      "\r",
      "[*********************100%%**********************]  1 of 1 completed"
     ]
    },
    {
     "name": "stdout",
     "output_type": "stream",
     "text": [
      "729\n",
      "(729, 157)\n"
     ]
    },
    {
     "name": "stderr",
     "output_type": "stream",
     "text": [
      "\n"
     ]
    }
   ],
   "source": [
    "# Pobieramy dane dotyczące BTC z yahoo\n",
    "BTC = yf.download('BTC-USD', start = '2018-01-01', end = '2019-12-31')\n",
    "\n",
    "BTC['Target'] = (BTC['Close'].diff() > 0).astype(int)\n",
    "\n",
    "def add_lagged_features(data, column_name, n_days):\n",
    "    for i in range(1, n_days + 1):\n",
    "        lagged_column_name = f'{column_name}_{i}d_back'\n",
    "        data[lagged_column_name] = data[column_name].shift(i)\n",
    "    return data\n",
    "\n",
    "BTC = add_lagged_features(BTC, 'Close', 30)\n",
    "BTC = add_lagged_features(BTC, 'Open', 30)\n",
    "BTC = add_lagged_features(BTC, 'Volume', 30)\n",
    "BTC = add_lagged_features(BTC, 'High', 30)\n",
    "BTC = add_lagged_features(BTC, 'Low', 30)\n",
    "\n",
    "# df = pd.DataFrame()\n",
    "# df = BTC.copy()\n",
    "# print(BTC.head())\n",
    "print(len(BTC))\n",
    "print(BTC.shape)"
   ]
  },
  {
   "cell_type": "code",
   "execution_count": 4,
   "id": "445cd5d4",
   "metadata": {},
   "outputs": [],
   "source": [
    "# SMA\n",
    "BTC['SMA'] = ta.sma(BTC['Close_1d_back'], length = 30)\n",
    "\n",
    "# MFI \n",
    "BTC['MFI'] = ta.mfi(BTC['High_1d_back'], BTC['Low_1d_back'], \n",
    "                    BTC['Close_1d_back'], BTC['Volume_1d_back'], length = 29)\n",
    "\n",
    "# RSI \n",
    "BTC['RSI'] = ta.rsi(BTC['Close_1d_back'], length = 29)\n",
    "\n",
    "# Bollinger Bands\n",
    "bollinger = ta.bbands(BTC['Close_1d_back'], length = 30, std = 2)\n",
    "BTC['BB_Upper'] = bollinger['BBU_30_2.0']\n",
    "BTC['BB_Middle'] = bollinger['BBM_30_2.0']\n",
    "BTC['BB_Lower'] = bollinger['BBL_30_2.0']\n",
    "\n",
    "# CCI \n",
    "BTC['CCI'] = ta.cci(BTC['High_1d_back'], BTC['Low_1d_back'], \n",
    "                    BTC['Close_1d_back'], length = 30)"
   ]
  },
  {
   "cell_type": "code",
   "execution_count": 5,
   "id": "3afd826c",
   "metadata": {},
   "outputs": [],
   "source": [
    "high_series = BTC['High_1d_back']\n",
    "low_series = BTC['Low_1d_back']\n",
    "close_series = BTC['Close_1d_back']\n",
    "\n",
    "# Wprowadzenie jasnych parametrów dla kanału Donchian\n",
    "donchian = ta.donchian(high = high_series, low = low_series, close = close_series, lower_length = 30, upper_length = 30)\n",
    "\n",
    "# Przypisanie wyników kanału Donchian do DataFrame\n",
    "BTC['Donchian_High'] = donchian['DCU_30_30']\n",
    "BTC['Donchian_Low'] = donchian['DCL_30_30']"
   ]
  },
  {
   "cell_type": "code",
   "execution_count": 6,
   "id": "bea0121c",
   "metadata": {},
   "outputs": [],
   "source": [
    "BTC = BTC.drop('Adj Close', axis=1)\n",
    "BTC = BTC.dropna().reset_index(drop = True)\n",
    "# BTC"
   ]
  },
  {
   "cell_type": "code",
   "execution_count": 7,
   "id": "148e7526",
   "metadata": {
    "scrolled": true
   },
   "outputs": [],
   "source": [
    "dataset = pd.DataFrame()\n",
    "dataset = BTC[['Open', 'High', 'Low', 'Close', 'Volume', 'SMA', 'MFI', 'RSI', 'BB_Upper', \n",
    "          'BB_Middle', 'BB_Lower', 'CCI', 'Donchian_High', 'Donchian_Low', 'Target']].copy()\n",
    "# dataset"
   ]
  },
  {
   "cell_type": "code",
   "execution_count": 8,
   "id": "a4639688",
   "metadata": {},
   "outputs": [],
   "source": [
    "n_steps_in = 20\n",
    "output_features = 2"
   ]
  },
  {
   "cell_type": "code",
   "execution_count": 9,
   "id": "c36088bd",
   "metadata": {},
   "outputs": [],
   "source": [
    "X_value = pd.DataFrame(dataset.iloc[:, :])\n",
    "X_value = X_value.drop('Target', axis='columns')\n",
    "# X_value"
   ]
  },
  {
   "cell_type": "code",
   "execution_count": 10,
   "id": "9eb64e54",
   "metadata": {},
   "outputs": [],
   "source": [
    "y_value = pd.DataFrame(dataset.Target)\n",
    "y_value = to_categorical(y_value)\n",
    "# y_value"
   ]
  },
  {
   "cell_type": "code",
   "execution_count": 11,
   "id": "d3d27bf1",
   "metadata": {},
   "outputs": [],
   "source": [
    "scaler = MinMaxScaler(feature_range=(-1, 1))\n",
    "scaler.fit(X_value)\n",
    "X_value = scaler.fit_transform(X_value)"
   ]
  },
  {
   "cell_type": "code",
   "execution_count": 12,
   "id": "b089df56",
   "metadata": {},
   "outputs": [],
   "source": [
    "def get_X_y(X_data, y_data):\n",
    "    X = list()\n",
    "    y = list()\n",
    "\n",
    "    length = len(X_data)\n",
    "    for i in range(0, length-n_steps_in, 1):\n",
    "        X_value = X_data[i: i + n_steps_in][:, :]\n",
    "        # y_value = y_data[i + n_steps_in: i + (n_steps_in + n_steps_out)][:, :]\n",
    "        y_value = y_data[i + n_steps_in]\n",
    "        if len(X_value) == n_steps_in and len(y_value) == output_features:\n",
    "            X.append(X_value)\n",
    "            y.append(y_value)\n",
    "\n",
    "    return np.array(X), np.array(y)"
   ]
  },
  {
   "cell_type": "code",
   "execution_count": 13,
   "id": "421d0771",
   "metadata": {},
   "outputs": [],
   "source": [
    "def split_train_test(data):\n",
    "    train_size = int(0.8 * len(X))\n",
    "    data_train = data[0:train_size]\n",
    "    data_test = data[train_size:]\n",
    "    return data_train, data_test"
   ]
  },
  {
   "cell_type": "code",
   "execution_count": 14,
   "id": "d239ce9e",
   "metadata": {},
   "outputs": [
    {
     "name": "stdout",
     "output_type": "stream",
     "text": [
      "X shape:  (679, 20, 14)\n",
      "y shape:  (679, 2)\n",
      "Train features shape:  (543, 20, 14)\n",
      "Test features shape:  (136, 20, 14)\n",
      "Train features shape:  (543, 2)\n",
      "Test features shape:  (136, 2)\n"
     ]
    }
   ],
   "source": [
    "X, y = get_X_y(X_value, y_value)\n",
    "print('X shape: ', X.shape)\n",
    "print('y shape: ', y.shape)\n",
    "train_features, test_features = split_train_test(X) \n",
    "train_target, test_target = split_train_test(y) \n",
    "\n",
    "print('Train features shape: ', train_features.shape)\n",
    "print('Test features shape: ', test_features.shape)\n",
    "print('Train features shape: ', train_target.shape)\n",
    "print('Test features shape: ', test_target.shape)"
   ]
  },
  {
   "cell_type": "code",
   "execution_count": 15,
   "id": "2450a260",
   "metadata": {},
   "outputs": [],
   "source": [
    "input_dim = train_features.shape[1]\n",
    "input_feature_size = train_features.shape[2]\n",
    "output_dim = train_target.shape[1]"
   ]
  },
  {
   "cell_type": "code",
   "execution_count": 16,
   "id": "0f4fece6",
   "metadata": {},
   "outputs": [],
   "source": [
    "N_EPOCH = 50\n",
    "BATCH_SIZE = 64\n",
    "\n",
    "def basic_LSTM(input_dim, output_dim, input_feature_size):\n",
    "    model = Sequential()\n",
    "    model.add(LSTM(units=63, return_sequences=True, activation='relu', input_shape=(input_dim, input_feature_size)))\n",
    "    model.add(Dropout(0.2))\n",
    "    model.add(LSTM(250, return_sequences=False))\n",
    "    model.add(Dropout(0.2))\n",
    "    model.add(Dense(output_dim, activation='softmax'))\n",
    "\n",
    "    model.compile(optimizer='adam',\n",
    "              loss='categorical_crossentropy',\n",
    "              metrics=['accuracy'])\n",
    "    \n",
    "    history = model.fit(train_features, train_target, epochs=N_EPOCH, \n",
    "                        validation_data=(test_features, test_target),\n",
    "                        batch_size=BATCH_SIZE, verbose=2, shuffle=False)\n",
    "\n",
    "    return model, history"
   ]
  },
  {
   "cell_type": "code",
   "execution_count": 17,
   "id": "5b79d271",
   "metadata": {
    "scrolled": true
   },
   "outputs": [
    {
     "name": "stderr",
     "output_type": "stream",
     "text": [
      "C:\\Users\\48798\\anaconda3\\Lib\\site-packages\\keras\\src\\layers\\rnn\\rnn.py:204: UserWarning: Do not pass an `input_shape`/`input_dim` argument to a layer. When using Sequential models, prefer using an `Input(shape)` object as the first layer in the model instead.\n",
      "  super().__init__(**kwargs)\n"
     ]
    },
    {
     "name": "stdout",
     "output_type": "stream",
     "text": [
      "Epoch 1/50\n",
      "9/9 - 14s - 2s/step - accuracy: 0.4715 - loss: 0.7038 - val_accuracy: 0.5147 - val_loss: 0.6921\n",
      "Epoch 2/50\n",
      "9/9 - 2s - 196ms/step - accuracy: 0.5506 - loss: 0.6894 - val_accuracy: 0.4191 - val_loss: 0.7071\n",
      "Epoch 3/50\n",
      "9/9 - 2s - 172ms/step - accuracy: 0.5506 - loss: 0.6888 - val_accuracy: 0.4191 - val_loss: 0.7007\n",
      "Epoch 4/50\n",
      "9/9 - 1s - 151ms/step - accuracy: 0.5691 - loss: 0.6849 - val_accuracy: 0.4191 - val_loss: 0.7016\n",
      "Epoch 5/50\n",
      "9/9 - 1s - 166ms/step - accuracy: 0.5543 - loss: 0.6849 - val_accuracy: 0.4191 - val_loss: 0.7062\n",
      "Epoch 6/50\n",
      "9/9 - 1s - 157ms/step - accuracy: 0.5562 - loss: 0.6815 - val_accuracy: 0.4191 - val_loss: 0.7219\n",
      "Epoch 7/50\n",
      "9/9 - 2s - 180ms/step - accuracy: 0.5617 - loss: 0.6838 - val_accuracy: 0.4338 - val_loss: 0.7131\n",
      "Epoch 8/50\n",
      "9/9 - 2s - 177ms/step - accuracy: 0.5322 - loss: 0.6911 - val_accuracy: 0.4191 - val_loss: 0.7860\n",
      "Epoch 9/50\n",
      "9/9 - 2s - 188ms/step - accuracy: 0.5470 - loss: 0.6885 - val_accuracy: 0.5221 - val_loss: 0.6882\n",
      "Epoch 10/50\n",
      "9/9 - 2s - 171ms/step - accuracy: 0.5672 - loss: 0.6835 - val_accuracy: 0.4853 - val_loss: 0.6950\n",
      "Epoch 11/50\n",
      "9/9 - 2s - 183ms/step - accuracy: 0.5635 - loss: 0.6815 - val_accuracy: 0.4265 - val_loss: 0.7006\n",
      "Epoch 12/50\n",
      "9/9 - 2s - 183ms/step - accuracy: 0.5654 - loss: 0.6800 - val_accuracy: 0.4338 - val_loss: 0.7024\n",
      "Epoch 13/50\n",
      "9/9 - 1s - 161ms/step - accuracy: 0.5562 - loss: 0.6791 - val_accuracy: 0.4265 - val_loss: 0.7106\n",
      "Epoch 14/50\n",
      "9/9 - 1s - 130ms/step - accuracy: 0.5543 - loss: 0.6766 - val_accuracy: 0.4191 - val_loss: 0.7402\n",
      "Epoch 15/50\n",
      "9/9 - 1s - 126ms/step - accuracy: 0.5617 - loss: 0.6784 - val_accuracy: 0.4338 - val_loss: 0.7229\n",
      "Epoch 16/50\n",
      "9/9 - 2s - 173ms/step - accuracy: 0.5543 - loss: 0.6818 - val_accuracy: 0.4485 - val_loss: 0.7032\n",
      "Epoch 17/50\n",
      "9/9 - 1s - 143ms/step - accuracy: 0.5378 - loss: 0.6896 - val_accuracy: 0.4191 - val_loss: 0.7385\n",
      "Epoch 18/50\n",
      "9/9 - 2s - 167ms/step - accuracy: 0.5599 - loss: 0.6925 - val_accuracy: 0.4412 - val_loss: 0.7054\n",
      "Epoch 19/50\n",
      "9/9 - 2s - 186ms/step - accuracy: 0.5635 - loss: 0.6795 - val_accuracy: 0.4191 - val_loss: 0.7096\n",
      "Epoch 20/50\n",
      "9/9 - 1s - 154ms/step - accuracy: 0.5654 - loss: 0.6769 - val_accuracy: 0.4338 - val_loss: 0.7215\n",
      "Epoch 21/50\n",
      "9/9 - 1s - 137ms/step - accuracy: 0.5635 - loss: 0.6764 - val_accuracy: 0.4338 - val_loss: 0.7302\n",
      "Epoch 22/50\n",
      "9/9 - 1s - 140ms/step - accuracy: 0.5727 - loss: 0.6739 - val_accuracy: 0.4118 - val_loss: 0.7468\n",
      "Epoch 23/50\n",
      "9/9 - 1s - 120ms/step - accuracy: 0.5764 - loss: 0.6742 - val_accuracy: 0.4559 - val_loss: 0.7315\n",
      "Epoch 24/50\n",
      "9/9 - 1s - 135ms/step - accuracy: 0.5691 - loss: 0.6771 - val_accuracy: 0.4191 - val_loss: 0.7474\n",
      "Epoch 25/50\n",
      "9/9 - 1s - 149ms/step - accuracy: 0.5801 - loss: 0.6779 - val_accuracy: 0.4412 - val_loss: 0.7122\n",
      "Epoch 26/50\n",
      "9/9 - 1s - 143ms/step - accuracy: 0.5838 - loss: 0.6730 - val_accuracy: 0.4338 - val_loss: 0.7372\n",
      "Epoch 27/50\n",
      "9/9 - 1s - 131ms/step - accuracy: 0.5635 - loss: 0.6720 - val_accuracy: 0.4412 - val_loss: 0.7489\n",
      "Epoch 28/50\n",
      "9/9 - 1s - 157ms/step - accuracy: 0.5672 - loss: 0.6694 - val_accuracy: 0.4559 - val_loss: 0.7487\n",
      "Epoch 29/50\n",
      "9/9 - 1s - 144ms/step - accuracy: 0.5672 - loss: 0.6694 - val_accuracy: 0.4412 - val_loss: 0.7708\n",
      "Epoch 30/50\n",
      "9/9 - 1s - 156ms/step - accuracy: 0.6004 - loss: 0.6685 - val_accuracy: 0.4559 - val_loss: 0.7310\n",
      "Epoch 31/50\n",
      "9/9 - 1s - 147ms/step - accuracy: 0.5838 - loss: 0.6683 - val_accuracy: 0.4191 - val_loss: 0.7965\n",
      "Epoch 32/50\n",
      "9/9 - 1s - 142ms/step - accuracy: 0.5820 - loss: 0.6734 - val_accuracy: 0.4632 - val_loss: 0.7099\n",
      "Epoch 33/50\n",
      "9/9 - 1s - 141ms/step - accuracy: 0.5893 - loss: 0.6707 - val_accuracy: 0.4632 - val_loss: 0.7236\n",
      "Epoch 34/50\n",
      "9/9 - 1s - 143ms/step - accuracy: 0.6133 - loss: 0.6626 - val_accuracy: 0.4265 - val_loss: 0.7324\n",
      "Epoch 35/50\n",
      "9/9 - 1s - 126ms/step - accuracy: 0.6022 - loss: 0.6601 - val_accuracy: 0.4191 - val_loss: 0.8047\n",
      "Epoch 36/50\n",
      "9/9 - 1s - 127ms/step - accuracy: 0.5948 - loss: 0.6613 - val_accuracy: 0.4706 - val_loss: 0.7561\n",
      "Epoch 37/50\n",
      "9/9 - 2s - 175ms/step - accuracy: 0.5930 - loss: 0.6714 - val_accuracy: 0.4191 - val_loss: 0.8104\n",
      "Epoch 38/50\n",
      "9/9 - 1s - 137ms/step - accuracy: 0.5985 - loss: 0.6594 - val_accuracy: 0.4632 - val_loss: 0.7888\n",
      "Epoch 39/50\n",
      "9/9 - 1s - 113ms/step - accuracy: 0.6059 - loss: 0.6553 - val_accuracy: 0.4706 - val_loss: 0.7580\n",
      "Epoch 40/50\n",
      "9/9 - 1s - 139ms/step - accuracy: 0.6409 - loss: 0.6491 - val_accuracy: 0.4779 - val_loss: 0.7894\n",
      "Epoch 41/50\n",
      "9/9 - 1s - 159ms/step - accuracy: 0.6133 - loss: 0.6517 - val_accuracy: 0.4485 - val_loss: 0.7473\n",
      "Epoch 42/50\n",
      "9/9 - 1s - 164ms/step - accuracy: 0.6335 - loss: 0.6458 - val_accuracy: 0.4338 - val_loss: 0.8366\n",
      "Epoch 43/50\n",
      "9/9 - 1s - 159ms/step - accuracy: 0.5875 - loss: 0.6711 - val_accuracy: 0.4706 - val_loss: 0.7667\n",
      "Epoch 44/50\n",
      "9/9 - 1s - 166ms/step - accuracy: 0.6133 - loss: 0.6626 - val_accuracy: 0.4338 - val_loss: 0.7250\n",
      "Epoch 45/50\n",
      "9/9 - 1s - 160ms/step - accuracy: 0.6059 - loss: 0.6612 - val_accuracy: 0.4559 - val_loss: 0.7546\n",
      "Epoch 46/50\n",
      "9/9 - 1s - 157ms/step - accuracy: 0.6390 - loss: 0.6468 - val_accuracy: 0.4338 - val_loss: 0.8050\n",
      "Epoch 47/50\n",
      "9/9 - 1s - 158ms/step - accuracy: 0.6354 - loss: 0.6413 - val_accuracy: 0.4485 - val_loss: 0.7808\n",
      "Epoch 48/50\n",
      "9/9 - 1s - 154ms/step - accuracy: 0.6409 - loss: 0.6416 - val_accuracy: 0.4559 - val_loss: 0.7505\n",
      "Epoch 49/50\n",
      "9/9 - 1s - 157ms/step - accuracy: 0.6335 - loss: 0.6410 - val_accuracy: 0.4265 - val_loss: 0.8383\n",
      "Epoch 50/50\n",
      "9/9 - 1s - 154ms/step - accuracy: 0.6409 - loss: 0.6429 - val_accuracy: 0.4632 - val_loss: 0.7160\n"
     ]
    }
   ],
   "source": [
    "model, history = basic_LSTM(input_dim, output_dim, input_feature_size)"
   ]
  },
  {
   "cell_type": "code",
   "execution_count": 18,
   "id": "65419d2a",
   "metadata": {},
   "outputs": [
    {
     "name": "stdout",
     "output_type": "stream",
     "text": [
      "\u001b[1m17/17\u001b[0m \u001b[32m━━━━━━━━━━━━━━━━━━━━\u001b[0m\u001b[37m\u001b[0m \u001b[1m1s\u001b[0m 42ms/step - accuracy: 0.6483 - loss: 0.6383\n",
      "Train loss: 0.6376509070396423\n",
      "Train accuracy: 0.6427255868911743\n",
      "\u001b[1m5/5\u001b[0m \u001b[32m━━━━━━━━━━━━━━━━━━━━\u001b[0m\u001b[37m\u001b[0m \u001b[1m0s\u001b[0m 35ms/step - accuracy: 0.4509 - loss: 0.7289\n",
      "Test loss: 0.715973436832428\n",
      "Test accuracy: 0.4632352888584137\n"
     ]
    }
   ],
   "source": [
    "# Ocena modelu na danych treningowych\n",
    "train_performance = model.evaluate(train_features, train_target)\n",
    "print('Train loss:', train_performance[0])\n",
    "print('Train accuracy:', train_performance[1])\n",
    "\n",
    "test_performance = model.evaluate(test_features, test_target)\n",
    "print('Test loss:', test_performance[0])\n",
    "print('Test accuracy:', test_performance[1])"
   ]
  },
  {
   "cell_type": "code",
   "execution_count": 19,
   "id": "4bce4c33",
   "metadata": {},
   "outputs": [
    {
     "name": "stdout",
     "output_type": "stream",
     "text": [
      "\u001b[1m17/17\u001b[0m \u001b[32m━━━━━━━━━━━━━━━━━━━━\u001b[0m\u001b[37m\u001b[0m \u001b[1m2s\u001b[0m 68ms/step\n",
      "200\n",
      "149\n",
      "100\n",
      "94\n",
      "Accuracy (ACC): 0.6427255985267035\n",
      "True Positive Rate (TPR): 0.6802721088435374\n",
      "False Positive Rate (FPR): 0.40160642570281124\n",
      "True Negative Rate (TNR): 0.5983935742971888\n",
      "Positive Predictive Value (PPV): 0.6666666666666666\n",
      "Negative Predictive Value (NPV): 0.6131687242798354\n"
     ]
    }
   ],
   "source": [
    "# Predykcja na zbiorze treningowym\n",
    "train_predictions = model.predict(train_features)\n",
    "train_predictions = np.argmax(train_predictions, axis = 1)\n",
    "train_true = np.argmax(train_target, axis = 1)\n",
    "\n",
    "# Obliczanie macierzy pomyłek\n",
    "cm = confusion_matrix(train_true, train_predictions)\n",
    "TP = cm[1, 1]  # True Positives\n",
    "TN = cm[0, 0]  # True Negatives\n",
    "FP = cm[0, 1]  # False Positives\n",
    "FN = cm[1, 0]  # False Negatives\n",
    "\n",
    "print(TP)\n",
    "print(TN)\n",
    "print(FP)\n",
    "print(FN)\n",
    "\n",
    "# TPR, FPR, TNR, PPV, NPV\n",
    "ACC = (TP + TN) / (TP + TN + FP + FN)\n",
    "TPR = TP / (TP + FN)\n",
    "FPR = FP / (FP + TN)\n",
    "TNR = TN / (TN + FP)\n",
    "PPV = TP / (TP + FP)\n",
    "NPV = TN / (TN + FN)\n",
    "\n",
    "print('Accuracy (ACC):', ACC)\n",
    "print('True Positive Rate (TPR):', TPR)\n",
    "print('False Positive Rate (FPR):', FPR)\n",
    "print('True Negative Rate (TNR):', TNR)\n",
    "print('Positive Predictive Value (PPV):', PPV)\n",
    "print('Negative Predictive Value (NPV):', NPV)"
   ]
  },
  {
   "cell_type": "code",
   "execution_count": 20,
   "id": "8e441350",
   "metadata": {},
   "outputs": [
    {
     "name": "stdout",
     "output_type": "stream",
     "text": [
      "\u001b[1m5/5\u001b[0m \u001b[32m━━━━━━━━━━━━━━━━━━━━\u001b[0m\u001b[37m\u001b[0m \u001b[1m0s\u001b[0m 30ms/step\n",
      "29\n",
      "34\n",
      "45\n",
      "28\n",
      "Accuracy (ACC): 0.4632352941176471\n",
      "True Positive Rate (TPR): 0.5087719298245614\n",
      "False Positive Rate (FPR): 0.569620253164557\n",
      "True Negative Rate (TNR): 0.43037974683544306\n",
      "Positive Predictive Value (PPV): 0.3918918918918919\n",
      "Negative Predictive Value (NPV): 0.5483870967741935\n"
     ]
    }
   ],
   "source": [
    "# Predykcja na zbiorze testowym\n",
    "test_predictions = model.predict(test_features)\n",
    "test_predictions = np.argmax(test_predictions, axis = 1)\n",
    "test_true = np.argmax(test_target, axis = 1)\n",
    "\n",
    "# Obliczanie macierzy pomyłek\n",
    "cm = confusion_matrix(test_true, test_predictions)\n",
    "TP = cm[1, 1]  # True Positives\n",
    "TN = cm[0, 0]  # True Negatives\n",
    "FP = cm[0, 1]  # False Positives\n",
    "FN = cm[1, 0]  # False Negatives\n",
    "\n",
    "print(TP)\n",
    "print(TN)\n",
    "print(FP)\n",
    "print(FN)\n",
    "\n",
    "# TPR, FPR, TNR, PPV, NPV\n",
    "ACC = (TP + TN) / (TP + TN + FP + FN)\n",
    "TPR = TP / (TP + FN)\n",
    "FPR = FP / (FP + TN)\n",
    "TNR = TN / (TN + FP)\n",
    "PPV = TP / (TP + FP)\n",
    "NPV = TN / (TN + FN)\n",
    "\n",
    "print('Accuracy (ACC):', ACC)\n",
    "print('True Positive Rate (TPR):', TPR)\n",
    "print('False Positive Rate (FPR):', FPR)\n",
    "print('True Negative Rate (TNR):', TNR)\n",
    "print('Positive Predictive Value (PPV):', PPV)\n",
    "print('Negative Predictive Value (NPV):', NPV)"
   ]
  },
  {
   "cell_type": "code",
   "execution_count": 21,
   "id": "138343a9",
   "metadata": {},
   "outputs": [
    {
     "data": {
      "image/png": "[encoded data removed]",
      "text/plain": [
       "<Figure size 640x480 with 1 Axes>"
      ]
     },
     "metadata": {},
     "output_type": "display_data"
    }
   ],
   "source": [
    "plt.plot(history.history[\"accuracy\"], label=\"train\")\n",
    "plt.plot(history.history[\"val_accuracy\"], label=\"test\")\n",
    "plt.title(\"Skuteczność - LSTM\")\n",
    "plt.xlabel(\"Epoch\")\n",
    "plt.ylabel(\"Accuracy\")\n",
    "plt.xticks(np.arange(0, N_EPOCH, step=5))\n",
    "plt.yticks(np.arange(0, 1, step=0.1))\n",
    "plt.legend()\n",
    "plt.show()"
   ]
  },
  {
   "cell_type": "code",
   "execution_count": 22,
   "id": "8e1ebd56",
   "metadata": {},
   "outputs": [
    {
     "data": {
      "image/png": "[encoded data removed]",
      "text/plain": [
       "<Figure size 640x480 with 1 Axes>"
      ]
     },
     "metadata": {},
     "output_type": "display_data"
    }
   ],
   "source": [
    "plt.plot(history.history[\"loss\"], label=\"train\")\n",
    "plt.plot(history.history[\"val_loss\"], label=\"test\")\n",
    "plt.title(\"Funkcja strat - LSTM\")\n",
    "plt.xlabel(\"Epoch\")\n",
    "plt.ylabel(\"Loss\")\n",
    "plt.xticks(np.arange(0, N_EPOCH, step=5))\n",
    "plt.yticks(np.arange(0, 1, step=0.1))\n",
    "plt.legend()\n",
    "plt.show()"
   ]
  }
 ],
 "metadata": {
  "kernelspec": {
   "display_name": "Python 3 (ipykernel)",
   "language": "python",
   "name": "python3"
  },
  "language_info": {
   "codemirror_mode": {
    "name": "ipython",
    "version": 3
   },
   "file_extension": ".py",
   "mimetype": "text/x-python",
   "name": "python",
   "nbconvert_exporter": "python",
   "pygments_lexer": "ipython3",
   "version": "3.11.5"
  }
 },
 "nbformat": 4,
 "nbformat_minor": 5
}
