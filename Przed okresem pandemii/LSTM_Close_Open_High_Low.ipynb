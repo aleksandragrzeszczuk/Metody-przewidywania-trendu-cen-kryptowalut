{
 "cells": [
  {
   "cell_type": "code",
   "execution_count": 1,
   "id": "745310cc",
   "metadata": {},
   "outputs": [],
   "source": [
    "import pandas as pd\n",
    "import optuna\n",
    "import yfinance as yf\n",
    "import pandas_datareader.data as web\n",
    "from datetime import datetime\n",
    "import numpy as np\n",
    "import pandas_ta as ta\n",
    "from keras.optimizers import Adam\n",
    "from keras.optimizers import SGD\n",
    "from keras.optimizers import Nadam\n",
    "from sklearn.metrics import confusion_matrix\n",
    "from tensorflow.keras.models import Sequential\n",
    "from tensorflow.keras.layers import Dense\n",
    "from tensorflow.keras.utils import to_categorical\n",
    "from keras.models import Sequential\n",
    "from keras.layers import Dense, Dropout\n",
    "from keras.regularizers import l2\n",
    "from keras.callbacks import EarlyStopping\n",
    "from sklearn.preprocessing import MinMaxScaler\n",
    "from keras.utils import plot_model\n",
    "from keras.layers import Dropout, Dense, GRU, LSTM, Flatten\n",
    "import matplotlib.pyplot as plt"
   ]
  },
  {
   "cell_type": "code",
   "execution_count": 2,
   "id": "ecfe67dc",
   "metadata": {},
   "outputs": [],
   "source": [
    "import warnings\n",
    "warnings.filterwarnings('ignore', category = pd.errors.PerformanceWarning)"
   ]
  },
  {
   "cell_type": "code",
   "execution_count": 3,
   "id": "3bdd371a",
   "metadata": {
    "scrolled": true
   },
   "outputs": [
    {
     "name": "stderr",
     "output_type": "stream",
     "text": [
      "\r",
      "[*********************100%%**********************]  1 of 1 completed"
     ]
    },
    {
     "name": "stdout",
     "output_type": "stream",
     "text": [
      "729\n",
      "(729, 127)\n"
     ]
    },
    {
     "name": "stderr",
     "output_type": "stream",
     "text": [
      "\n"
     ]
    }
   ],
   "source": [
    "# Pobieramy dane dotyczące BTC z yahoo\n",
    "BTC = yf.download('BTC-USD', start = '2018-01-01', end = '2019-12-31')\n",
    "\n",
    "BTC['Target'] = (BTC['Close'].diff() > 0).astype(int)\n",
    "\n",
    "def add_lagged_features(data, column_name, n_days):\n",
    "    for i in range(1, n_days + 1):\n",
    "        lagged_column_name = f'{column_name}_{i}d_back'\n",
    "        data[lagged_column_name] = data[column_name].shift(i)\n",
    "    return data\n",
    "\n",
    "BTC = add_lagged_features(BTC, 'Close', 30)\n",
    "BTC = add_lagged_features(BTC, 'Open', 30)\n",
    "BTC = add_lagged_features(BTC, 'High', 30)\n",
    "BTC = add_lagged_features(BTC, 'Low', 30)\n",
    "\n",
    "# df = pd.DataFrame()\n",
    "# df = BTC.copy()\n",
    "# print(BTC.head())\n",
    "print(len(BTC))\n",
    "print(BTC.shape)"
   ]
  },
  {
   "cell_type": "code",
   "execution_count": 4,
   "id": "bea0121c",
   "metadata": {},
   "outputs": [],
   "source": [
    "BTC = BTC.drop('Adj Close', axis=1)\n",
    "BTC = BTC.dropna().reset_index(drop = True)\n",
    "# BTC"
   ]
  },
  {
   "cell_type": "code",
   "execution_count": 5,
   "id": "148e7526",
   "metadata": {
    "scrolled": true
   },
   "outputs": [],
   "source": [
    "dataset = pd.DataFrame()\n",
    "dataset = BTC[['Open', 'High', 'Low', 'Close', 'Volume', 'Target']].copy()\n",
    "# dataset"
   ]
  },
  {
   "cell_type": "code",
   "execution_count": 6,
   "id": "a4639688",
   "metadata": {},
   "outputs": [],
   "source": [
    "n_steps_in = 20\n",
    "output_features = 2"
   ]
  },
  {
   "cell_type": "code",
   "execution_count": 7,
   "id": "c36088bd",
   "metadata": {},
   "outputs": [],
   "source": [
    "X_value = pd.DataFrame(dataset.iloc[:, :])\n",
    "X_value = X_value.drop('Target', axis='columns')\n",
    "# X_value"
   ]
  },
  {
   "cell_type": "code",
   "execution_count": 8,
   "id": "9eb64e54",
   "metadata": {},
   "outputs": [],
   "source": [
    "y_value = pd.DataFrame(dataset.Target)\n",
    "y_value = to_categorical(y_value)\n",
    "# y_value"
   ]
  },
  {
   "cell_type": "code",
   "execution_count": 9,
   "id": "d3d27bf1",
   "metadata": {},
   "outputs": [],
   "source": [
    "scaler = MinMaxScaler(feature_range=(-1, 1))\n",
    "scaler.fit(X_value)\n",
    "X_value = scaler.fit_transform(X_value)"
   ]
  },
  {
   "cell_type": "code",
   "execution_count": 10,
   "id": "b089df56",
   "metadata": {},
   "outputs": [],
   "source": [
    "def get_X_y(X_data, y_data):\n",
    "    X = list()\n",
    "    y = list()\n",
    "\n",
    "    length = len(X_data)\n",
    "    for i in range(0, length-n_steps_in, 1):\n",
    "        X_value = X_data[i: i + n_steps_in][:, :]\n",
    "        # y_value = y_data[i + n_steps_in: i + (n_steps_in + n_steps_out)][:, :]\n",
    "        y_value = y_data[i + n_steps_in]\n",
    "        if len(X_value) == n_steps_in and len(y_value) == output_features:\n",
    "            X.append(X_value)\n",
    "            y.append(y_value)\n",
    "\n",
    "    return np.array(X), np.array(y)"
   ]
  },
  {
   "cell_type": "code",
   "execution_count": 11,
   "id": "421d0771",
   "metadata": {},
   "outputs": [],
   "source": [
    "def split_train_test(data):\n",
    "    train_size = int(0.8 * len(X))\n",
    "    data_train = data[0:train_size]\n",
    "    data_test = data[train_size:]\n",
    "    return data_train, data_test"
   ]
  },
  {
   "cell_type": "code",
   "execution_count": 12,
   "id": "d239ce9e",
   "metadata": {},
   "outputs": [
    {
     "name": "stdout",
     "output_type": "stream",
     "text": [
      "X shape:  (679, 20, 5)\n",
      "y shape:  (679, 2)\n",
      "Train features shape:  (543, 20, 5)\n",
      "Test features shape:  (136, 20, 5)\n",
      "Train features shape:  (543, 2)\n",
      "Test features shape:  (136, 2)\n"
     ]
    }
   ],
   "source": [
    "X, y = get_X_y(X_value, y_value)\n",
    "print('X shape: ', X.shape)\n",
    "print('y shape: ', y.shape)\n",
    "train_features, test_features = split_train_test(X) \n",
    "train_target, test_target = split_train_test(y) \n",
    "\n",
    "print('Train features shape: ', train_features.shape)\n",
    "print('Test features shape: ', test_features.shape)\n",
    "print('Train features shape: ', train_target.shape)\n",
    "print('Test features shape: ', test_target.shape)"
   ]
  },
  {
   "cell_type": "code",
   "execution_count": 13,
   "id": "2450a260",
   "metadata": {},
   "outputs": [],
   "source": [
    "input_dim = train_features.shape[1]\n",
    "input_feature_size = train_features.shape[2]\n",
    "output_dim = train_target.shape[1]"
   ]
  },
  {
   "cell_type": "code",
   "execution_count": 14,
   "id": "0f4fece6",
   "metadata": {},
   "outputs": [],
   "source": [
    "N_EPOCH = 50\n",
    "BATCH_SIZE = 64\n",
    "\n",
    "def basic_LSTM(input_dim, output_dim, input_feature_size):\n",
    "    model = Sequential()\n",
    "    model.add(LSTM(units=63, return_sequences=True, activation='relu', input_shape=(input_dim, input_feature_size)))\n",
    "    model.add(Dropout(0.2))\n",
    "    model.add(LSTM(250, return_sequences=False))\n",
    "    model.add(Dropout(0.2))\n",
    "    model.add(Dense(output_dim, activation='softmax'))\n",
    "\n",
    "    model.compile(optimizer='adam',\n",
    "              loss='categorical_crossentropy',\n",
    "              metrics=['accuracy'])\n",
    "    \n",
    "    history = model.fit(train_features, train_target, epochs=N_EPOCH, \n",
    "                        validation_data=(test_features, test_target),\n",
    "                        batch_size=BATCH_SIZE, verbose=2, shuffle=False)\n",
    "\n",
    "    return model, history"
   ]
  },
  {
   "cell_type": "code",
   "execution_count": 15,
   "id": "5b79d271",
   "metadata": {
    "scrolled": true
   },
   "outputs": [
    {
     "name": "stderr",
     "output_type": "stream",
     "text": [
      "C:\\Users\\48798\\anaconda3\\Lib\\site-packages\\keras\\src\\layers\\rnn\\rnn.py:204: UserWarning: Do not pass an `input_shape`/`input_dim` argument to a layer. When using Sequential models, prefer using an `Input(shape)` object as the first layer in the model instead.\n",
      "  super().__init__(**kwargs)\n"
     ]
    },
    {
     "name": "stdout",
     "output_type": "stream",
     "text": [
      "Epoch 1/50\n",
      "9/9 - 7s - 762ms/step - accuracy: 0.4770 - loss: 0.7000 - val_accuracy: 0.5809 - val_loss: 0.6812\n",
      "Epoch 2/50\n",
      "9/9 - 1s - 160ms/step - accuracy: 0.5230 - loss: 0.6923 - val_accuracy: 0.4191 - val_loss: 0.6984\n",
      "Epoch 3/50\n",
      "9/9 - 2s - 180ms/step - accuracy: 0.5414 - loss: 0.6901 - val_accuracy: 0.4191 - val_loss: 0.6992\n",
      "Epoch 4/50\n",
      "9/9 - 2s - 169ms/step - accuracy: 0.5414 - loss: 0.6902 - val_accuracy: 0.4191 - val_loss: 0.6969\n",
      "Epoch 5/50\n",
      "9/9 - 2s - 168ms/step - accuracy: 0.5433 - loss: 0.6891 - val_accuracy: 0.4191 - val_loss: 0.6975\n",
      "Epoch 6/50\n",
      "9/9 - 2s - 168ms/step - accuracy: 0.5414 - loss: 0.6889 - val_accuracy: 0.4191 - val_loss: 0.6979\n",
      "Epoch 7/50\n",
      "9/9 - 1s - 151ms/step - accuracy: 0.5341 - loss: 0.6885 - val_accuracy: 0.4265 - val_loss: 0.6976\n",
      "Epoch 8/50\n",
      "9/9 - 1s - 147ms/step - accuracy: 0.5488 - loss: 0.6869 - val_accuracy: 0.4265 - val_loss: 0.6984\n",
      "Epoch 9/50\n",
      "9/9 - 1s - 144ms/step - accuracy: 0.5617 - loss: 0.6869 - val_accuracy: 0.4265 - val_loss: 0.6993\n",
      "Epoch 10/50\n",
      "9/9 - 1s - 166ms/step - accuracy: 0.5525 - loss: 0.6876 - val_accuracy: 0.4191 - val_loss: 0.6996\n",
      "Epoch 11/50\n",
      "9/9 - 2s - 170ms/step - accuracy: 0.5506 - loss: 0.6874 - val_accuracy: 0.4191 - val_loss: 0.7035\n",
      "Epoch 12/50\n",
      "9/9 - 1s - 154ms/step - accuracy: 0.5433 - loss: 0.6857 - val_accuracy: 0.4191 - val_loss: 0.7068\n",
      "Epoch 13/50\n",
      "9/9 - 1s - 161ms/step - accuracy: 0.5506 - loss: 0.6860 - val_accuracy: 0.4191 - val_loss: 0.7069\n",
      "Epoch 14/50\n",
      "9/9 - 2s - 175ms/step - accuracy: 0.5801 - loss: 0.6841 - val_accuracy: 0.4191 - val_loss: 0.7226\n",
      "Epoch 15/50\n",
      "9/9 - 2s - 167ms/step - accuracy: 0.5433 - loss: 0.6871 - val_accuracy: 0.4118 - val_loss: 0.7135\n",
      "Epoch 16/50\n",
      "9/9 - 2s - 168ms/step - accuracy: 0.5285 - loss: 0.6931 - val_accuracy: 0.4191 - val_loss: 0.7331\n",
      "Epoch 17/50\n",
      "9/9 - 2s - 175ms/step - accuracy: 0.5414 - loss: 0.6885 - val_accuracy: 0.5441 - val_loss: 0.6950\n",
      "Epoch 18/50\n",
      "9/9 - 2s - 168ms/step - accuracy: 0.5617 - loss: 0.6854 - val_accuracy: 0.4191 - val_loss: 0.7024\n",
      "Epoch 19/50\n",
      "9/9 - 1s - 159ms/step - accuracy: 0.5451 - loss: 0.6859 - val_accuracy: 0.4191 - val_loss: 0.7073\n",
      "Epoch 20/50\n",
      "9/9 - 1s - 152ms/step - accuracy: 0.5451 - loss: 0.6839 - val_accuracy: 0.4191 - val_loss: 0.7128\n",
      "Epoch 21/50\n",
      "9/9 - 1s - 157ms/step - accuracy: 0.5599 - loss: 0.6836 - val_accuracy: 0.4191 - val_loss: 0.7095\n",
      "Epoch 22/50\n",
      "9/9 - 1s - 145ms/step - accuracy: 0.5083 - loss: 0.6903 - val_accuracy: 0.4191 - val_loss: 0.7229\n",
      "Epoch 23/50\n",
      "9/9 - 1s - 160ms/step - accuracy: 0.5470 - loss: 0.6875 - val_accuracy: 0.4338 - val_loss: 0.7136\n",
      "Epoch 24/50\n",
      "9/9 - 1s - 161ms/step - accuracy: 0.5599 - loss: 0.6849 - val_accuracy: 0.4265 - val_loss: 0.7083\n",
      "Epoch 25/50\n",
      "9/9 - 1s - 149ms/step - accuracy: 0.5764 - loss: 0.6818 - val_accuracy: 0.4191 - val_loss: 0.7170\n",
      "Epoch 26/50\n",
      "9/9 - 1s - 148ms/step - accuracy: 0.5599 - loss: 0.6825 - val_accuracy: 0.4191 - val_loss: 0.7300\n",
      "Epoch 27/50\n",
      "9/9 - 1s - 166ms/step - accuracy: 0.5654 - loss: 0.6789 - val_accuracy: 0.4191 - val_loss: 0.7702\n",
      "Epoch 28/50\n",
      "9/9 - 1s - 159ms/step - accuracy: 0.5470 - loss: 0.6815 - val_accuracy: 0.4265 - val_loss: 0.7400\n",
      "Epoch 29/50\n",
      "9/9 - 1s - 161ms/step - accuracy: 0.5304 - loss: 0.6883 - val_accuracy: 0.4191 - val_loss: 0.7408\n",
      "Epoch 30/50\n",
      "9/9 - 1s - 154ms/step - accuracy: 0.5470 - loss: 0.6844 - val_accuracy: 0.4265 - val_loss: 0.7293\n",
      "Epoch 31/50\n",
      "9/9 - 1s - 158ms/step - accuracy: 0.5562 - loss: 0.6822 - val_accuracy: 0.4338 - val_loss: 0.7325\n",
      "Epoch 32/50\n",
      "9/9 - 2s - 170ms/step - accuracy: 0.5672 - loss: 0.6778 - val_accuracy: 0.4118 - val_loss: 0.7734\n",
      "Epoch 33/50\n",
      "9/9 - 1s - 164ms/step - accuracy: 0.5838 - loss: 0.6800 - val_accuracy: 0.4118 - val_loss: 0.8959\n",
      "Epoch 34/50\n",
      "9/9 - 2s - 169ms/step - accuracy: 0.5617 - loss: 0.6954 - val_accuracy: 0.4265 - val_loss: 0.7224\n",
      "Epoch 35/50\n",
      "9/9 - 2s - 170ms/step - accuracy: 0.5451 - loss: 0.6840 - val_accuracy: 0.4559 - val_loss: 0.7021\n",
      "Epoch 36/50\n",
      "9/9 - 2s - 168ms/step - accuracy: 0.5691 - loss: 0.6834 - val_accuracy: 0.4265 - val_loss: 0.7069\n",
      "Epoch 37/50\n",
      "9/9 - 2s - 172ms/step - accuracy: 0.5838 - loss: 0.6799 - val_accuracy: 0.4265 - val_loss: 0.7103\n",
      "Epoch 38/50\n",
      "9/9 - 1s - 166ms/step - accuracy: 0.5691 - loss: 0.6779 - val_accuracy: 0.4191 - val_loss: 0.7226\n",
      "Epoch 39/50\n",
      "9/9 - 1s - 160ms/step - accuracy: 0.5709 - loss: 0.6762 - val_accuracy: 0.4191 - val_loss: 0.7289\n",
      "Epoch 40/50\n",
      "9/9 - 1s - 152ms/step - accuracy: 0.5617 - loss: 0.6778 - val_accuracy: 0.4338 - val_loss: 0.7795\n",
      "Epoch 41/50\n",
      "9/9 - 1s - 159ms/step - accuracy: 0.5580 - loss: 0.6778 - val_accuracy: 0.4265 - val_loss: 0.7309\n",
      "Epoch 42/50\n",
      "9/9 - 1s - 154ms/step - accuracy: 0.5396 - loss: 0.6912 - val_accuracy: 0.4191 - val_loss: 0.7440\n",
      "Epoch 43/50\n",
      "9/9 - 1s - 143ms/step - accuracy: 0.5470 - loss: 0.6819 - val_accuracy: 0.4118 - val_loss: 0.7391\n",
      "Epoch 44/50\n",
      "9/9 - 1s - 149ms/step - accuracy: 0.5562 - loss: 0.6756 - val_accuracy: 0.4412 - val_loss: 0.7636\n",
      "Epoch 45/50\n",
      "9/9 - 1s - 157ms/step - accuracy: 0.5930 - loss: 0.6742 - val_accuracy: 0.4559 - val_loss: 0.7996\n",
      "Epoch 46/50\n",
      "9/9 - 1s - 105ms/step - accuracy: 0.5838 - loss: 0.6765 - val_accuracy: 0.4338 - val_loss: 0.7663\n",
      "Epoch 47/50\n",
      "9/9 - 1s - 159ms/step - accuracy: 0.4936 - loss: 0.6971 - val_accuracy: 0.4706 - val_loss: 0.7050\n",
      "Epoch 48/50\n",
      "9/9 - 1s - 161ms/step - accuracy: 0.5727 - loss: 0.6809 - val_accuracy: 0.4191 - val_loss: 0.7209\n",
      "Epoch 49/50\n",
      "9/9 - 1s - 156ms/step - accuracy: 0.5617 - loss: 0.6848 - val_accuracy: 0.4265 - val_loss: 0.7213\n",
      "Epoch 50/50\n",
      "9/9 - 1s - 162ms/step - accuracy: 0.5912 - loss: 0.6770 - val_accuracy: 0.4265 - val_loss: 0.7237\n"
     ]
    }
   ],
   "source": [
    "model, history = basic_LSTM(input_dim, output_dim, input_feature_size)"
   ]
  },
  {
   "cell_type": "code",
   "execution_count": 16,
   "id": "65419d2a",
   "metadata": {},
   "outputs": [
    {
     "name": "stdout",
     "output_type": "stream",
     "text": [
      "\u001b[1m17/17\u001b[0m \u001b[32m━━━━━━━━━━━━━━━━━━━━\u001b[0m\u001b[37m\u001b[0m \u001b[1m1s\u001b[0m 39ms/step - accuracy: 0.5816 - loss: 0.6788\n",
      "Train loss: 0.6765304803848267\n",
      "Train accuracy: 0.580110490322113\n",
      "\u001b[1m5/5\u001b[0m \u001b[32m━━━━━━━━━━━━━━━━━━━━\u001b[0m\u001b[37m\u001b[0m \u001b[1m0s\u001b[0m 38ms/step - accuracy: 0.4065 - loss: 0.7262\n",
      "Test loss: 0.7237246036529541\n",
      "Test accuracy: 0.4264705777168274\n"
     ]
    }
   ],
   "source": [
    "# Ocena modelu na danych treningowych\n",
    "train_performance = model.evaluate(train_features, train_target)\n",
    "print('Train loss:', train_performance[0])\n",
    "print('Train accuracy:', train_performance[1])\n",
    "\n",
    "test_performance = model.evaluate(test_features, test_target)\n",
    "print('Test loss:', test_performance[0])\n",
    "print('Test accuracy:', test_performance[1])"
   ]
  },
  {
   "cell_type": "code",
   "execution_count": 17,
   "id": "4bce4c33",
   "metadata": {},
   "outputs": [
    {
     "name": "stdout",
     "output_type": "stream",
     "text": [
      "\u001b[1m17/17\u001b[0m \u001b[32m━━━━━━━━━━━━━━━━━━━━\u001b[0m\u001b[37m\u001b[0m \u001b[1m2s\u001b[0m 74ms/step\n",
      "224\n",
      "91\n",
      "158\n",
      "70\n",
      "Accuracy (ACC): 0.580110497237569\n",
      "True Positive Rate (TPR): 0.7619047619047619\n",
      "False Positive Rate (FPR): 0.6345381526104418\n",
      "True Negative Rate (TNR): 0.3654618473895582\n",
      "Positive Predictive Value (PPV): 0.5863874345549738\n",
      "Negative Predictive Value (NPV): 0.5652173913043478\n"
     ]
    }
   ],
   "source": [
    "# Predykcja na zbiorze treningowym\n",
    "train_predictions = model.predict(train_features)\n",
    "train_predictions = np.argmax(train_predictions, axis = 1)\n",
    "train_true = np.argmax(train_target, axis = 1)\n",
    "\n",
    "# Obliczanie macierzy pomyłek\n",
    "cm = confusion_matrix(train_true, train_predictions)\n",
    "TP = cm[1, 1]  # True Positives\n",
    "TN = cm[0, 0]  # True Negatives\n",
    "FP = cm[0, 1]  # False Positives\n",
    "FN = cm[1, 0]  # False Negatives\n",
    "\n",
    "print(TP)\n",
    "print(TN)\n",
    "print(FP)\n",
    "print(FN)\n",
    "\n",
    "# TPR, FPR, TNR, PPV, NPV\n",
    "ACC = (TP + TN) / (TP + TN + FP + FN)\n",
    "TPR = TP / (TP + FN)\n",
    "FPR = FP / (FP + TN)\n",
    "TNR = TN / (TN + FP)\n",
    "PPV = TP / (TP + FP)\n",
    "NPV = TN / (TN + FN)\n",
    "\n",
    "print('Accuracy (ACC):', ACC)\n",
    "print('True Positive Rate (TPR):', TPR)\n",
    "print('False Positive Rate (FPR):', FPR)\n",
    "print('True Negative Rate (TNR):', TNR)\n",
    "print('Positive Predictive Value (PPV):', PPV)\n",
    "print('Negative Predictive Value (NPV):', NPV)"
   ]
  },
  {
   "cell_type": "code",
   "execution_count": 18,
   "id": "8e441350",
   "metadata": {},
   "outputs": [
    {
     "name": "stdout",
     "output_type": "stream",
     "text": [
      "\u001b[1m5/5\u001b[0m \u001b[32m━━━━━━━━━━━━━━━━━━━━\u001b[0m\u001b[37m\u001b[0m \u001b[1m0s\u001b[0m 32ms/step\n",
      "46\n",
      "12\n",
      "67\n",
      "11\n",
      "Accuracy (ACC): 0.4264705882352941\n",
      "True Positive Rate (TPR): 0.8070175438596491\n",
      "False Positive Rate (FPR): 0.8481012658227848\n",
      "True Negative Rate (TNR): 0.1518987341772152\n",
      "Positive Predictive Value (PPV): 0.40707964601769914\n",
      "Negative Predictive Value (NPV): 0.5217391304347826\n"
     ]
    }
   ],
   "source": [
    "# Predykcja na zbiorze testowym\n",
    "test_predictions = model.predict(test_features)\n",
    "test_predictions = np.argmax(test_predictions, axis = 1)\n",
    "test_true = np.argmax(test_target, axis = 1)\n",
    "\n",
    "# Obliczanie macierzy pomyłek\n",
    "cm = confusion_matrix(test_true, test_predictions)\n",
    "TP = cm[1, 1]  # True Positives\n",
    "TN = cm[0, 0]  # True Negatives\n",
    "FP = cm[0, 1]  # False Positives\n",
    "FN = cm[1, 0]  # False Negatives\n",
    "\n",
    "print(TP)\n",
    "print(TN)\n",
    "print(FP)\n",
    "print(FN)\n",
    "\n",
    "# TPR, FPR, TNR, PPV, NPV\n",
    "ACC = (TP + TN) / (TP + TN + FP + FN)\n",
    "TPR = TP / (TP + FN)\n",
    "FPR = FP / (FP + TN)\n",
    "TNR = TN / (TN + FP)\n",
    "PPV = TP / (TP + FP)\n",
    "NPV = TN / (TN + FN)\n",
    "\n",
    "print('Accuracy (ACC):', ACC)\n",
    "print('True Positive Rate (TPR):', TPR)\n",
    "print('False Positive Rate (FPR):', FPR)\n",
    "print('True Negative Rate (TNR):', TNR)\n",
    "print('Positive Predictive Value (PPV):', PPV)\n",
    "print('Negative Predictive Value (NPV):', NPV)"
   ]
  },
  {
   "cell_type": "code",
   "execution_count": 19,
   "id": "138343a9",
   "metadata": {},
   "outputs": [
    {
     "data": {
      "image/png": "[encoded data removed]",
      "text/plain": [
       "<Figure size 640x480 with 1 Axes>"
      ]
     },
     "metadata": {},
     "output_type": "display_data"
    }
   ],
   "source": [
    "plt.plot(history.history[\"accuracy\"], label=\"train\")\n",
    "plt.plot(history.history[\"val_accuracy\"], label=\"test\")\n",
    "plt.title(\"Skuteczność - LSTM\")\n",
    "plt.xlabel(\"Epoch\")\n",
    "plt.ylabel(\"Accuracy\")\n",
    "plt.xticks(np.arange(0, N_EPOCH, step=5))\n",
    "plt.yticks(np.arange(0, 1, step=0.1))\n",
    "plt.legend()\n",
    "plt.show()"
   ]
  },
  {
   "cell_type": "code",
   "execution_count": 20,
   "id": "8e1ebd56",
   "metadata": {},
   "outputs": [
    {
     "data": {
      "image/png": "[encoded data removed]",
      "text/plain": [
       "<Figure size 640x480 with 1 Axes>"
      ]
     },
     "metadata": {},
     "output_type": "display_data"
    }
   ],
   "source": [
    "plt.plot(history.history[\"loss\"], label=\"train\")\n",
    "plt.plot(history.history[\"val_loss\"], label=\"test\")\n",
    "plt.title(\"Funkcja strat - LSTM\")\n",
    "plt.xlabel(\"Epoch\")\n",
    "plt.ylabel(\"Loss\")\n",
    "plt.xticks(np.arange(0, N_EPOCH, step=5))\n",
    "plt.yticks(np.arange(0, 1, step=0.1))\n",
    "plt.legend()\n",
    "plt.show()"
   ]
  }
 ],
 "metadata": {
  "kernelspec": {
   "display_name": "Python 3 (ipykernel)",
   "language": "python",
   "name": "python3"
  },
  "language_info": {
   "codemirror_mode": {
    "name": "ipython",
    "version": 3
   },
   "file_extension": ".py",
   "mimetype": "text/x-python",
   "name": "python",
   "nbconvert_exporter": "python",
   "pygments_lexer": "ipython3",
   "version": "3.11.5"
  }
 },
 "nbformat": 4,
 "nbformat_minor": 5
}
