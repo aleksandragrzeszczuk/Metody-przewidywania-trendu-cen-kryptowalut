{
 "cells": [
  {
   "cell_type": "code",
   "execution_count": 1,
   "id": "745310cc",
   "metadata": {},
   "outputs": [],
   "source": [
    "import pandas as pd\n",
    "import optuna\n",
    "import yfinance as yf\n",
    "import pandas_datareader.data as web\n",
    "from datetime import datetime\n",
    "import numpy as np\n",
    "import pandas_ta as ta\n",
    "from keras.optimizers import Adam\n",
    "from keras.optimizers import SGD\n",
    "from keras.optimizers import Nadam\n",
    "from sklearn.metrics import confusion_matrix\n",
    "from tensorflow.keras.models import Sequential\n",
    "from tensorflow.keras.layers import Dense\n",
    "from tensorflow.keras.utils import to_categorical\n",
    "from keras.models import Sequential\n",
    "from keras.layers import Dense, Dropout\n",
    "from keras.regularizers import l2\n",
    "from keras.callbacks import EarlyStopping\n",
    "from sklearn.preprocessing import MinMaxScaler\n",
    "from keras.utils import plot_model\n",
    "from keras.layers import Dropout, Dense, GRU, LSTM, Flatten\n",
    "import matplotlib.pyplot as plt"
   ]
  },
  {
   "cell_type": "code",
   "execution_count": 2,
   "id": "ecfe67dc",
   "metadata": {},
   "outputs": [],
   "source": [
    "import warnings\n",
    "warnings.filterwarnings('ignore', category = pd.errors.PerformanceWarning)"
   ]
  },
  {
   "cell_type": "code",
   "execution_count": 3,
   "id": "3bdd371a",
   "metadata": {
    "scrolled": true
   },
   "outputs": [
    {
     "name": "stderr",
     "output_type": "stream",
     "text": [
      "\r",
      "[*********************100%%**********************]  1 of 1 completed"
     ]
    },
    {
     "name": "stdout",
     "output_type": "stream",
     "text": [
      "729\n",
      "(729, 127)\n"
     ]
    },
    {
     "name": "stderr",
     "output_type": "stream",
     "text": [
      "\n"
     ]
    }
   ],
   "source": [
    "# Pobieramy dane dotyczące BTC z yahoo\n",
    "BTC = yf.download('BTC-USD', start = '2018-01-01', end = '2019-12-31')\n",
    "\n",
    "BTC['Target'] = (BTC['Close'].diff() > 0).astype(int)\n",
    "\n",
    "def add_lagged_features(data, column_name, n_days):\n",
    "    for i in range(1, n_days + 1):\n",
    "        lagged_column_name = f'{column_name}_{i}d_back'\n",
    "        data[lagged_column_name] = data[column_name].shift(i)\n",
    "    return data\n",
    "\n",
    "BTC = add_lagged_features(BTC, 'Close', 30)\n",
    "BTC = add_lagged_features(BTC, 'Open', 30)\n",
    "BTC = add_lagged_features(BTC, 'High', 30)\n",
    "BTC = add_lagged_features(BTC, 'Low', 30)\n",
    "\n",
    "# df = pd.DataFrame()\n",
    "# df = BTC.copy()\n",
    "# print(BTC.head())\n",
    "print(len(BTC))\n",
    "print(BTC.shape)"
   ]
  },
  {
   "cell_type": "code",
   "execution_count": 4,
   "id": "bea0121c",
   "metadata": {},
   "outputs": [],
   "source": [
    "BTC = BTC.drop('Adj Close', axis=1)\n",
    "BTC = BTC.dropna().reset_index(drop = True)\n",
    "# BTC"
   ]
  },
  {
   "cell_type": "code",
   "execution_count": 5,
   "id": "148e7526",
   "metadata": {
    "scrolled": true
   },
   "outputs": [],
   "source": [
    "dataset = pd.DataFrame()\n",
    "dataset = BTC[['Open', 'High', 'Low', 'Close', 'Volume', 'Target']].copy()\n",
    "# dataset"
   ]
  },
  {
   "cell_type": "code",
   "execution_count": 6,
   "id": "a4639688",
   "metadata": {},
   "outputs": [],
   "source": [
    "n_steps_in = 20\n",
    "output_features = 2"
   ]
  },
  {
   "cell_type": "code",
   "execution_count": 7,
   "id": "c36088bd",
   "metadata": {},
   "outputs": [],
   "source": [
    "X_value = pd.DataFrame(dataset.iloc[:, :])\n",
    "X_value = X_value.drop('Target', axis='columns')\n",
    "# X_value"
   ]
  },
  {
   "cell_type": "code",
   "execution_count": 8,
   "id": "9eb64e54",
   "metadata": {},
   "outputs": [],
   "source": [
    "y_value = pd.DataFrame(dataset.Target)\n",
    "y_value = to_categorical(y_value)\n",
    "# y_value"
   ]
  },
  {
   "cell_type": "code",
   "execution_count": 9,
   "id": "d3d27bf1",
   "metadata": {},
   "outputs": [],
   "source": [
    "scaler = MinMaxScaler(feature_range=(-1, 1))\n",
    "scaler.fit(X_value)\n",
    "X_value = scaler.fit_transform(X_value)"
   ]
  },
  {
   "cell_type": "code",
   "execution_count": 10,
   "id": "b089df56",
   "metadata": {},
   "outputs": [],
   "source": [
    "def get_X_y(X_data, y_data):\n",
    "    X = list()\n",
    "    y = list()\n",
    "\n",
    "    length = len(X_data)\n",
    "    for i in range(0, length-n_steps_in, 1):\n",
    "        X_value = X_data[i: i + n_steps_in][:, :]\n",
    "        # y_value = y_data[i + n_steps_in: i + (n_steps_in + n_steps_out)][:, :]\n",
    "        y_value = y_data[i + n_steps_in]\n",
    "        if len(X_value) == n_steps_in and len(y_value) == output_features:\n",
    "            X.append(X_value)\n",
    "            y.append(y_value)\n",
    "\n",
    "    return np.array(X), np.array(y)"
   ]
  },
  {
   "cell_type": "code",
   "execution_count": 11,
   "id": "421d0771",
   "metadata": {},
   "outputs": [],
   "source": [
    "def split_train_test(data):\n",
    "    train_size = int(0.8 * len(X))\n",
    "    data_train = data[0:train_size]\n",
    "    data_test = data[train_size:]\n",
    "    return data_train, data_test"
   ]
  },
  {
   "cell_type": "code",
   "execution_count": 12,
   "id": "d239ce9e",
   "metadata": {},
   "outputs": [
    {
     "name": "stdout",
     "output_type": "stream",
     "text": [
      "X shape:  (679, 20, 5)\n",
      "y shape:  (679, 2)\n",
      "Train features shape:  (543, 20, 5)\n",
      "Test features shape:  (136, 20, 5)\n",
      "Train features shape:  (543, 2)\n",
      "Test features shape:  (136, 2)\n"
     ]
    }
   ],
   "source": [
    "X, y = get_X_y(X_value, y_value)\n",
    "print('X shape: ', X.shape)\n",
    "print('y shape: ', y.shape)\n",
    "train_features, test_features = split_train_test(X) \n",
    "train_target, test_target = split_train_test(y) \n",
    "\n",
    "print('Train features shape: ', train_features.shape)\n",
    "print('Test features shape: ', test_features.shape)\n",
    "print('Train features shape: ', train_target.shape)\n",
    "print('Test features shape: ', test_target.shape)"
   ]
  },
  {
   "cell_type": "code",
   "execution_count": 13,
   "id": "2450a260",
   "metadata": {},
   "outputs": [],
   "source": [
    "input_dim = train_features.shape[1]\n",
    "input_feature_size = train_features.shape[2]\n",
    "output_dim = train_target.shape[1]"
   ]
  },
  {
   "cell_type": "code",
   "execution_count": 14,
   "id": "0f4fece6",
   "metadata": {},
   "outputs": [],
   "source": [
    "N_EPOCH = 50\n",
    "BATCH_SIZE = 64\n",
    "\n",
    "def basic_GRU(input_dim, output_dim, input_feature_size):\n",
    "    model = Sequential()\n",
    "    model.add(GRU(units=63, return_sequences=True, activation='relu', input_shape=(input_dim, input_feature_size)))\n",
    "    model.add(Dropout(0.2))\n",
    "    model.add(GRU(250, return_sequences=False))\n",
    "    model.add(Dropout(0.2))\n",
    "    model.add(Dense(output_dim, activation='softmax'))\n",
    "\n",
    "    model.compile(optimizer='adam',\n",
    "              loss='categorical_crossentropy',\n",
    "              metrics=['accuracy'])\n",
    "    \n",
    "    history = model.fit(train_features, train_target, epochs=N_EPOCH, \n",
    "                        validation_data=(test_features, test_target),\n",
    "                        batch_size=BATCH_SIZE, verbose=2, shuffle=False)\n",
    "\n",
    "    return model, history"
   ]
  },
  {
   "cell_type": "code",
   "execution_count": 15,
   "id": "5b79d271",
   "metadata": {
    "scrolled": true
   },
   "outputs": [
    {
     "name": "stderr",
     "output_type": "stream",
     "text": [
      "C:\\Users\\48798\\anaconda3\\Lib\\site-packages\\keras\\src\\layers\\rnn\\rnn.py:204: UserWarning: Do not pass an `input_shape`/`input_dim` argument to a layer. When using Sequential models, prefer using an `Input(shape)` object as the first layer in the model instead.\n",
      "  super().__init__(**kwargs)\n"
     ]
    },
    {
     "name": "stdout",
     "output_type": "stream",
     "text": [
      "Epoch 1/50\n",
      "9/9 - 18s - 2s/step - accuracy: 0.5175 - loss: 0.7008 - val_accuracy: 0.5809 - val_loss: 0.6794\n",
      "Epoch 2/50\n",
      "9/9 - 1s - 142ms/step - accuracy: 0.5599 - loss: 0.6899 - val_accuracy: 0.4191 - val_loss: 0.6998\n",
      "Epoch 3/50\n",
      "9/9 - 1s - 149ms/step - accuracy: 0.5359 - loss: 0.6922 - val_accuracy: 0.4191 - val_loss: 0.7012\n",
      "Epoch 4/50\n",
      "9/9 - 1s - 162ms/step - accuracy: 0.5451 - loss: 0.6887 - val_accuracy: 0.4559 - val_loss: 0.6968\n",
      "Epoch 5/50\n",
      "9/9 - 1s - 146ms/step - accuracy: 0.5304 - loss: 0.6878 - val_accuracy: 0.4559 - val_loss: 0.6978\n",
      "Epoch 6/50\n",
      "9/9 - 1s - 148ms/step - accuracy: 0.5396 - loss: 0.6893 - val_accuracy: 0.4265 - val_loss: 0.6993\n",
      "Epoch 7/50\n",
      "9/9 - 1s - 164ms/step - accuracy: 0.5451 - loss: 0.6868 - val_accuracy: 0.4191 - val_loss: 0.7021\n",
      "Epoch 8/50\n",
      "9/9 - 1s - 142ms/step - accuracy: 0.5451 - loss: 0.6884 - val_accuracy: 0.4191 - val_loss: 0.7031\n",
      "Epoch 9/50\n",
      "9/9 - 1s - 143ms/step - accuracy: 0.5543 - loss: 0.6896 - val_accuracy: 0.4191 - val_loss: 0.7050\n",
      "Epoch 10/50\n",
      "9/9 - 1s - 144ms/step - accuracy: 0.5451 - loss: 0.6876 - val_accuracy: 0.4191 - val_loss: 0.7083\n",
      "Epoch 11/50\n",
      "9/9 - 1s - 156ms/step - accuracy: 0.5378 - loss: 0.6867 - val_accuracy: 0.4191 - val_loss: 0.7104\n",
      "Epoch 12/50\n",
      "9/9 - 2s - 168ms/step - accuracy: 0.5433 - loss: 0.6863 - val_accuracy: 0.4191 - val_loss: 0.7140\n",
      "Epoch 13/50\n",
      "9/9 - 1s - 166ms/step - accuracy: 0.5396 - loss: 0.6864 - val_accuracy: 0.4191 - val_loss: 0.7151\n",
      "Epoch 14/50\n",
      "9/9 - 1s - 156ms/step - accuracy: 0.5543 - loss: 0.6843 - val_accuracy: 0.4191 - val_loss: 0.7187\n",
      "Epoch 15/50\n",
      "9/9 - 1s - 160ms/step - accuracy: 0.5451 - loss: 0.6825 - val_accuracy: 0.4191 - val_loss: 0.7228\n",
      "Epoch 16/50\n",
      "9/9 - 1s - 157ms/step - accuracy: 0.5672 - loss: 0.6815 - val_accuracy: 0.4118 - val_loss: 0.7388\n",
      "Epoch 17/50\n",
      "9/9 - 3s - 280ms/step - accuracy: 0.5764 - loss: 0.6857 - val_accuracy: 0.4265 - val_loss: 0.7271\n",
      "Epoch 18/50\n",
      "9/9 - 1s - 149ms/step - accuracy: 0.5562 - loss: 0.6846 - val_accuracy: 0.4265 - val_loss: 0.7792\n",
      "Epoch 19/50\n",
      "9/9 - 1s - 161ms/step - accuracy: 0.5488 - loss: 0.6875 - val_accuracy: 0.5221 - val_loss: 0.7055\n",
      "Epoch 20/50\n",
      "9/9 - 1s - 156ms/step - accuracy: 0.5709 - loss: 0.6831 - val_accuracy: 0.4118 - val_loss: 0.7228\n",
      "Epoch 21/50\n",
      "9/9 - 1s - 154ms/step - accuracy: 0.5709 - loss: 0.6797 - val_accuracy: 0.4118 - val_loss: 0.7360\n",
      "Epoch 22/50\n",
      "9/9 - 1s - 153ms/step - accuracy: 0.5562 - loss: 0.6808 - val_accuracy: 0.4191 - val_loss: 0.7390\n",
      "Epoch 23/50\n",
      "9/9 - 1s - 164ms/step - accuracy: 0.5820 - loss: 0.6776 - val_accuracy: 0.4118 - val_loss: 0.7505\n",
      "Epoch 24/50\n",
      "9/9 - 1s - 161ms/step - accuracy: 0.5727 - loss: 0.6772 - val_accuracy: 0.4191 - val_loss: 0.7538\n",
      "Epoch 25/50\n",
      "9/9 - 2s - 176ms/step - accuracy: 0.5267 - loss: 0.6834 - val_accuracy: 0.4191 - val_loss: 0.8011\n",
      "Epoch 26/50\n",
      "9/9 - 3s - 296ms/step - accuracy: 0.5543 - loss: 0.6989 - val_accuracy: 0.5368 - val_loss: 0.7115\n",
      "Epoch 27/50\n",
      "9/9 - 1s - 163ms/step - accuracy: 0.5322 - loss: 0.6848 - val_accuracy: 0.4044 - val_loss: 0.7240\n",
      "Epoch 28/50\n",
      "9/9 - 1s - 166ms/step - accuracy: 0.5746 - loss: 0.6818 - val_accuracy: 0.4044 - val_loss: 0.7371\n",
      "Epoch 29/50\n",
      "9/9 - 3s - 313ms/step - accuracy: 0.5691 - loss: 0.6775 - val_accuracy: 0.4044 - val_loss: 0.7322\n",
      "Epoch 30/50\n",
      "9/9 - 2s - 167ms/step - accuracy: 0.5709 - loss: 0.6789 - val_accuracy: 0.4118 - val_loss: 0.7384\n",
      "Epoch 31/50\n",
      "9/9 - 2s - 167ms/step - accuracy: 0.5893 - loss: 0.6764 - val_accuracy: 0.4191 - val_loss: 0.7552\n",
      "Epoch 32/50\n",
      "9/9 - 2s - 204ms/step - accuracy: 0.5856 - loss: 0.6758 - val_accuracy: 0.4191 - val_loss: 0.7762\n",
      "Epoch 33/50\n",
      "9/9 - 2s - 184ms/step - accuracy: 0.5599 - loss: 0.6760 - val_accuracy: 0.4191 - val_loss: 0.7846\n",
      "Epoch 34/50\n",
      "9/9 - 2s - 196ms/step - accuracy: 0.5764 - loss: 0.6701 - val_accuracy: 0.4118 - val_loss: 0.8219\n",
      "Epoch 35/50\n",
      "9/9 - 2s - 178ms/step - accuracy: 0.5562 - loss: 0.6779 - val_accuracy: 0.4265 - val_loss: 0.8259\n",
      "Epoch 36/50\n",
      "9/9 - 2s - 170ms/step - accuracy: 0.5617 - loss: 0.6807 - val_accuracy: 0.4191 - val_loss: 0.8119\n",
      "Epoch 37/50\n",
      "9/9 - 1s - 155ms/step - accuracy: 0.5470 - loss: 0.6825 - val_accuracy: 0.4191 - val_loss: 0.7417\n",
      "Epoch 38/50\n",
      "9/9 - 1s - 147ms/step - accuracy: 0.5893 - loss: 0.6786 - val_accuracy: 0.4118 - val_loss: 0.7473\n",
      "Epoch 39/50\n",
      "9/9 - 1s - 146ms/step - accuracy: 0.5801 - loss: 0.6780 - val_accuracy: 0.4265 - val_loss: 0.7543\n",
      "Epoch 40/50\n",
      "9/9 - 1s - 150ms/step - accuracy: 0.5912 - loss: 0.6695 - val_accuracy: 0.4191 - val_loss: 0.7869\n",
      "Epoch 41/50\n",
      "9/9 - 1s - 159ms/step - accuracy: 0.5875 - loss: 0.6705 - val_accuracy: 0.4191 - val_loss: 0.8430\n",
      "Epoch 42/50\n",
      "9/9 - 1s - 148ms/step - accuracy: 0.5783 - loss: 0.6662 - val_accuracy: 0.4118 - val_loss: 0.8978\n",
      "Epoch 43/50\n",
      "9/9 - 1s - 147ms/step - accuracy: 0.5654 - loss: 0.6645 - val_accuracy: 0.4265 - val_loss: 1.1834\n",
      "Epoch 44/50\n",
      "9/9 - 1s - 140ms/step - accuracy: 0.5838 - loss: 0.7227 - val_accuracy: 0.4632 - val_loss: 0.7983\n",
      "Epoch 45/50\n",
      "9/9 - 2s - 169ms/step - accuracy: 0.5562 - loss: 0.6825 - val_accuracy: 0.4191 - val_loss: 0.7300\n",
      "Epoch 46/50\n",
      "9/9 - 1s - 150ms/step - accuracy: 0.5691 - loss: 0.6854 - val_accuracy: 0.4044 - val_loss: 0.7193\n",
      "Epoch 47/50\n",
      "9/9 - 2s - 171ms/step - accuracy: 0.5433 - loss: 0.6863 - val_accuracy: 0.4706 - val_loss: 0.7141\n",
      "Epoch 48/50\n",
      "9/9 - 1s - 162ms/step - accuracy: 0.5617 - loss: 0.6844 - val_accuracy: 0.4044 - val_loss: 0.7329\n",
      "Epoch 49/50\n",
      "9/9 - 1s - 149ms/step - accuracy: 0.5764 - loss: 0.6790 - val_accuracy: 0.4118 - val_loss: 0.7287\n",
      "Epoch 50/50\n",
      "9/9 - 1s - 149ms/step - accuracy: 0.5672 - loss: 0.6792 - val_accuracy: 0.4044 - val_loss: 0.7321\n"
     ]
    }
   ],
   "source": [
    "model, history = basic_GRU(input_dim, output_dim, input_feature_size)"
   ]
  },
  {
   "cell_type": "code",
   "execution_count": 16,
   "id": "65419d2a",
   "metadata": {},
   "outputs": [
    {
     "name": "stdout",
     "output_type": "stream",
     "text": [
      "\u001b[1m17/17\u001b[0m \u001b[32m━━━━━━━━━━━━━━━━━━━━\u001b[0m\u001b[37m\u001b[0m \u001b[1m1s\u001b[0m 36ms/step - accuracy: 0.5631 - loss: 0.6843\n",
      "Train loss: 0.6764665246009827\n",
      "Train accuracy: 0.5819520950317383\n",
      "\u001b[1m5/5\u001b[0m \u001b[32m━━━━━━━━━━━━━━━━━━━━\u001b[0m\u001b[37m\u001b[0m \u001b[1m0s\u001b[0m 32ms/step - accuracy: 0.3952 - loss: 0.7307\n",
      "Test loss: 0.7320928573608398\n",
      "Test accuracy: 0.40441176295280457\n"
     ]
    }
   ],
   "source": [
    "# Ocena modelu na danych treningowych\n",
    "train_performance = model.evaluate(train_features, train_target)\n",
    "print('Train loss:', train_performance[0])\n",
    "print('Train accuracy:', train_performance[1])\n",
    "\n",
    "test_performance = model.evaluate(test_features, test_target)\n",
    "print('Test loss:', test_performance[0])\n",
    "print('Test accuracy:', test_performance[1])"
   ]
  },
  {
   "cell_type": "code",
   "execution_count": 17,
   "id": "4bce4c33",
   "metadata": {},
   "outputs": [
    {
     "name": "stdout",
     "output_type": "stream",
     "text": [
      "\u001b[1m17/17\u001b[0m \u001b[32m━━━━━━━━━━━━━━━━━━━━\u001b[0m\u001b[37m\u001b[0m \u001b[1m6s\u001b[0m 201ms/step\n",
      "236\n",
      "80\n",
      "169\n",
      "58\n",
      "Accuracy (ACC): 0.58195211786372\n",
      "True Positive Rate (TPR): 0.8027210884353742\n",
      "False Positive Rate (FPR): 0.678714859437751\n",
      "True Negative Rate (TNR): 0.321285140562249\n",
      "Positive Predictive Value (PPV): 0.582716049382716\n",
      "Negative Predictive Value (NPV): 0.5797101449275363\n"
     ]
    }
   ],
   "source": [
    "# Predykcja na zbiorze treningowym\n",
    "train_predictions = model.predict(train_features)\n",
    "train_predictions = np.argmax(train_predictions, axis = 1)\n",
    "train_true = np.argmax(train_target, axis = 1)\n",
    "\n",
    "# Obliczanie macierzy pomyłek\n",
    "cm = confusion_matrix(train_true, train_predictions)\n",
    "TP = cm[1, 1]  # True Positives\n",
    "TN = cm[0, 0]  # True Negatives\n",
    "FP = cm[0, 1]  # False Positives\n",
    "FN = cm[1, 0]  # False Negatives\n",
    "\n",
    "print(TP)\n",
    "print(TN)\n",
    "print(FP)\n",
    "print(FN)\n",
    "\n",
    "# TPR, FPR, TNR, PPV, NPV\n",
    "ACC = (TP + TN) / (TP + TN + FP + FN)\n",
    "TPR = TP / (TP + FN)\n",
    "FPR = FP / (FP + TN)\n",
    "TNR = TN / (TN + FP)\n",
    "PPV = TP / (TP + FP)\n",
    "NPV = TN / (TN + FN)\n",
    "\n",
    "print('Accuracy (ACC):', ACC)\n",
    "print('True Positive Rate (TPR):', TPR)\n",
    "print('False Positive Rate (FPR):', FPR)\n",
    "print('True Negative Rate (TNR):', TNR)\n",
    "print('Positive Predictive Value (PPV):', PPV)\n",
    "print('Negative Predictive Value (NPV):', NPV)"
   ]
  },
  {
   "cell_type": "code",
   "execution_count": 18,
   "id": "8e441350",
   "metadata": {},
   "outputs": [
    {
     "name": "stdout",
     "output_type": "stream",
     "text": [
      "\u001b[1m5/5\u001b[0m \u001b[32m━━━━━━━━━━━━━━━━━━━━\u001b[0m\u001b[37m\u001b[0m \u001b[1m0s\u001b[0m 28ms/step\n",
      "49\n",
      "6\n",
      "73\n",
      "8\n",
      "Accuracy (ACC): 0.40441176470588236\n",
      "True Positive Rate (TPR): 0.8596491228070176\n",
      "False Positive Rate (FPR): 0.9240506329113924\n",
      "True Negative Rate (TNR): 0.0759493670886076\n",
      "Positive Predictive Value (PPV): 0.4016393442622951\n",
      "Negative Predictive Value (NPV): 0.42857142857142855\n"
     ]
    }
   ],
   "source": [
    "# Predykcja na zbiorze testowym\n",
    "test_predictions = model.predict(test_features)\n",
    "test_predictions = np.argmax(test_predictions, axis = 1)\n",
    "test_true = np.argmax(test_target, axis = 1)\n",
    "\n",
    "# Obliczanie macierzy pomyłek\n",
    "cm = confusion_matrix(test_true, test_predictions)\n",
    "TP = cm[1, 1]  # True Positives\n",
    "TN = cm[0, 0]  # True Negatives\n",
    "FP = cm[0, 1]  # False Positives\n",
    "FN = cm[1, 0]  # False Negatives\n",
    "\n",
    "print(TP)\n",
    "print(TN)\n",
    "print(FP)\n",
    "print(FN)\n",
    "\n",
    "# TPR, FPR, TNR, PPV, NPV\n",
    "ACC = (TP + TN) / (TP + TN + FP + FN)\n",
    "TPR = TP / (TP + FN)\n",
    "FPR = FP / (FP + TN)\n",
    "TNR = TN / (TN + FP)\n",
    "PPV = TP / (TP + FP)\n",
    "NPV = TN / (TN + FN)\n",
    "\n",
    "print('Accuracy (ACC):', ACC)\n",
    "print('True Positive Rate (TPR):', TPR)\n",
    "print('False Positive Rate (FPR):', FPR)\n",
    "print('True Negative Rate (TNR):', TNR)\n",
    "print('Positive Predictive Value (PPV):', PPV)\n",
    "print('Negative Predictive Value (NPV):', NPV)"
   ]
  },
  {
   "cell_type": "code",
   "execution_count": 19,
   "id": "138343a9",
   "metadata": {},
   "outputs": [
    {
     "data": {
      "image/png": "[encoded data removed]",
      "text/plain": [
       "<Figure size 640x480 with 1 Axes>"
      ]
     },
     "metadata": {},
     "output_type": "display_data"
    }
   ],
   "source": [
    "plt.plot(history.history[\"accuracy\"], label=\"train\")\n",
    "plt.plot(history.history[\"val_accuracy\"], label=\"test\")\n",
    "plt.title(\"Skuteczność - GRU\")\n",
    "plt.xlabel(\"Epoch\")\n",
    "plt.ylabel(\"Accuracy\")\n",
    "plt.xticks(np.arange(0, N_EPOCH, step=5))\n",
    "plt.yticks(np.arange(0, 1, step=0.1))\n",
    "plt.legend()\n",
    "plt.show()"
   ]
  },
  {
   "cell_type": "code",
   "execution_count": 20,
   "id": "8e1ebd56",
   "metadata": {},
   "outputs": [
    {
     "data": {
      "image/png": "[encoded data removed]",
      "text/plain": [
       "<Figure size 640x480 with 1 Axes>"
      ]
     },
     "metadata": {},
     "output_type": "display_data"
    }
   ],
   "source": [
    "plt.plot(history.history[\"loss\"], label=\"train\")\n",
    "plt.plot(history.history[\"val_loss\"], label=\"test\")\n",
    "plt.title(\"Funkcja strat - GRU\")\n",
    "plt.xlabel(\"Epoch\")\n",
    "plt.ylabel(\"Loss\")\n",
    "plt.xticks(np.arange(0, N_EPOCH, step=5))\n",
    "plt.yticks(np.arange(0, 1, step=0.1))\n",
    "plt.legend()\n",
    "plt.show()"
   ]
  }
 ],
 "metadata": {
  "kernelspec": {
   "display_name": "Python 3 (ipykernel)",
   "language": "python",
   "name": "python3"
  },
  "language_info": {
   "codemirror_mode": {
    "name": "ipython",
    "version": 3
   },
   "file_extension": ".py",
   "mimetype": "text/x-python",
   "name": "python",
   "nbconvert_exporter": "python",
   "pygments_lexer": "ipython3",
   "version": "3.11.5"
  }
 },
 "nbformat": 4,
 "nbformat_minor": 5
}
