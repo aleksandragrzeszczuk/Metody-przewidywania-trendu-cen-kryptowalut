{
 "cells": [
  {
   "cell_type": "code",
   "execution_count": 1,
   "id": "745310cc",
   "metadata": {},
   "outputs": [],
   "source": [
    "import pandas as pd\n",
    "import optuna\n",
    "import yfinance as yf\n",
    "import pandas_datareader.data as web\n",
    "from datetime import datetime\n",
    "import numpy as np\n",
    "import pandas_ta as ta\n",
    "from keras.optimizers import Adam\n",
    "from keras.optimizers import SGD\n",
    "from keras.optimizers import Nadam\n",
    "from sklearn.metrics import confusion_matrix\n",
    "from tensorflow.keras.models import Sequential\n",
    "from tensorflow.keras.layers import Dense\n",
    "from tensorflow.keras.utils import to_categorical\n",
    "from keras.models import Sequential\n",
    "from keras.layers import Dense, Dropout\n",
    "from keras.regularizers import l2\n",
    "from keras.callbacks import EarlyStopping\n",
    "from sklearn.preprocessing import MinMaxScaler\n",
    "from keras.utils import plot_model\n",
    "from keras.layers import Dropout, Dense, GRU, LSTM, Flatten\n",
    "import matplotlib.pyplot as plt"
   ]
  },
  {
   "cell_type": "code",
   "execution_count": 2,
   "id": "ecfe67dc",
   "metadata": {},
   "outputs": [],
   "source": [
    "import warnings\n",
    "warnings.filterwarnings('ignore', category = pd.errors.PerformanceWarning)"
   ]
  },
  {
   "cell_type": "code",
   "execution_count": 3,
   "id": "3bdd371a",
   "metadata": {
    "scrolled": true
   },
   "outputs": [
    {
     "name": "stderr",
     "output_type": "stream",
     "text": [
      "\r",
      "[*********************100%%**********************]  1 of 1 completed"
     ]
    },
    {
     "name": "stdout",
     "output_type": "stream",
     "text": [
      "729\n",
      "(729, 69)\n"
     ]
    },
    {
     "name": "stderr",
     "output_type": "stream",
     "text": [
      "\n"
     ]
    }
   ],
   "source": [
    "# Pobieramy dane dotyczące BTC z yahoo\n",
    "BTC = yf.download('BTC-USD', start = '2018-01-01', end = '2019-12-31')\n",
    "\n",
    "BTC['Target'] = (BTC['Close'].diff() > 0).astype(int)\n",
    "\n",
    "def add_lagged_features(data, column_name, n_days):\n",
    "    for i in range(1, n_days + 1):\n",
    "        lagged_column_name = f'{column_name}_{i}d_back'\n",
    "        data[lagged_column_name] = data[column_name].shift(i)\n",
    "    return data\n",
    "\n",
    "BTC = add_lagged_features(BTC, 'Close', 30)\n",
    "BTC = add_lagged_features(BTC, 'Volume', 30)\n",
    "BTC = add_lagged_features(BTC, 'High', 1)\n",
    "BTC = add_lagged_features(BTC, 'Low', 1)\n",
    "\n",
    "# df = pd.DataFrame()\n",
    "# df = BTC.copy()\n",
    "# print(BTC.head())\n",
    "print(len(BTC))\n",
    "print(BTC.shape)"
   ]
  },
  {
   "cell_type": "code",
   "execution_count": 4,
   "id": "445cd5d4",
   "metadata": {},
   "outputs": [],
   "source": [
    "# SMA\n",
    "BTC['SMA'] = ta.sma(BTC['Close_1d_back'], length = 30)\n",
    "\n",
    "# MFI \n",
    "BTC['MFI'] = ta.mfi(BTC['High_1d_back'], BTC['Low_1d_back'], \n",
    "                    BTC['Close_1d_back'], BTC['Volume_1d_back'], length = 29)\n",
    "\n",
    "# RSI \n",
    "BTC['RSI'] = ta.rsi(BTC['Close_1d_back'], length = 29)\n",
    "\n",
    "# Bollinger Bands\n",
    "bollinger = ta.bbands(BTC['Close_1d_back'], length = 30, std = 2)\n",
    "BTC['BB_Upper'] = bollinger['BBU_30_2.0']\n",
    "BTC['BB_Middle'] = bollinger['BBM_30_2.0']\n",
    "BTC['BB_Lower'] = bollinger['BBL_30_2.0']\n",
    "\n",
    "# CCI \n",
    "BTC['CCI'] = ta.cci(BTC['High_1d_back'], BTC['Low_1d_back'], \n",
    "                    BTC['Close_1d_back'], length = 30)"
   ]
  },
  {
   "cell_type": "code",
   "execution_count": 5,
   "id": "3afd826c",
   "metadata": {},
   "outputs": [],
   "source": [
    "high_series = BTC['High_1d_back']\n",
    "low_series = BTC['Low_1d_back']\n",
    "close_series = BTC['Close_1d_back']\n",
    "\n",
    "# Wprowadzenie jasnych parametrów dla kanału Donchian\n",
    "donchian = ta.donchian(high = high_series, low = low_series, close = close_series, lower_length = 30, upper_length = 30)\n",
    "\n",
    "# Przypisanie wyników kanału Donchian do DataFrame\n",
    "BTC['Donchian_High'] = donchian['DCU_30_30']\n",
    "BTC['Donchian_Low'] = donchian['DCL_30_30']"
   ]
  },
  {
   "cell_type": "code",
   "execution_count": 6,
   "id": "bea0121c",
   "metadata": {},
   "outputs": [],
   "source": [
    "BTC = BTC.drop('Adj Close', axis=1)\n",
    "BTC = BTC.dropna().reset_index(drop = True)\n",
    "# BTC"
   ]
  },
  {
   "cell_type": "code",
   "execution_count": 7,
   "id": "148e7526",
   "metadata": {
    "scrolled": true
   },
   "outputs": [],
   "source": [
    "dataset = pd.DataFrame()\n",
    "dataset = BTC[['Open', 'High', 'Low', 'Close', 'Volume', 'SMA', 'MFI', 'RSI', 'BB_Upper', \n",
    "          'BB_Middle', 'BB_Lower', 'CCI', 'Donchian_High', 'Donchian_Low', 'Target']].copy()\n",
    "# dataset"
   ]
  },
  {
   "cell_type": "code",
   "execution_count": 8,
   "id": "a4639688",
   "metadata": {},
   "outputs": [],
   "source": [
    "n_steps_in = 20\n",
    "output_features = 2"
   ]
  },
  {
   "cell_type": "code",
   "execution_count": 9,
   "id": "c36088bd",
   "metadata": {},
   "outputs": [],
   "source": [
    "X_value = pd.DataFrame(dataset.iloc[:, :])\n",
    "X_value = X_value.drop('Target', axis='columns')\n",
    "# X_value"
   ]
  },
  {
   "cell_type": "code",
   "execution_count": 10,
   "id": "9eb64e54",
   "metadata": {},
   "outputs": [],
   "source": [
    "y_value = pd.DataFrame(dataset.Target)\n",
    "y_value = to_categorical(y_value)\n",
    "# y_value"
   ]
  },
  {
   "cell_type": "code",
   "execution_count": 11,
   "id": "d3d27bf1",
   "metadata": {},
   "outputs": [],
   "source": [
    "scaler = MinMaxScaler(feature_range=(-1, 1))\n",
    "scaler.fit(X_value)\n",
    "X_value = scaler.fit_transform(X_value)"
   ]
  },
  {
   "cell_type": "code",
   "execution_count": 12,
   "id": "b089df56",
   "metadata": {},
   "outputs": [],
   "source": [
    "def get_X_y(X_data, y_data):\n",
    "    X = list()\n",
    "    y = list()\n",
    "\n",
    "    length = len(X_data)\n",
    "    for i in range(0, length-n_steps_in, 1):\n",
    "        X_value = X_data[i: i + n_steps_in][:, :]\n",
    "        # y_value = y_data[i + n_steps_in: i + (n_steps_in + n_steps_out)][:, :]\n",
    "        y_value = y_data[i + n_steps_in]\n",
    "        if len(X_value) == n_steps_in and len(y_value) == output_features:\n",
    "            X.append(X_value)\n",
    "            y.append(y_value)\n",
    "\n",
    "    return np.array(X), np.array(y)"
   ]
  },
  {
   "cell_type": "code",
   "execution_count": 13,
   "id": "421d0771",
   "metadata": {},
   "outputs": [],
   "source": [
    "def split_train_test(data):\n",
    "    train_size = int(0.8 * len(X))\n",
    "    data_train = data[0:train_size]\n",
    "    data_test = data[train_size:]\n",
    "    return data_train, data_test"
   ]
  },
  {
   "cell_type": "code",
   "execution_count": 14,
   "id": "d239ce9e",
   "metadata": {},
   "outputs": [
    {
     "name": "stdout",
     "output_type": "stream",
     "text": [
      "X shape:  (679, 20, 14)\n",
      "y shape:  (679, 2)\n",
      "Train features shape:  (543, 20, 14)\n",
      "Test features shape:  (136, 20, 14)\n",
      "Train features shape:  (543, 2)\n",
      "Test features shape:  (136, 2)\n"
     ]
    }
   ],
   "source": [
    "X, y = get_X_y(X_value, y_value)\n",
    "print('X shape: ', X.shape)\n",
    "print('y shape: ', y.shape)\n",
    "train_features, test_features = split_train_test(X) \n",
    "train_target, test_target = split_train_test(y) \n",
    "\n",
    "print('Train features shape: ', train_features.shape)\n",
    "print('Test features shape: ', test_features.shape)\n",
    "print('Train features shape: ', train_target.shape)\n",
    "print('Test features shape: ', test_target.shape)"
   ]
  },
  {
   "cell_type": "code",
   "execution_count": 15,
   "id": "2450a260",
   "metadata": {},
   "outputs": [],
   "source": [
    "input_dim = train_features.shape[1]\n",
    "input_feature_size = train_features.shape[2]\n",
    "output_dim = train_target.shape[1]"
   ]
  },
  {
   "cell_type": "code",
   "execution_count": 16,
   "id": "0f4fece6",
   "metadata": {},
   "outputs": [],
   "source": [
    "N_EPOCH = 50\n",
    "BATCH_SIZE = 64\n",
    "\n",
    "def basic_GRU(input_dim, output_dim, input_feature_size):\n",
    "    model = Sequential()\n",
    "    model.add(GRU(units=63, return_sequences=True, activation='relu', input_shape=(input_dim, input_feature_size)))\n",
    "    model.add(Dropout(0.2))\n",
    "    model.add(GRU(250, return_sequences=False))\n",
    "    model.add(Dropout(0.2))\n",
    "    model.add(Dense(output_dim, activation='softmax'))\n",
    "\n",
    "    model.compile(optimizer='adam',\n",
    "              loss='categorical_crossentropy',\n",
    "              metrics=['accuracy'])\n",
    "    \n",
    "    history = model.fit(train_features, train_target, epochs=N_EPOCH, \n",
    "                        validation_data=(test_features, test_target),\n",
    "                        batch_size=BATCH_SIZE, verbose=2, shuffle=False)\n",
    "\n",
    "    return model, history"
   ]
  },
  {
   "cell_type": "code",
   "execution_count": 17,
   "id": "5b79d271",
   "metadata": {
    "scrolled": true
   },
   "outputs": [
    {
     "name": "stderr",
     "output_type": "stream",
     "text": [
      "C:\\Users\\48798\\anaconda3\\Lib\\site-packages\\keras\\src\\layers\\rnn\\rnn.py:204: UserWarning: Do not pass an `input_shape`/`input_dim` argument to a layer. When using Sequential models, prefer using an `Input(shape)` object as the first layer in the model instead.\n",
      "  super().__init__(**kwargs)\n"
     ]
    },
    {
     "name": "stdout",
     "output_type": "stream",
     "text": [
      "Epoch 1/50\n",
      "9/9 - 44s - 5s/step - accuracy: 0.4843 - loss: 0.7073 - val_accuracy: 0.5588 - val_loss: 0.6869\n",
      "Epoch 2/50\n",
      "9/9 - 2s - 174ms/step - accuracy: 0.5506 - loss: 0.6897 - val_accuracy: 0.4191 - val_loss: 0.7291\n",
      "Epoch 3/50\n",
      "9/9 - 3s - 290ms/step - accuracy: 0.5341 - loss: 0.6894 - val_accuracy: 0.4191 - val_loss: 0.7129\n",
      "Epoch 4/50\n",
      "9/9 - 2s - 191ms/step - accuracy: 0.5506 - loss: 0.6880 - val_accuracy: 0.4412 - val_loss: 0.7059\n",
      "Epoch 5/50\n",
      "9/9 - 3s - 332ms/step - accuracy: 0.5506 - loss: 0.6831 - val_accuracy: 0.4191 - val_loss: 0.7170\n",
      "Epoch 6/50\n",
      "9/9 - 2s - 194ms/step - accuracy: 0.5635 - loss: 0.6833 - val_accuracy: 0.4191 - val_loss: 0.7242\n",
      "Epoch 7/50\n",
      "9/9 - 2s - 188ms/step - accuracy: 0.5672 - loss: 0.6816 - val_accuracy: 0.4338 - val_loss: 0.7288\n",
      "Epoch 8/50\n",
      "9/9 - 2s - 189ms/step - accuracy: 0.5635 - loss: 0.6803 - val_accuracy: 0.4191 - val_loss: 0.7458\n",
      "Epoch 9/50\n",
      "9/9 - 3s - 291ms/step - accuracy: 0.5672 - loss: 0.6805 - val_accuracy: 0.4191 - val_loss: 0.7370\n",
      "Epoch 10/50\n",
      "9/9 - 1s - 162ms/step - accuracy: 0.5709 - loss: 0.6776 - val_accuracy: 0.4265 - val_loss: 0.7600\n",
      "Epoch 11/50\n",
      "9/9 - 1s - 150ms/step - accuracy: 0.5580 - loss: 0.6773 - val_accuracy: 0.4412 - val_loss: 0.7330\n",
      "Epoch 12/50\n",
      "9/9 - 1s - 136ms/step - accuracy: 0.5543 - loss: 0.6934 - val_accuracy: 0.4265 - val_loss: 0.7252\n",
      "Epoch 13/50\n",
      "9/9 - 1s - 135ms/step - accuracy: 0.5212 - loss: 0.7007 - val_accuracy: 0.4191 - val_loss: 0.7277\n",
      "Epoch 14/50\n",
      "9/9 - 2s - 183ms/step - accuracy: 0.5801 - loss: 0.6784 - val_accuracy: 0.4191 - val_loss: 0.7229\n",
      "Epoch 15/50\n",
      "9/9 - 2s - 266ms/step - accuracy: 0.5820 - loss: 0.6790 - val_accuracy: 0.4412 - val_loss: 0.7164\n",
      "Epoch 16/50\n",
      "9/9 - 3s - 321ms/step - accuracy: 0.5672 - loss: 0.6745 - val_accuracy: 0.4191 - val_loss: 0.7284\n",
      "Epoch 17/50\n",
      "9/9 - 1s - 156ms/step - accuracy: 0.5691 - loss: 0.6738 - val_accuracy: 0.4118 - val_loss: 0.7506\n",
      "Epoch 18/50\n",
      "9/9 - 1s - 162ms/step - accuracy: 0.5599 - loss: 0.6733 - val_accuracy: 0.4338 - val_loss: 0.7529\n",
      "Epoch 19/50\n",
      "9/9 - 2s - 174ms/step - accuracy: 0.5635 - loss: 0.6709 - val_accuracy: 0.4118 - val_loss: 0.7816\n",
      "Epoch 20/50\n",
      "9/9 - 2s - 174ms/step - accuracy: 0.5783 - loss: 0.6728 - val_accuracy: 0.4412 - val_loss: 0.7519\n",
      "Epoch 21/50\n",
      "9/9 - 1s - 160ms/step - accuracy: 0.5727 - loss: 0.6757 - val_accuracy: 0.4191 - val_loss: 0.7921\n",
      "Epoch 22/50\n",
      "9/9 - 1s - 149ms/step - accuracy: 0.5709 - loss: 0.6736 - val_accuracy: 0.4485 - val_loss: 0.7273\n",
      "Epoch 23/50\n",
      "9/9 - 1s - 137ms/step - accuracy: 0.5727 - loss: 0.6649 - val_accuracy: 0.4118 - val_loss: 0.7614\n",
      "Epoch 24/50\n",
      "9/9 - 1s - 136ms/step - accuracy: 0.5838 - loss: 0.6684 - val_accuracy: 0.4265 - val_loss: 0.7673\n",
      "Epoch 25/50\n",
      "9/9 - 1s - 136ms/step - accuracy: 0.5948 - loss: 0.6597 - val_accuracy: 0.4338 - val_loss: 0.7776\n",
      "Epoch 26/50\n",
      "9/9 - 1s - 143ms/step - accuracy: 0.6004 - loss: 0.6625 - val_accuracy: 0.4338 - val_loss: 0.8104\n",
      "Epoch 27/50\n",
      "9/9 - 1s - 129ms/step - accuracy: 0.5893 - loss: 0.6642 - val_accuracy: 0.4265 - val_loss: 0.8043\n",
      "Epoch 28/50\n",
      "9/9 - 1s - 136ms/step - accuracy: 0.5948 - loss: 0.6653 - val_accuracy: 0.4191 - val_loss: 0.8379\n",
      "Epoch 29/50\n",
      "9/9 - 1s - 141ms/step - accuracy: 0.5488 - loss: 0.7015 - val_accuracy: 0.4191 - val_loss: 0.7457\n",
      "Epoch 30/50\n",
      "9/9 - 1s - 136ms/step - accuracy: 0.5746 - loss: 0.6758 - val_accuracy: 0.4044 - val_loss: 0.8041\n",
      "Epoch 31/50\n",
      "9/9 - 2s - 173ms/step - accuracy: 0.5691 - loss: 0.6773 - val_accuracy: 0.4191 - val_loss: 0.7421\n",
      "Epoch 32/50\n",
      "9/9 - 1s - 152ms/step - accuracy: 0.5967 - loss: 0.6713 - val_accuracy: 0.4338 - val_loss: 0.7466\n",
      "Epoch 33/50\n",
      "9/9 - 1s - 159ms/step - accuracy: 0.5691 - loss: 0.6695 - val_accuracy: 0.4338 - val_loss: 0.7538\n",
      "Epoch 34/50\n",
      "9/9 - 2s - 168ms/step - accuracy: 0.5820 - loss: 0.6651 - val_accuracy: 0.4338 - val_loss: 0.7659\n",
      "Epoch 35/50\n",
      "9/9 - 1s - 159ms/step - accuracy: 0.6004 - loss: 0.6640 - val_accuracy: 0.4265 - val_loss: 0.7933\n",
      "Epoch 36/50\n",
      "9/9 - 1s - 156ms/step - accuracy: 0.5967 - loss: 0.6606 - val_accuracy: 0.4265 - val_loss: 0.8155\n",
      "Epoch 37/50\n",
      "9/9 - 1s - 155ms/step - accuracy: 0.5801 - loss: 0.6617 - val_accuracy: 0.4338 - val_loss: 0.8207\n",
      "Epoch 38/50\n",
      "9/9 - 1s - 159ms/step - accuracy: 0.5967 - loss: 0.6573 - val_accuracy: 0.4265 - val_loss: 0.8350\n",
      "Epoch 39/50\n",
      "9/9 - 1s - 149ms/step - accuracy: 0.6004 - loss: 0.6554 - val_accuracy: 0.4265 - val_loss: 0.8386\n",
      "Epoch 40/50\n",
      "9/9 - 1s - 160ms/step - accuracy: 0.6059 - loss: 0.6530 - val_accuracy: 0.4338 - val_loss: 0.8436\n",
      "Epoch 41/50\n",
      "9/9 - 1s - 156ms/step - accuracy: 0.6004 - loss: 0.6549 - val_accuracy: 0.4338 - val_loss: 0.8754\n",
      "Epoch 42/50\n",
      "9/9 - 1s - 153ms/step - accuracy: 0.6059 - loss: 0.6568 - val_accuracy: 0.4485 - val_loss: 0.8297\n",
      "Epoch 43/50\n",
      "9/9 - 1s - 150ms/step - accuracy: 0.5893 - loss: 0.6717 - val_accuracy: 0.3971 - val_loss: 0.8767\n",
      "Epoch 44/50\n",
      "9/9 - 1s - 154ms/step - accuracy: 0.5912 - loss: 0.6646 - val_accuracy: 0.4338 - val_loss: 0.7813\n",
      "Epoch 45/50\n",
      "9/9 - 1s - 145ms/step - accuracy: 0.5967 - loss: 0.6633 - val_accuracy: 0.4191 - val_loss: 0.7975\n",
      "Epoch 46/50\n",
      "9/9 - 1s - 152ms/step - accuracy: 0.6151 - loss: 0.6482 - val_accuracy: 0.4338 - val_loss: 0.8279\n",
      "Epoch 47/50\n",
      "9/9 - 1s - 145ms/step - accuracy: 0.6262 - loss: 0.6427 - val_accuracy: 0.4338 - val_loss: 0.9063\n",
      "Epoch 48/50\n",
      "9/9 - 1s - 148ms/step - accuracy: 0.6243 - loss: 0.6441 - val_accuracy: 0.4265 - val_loss: 0.8858\n",
      "Epoch 49/50\n",
      "9/9 - 1s - 150ms/step - accuracy: 0.6298 - loss: 0.6384 - val_accuracy: 0.4265 - val_loss: 0.9086\n",
      "Epoch 50/50\n",
      "9/9 - 1s - 152ms/step - accuracy: 0.6243 - loss: 0.6359 - val_accuracy: 0.4485 - val_loss: 0.9315\n"
     ]
    }
   ],
   "source": [
    "model, history = basic_GRU(input_dim, output_dim, input_feature_size)"
   ]
  },
  {
   "cell_type": "code",
   "execution_count": 18,
   "id": "65419d2a",
   "metadata": {},
   "outputs": [
    {
     "name": "stdout",
     "output_type": "stream",
     "text": [
      "\u001b[1m17/17\u001b[0m \u001b[32m━━━━━━━━━━━━━━━━━━━━\u001b[0m\u001b[37m\u001b[0m \u001b[1m1s\u001b[0m 46ms/step - accuracy: 0.6478 - loss: 0.6425\n",
      "Train loss: 0.6350616812705994\n",
      "Train accuracy: 0.6353591084480286\n",
      "\u001b[1m5/5\u001b[0m \u001b[32m━━━━━━━━━━━━━━━━━━━━\u001b[0m\u001b[37m\u001b[0m \u001b[1m0s\u001b[0m 41ms/step - accuracy: 0.4464 - loss: 0.9658\n",
      "Test loss: 0.9315054416656494\n",
      "Test accuracy: 0.4485294222831726\n"
     ]
    }
   ],
   "source": [
    "# Ocena modelu na danych treningowych\n",
    "train_performance = model.evaluate(train_features, train_target)\n",
    "print('Train loss:', train_performance[0])\n",
    "print('Train accuracy:', train_performance[1])\n",
    "\n",
    "test_performance = model.evaluate(test_features, test_target)\n",
    "print('Test loss:', test_performance[0])\n",
    "print('Test accuracy:', test_performance[1])"
   ]
  },
  {
   "cell_type": "code",
   "execution_count": 19,
   "id": "4bce4c33",
   "metadata": {},
   "outputs": [
    {
     "name": "stdout",
     "output_type": "stream",
     "text": [
      "\u001b[1m17/17\u001b[0m \u001b[32m━━━━━━━━━━━━━━━━━━━━\u001b[0m\u001b[37m\u001b[0m \u001b[1m3s\u001b[0m 102ms/step\n",
      "214\n",
      "131\n",
      "118\n",
      "80\n",
      "Accuracy (ACC): 0.6353591160220995\n",
      "True Positive Rate (TPR): 0.7278911564625851\n",
      "False Positive Rate (FPR): 0.4738955823293173\n",
      "True Negative Rate (TNR): 0.5261044176706827\n",
      "Positive Predictive Value (PPV): 0.6445783132530121\n",
      "Negative Predictive Value (NPV): 0.6208530805687204\n"
     ]
    }
   ],
   "source": [
    "# Predykcja na zbiorze treningowym\n",
    "train_predictions = model.predict(train_features)\n",
    "train_predictions = np.argmax(train_predictions, axis = 1)\n",
    "train_true = np.argmax(train_target, axis = 1)\n",
    "\n",
    "# Obliczanie macierzy pomyłek\n",
    "cm = confusion_matrix(train_true, train_predictions)\n",
    "TP = cm[1, 1]  # True Positives\n",
    "TN = cm[0, 0]  # True Negatives\n",
    "FP = cm[0, 1]  # False Positives\n",
    "FN = cm[1, 0]  # False Negatives\n",
    "\n",
    "print(TP)\n",
    "print(TN)\n",
    "print(FP)\n",
    "print(FN)\n",
    "\n",
    "# TPR, FPR, TNR, PPV, NPV\n",
    "ACC = (TP + TN) / (TP + TN + FP + FN)\n",
    "TPR = TP / (TP + FN)\n",
    "FPR = FP / (FP + TN)\n",
    "TNR = TN / (TN + FP)\n",
    "PPV = TP / (TP + FP)\n",
    "NPV = TN / (TN + FN)\n",
    "\n",
    "print('Accuracy (ACC):', ACC)\n",
    "print('True Positive Rate (TPR):', TPR)\n",
    "print('False Positive Rate (FPR):', FPR)\n",
    "print('True Negative Rate (TNR):', TNR)\n",
    "print('Positive Predictive Value (PPV):', PPV)\n",
    "print('Negative Predictive Value (NPV):', NPV)"
   ]
  },
  {
   "cell_type": "code",
   "execution_count": 20,
   "id": "8e441350",
   "metadata": {},
   "outputs": [
    {
     "name": "stdout",
     "output_type": "stream",
     "text": [
      "\u001b[1m5/5\u001b[0m \u001b[32m━━━━━━━━━━━━━━━━━━━━\u001b[0m\u001b[37m\u001b[0m \u001b[1m0s\u001b[0m 37ms/step\n",
      "46\n",
      "15\n",
      "64\n",
      "11\n",
      "Accuracy (ACC): 0.4485294117647059\n",
      "True Positive Rate (TPR): 0.8070175438596491\n",
      "False Positive Rate (FPR): 0.810126582278481\n",
      "True Negative Rate (TNR): 0.189873417721519\n",
      "Positive Predictive Value (PPV): 0.41818181818181815\n",
      "Negative Predictive Value (NPV): 0.5769230769230769\n"
     ]
    }
   ],
   "source": [
    "# Predykcja na zbiorze testowym\n",
    "test_predictions = model.predict(test_features)\n",
    "test_predictions = np.argmax(test_predictions, axis = 1)\n",
    "test_true = np.argmax(test_target, axis = 1)\n",
    "\n",
    "# Obliczanie macierzy pomyłek\n",
    "cm = confusion_matrix(test_true, test_predictions)\n",
    "TP = cm[1, 1]  # True Positives\n",
    "TN = cm[0, 0]  # True Negatives\n",
    "FP = cm[0, 1]  # False Positives\n",
    "FN = cm[1, 0]  # False Negatives\n",
    "\n",
    "print(TP)\n",
    "print(TN)\n",
    "print(FP)\n",
    "print(FN)\n",
    "\n",
    "# TPR, FPR, TNR, PPV, NPV\n",
    "ACC = (TP + TN) / (TP + TN + FP + FN)\n",
    "TPR = TP / (TP + FN)\n",
    "FPR = FP / (FP + TN)\n",
    "TNR = TN / (TN + FP)\n",
    "PPV = TP / (TP + FP)\n",
    "NPV = TN / (TN + FN)\n",
    "\n",
    "print('Accuracy (ACC):', ACC)\n",
    "print('True Positive Rate (TPR):', TPR)\n",
    "print('False Positive Rate (FPR):', FPR)\n",
    "print('True Negative Rate (TNR):', TNR)\n",
    "print('Positive Predictive Value (PPV):', PPV)\n",
    "print('Negative Predictive Value (NPV):', NPV)"
   ]
  },
  {
   "cell_type": "code",
   "execution_count": 21,
   "id": "138343a9",
   "metadata": {
    "scrolled": false
   },
   "outputs": [
    {
     "data": {
      "image/png": "[encoded data removed]",
      "text/plain": [
       "<Figure size 640x480 with 1 Axes>"
      ]
     },
     "metadata": {},
     "output_type": "display_data"
    }
   ],
   "source": [
    "plt.plot(history.history[\"accuracy\"], label=\"train\")\n",
    "plt.plot(history.history[\"val_accuracy\"], label=\"test\")\n",
    "plt.title(\"Skuteczność - GRU\")\n",
    "plt.xlabel(\"Epoch\")\n",
    "plt.ylabel(\"Accuracy\")\n",
    "plt.xticks(np.arange(0, N_EPOCH, step=5))\n",
    "plt.yticks(np.arange(0, 1, step=0.1))\n",
    "plt.legend()\n",
    "plt.show()"
   ]
  },
  {
   "cell_type": "code",
   "execution_count": 22,
   "id": "8e1ebd56",
   "metadata": {},
   "outputs": [
    {
     "data": {
      "image/png": "[encoded data removed]",
      "text/plain": [
       "<Figure size 640x480 with 1 Axes>"
      ]
     },
     "metadata": {},
     "output_type": "display_data"
    }
   ],
   "source": [
    "plt.plot(history.history[\"loss\"], label=\"train\")\n",
    "plt.plot(history.history[\"val_loss\"], label=\"test\")\n",
    "plt.title(\"Funkcja strat - GRU\")\n",
    "plt.xlabel(\"Epoch\")\n",
    "plt.ylabel(\"Loss\")\n",
    "plt.xticks(np.arange(0, N_EPOCH, step=5))\n",
    "plt.yticks(np.arange(0, 1, step=0.1))\n",
    "plt.legend()\n",
    "plt.show()"
   ]
  }
 ],
 "metadata": {
  "kernelspec": {
   "display_name": "Python 3 (ipykernel)",
   "language": "python",
   "name": "python3"
  },
  "language_info": {
   "codemirror_mode": {
    "name": "ipython",
    "version": 3
   },
   "file_extension": ".py",
   "mimetype": "text/x-python",
   "name": "python",
   "nbconvert_exporter": "python",
   "pygments_lexer": "ipython3",
   "version": "3.11.5"
  }
 },
 "nbformat": 4,
 "nbformat_minor": 5
}
