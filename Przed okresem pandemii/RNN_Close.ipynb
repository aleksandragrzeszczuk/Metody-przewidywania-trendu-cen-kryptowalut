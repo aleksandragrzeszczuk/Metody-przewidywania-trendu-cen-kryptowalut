{
 "cells": [
  {
   "cell_type": "code",
   "execution_count": 1,
   "id": "c1432d40",
   "metadata": {},
   "outputs": [],
   "source": [
    "from keras.models import Sequential\n",
    "from keras.layers import SimpleRNN, Dense, Dropout\n",
    "from keras.optimizers import Adam"
   ]
  },
  {
   "cell_type": "code",
   "execution_count": 2,
   "id": "745310cc",
   "metadata": {},
   "outputs": [],
   "source": [
    "import pandas as pd\n",
    "import optuna\n",
    "import yfinance as yf\n",
    "import pandas_datareader.data as web\n",
    "from datetime import datetime\n",
    "import numpy as np\n",
    "import pandas_ta as ta\n",
    "from keras.optimizers import Adam\n",
    "from keras.optimizers import SGD\n",
    "from keras.optimizers import Nadam\n",
    "from sklearn.metrics import confusion_matrix\n",
    "from tensorflow.keras.models import Sequential\n",
    "from tensorflow.keras.layers import Dense\n",
    "from tensorflow.keras.utils import to_categorical\n",
    "from keras.models import Sequential\n",
    "from keras.layers import Dense, Dropout\n",
    "from keras.regularizers import l2\n",
    "from keras.callbacks import EarlyStopping\n",
    "from sklearn.preprocessing import MinMaxScaler\n",
    "from keras.utils import plot_model\n",
    "from keras.layers import Dropout, Dense, GRU, LSTM, Flatten\n",
    "import matplotlib.pyplot as plt"
   ]
  },
  {
   "cell_type": "code",
   "execution_count": 3,
   "id": "ecfe67dc",
   "metadata": {},
   "outputs": [],
   "source": [
    "import warnings\n",
    "warnings.filterwarnings('ignore', category = pd.errors.PerformanceWarning)"
   ]
  },
  {
   "cell_type": "code",
   "execution_count": 4,
   "id": "3bdd371a",
   "metadata": {
    "scrolled": true
   },
   "outputs": [
    {
     "name": "stderr",
     "output_type": "stream",
     "text": [
      "\r",
      "[*********************100%%**********************]  1 of 1 completed"
     ]
    },
    {
     "name": "stdout",
     "output_type": "stream",
     "text": [
      "729\n",
      "(729, 37)\n"
     ]
    },
    {
     "name": "stderr",
     "output_type": "stream",
     "text": [
      "\n"
     ]
    }
   ],
   "source": [
    "# Pobieramy dane dotyczące BTC z yahoo\n",
    "BTC = yf.download('BTC-USD', start = '2018-01-01', end = '2019-12-31')\n",
    "\n",
    "BTC['Target'] = (BTC['Close'].diff() > 0).astype(int)\n",
    "\n",
    "def add_lagged_features(data, column_name, n_days):\n",
    "    for i in range(1, n_days + 1):\n",
    "        lagged_column_name = f'{column_name}_{i}d_back'\n",
    "        data[lagged_column_name] = data[column_name].shift(i)\n",
    "    return data\n",
    "\n",
    "BTC = add_lagged_features(BTC, 'Close', 30)\n",
    "\n",
    "# df = pd.DataFrame()\n",
    "# df = BTC.copy()\n",
    "# print(BTC.head())\n",
    "print(len(BTC))\n",
    "print(BTC.shape)"
   ]
  },
  {
   "cell_type": "code",
   "execution_count": 5,
   "id": "bea0121c",
   "metadata": {},
   "outputs": [],
   "source": [
    "BTC = BTC.drop('Adj Close', axis=1)\n",
    "BTC = BTC.dropna().reset_index(drop = True)\n",
    "# BTC"
   ]
  },
  {
   "cell_type": "code",
   "execution_count": 6,
   "id": "148e7526",
   "metadata": {
    "scrolled": true
   },
   "outputs": [],
   "source": [
    "dataset = pd.DataFrame()\n",
    "dataset = BTC[['Open', 'High', 'Low', 'Close', 'Volume', 'Target']].copy()\n",
    "# dataset"
   ]
  },
  {
   "cell_type": "code",
   "execution_count": 7,
   "id": "a4639688",
   "metadata": {},
   "outputs": [],
   "source": [
    "n_steps_in = 20\n",
    "output_features = 2"
   ]
  },
  {
   "cell_type": "code",
   "execution_count": 8,
   "id": "c36088bd",
   "metadata": {},
   "outputs": [],
   "source": [
    "X_value = pd.DataFrame(dataset.iloc[:, :])\n",
    "X_value = X_value.drop('Target', axis='columns')\n",
    "# X_value"
   ]
  },
  {
   "cell_type": "code",
   "execution_count": 9,
   "id": "9eb64e54",
   "metadata": {},
   "outputs": [],
   "source": [
    "y_value = pd.DataFrame(dataset.Target)\n",
    "y_value = to_categorical(y_value)\n",
    "# y_value"
   ]
  },
  {
   "cell_type": "code",
   "execution_count": 10,
   "id": "d3d27bf1",
   "metadata": {},
   "outputs": [],
   "source": [
    "scaler = MinMaxScaler(feature_range=(-1, 1))\n",
    "scaler.fit(X_value)\n",
    "X_value = scaler.fit_transform(X_value)"
   ]
  },
  {
   "cell_type": "code",
   "execution_count": 11,
   "id": "b089df56",
   "metadata": {},
   "outputs": [],
   "source": [
    "def get_X_y(X_data, y_data):\n",
    "    X = list()\n",
    "    y = list()\n",
    "\n",
    "    length = len(X_data)\n",
    "    for i in range(0, length-n_steps_in, 1):\n",
    "        X_value = X_data[i: i + n_steps_in][:, :]\n",
    "        # y_value = y_data[i + n_steps_in: i + (n_steps_in + n_steps_out)][:, :]\n",
    "        y_value = y_data[i + n_steps_in]\n",
    "        if len(X_value) == n_steps_in and len(y_value) == output_features:\n",
    "            X.append(X_value)\n",
    "            y.append(y_value)\n",
    "\n",
    "    return np.array(X), np.array(y)"
   ]
  },
  {
   "cell_type": "code",
   "execution_count": 12,
   "id": "421d0771",
   "metadata": {},
   "outputs": [],
   "source": [
    "def split_train_test(data):\n",
    "    train_size = int(0.8 * len(X))\n",
    "    data_train = data[0:train_size]\n",
    "    data_test = data[train_size:]\n",
    "    return data_train, data_test"
   ]
  },
  {
   "cell_type": "code",
   "execution_count": 13,
   "id": "d239ce9e",
   "metadata": {},
   "outputs": [
    {
     "name": "stdout",
     "output_type": "stream",
     "text": [
      "X shape:  (679, 20, 5)\n",
      "y shape:  (679, 2)\n",
      "Train features shape:  (543, 20, 5)\n",
      "Test features shape:  (136, 20, 5)\n",
      "Train features shape:  (543, 2)\n",
      "Test features shape:  (136, 2)\n"
     ]
    }
   ],
   "source": [
    "X, y = get_X_y(X_value, y_value)\n",
    "print('X shape: ', X.shape)\n",
    "print('y shape: ', y.shape)\n",
    "train_features, test_features = split_train_test(X) \n",
    "train_target, test_target = split_train_test(y) \n",
    "\n",
    "print('Train features shape: ', train_features.shape)\n",
    "print('Test features shape: ', test_features.shape)\n",
    "print('Train features shape: ', train_target.shape)\n",
    "print('Test features shape: ', test_target.shape)"
   ]
  },
  {
   "cell_type": "code",
   "execution_count": 14,
   "id": "2450a260",
   "metadata": {},
   "outputs": [],
   "source": [
    "input_dim = train_features.shape[1]\n",
    "input_feature_size = train_features.shape[2]\n",
    "output_dim = train_target.shape[1]"
   ]
  },
  {
   "cell_type": "code",
   "execution_count": 15,
   "id": "0f4fece6",
   "metadata": {},
   "outputs": [],
   "source": [
    "N_EPOCH = 50\n",
    "BATCH_SIZE = 64\n",
    "\n",
    "def basic_simpleRNN(input_dim, output_dim, input_feature_size):\n",
    "    model = Sequential()\n",
    "    model.add(SimpleRNN(units=63, return_sequences=True, activation='relu', input_shape=(input_dim, input_feature_size)))\n",
    "    model.add(Dropout(0.2))\n",
    "    model.add(SimpleRNN(250, return_sequences=False))\n",
    "    model.add(Dropout(0.2))\n",
    "    model.add(Dense(output_dim, activation='softmax'))\n",
    "\n",
    "    model.compile(optimizer=Adam(),\n",
    "                  loss='categorical_crossentropy',\n",
    "                  metrics=['accuracy'])\n",
    "    \n",
    "    history = model.fit(train_features, train_target, epochs = N_EPOCH, \n",
    "                        validation_data = (test_features, test_target),\n",
    "                        batch_size = BATCH_SIZE, verbose = 2, shuffle = False)\n",
    "\n",
    "    return model, history"
   ]
  },
  {
   "cell_type": "code",
   "execution_count": 16,
   "id": "5b79d271",
   "metadata": {
    "scrolled": true
   },
   "outputs": [
    {
     "name": "stderr",
     "output_type": "stream",
     "text": [
      "C:\\Users\\48798\\anaconda3\\Lib\\site-packages\\keras\\src\\layers\\rnn\\rnn.py:204: UserWarning: Do not pass an `input_shape`/`input_dim` argument to a layer. When using Sequential models, prefer using an `Input(shape)` object as the first layer in the model instead.\n",
      "  super().__init__(**kwargs)\n"
     ]
    },
    {
     "name": "stdout",
     "output_type": "stream",
     "text": [
      "Epoch 1/50\n",
      "9/9 - 5s - 541ms/step - accuracy: 0.4843 - loss: 0.8070 - val_accuracy: 0.4559 - val_loss: 0.7439\n",
      "Epoch 2/50\n",
      "9/9 - 0s - 41ms/step - accuracy: 0.5028 - loss: 0.7634 - val_accuracy: 0.4779 - val_loss: 0.7353\n",
      "Epoch 3/50\n",
      "9/9 - 0s - 35ms/step - accuracy: 0.5028 - loss: 0.7440 - val_accuracy: 0.5000 - val_loss: 0.7037\n",
      "Epoch 4/50\n",
      "9/9 - 0s - 37ms/step - accuracy: 0.5543 - loss: 0.7038 - val_accuracy: 0.4412 - val_loss: 0.7156\n",
      "Epoch 5/50\n",
      "9/9 - 0s - 36ms/step - accuracy: 0.5599 - loss: 0.6996 - val_accuracy: 0.4191 - val_loss: 0.7423\n",
      "Epoch 6/50\n",
      "9/9 - 0s - 34ms/step - accuracy: 0.5451 - loss: 0.6974 - val_accuracy: 0.4779 - val_loss: 0.7290\n",
      "Epoch 7/50\n",
      "9/9 - 0s - 32ms/step - accuracy: 0.5433 - loss: 0.7138 - val_accuracy: 0.4265 - val_loss: 0.7512\n",
      "Epoch 8/50\n",
      "9/9 - 0s - 33ms/step - accuracy: 0.5396 - loss: 0.6945 - val_accuracy: 0.4118 - val_loss: 0.7680\n",
      "Epoch 9/50\n",
      "9/9 - 0s - 38ms/step - accuracy: 0.4843 - loss: 0.7283 - val_accuracy: 0.4191 - val_loss: 0.7997\n",
      "Epoch 10/50\n",
      "9/9 - 0s - 40ms/step - accuracy: 0.5175 - loss: 0.7214 - val_accuracy: 0.4338 - val_loss: 0.7876\n",
      "Epoch 11/50\n",
      "9/9 - 0s - 41ms/step - accuracy: 0.5562 - loss: 0.6954 - val_accuracy: 0.4779 - val_loss: 0.7892\n",
      "Epoch 12/50\n",
      "9/9 - 0s - 43ms/step - accuracy: 0.5267 - loss: 0.7432 - val_accuracy: 0.5294 - val_loss: 0.7078\n",
      "Epoch 13/50\n",
      "9/9 - 0s - 37ms/step - accuracy: 0.5433 - loss: 0.7144 - val_accuracy: 0.5221 - val_loss: 0.7053\n",
      "Epoch 14/50\n",
      "9/9 - 0s - 36ms/step - accuracy: 0.5378 - loss: 0.7207 - val_accuracy: 0.5074 - val_loss: 0.7361\n",
      "Epoch 15/50\n",
      "9/9 - 0s - 35ms/step - accuracy: 0.5009 - loss: 0.7276 - val_accuracy: 0.5000 - val_loss: 0.7025\n",
      "Epoch 16/50\n",
      "9/9 - 0s - 33ms/step - accuracy: 0.5506 - loss: 0.7164 - val_accuracy: 0.3897 - val_loss: 0.7538\n",
      "Epoch 17/50\n",
      "9/9 - 0s - 34ms/step - accuracy: 0.4954 - loss: 0.7265 - val_accuracy: 0.4412 - val_loss: 0.7381\n",
      "Epoch 18/50\n",
      "9/9 - 0s - 33ms/step - accuracy: 0.5193 - loss: 0.7110 - val_accuracy: 0.4706 - val_loss: 0.7171\n",
      "Epoch 19/50\n",
      "9/9 - 0s - 32ms/step - accuracy: 0.5451 - loss: 0.6824 - val_accuracy: 0.4559 - val_loss: 0.7796\n",
      "Epoch 20/50\n",
      "9/9 - 0s - 31ms/step - accuracy: 0.5543 - loss: 0.6862 - val_accuracy: 0.4853 - val_loss: 0.7794\n",
      "Epoch 21/50\n",
      "9/9 - 0s - 31ms/step - accuracy: 0.5451 - loss: 0.7170 - val_accuracy: 0.4265 - val_loss: 0.8241\n",
      "Epoch 22/50\n",
      "9/9 - 0s - 36ms/step - accuracy: 0.5138 - loss: 0.7248 - val_accuracy: 0.5662 - val_loss: 0.6862\n",
      "Epoch 23/50\n",
      "9/9 - 0s - 33ms/step - accuracy: 0.5230 - loss: 0.6947 - val_accuracy: 0.5882 - val_loss: 0.6945\n",
      "Epoch 24/50\n",
      "9/9 - 0s - 31ms/step - accuracy: 0.4880 - loss: 0.7253 - val_accuracy: 0.4632 - val_loss: 0.7236\n",
      "Epoch 25/50\n",
      "9/9 - 0s - 33ms/step - accuracy: 0.5378 - loss: 0.6914 - val_accuracy: 0.4706 - val_loss: 0.7706\n",
      "Epoch 26/50\n",
      "9/9 - 0s - 37ms/step - accuracy: 0.5506 - loss: 0.7078 - val_accuracy: 0.4265 - val_loss: 0.7831\n",
      "Epoch 27/50\n",
      "9/9 - 0s - 36ms/step - accuracy: 0.5838 - loss: 0.6720 - val_accuracy: 0.4706 - val_loss: 0.7755\n",
      "Epoch 28/50\n",
      "9/9 - 0s - 36ms/step - accuracy: 0.5764 - loss: 0.6737 - val_accuracy: 0.4412 - val_loss: 0.8683\n",
      "Epoch 29/50\n",
      "9/9 - 0s - 37ms/step - accuracy: 0.5617 - loss: 0.6681 - val_accuracy: 0.4485 - val_loss: 0.8989\n",
      "Epoch 30/50\n",
      "9/9 - 0s - 34ms/step - accuracy: 0.5709 - loss: 0.6548 - val_accuracy: 0.4265 - val_loss: 0.9357\n",
      "Epoch 31/50\n",
      "9/9 - 0s - 37ms/step - accuracy: 0.6041 - loss: 0.6473 - val_accuracy: 0.4706 - val_loss: 0.8820\n",
      "Epoch 32/50\n",
      "9/9 - 0s - 36ms/step - accuracy: 0.5414 - loss: 0.6973 - val_accuracy: 0.4485 - val_loss: 0.8739\n",
      "Epoch 33/50\n",
      "9/9 - 0s - 36ms/step - accuracy: 0.5359 - loss: 0.7022 - val_accuracy: 0.4632 - val_loss: 0.7459\n",
      "Epoch 34/50\n",
      "9/9 - 0s - 37ms/step - accuracy: 0.5599 - loss: 0.6844 - val_accuracy: 0.4044 - val_loss: 0.8691\n",
      "Epoch 35/50\n",
      "9/9 - 0s - 35ms/step - accuracy: 0.5654 - loss: 0.6613 - val_accuracy: 0.4485 - val_loss: 0.8655\n",
      "Epoch 36/50\n",
      "9/9 - 0s - 36ms/step - accuracy: 0.6041 - loss: 0.6351 - val_accuracy: 0.4485 - val_loss: 0.9933\n",
      "Epoch 37/50\n",
      "9/9 - 0s - 34ms/step - accuracy: 0.5893 - loss: 0.6617 - val_accuracy: 0.4853 - val_loss: 0.9587\n",
      "Epoch 38/50\n",
      "9/9 - 0s - 33ms/step - accuracy: 0.5764 - loss: 0.6652 - val_accuracy: 0.4706 - val_loss: 0.9241\n",
      "Epoch 39/50\n",
      "9/9 - 0s - 34ms/step - accuracy: 0.5838 - loss: 0.6659 - val_accuracy: 0.4853 - val_loss: 0.9158\n",
      "Epoch 40/50\n",
      "9/9 - 0s - 31ms/step - accuracy: 0.6059 - loss: 0.6287 - val_accuracy: 0.4632 - val_loss: 0.9937\n",
      "Epoch 41/50\n",
      "9/9 - 0s - 36ms/step - accuracy: 0.6464 - loss: 0.6184 - val_accuracy: 0.4412 - val_loss: 0.9808\n",
      "Epoch 42/50\n",
      "9/9 - 0s - 37ms/step - accuracy: 0.5948 - loss: 0.6359 - val_accuracy: 0.4485 - val_loss: 1.1496\n",
      "Epoch 43/50\n",
      "9/9 - 0s - 34ms/step - accuracy: 0.6041 - loss: 0.6452 - val_accuracy: 0.4779 - val_loss: 1.0089\n",
      "Epoch 44/50\n",
      "9/9 - 0s - 37ms/step - accuracy: 0.6151 - loss: 0.6256 - val_accuracy: 0.4118 - val_loss: 1.1947\n",
      "Epoch 45/50\n",
      "9/9 - 0s - 36ms/step - accuracy: 0.5838 - loss: 0.6531 - val_accuracy: 0.5147 - val_loss: 1.0275\n",
      "Epoch 46/50\n",
      "9/9 - 0s - 34ms/step - accuracy: 0.5985 - loss: 0.6413 - val_accuracy: 0.4706 - val_loss: 1.0961\n",
      "Epoch 47/50\n",
      "9/9 - 0s - 36ms/step - accuracy: 0.5820 - loss: 0.6411 - val_accuracy: 0.4926 - val_loss: 0.9649\n",
      "Epoch 48/50\n",
      "9/9 - 0s - 34ms/step - accuracy: 0.6004 - loss: 0.6286 - val_accuracy: 0.4926 - val_loss: 1.0117\n",
      "Epoch 49/50\n",
      "9/9 - 0s - 34ms/step - accuracy: 0.5672 - loss: 0.6524 - val_accuracy: 0.4412 - val_loss: 1.3748\n",
      "Epoch 50/50\n",
      "9/9 - 0s - 34ms/step - accuracy: 0.6114 - loss: 0.6647 - val_accuracy: 0.4853 - val_loss: 0.9510\n"
     ]
    }
   ],
   "source": [
    "model, history = basic_simpleRNN(input_dim, output_dim, input_feature_size)"
   ]
  },
  {
   "cell_type": "code",
   "execution_count": 17,
   "id": "65419d2a",
   "metadata": {},
   "outputs": [
    {
     "name": "stdout",
     "output_type": "stream",
     "text": [
      "\u001b[1m17/17\u001b[0m \u001b[32m━━━━━━━━━━━━━━━━━━━━\u001b[0m\u001b[37m\u001b[0m \u001b[1m0s\u001b[0m 7ms/step - accuracy: 0.5451 - loss: 0.6734\n",
      "Train loss: 0.6346952319145203\n",
      "Train accuracy: 0.559852659702301\n",
      "\u001b[1m5/5\u001b[0m \u001b[32m━━━━━━━━━━━━━━━━━━━━\u001b[0m\u001b[37m\u001b[0m \u001b[1m0s\u001b[0m 7ms/step - accuracy: 0.4825 - loss: 1.0090 \n",
      "Test loss: 0.9509859681129456\n",
      "Test accuracy: 0.4852941036224365\n"
     ]
    }
   ],
   "source": [
    "# Ocena modelu na danych treningowych\n",
    "train_performance = model.evaluate(train_features, train_target)\n",
    "print('Train loss:', train_performance[0])\n",
    "print('Train accuracy:', train_performance[1])\n",
    "\n",
    "test_performance = model.evaluate(test_features, test_target)\n",
    "print('Test loss:', test_performance[0])\n",
    "print('Test accuracy:', test_performance[1])"
   ]
  },
  {
   "cell_type": "code",
   "execution_count": 18,
   "id": "4bce4c33",
   "metadata": {},
   "outputs": [
    {
     "name": "stdout",
     "output_type": "stream",
     "text": [
      "\u001b[1m17/17\u001b[0m \u001b[32m━━━━━━━━━━━━━━━━━━━━\u001b[0m\u001b[37m\u001b[0m \u001b[1m1s\u001b[0m 29ms/step\n",
      "58\n",
      "246\n",
      "3\n",
      "236\n",
      "Accuracy (ACC): 0.5598526703499079\n",
      "True Positive Rate (TPR): 0.19727891156462585\n",
      "False Positive Rate (FPR): 0.012048192771084338\n",
      "True Negative Rate (TNR): 0.9879518072289156\n",
      "Positive Predictive Value (PPV): 0.9508196721311475\n",
      "Negative Predictive Value (NPV): 0.5103734439834025\n"
     ]
    }
   ],
   "source": [
    "# Predykcja na zbiorze treningowym\n",
    "train_predictions = model.predict(train_features)\n",
    "train_predictions = np.argmax(train_predictions, axis = 1)\n",
    "train_true = np.argmax(train_target, axis = 1)\n",
    "\n",
    "# Obliczanie macierzy pomyłek\n",
    "cm = confusion_matrix(train_true, train_predictions)\n",
    "TP = cm[1, 1]  # True Positives\n",
    "TN = cm[0, 0]  # True Negatives\n",
    "FP = cm[0, 1]  # False Positives\n",
    "FN = cm[1, 0]  # False Negatives\n",
    "\n",
    "print(TP)\n",
    "print(TN)\n",
    "print(FP)\n",
    "print(FN)\n",
    "\n",
    "# TPR, FPR, TNR, PPV, NPV\n",
    "ACC = (TP + TN) / (TP + TN + FP + FN)\n",
    "TPR = TP / (TP + FN)\n",
    "FPR = FP / (FP + TN)\n",
    "TNR = TN / (TN + FP)\n",
    "PPV = TP / (TP + FP)\n",
    "NPV = TN / (TN + FN)\n",
    "\n",
    "print('Accuracy (ACC):', ACC)\n",
    "print('True Positive Rate (TPR):', TPR)\n",
    "print('False Positive Rate (FPR):', FPR)\n",
    "print('True Negative Rate (TNR):', TNR)\n",
    "print('Positive Predictive Value (PPV):', PPV)\n",
    "print('Negative Predictive Value (NPV):', NPV)"
   ]
  },
  {
   "cell_type": "code",
   "execution_count": 19,
   "id": "8e441350",
   "metadata": {},
   "outputs": [
    {
     "name": "stdout",
     "output_type": "stream",
     "text": [
      "\u001b[1m5/5\u001b[0m \u001b[32m━━━━━━━━━━━━━━━━━━━━\u001b[0m\u001b[37m\u001b[0m \u001b[1m0s\u001b[0m 8ms/step \n",
      "21\n",
      "45\n",
      "34\n",
      "36\n",
      "Accuracy (ACC): 0.4852941176470588\n",
      "True Positive Rate (TPR): 0.3684210526315789\n",
      "False Positive Rate (FPR): 0.43037974683544306\n",
      "True Negative Rate (TNR): 0.569620253164557\n",
      "Positive Predictive Value (PPV): 0.38181818181818183\n",
      "Negative Predictive Value (NPV): 0.5555555555555556\n"
     ]
    }
   ],
   "source": [
    "# Predykcja na zbiorze testowym\n",
    "test_predictions = model.predict(test_features)\n",
    "test_predictions = np.argmax(test_predictions, axis = 1)\n",
    "test_true = np.argmax(test_target, axis = 1)\n",
    "\n",
    "# Obliczanie macierzy pomyłek\n",
    "cm = confusion_matrix(test_true, test_predictions)\n",
    "TP = cm[1, 1]  # True Positives\n",
    "TN = cm[0, 0]  # True Negatives\n",
    "FP = cm[0, 1]  # False Positives\n",
    "FN = cm[1, 0]  # False Negatives\n",
    "\n",
    "print(TP)\n",
    "print(TN)\n",
    "print(FP)\n",
    "print(FN)\n",
    "\n",
    "# TPR, FPR, TNR, PPV, NPV\n",
    "ACC = (TP + TN) / (TP + TN + FP + FN)\n",
    "TPR = TP / (TP + FN)\n",
    "FPR = FP / (FP + TN)\n",
    "TNR = TN / (TN + FP)\n",
    "PPV = TP / (TP + FP)\n",
    "NPV = TN / (TN + FN)\n",
    "\n",
    "print('Accuracy (ACC):', ACC)\n",
    "print('True Positive Rate (TPR):', TPR)\n",
    "print('False Positive Rate (FPR):', FPR)\n",
    "print('True Negative Rate (TNR):', TNR)\n",
    "print('Positive Predictive Value (PPV):', PPV)\n",
    "print('Negative Predictive Value (NPV):', NPV)"
   ]
  }
 ],
 "metadata": {
  "kernelspec": {
   "display_name": "Python 3 (ipykernel)",
   "language": "python",
   "name": "python3"
  },
  "language_info": {
   "codemirror_mode": {
    "name": "ipython",
    "version": 3
   },
   "file_extension": ".py",
   "mimetype": "text/x-python",
   "name": "python",
   "nbconvert_exporter": "python",
   "pygments_lexer": "ipython3",
   "version": "3.11.5"
  }
 },
 "nbformat": 4,
 "nbformat_minor": 5
}
