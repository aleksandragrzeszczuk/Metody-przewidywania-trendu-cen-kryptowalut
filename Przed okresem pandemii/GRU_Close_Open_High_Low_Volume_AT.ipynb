{
 "cells": [
  {
   "cell_type": "code",
   "execution_count": 1,
   "id": "745310cc",
   "metadata": {},
   "outputs": [],
   "source": [
    "import pandas as pd\n",
    "import optuna\n",
    "import yfinance as yf\n",
    "import pandas_datareader.data as web\n",
    "from datetime import datetime\n",
    "import numpy as np\n",
    "import pandas_ta as ta\n",
    "from keras.optimizers import Adam\n",
    "from keras.optimizers import SGD\n",
    "from keras.optimizers import Nadam\n",
    "from sklearn.metrics import confusion_matrix\n",
    "from tensorflow.keras.models import Sequential\n",
    "from tensorflow.keras.layers import Dense\n",
    "from tensorflow.keras.utils import to_categorical\n",
    "from keras.models import Sequential\n",
    "from keras.layers import Dense, Dropout\n",
    "from keras.regularizers import l2\n",
    "from keras.callbacks import EarlyStopping\n",
    "from sklearn.preprocessing import MinMaxScaler\n",
    "from keras.utils import plot_model\n",
    "from keras.layers import Dropout, Dense, GRU, LSTM, Flatten\n",
    "import matplotlib.pyplot as plt"
   ]
  },
  {
   "cell_type": "code",
   "execution_count": 2,
   "id": "ecfe67dc",
   "metadata": {},
   "outputs": [],
   "source": [
    "import warnings\n",
    "warnings.filterwarnings('ignore', category = pd.errors.PerformanceWarning)"
   ]
  },
  {
   "cell_type": "code",
   "execution_count": 3,
   "id": "3bdd371a",
   "metadata": {
    "scrolled": true
   },
   "outputs": [
    {
     "name": "stderr",
     "output_type": "stream",
     "text": [
      "[*********************100%%**********************]  1 of 1 completed\n"
     ]
    },
    {
     "name": "stdout",
     "output_type": "stream",
     "text": [
      "729\n",
      "(729, 157)\n"
     ]
    }
   ],
   "source": [
    "# Pobieramy dane dotyczące BTC z yahoo\n",
    "BTC = yf.download('BTC-USD', start = '2018-01-01', end = '2019-12-31')\n",
    "\n",
    "BTC['Target'] = (BTC['Close'].diff() > 0).astype(int)\n",
    "\n",
    "def add_lagged_features(data, column_name, n_days):\n",
    "    for i in range(1, n_days + 1):\n",
    "        lagged_column_name = f'{column_name}_{i}d_back'\n",
    "        data[lagged_column_name] = data[column_name].shift(i)\n",
    "    return data\n",
    "\n",
    "BTC = add_lagged_features(BTC, 'Close', 30)\n",
    "BTC = add_lagged_features(BTC, 'Open', 30)\n",
    "BTC = add_lagged_features(BTC, 'Volume', 30)\n",
    "BTC = add_lagged_features(BTC, 'High', 30)\n",
    "BTC = add_lagged_features(BTC, 'Low', 30)\n",
    "\n",
    "# df = pd.DataFrame()\n",
    "# df = BTC.copy()\n",
    "# print(BTC.head())\n",
    "print(len(BTC))\n",
    "print(BTC.shape)"
   ]
  },
  {
   "cell_type": "code",
   "execution_count": 4,
   "id": "445cd5d4",
   "metadata": {},
   "outputs": [],
   "source": [
    "# SMA\n",
    "BTC['SMA'] = ta.sma(BTC['Close_1d_back'], length = 30)\n",
    "\n",
    "# MFI \n",
    "BTC['MFI'] = ta.mfi(BTC['High_1d_back'], BTC['Low_1d_back'], \n",
    "                    BTC['Close_1d_back'], BTC['Volume_1d_back'], length = 29)\n",
    "\n",
    "# RSI \n",
    "BTC['RSI'] = ta.rsi(BTC['Close_1d_back'], length = 29)\n",
    "\n",
    "# Bollinger Bands\n",
    "bollinger = ta.bbands(BTC['Close_1d_back'], length = 30, std = 2)\n",
    "BTC['BB_Upper'] = bollinger['BBU_30_2.0']\n",
    "BTC['BB_Middle'] = bollinger['BBM_30_2.0']\n",
    "BTC['BB_Lower'] = bollinger['BBL_30_2.0']\n",
    "\n",
    "# CCI \n",
    "BTC['CCI'] = ta.cci(BTC['High_1d_back'], BTC['Low_1d_back'], \n",
    "                    BTC['Close_1d_back'], length = 30)"
   ]
  },
  {
   "cell_type": "code",
   "execution_count": 5,
   "id": "3afd826c",
   "metadata": {},
   "outputs": [],
   "source": [
    "high_series = BTC['High_1d_back']\n",
    "low_series = BTC['Low_1d_back']\n",
    "close_series = BTC['Close_1d_back']\n",
    "\n",
    "# Wprowadzenie jasnych parametrów dla kanału Donchian\n",
    "donchian = ta.donchian(high = high_series, low = low_series, close = close_series, lower_length = 30, upper_length = 30)\n",
    "\n",
    "# Przypisanie wyników kanału Donchian do DataFrame\n",
    "BTC['Donchian_High'] = donchian['DCU_30_30']\n",
    "BTC['Donchian_Low'] = donchian['DCL_30_30']"
   ]
  },
  {
   "cell_type": "code",
   "execution_count": 6,
   "id": "bea0121c",
   "metadata": {},
   "outputs": [],
   "source": [
    "BTC = BTC.drop('Adj Close', axis=1)\n",
    "BTC = BTC.dropna().reset_index(drop = True)\n",
    "# BTC"
   ]
  },
  {
   "cell_type": "code",
   "execution_count": 7,
   "id": "148e7526",
   "metadata": {
    "scrolled": true
   },
   "outputs": [],
   "source": [
    "dataset = pd.DataFrame()\n",
    "dataset = BTC[['Open', 'High', 'Low', 'Close', 'Volume', 'SMA', 'MFI', 'RSI', 'BB_Upper', \n",
    "          'BB_Middle', 'BB_Lower', 'CCI', 'Donchian_High', 'Donchian_Low', 'Target']].copy()\n",
    "# dataset"
   ]
  },
  {
   "cell_type": "code",
   "execution_count": 8,
   "id": "a4639688",
   "metadata": {},
   "outputs": [],
   "source": [
    "n_steps_in = 20\n",
    "output_features = 2"
   ]
  },
  {
   "cell_type": "code",
   "execution_count": 9,
   "id": "c36088bd",
   "metadata": {},
   "outputs": [],
   "source": [
    "X_value = pd.DataFrame(dataset.iloc[:, :])\n",
    "X_value = X_value.drop('Target', axis='columns')\n",
    "# X_value"
   ]
  },
  {
   "cell_type": "code",
   "execution_count": 10,
   "id": "9eb64e54",
   "metadata": {},
   "outputs": [],
   "source": [
    "y_value = pd.DataFrame(dataset.Target)\n",
    "y_value = to_categorical(y_value)\n",
    "# y_value"
   ]
  },
  {
   "cell_type": "code",
   "execution_count": 11,
   "id": "d3d27bf1",
   "metadata": {},
   "outputs": [],
   "source": [
    "scaler = MinMaxScaler(feature_range=(-1, 1))\n",
    "scaler.fit(X_value)\n",
    "X_value = scaler.fit_transform(X_value)"
   ]
  },
  {
   "cell_type": "code",
   "execution_count": 12,
   "id": "b089df56",
   "metadata": {},
   "outputs": [],
   "source": [
    "def get_X_y(X_data, y_data):\n",
    "    X = list()\n",
    "    y = list()\n",
    "\n",
    "    length = len(X_data)\n",
    "    for i in range(0, length-n_steps_in, 1):\n",
    "        X_value = X_data[i: i + n_steps_in][:, :]\n",
    "        # y_value = y_data[i + n_steps_in: i + (n_steps_in + n_steps_out)][:, :]\n",
    "        y_value = y_data[i + n_steps_in]\n",
    "        if len(X_value) == n_steps_in and len(y_value) == output_features:\n",
    "            X.append(X_value)\n",
    "            y.append(y_value)\n",
    "\n",
    "    return np.array(X), np.array(y)"
   ]
  },
  {
   "cell_type": "code",
   "execution_count": 13,
   "id": "421d0771",
   "metadata": {},
   "outputs": [],
   "source": [
    "def split_train_test(data):\n",
    "    train_size = int(0.8 * len(X))\n",
    "    data_train = data[0:train_size]\n",
    "    data_test = data[train_size:]\n",
    "    return data_train, data_test"
   ]
  },
  {
   "cell_type": "code",
   "execution_count": 14,
   "id": "d239ce9e",
   "metadata": {},
   "outputs": [
    {
     "name": "stdout",
     "output_type": "stream",
     "text": [
      "X shape:  (679, 20, 14)\n",
      "y shape:  (679, 2)\n",
      "Train features shape:  (543, 20, 14)\n",
      "Test features shape:  (136, 20, 14)\n",
      "Train features shape:  (543, 2)\n",
      "Test features shape:  (136, 2)\n"
     ]
    }
   ],
   "source": [
    "X, y = get_X_y(X_value, y_value)\n",
    "print('X shape: ', X.shape)\n",
    "print('y shape: ', y.shape)\n",
    "train_features, test_features = split_train_test(X) \n",
    "train_target, test_target = split_train_test(y) \n",
    "\n",
    "print('Train features shape: ', train_features.shape)\n",
    "print('Test features shape: ', test_features.shape)\n",
    "print('Train features shape: ', train_target.shape)\n",
    "print('Test features shape: ', test_target.shape)"
   ]
  },
  {
   "cell_type": "code",
   "execution_count": 15,
   "id": "2450a260",
   "metadata": {},
   "outputs": [],
   "source": [
    "input_dim = train_features.shape[1]\n",
    "input_feature_size = train_features.shape[2]\n",
    "output_dim = train_target.shape[1]"
   ]
  },
  {
   "cell_type": "code",
   "execution_count": 16,
   "id": "0f4fece6",
   "metadata": {},
   "outputs": [],
   "source": [
    "N_EPOCH = 50\n",
    "BATCH_SIZE = 64\n",
    "\n",
    "def basic_GRU(input_dim, output_dim, input_feature_size):\n",
    "    model = Sequential()\n",
    "    model.add(GRU(units=63, return_sequences=True, activation='relu', input_shape=(input_dim, input_feature_size)))\n",
    "    model.add(Dropout(0.2))\n",
    "    model.add(GRU(250, return_sequences=False))\n",
    "    model.add(Dropout(0.2))\n",
    "    model.add(Dense(output_dim, activation='softmax'))\n",
    "\n",
    "    model.compile(optimizer='adam',\n",
    "              loss='categorical_crossentropy',\n",
    "              metrics=['accuracy'])\n",
    "    \n",
    "    history = model.fit(train_features, train_target, epochs=N_EPOCH, \n",
    "                        validation_data=(test_features, test_target),\n",
    "                        batch_size=BATCH_SIZE, verbose=2, shuffle=False)\n",
    "\n",
    "    return model, history"
   ]
  },
  {
   "cell_type": "code",
   "execution_count": 17,
   "id": "5b79d271",
   "metadata": {
    "scrolled": true
   },
   "outputs": [
    {
     "name": "stderr",
     "output_type": "stream",
     "text": [
      "C:\\Users\\48798\\anaconda3\\Lib\\site-packages\\keras\\src\\layers\\rnn\\rnn.py:204: UserWarning: Do not pass an `input_shape`/`input_dim` argument to a layer. When using Sequential models, prefer using an `Input(shape)` object as the first layer in the model instead.\n",
      "  super().__init__(**kwargs)\n"
     ]
    },
    {
     "name": "stdout",
     "output_type": "stream",
     "text": [
      "Epoch 1/50\n",
      "9/9 - 59s - 7s/step - accuracy: 0.4862 - loss: 0.7117 - val_accuracy: 0.5441 - val_loss: 0.6790\n",
      "Epoch 2/50\n",
      "9/9 - 1s - 163ms/step - accuracy: 0.5562 - loss: 0.6973 - val_accuracy: 0.4191 - val_loss: 0.7045\n",
      "Epoch 3/50\n",
      "9/9 - 2s - 170ms/step - accuracy: 0.5506 - loss: 0.6883 - val_accuracy: 0.4191 - val_loss: 0.7106\n",
      "Epoch 4/50\n",
      "9/9 - 1s - 140ms/step - accuracy: 0.5672 - loss: 0.6855 - val_accuracy: 0.4191 - val_loss: 0.7139\n",
      "Epoch 5/50\n",
      "9/9 - 1s - 155ms/step - accuracy: 0.5396 - loss: 0.6856 - val_accuracy: 0.4191 - val_loss: 0.7129\n",
      "Epoch 6/50\n",
      "9/9 - 1s - 138ms/step - accuracy: 0.5580 - loss: 0.6824 - val_accuracy: 0.4191 - val_loss: 0.7134\n",
      "Epoch 7/50\n",
      "9/9 - 1s - 159ms/step - accuracy: 0.5543 - loss: 0.6823 - val_accuracy: 0.4191 - val_loss: 0.7239\n",
      "Epoch 8/50\n",
      "9/9 - 1s - 157ms/step - accuracy: 0.5617 - loss: 0.6772 - val_accuracy: 0.4191 - val_loss: 0.7376\n",
      "Epoch 9/50\n",
      "9/9 - 1s - 145ms/step - accuracy: 0.5580 - loss: 0.6805 - val_accuracy: 0.4191 - val_loss: 0.7452\n",
      "Epoch 10/50\n",
      "9/9 - 1s - 140ms/step - accuracy: 0.5562 - loss: 0.6831 - val_accuracy: 0.4338 - val_loss: 0.7278\n",
      "Epoch 11/50\n",
      "9/9 - 1s - 135ms/step - accuracy: 0.5304 - loss: 0.6885 - val_accuracy: 0.4191 - val_loss: 0.7766\n",
      "Epoch 12/50\n",
      "9/9 - 1s - 136ms/step - accuracy: 0.5580 - loss: 0.6988 - val_accuracy: 0.4779 - val_loss: 0.7018\n",
      "Epoch 13/50\n",
      "9/9 - 1s - 136ms/step - accuracy: 0.5709 - loss: 0.6850 - val_accuracy: 0.4265 - val_loss: 0.7087\n",
      "Epoch 14/50\n",
      "9/9 - 1s - 133ms/step - accuracy: 0.5543 - loss: 0.6802 - val_accuracy: 0.4191 - val_loss: 0.7400\n",
      "Epoch 15/50\n",
      "9/9 - 1s - 144ms/step - accuracy: 0.5691 - loss: 0.6797 - val_accuracy: 0.4412 - val_loss: 0.7438\n",
      "Epoch 16/50\n",
      "9/9 - 1s - 133ms/step - accuracy: 0.5764 - loss: 0.6764 - val_accuracy: 0.4265 - val_loss: 0.7386\n",
      "Epoch 17/50\n",
      "9/9 - 1s - 154ms/step - accuracy: 0.5746 - loss: 0.6747 - val_accuracy: 0.4338 - val_loss: 0.7750\n",
      "Epoch 18/50\n",
      "9/9 - 1s - 165ms/step - accuracy: 0.5838 - loss: 0.6700 - val_accuracy: 0.4191 - val_loss: 0.7836\n",
      "Epoch 19/50\n",
      "9/9 - 1s - 158ms/step - accuracy: 0.5617 - loss: 0.6724 - val_accuracy: 0.4338 - val_loss: 0.8199\n",
      "Epoch 20/50\n",
      "9/9 - 1s - 156ms/step - accuracy: 0.5838 - loss: 0.6705 - val_accuracy: 0.4338 - val_loss: 0.7841\n",
      "Epoch 21/50\n",
      "9/9 - 1s - 165ms/step - accuracy: 0.5727 - loss: 0.6713 - val_accuracy: 0.4191 - val_loss: 0.8378\n",
      "Epoch 22/50\n",
      "9/9 - 1s - 161ms/step - accuracy: 0.5746 - loss: 0.6812 - val_accuracy: 0.4779 - val_loss: 0.7317\n",
      "Epoch 23/50\n",
      "9/9 - 1s - 155ms/step - accuracy: 0.5635 - loss: 0.6831 - val_accuracy: 0.4191 - val_loss: 0.7456\n",
      "Epoch 24/50\n",
      "9/9 - 1s - 158ms/step - accuracy: 0.5746 - loss: 0.6776 - val_accuracy: 0.4338 - val_loss: 0.7544\n",
      "Epoch 25/50\n",
      "9/9 - 1s - 152ms/step - accuracy: 0.5820 - loss: 0.6721 - val_accuracy: 0.4265 - val_loss: 0.7738\n",
      "Epoch 26/50\n",
      "9/9 - 1s - 150ms/step - accuracy: 0.5856 - loss: 0.6731 - val_accuracy: 0.4191 - val_loss: 0.7789\n",
      "Epoch 27/50\n",
      "9/9 - 1s - 163ms/step - accuracy: 0.5930 - loss: 0.6648 - val_accuracy: 0.4412 - val_loss: 0.7937\n",
      "Epoch 28/50\n",
      "9/9 - 1s - 154ms/step - accuracy: 0.5727 - loss: 0.6665 - val_accuracy: 0.4265 - val_loss: 0.8399\n",
      "Epoch 29/50\n",
      "9/9 - 1s - 153ms/step - accuracy: 0.5875 - loss: 0.6633 - val_accuracy: 0.4412 - val_loss: 0.8521\n",
      "Epoch 30/50\n",
      "9/9 - 1s - 149ms/step - accuracy: 0.5930 - loss: 0.6598 - val_accuracy: 0.4338 - val_loss: 0.8623\n",
      "Epoch 31/50\n",
      "9/9 - 1s - 150ms/step - accuracy: 0.6041 - loss: 0.6607 - val_accuracy: 0.4338 - val_loss: 0.9039\n",
      "Epoch 32/50\n",
      "9/9 - 1s - 151ms/step - accuracy: 0.5820 - loss: 0.6693 - val_accuracy: 0.4632 - val_loss: 0.7855\n",
      "Epoch 33/50\n",
      "9/9 - 1s - 149ms/step - accuracy: 0.5727 - loss: 0.6925 - val_accuracy: 0.4118 - val_loss: 0.9187\n",
      "Epoch 34/50\n",
      "9/9 - 1s - 144ms/step - accuracy: 0.5820 - loss: 0.6666 - val_accuracy: 0.4265 - val_loss: 0.8187\n",
      "Epoch 35/50\n",
      "9/9 - 1s - 150ms/step - accuracy: 0.6041 - loss: 0.6614 - val_accuracy: 0.4485 - val_loss: 0.8026\n",
      "Epoch 36/50\n",
      "9/9 - 1s - 150ms/step - accuracy: 0.6243 - loss: 0.6590 - val_accuracy: 0.4118 - val_loss: 0.9416\n",
      "Epoch 37/50\n",
      "9/9 - 1s - 159ms/step - accuracy: 0.6077 - loss: 0.6629 - val_accuracy: 0.4559 - val_loss: 0.7707\n",
      "Epoch 38/50\n",
      "9/9 - 1s - 160ms/step - accuracy: 0.6243 - loss: 0.6561 - val_accuracy: 0.4412 - val_loss: 0.8129\n",
      "Epoch 39/50\n",
      "9/9 - 1s - 143ms/step - accuracy: 0.6151 - loss: 0.6580 - val_accuracy: 0.4191 - val_loss: 0.8820\n",
      "Epoch 40/50\n",
      "9/9 - 1s - 143ms/step - accuracy: 0.6188 - loss: 0.6455 - val_accuracy: 0.4338 - val_loss: 0.9010\n",
      "Epoch 41/50\n",
      "9/9 - 1s - 146ms/step - accuracy: 0.6243 - loss: 0.6469 - val_accuracy: 0.4485 - val_loss: 0.8808\n",
      "Epoch 42/50\n",
      "9/9 - 1s - 143ms/step - accuracy: 0.6059 - loss: 0.6511 - val_accuracy: 0.4118 - val_loss: 1.0536\n",
      "Epoch 43/50\n",
      "9/9 - 1s - 140ms/step - accuracy: 0.5912 - loss: 0.6683 - val_accuracy: 0.4412 - val_loss: 0.7932\n",
      "Epoch 44/50\n",
      "9/9 - 1s - 141ms/step - accuracy: 0.6041 - loss: 0.6562 - val_accuracy: 0.4191 - val_loss: 0.8355\n",
      "Epoch 45/50\n",
      "9/9 - 1s - 139ms/step - accuracy: 0.6059 - loss: 0.6526 - val_accuracy: 0.4265 - val_loss: 0.8671\n",
      "Epoch 46/50\n",
      "9/9 - 1s - 142ms/step - accuracy: 0.6354 - loss: 0.6470 - val_accuracy: 0.4191 - val_loss: 0.8639\n",
      "Epoch 47/50\n",
      "9/9 - 1s - 141ms/step - accuracy: 0.6206 - loss: 0.6380 - val_accuracy: 0.4191 - val_loss: 0.9038\n",
      "Epoch 48/50\n",
      "9/9 - 1s - 142ms/step - accuracy: 0.6188 - loss: 0.6458 - val_accuracy: 0.4338 - val_loss: 0.8680\n",
      "Epoch 49/50\n",
      "9/9 - 1s - 147ms/step - accuracy: 0.6188 - loss: 0.6496 - val_accuracy: 0.4338 - val_loss: 0.9395\n",
      "Epoch 50/50\n",
      "9/9 - 1s - 140ms/step - accuracy: 0.6243 - loss: 0.6424 - val_accuracy: 0.4412 - val_loss: 0.8212\n"
     ]
    }
   ],
   "source": [
    "model, history = basic_GRU(input_dim, output_dim, input_feature_size)"
   ]
  },
  {
   "cell_type": "code",
   "execution_count": 18,
   "id": "65419d2a",
   "metadata": {},
   "outputs": [
    {
     "name": "stdout",
     "output_type": "stream",
     "text": [
      "\u001b[1m17/17\u001b[0m \u001b[32m━━━━━━━━━━━━━━━━━━━━\u001b[0m\u001b[37m\u001b[0m \u001b[1m1s\u001b[0m 35ms/step - accuracy: 0.6346 - loss: 0.6426\n",
      "Train loss: 0.6371167898178101\n",
      "Train accuracy: 0.6206261515617371\n",
      "\u001b[1m5/5\u001b[0m \u001b[32m━━━━━━━━━━━━━━━━━━━━\u001b[0m\u001b[37m\u001b[0m \u001b[1m0s\u001b[0m 29ms/step - accuracy: 0.4426 - loss: 0.8346\n",
      "Test loss: 0.8211506009101868\n",
      "Test accuracy: 0.44117647409439087\n"
     ]
    }
   ],
   "source": [
    "# Ocena modelu na danych treningowych\n",
    "train_performance = model.evaluate(train_features, train_target)\n",
    "print('Train loss:', train_performance[0])\n",
    "print('Train accuracy:', train_performance[1])\n",
    "\n",
    "test_performance = model.evaluate(test_features, test_target)\n",
    "print('Test loss:', test_performance[0])\n",
    "print('Test accuracy:', test_performance[1])"
   ]
  },
  {
   "cell_type": "code",
   "execution_count": 19,
   "id": "4bce4c33",
   "metadata": {},
   "outputs": [
    {
     "name": "stdout",
     "output_type": "stream",
     "text": [
      "\u001b[1m17/17\u001b[0m \u001b[32m━━━━━━━━━━━━━━━━━━━━\u001b[0m\u001b[37m\u001b[0m \u001b[1m2s\u001b[0m 65ms/step\n",
      "234\n",
      "103\n",
      "146\n",
      "60\n",
      "Accuracy (ACC): 0.6206261510128913\n",
      "True Positive Rate (TPR): 0.7959183673469388\n",
      "False Positive Rate (FPR): 0.5863453815261044\n",
      "True Negative Rate (TNR): 0.41365461847389556\n",
      "Positive Predictive Value (PPV): 0.6157894736842106\n",
      "Negative Predictive Value (NPV): 0.6319018404907976\n"
     ]
    }
   ],
   "source": [
    "# Predykcja na zbiorze treningowym\n",
    "train_predictions = model.predict(train_features)\n",
    "train_predictions = np.argmax(train_predictions, axis = 1)\n",
    "train_true = np.argmax(train_target, axis = 1)\n",
    "\n",
    "# Obliczanie macierzy pomyłek\n",
    "cm = confusion_matrix(train_true, train_predictions)\n",
    "TP = cm[1, 1]  # True Positives\n",
    "TN = cm[0, 0]  # True Negatives\n",
    "FP = cm[0, 1]  # False Positives\n",
    "FN = cm[1, 0]  # False Negatives\n",
    "\n",
    "print(TP)\n",
    "print(TN)\n",
    "print(FP)\n",
    "print(FN)\n",
    "\n",
    "# TPR, FPR, TNR, PPV, NPV\n",
    "ACC = (TP + TN) / (TP + TN + FP + FN)\n",
    "TPR = TP / (TP + FN)\n",
    "FPR = FP / (FP + TN)\n",
    "TNR = TN / (TN + FP)\n",
    "PPV = TP / (TP + FP)\n",
    "NPV = TN / (TN + FN)\n",
    "\n",
    "print('Accuracy (ACC):', ACC)\n",
    "print('True Positive Rate (TPR):', TPR)\n",
    "print('False Positive Rate (FPR):', FPR)\n",
    "print('True Negative Rate (TNR):', TNR)\n",
    "print('Positive Predictive Value (PPV):', PPV)\n",
    "print('Negative Predictive Value (NPV):', NPV)"
   ]
  },
  {
   "cell_type": "code",
   "execution_count": 20,
   "id": "8e441350",
   "metadata": {},
   "outputs": [
    {
     "name": "stdout",
     "output_type": "stream",
     "text": [
      "\u001b[1m5/5\u001b[0m \u001b[32m━━━━━━━━━━━━━━━━━━━━\u001b[0m\u001b[37m\u001b[0m \u001b[1m0s\u001b[0m 30ms/step\n",
      "48\n",
      "12\n",
      "67\n",
      "9\n",
      "Accuracy (ACC): 0.4411764705882353\n",
      "True Positive Rate (TPR): 0.8421052631578947\n",
      "False Positive Rate (FPR): 0.8481012658227848\n",
      "True Negative Rate (TNR): 0.1518987341772152\n",
      "Positive Predictive Value (PPV): 0.41739130434782606\n",
      "Negative Predictive Value (NPV): 0.5714285714285714\n"
     ]
    }
   ],
   "source": [
    "# Predykcja na zbiorze testowym\n",
    "test_predictions = model.predict(test_features)\n",
    "test_predictions = np.argmax(test_predictions, axis = 1)\n",
    "test_true = np.argmax(test_target, axis = 1)\n",
    "\n",
    "# Obliczanie macierzy pomyłek\n",
    "cm = confusion_matrix(test_true, test_predictions)\n",
    "TP = cm[1, 1]  # True Positives\n",
    "TN = cm[0, 0]  # True Negatives\n",
    "FP = cm[0, 1]  # False Positives\n",
    "FN = cm[1, 0]  # False Negatives\n",
    "\n",
    "print(TP)\n",
    "print(TN)\n",
    "print(FP)\n",
    "print(FN)\n",
    "\n",
    "# TPR, FPR, TNR, PPV, NPV\n",
    "ACC = (TP + TN) / (TP + TN + FP + FN)\n",
    "TPR = TP / (TP + FN)\n",
    "FPR = FP / (FP + TN)\n",
    "TNR = TN / (TN + FP)\n",
    "PPV = TP / (TP + FP)\n",
    "NPV = TN / (TN + FN)\n",
    "\n",
    "print('Accuracy (ACC):', ACC)\n",
    "print('True Positive Rate (TPR):', TPR)\n",
    "print('False Positive Rate (FPR):', FPR)\n",
    "print('True Negative Rate (TNR):', TNR)\n",
    "print('Positive Predictive Value (PPV):', PPV)\n",
    "print('Negative Predictive Value (NPV):', NPV)"
   ]
  },
  {
   "cell_type": "code",
   "execution_count": 21,
   "id": "138343a9",
   "metadata": {},
   "outputs": [
    {
     "data": {
      "image/png": "[encoded data removed]",
      "text/plain": [
       "<Figure size 640x480 with 1 Axes>"
      ]
     },
     "metadata": {},
     "output_type": "display_data"
    }
   ],
   "source": [
    "plt.plot(history.history[\"accuracy\"], label=\"train\")\n",
    "plt.plot(history.history[\"val_accuracy\"], label=\"test\")\n",
    "plt.title(\"Skuteczność - GRU\")\n",
    "plt.xlabel(\"Epoch\")\n",
    "plt.ylabel(\"Accuracy\")\n",
    "plt.xticks(np.arange(0, N_EPOCH, step=5))\n",
    "plt.yticks(np.arange(0, 1, step=0.1))\n",
    "plt.legend()\n",
    "plt.show()"
   ]
  },
  {
   "cell_type": "code",
   "execution_count": 22,
   "id": "8e1ebd56",
   "metadata": {},
   "outputs": [
    {
     "data": {
      "image/png": "[encoded data removed]",
      "text/plain": [
       "<Figure size 640x480 with 1 Axes>"
      ]
     },
     "metadata": {},
     "output_type": "display_data"
    }
   ],
   "source": [
    "plt.plot(history.history[\"loss\"], label=\"train\")\n",
    "plt.plot(history.history[\"val_loss\"], label=\"test\")\n",
    "plt.title(\"Funkcja strat - GRU\")\n",
    "plt.xlabel(\"Epoch\")\n",
    "plt.ylabel(\"Loss\")\n",
    "plt.xticks(np.arange(0, N_EPOCH, step=5))\n",
    "plt.yticks(np.arange(0, 1, step=0.1))\n",
    "plt.legend()\n",
    "plt.show()"
   ]
  }
 ],
 "metadata": {
  "kernelspec": {
   "display_name": "Python 3 (ipykernel)",
   "language": "python",
   "name": "python3"
  },
  "language_info": {
   "codemirror_mode": {
    "name": "ipython",
    "version": 3
   },
   "file_extension": ".py",
   "mimetype": "text/x-python",
   "name": "python",
   "nbconvert_exporter": "python",
   "pygments_lexer": "ipython3",
   "version": "3.11.5"
  }
 },
 "nbformat": 4,
 "nbformat_minor": 5
}
