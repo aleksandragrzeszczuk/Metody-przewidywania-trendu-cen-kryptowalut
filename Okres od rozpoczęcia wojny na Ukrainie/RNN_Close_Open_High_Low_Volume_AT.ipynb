{
 "cells": [
  {
   "cell_type": "code",
   "execution_count": 1,
   "id": "1162b5c8",
   "metadata": {},
   "outputs": [],
   "source": [
    "from keras.models import Sequential\n",
    "from keras.layers import SimpleRNN, Dense, Dropout\n",
    "from keras.optimizers import Adam"
   ]
  },
  {
   "cell_type": "code",
   "execution_count": 2,
   "id": "745310cc",
   "metadata": {},
   "outputs": [],
   "source": [
    "import pandas as pd\n",
    "import optuna\n",
    "import yfinance as yf\n",
    "import pandas_datareader.data as web\n",
    "from datetime import datetime\n",
    "import numpy as np\n",
    "import pandas_ta as ta\n",
    "from keras.optimizers import Adam\n",
    "from keras.optimizers import SGD\n",
    "from keras.optimizers import Nadam\n",
    "from sklearn.metrics import confusion_matrix\n",
    "from tensorflow.keras.models import Sequential\n",
    "from tensorflow.keras.layers import Dense\n",
    "from tensorflow.keras.utils import to_categorical\n",
    "from keras.models import Sequential\n",
    "from keras.layers import Dense, Dropout\n",
    "from keras.regularizers import l2\n",
    "from keras.callbacks import EarlyStopping\n",
    "from sklearn.preprocessing import MinMaxScaler\n",
    "from keras.utils import plot_model\n",
    "from keras.layers import Dropout, Dense, GRU, LSTM, Flatten\n",
    "import matplotlib.pyplot as plt"
   ]
  },
  {
   "cell_type": "code",
   "execution_count": 3,
   "id": "ecfe67dc",
   "metadata": {},
   "outputs": [],
   "source": [
    "import warnings\n",
    "warnings.filterwarnings('ignore', category = pd.errors.PerformanceWarning)"
   ]
  },
  {
   "cell_type": "code",
   "execution_count": 4,
   "id": "3bdd371a",
   "metadata": {
    "scrolled": true
   },
   "outputs": [
    {
     "name": "stderr",
     "output_type": "stream",
     "text": [
      "[*********************100%%**********************]  1 of 1 completed\n"
     ]
    },
    {
     "name": "stdout",
     "output_type": "stream",
     "text": [
      "676\n",
      "(676, 157)\n"
     ]
    }
   ],
   "source": [
    "# Pobieramy dane dotyczące BTC z yahoo\n",
    "BTC = yf.download('BTC-USD', start = '2022-02-24', end = '2024-01-01')\n",
    "\n",
    "BTC['Target'] = (BTC['Close'].diff() > 0).astype(int)\n",
    "\n",
    "def add_lagged_features(data, column_name, n_days):\n",
    "    for i in range(1, n_days + 1):\n",
    "        lagged_column_name = f'{column_name}_{i}d_back'\n",
    "        data[lagged_column_name] = data[column_name].shift(i)\n",
    "    return data\n",
    "\n",
    "BTC = add_lagged_features(BTC, 'Close', 30)\n",
    "BTC = add_lagged_features(BTC, 'Open', 30)\n",
    "BTC = add_lagged_features(BTC, 'Volume', 30)\n",
    "BTC = add_lagged_features(BTC, 'High', 30)\n",
    "BTC = add_lagged_features(BTC, 'Low', 30)\n",
    "\n",
    "# df = pd.DataFrame()\n",
    "# df = BTC.copy()\n",
    "# print(BTC.head())\n",
    "print(len(BTC))\n",
    "print(BTC.shape)"
   ]
  },
  {
   "cell_type": "code",
   "execution_count": 5,
   "id": "445cd5d4",
   "metadata": {},
   "outputs": [],
   "source": [
    "# SMA\n",
    "BTC['SMA'] = ta.sma(BTC['Close_1d_back'], length = 30)\n",
    "\n",
    "# MFI \n",
    "BTC['MFI'] = ta.mfi(BTC['High_1d_back'], BTC['Low_1d_back'], \n",
    "                    BTC['Close_1d_back'], BTC['Volume_1d_back'], length = 29)\n",
    "\n",
    "# RSI \n",
    "BTC['RSI'] = ta.rsi(BTC['Close_1d_back'], length = 29)\n",
    "\n",
    "# Bollinger Bands\n",
    "bollinger = ta.bbands(BTC['Close_1d_back'], length = 30, std = 2)\n",
    "BTC['BB_Upper'] = bollinger['BBU_30_2.0']\n",
    "BTC['BB_Middle'] = bollinger['BBM_30_2.0']\n",
    "BTC['BB_Lower'] = bollinger['BBL_30_2.0']\n",
    "\n",
    "# CCI \n",
    "BTC['CCI'] = ta.cci(BTC['High_1d_back'], BTC['Low_1d_back'], \n",
    "                    BTC['Close_1d_back'], length = 30)"
   ]
  },
  {
   "cell_type": "code",
   "execution_count": 6,
   "id": "3afd826c",
   "metadata": {},
   "outputs": [],
   "source": [
    "high_series = BTC['High_1d_back']\n",
    "low_series = BTC['Low_1d_back']\n",
    "close_series = BTC['Close_1d_back']\n",
    "\n",
    "# Wprowadzenie jasnych parametrów dla kanału Donchian\n",
    "donchian = ta.donchian(high = high_series, low = low_series, close = close_series, lower_length = 30, upper_length = 30)\n",
    "\n",
    "# Przypisanie wyników kanału Donchian do DataFrame\n",
    "BTC['Donchian_High'] = donchian['DCU_30_30']\n",
    "BTC['Donchian_Low'] = donchian['DCL_30_30']"
   ]
  },
  {
   "cell_type": "code",
   "execution_count": 7,
   "id": "bea0121c",
   "metadata": {},
   "outputs": [],
   "source": [
    "BTC = BTC.drop('Adj Close', axis=1)\n",
    "BTC = BTC.dropna().reset_index(drop = True)\n",
    "# BTC"
   ]
  },
  {
   "cell_type": "code",
   "execution_count": 8,
   "id": "148e7526",
   "metadata": {
    "scrolled": true
   },
   "outputs": [],
   "source": [
    "dataset = pd.DataFrame()\n",
    "dataset = BTC[['Open', 'High', 'Low', 'Close', 'Volume', 'SMA', 'MFI', 'RSI', 'BB_Upper', \n",
    "          'BB_Middle', 'BB_Lower', 'CCI', 'Donchian_High', 'Donchian_Low', 'Target']].copy()\n",
    "# dataset"
   ]
  },
  {
   "cell_type": "code",
   "execution_count": 9,
   "id": "a4639688",
   "metadata": {},
   "outputs": [],
   "source": [
    "n_steps_in = 20\n",
    "output_features = 2"
   ]
  },
  {
   "cell_type": "code",
   "execution_count": 10,
   "id": "c36088bd",
   "metadata": {},
   "outputs": [],
   "source": [
    "X_value = pd.DataFrame(dataset.iloc[:, :])\n",
    "X_value = X_value.drop('Target', axis='columns')\n",
    "# X_value"
   ]
  },
  {
   "cell_type": "code",
   "execution_count": 11,
   "id": "9eb64e54",
   "metadata": {},
   "outputs": [],
   "source": [
    "y_value = pd.DataFrame(dataset.Target)\n",
    "y_value = to_categorical(y_value)\n",
    "# y_value"
   ]
  },
  {
   "cell_type": "code",
   "execution_count": 12,
   "id": "d3d27bf1",
   "metadata": {},
   "outputs": [],
   "source": [
    "scaler = MinMaxScaler(feature_range=(-1, 1))\n",
    "scaler.fit(X_value)\n",
    "X_value = scaler.fit_transform(X_value)"
   ]
  },
  {
   "cell_type": "code",
   "execution_count": 13,
   "id": "b089df56",
   "metadata": {},
   "outputs": [],
   "source": [
    "def get_X_y(X_data, y_data):\n",
    "    X = list()\n",
    "    y = list()\n",
    "\n",
    "    length = len(X_data)\n",
    "    for i in range(0, length-n_steps_in, 1):\n",
    "        X_value = X_data[i: i + n_steps_in][:, :]\n",
    "        # y_value = y_data[i + n_steps_in: i + (n_steps_in + n_steps_out)][:, :]\n",
    "        y_value = y_data[i + n_steps_in]\n",
    "        if len(X_value) == n_steps_in and len(y_value) == output_features:\n",
    "            X.append(X_value)\n",
    "            y.append(y_value)\n",
    "\n",
    "    return np.array(X), np.array(y)"
   ]
  },
  {
   "cell_type": "code",
   "execution_count": 14,
   "id": "421d0771",
   "metadata": {},
   "outputs": [],
   "source": [
    "def split_train_test(data):\n",
    "    train_size = int(0.8 * len(X))\n",
    "    data_train = data[0:train_size]\n",
    "    data_test = data[train_size:]\n",
    "    return data_train, data_test"
   ]
  },
  {
   "cell_type": "code",
   "execution_count": 15,
   "id": "d239ce9e",
   "metadata": {},
   "outputs": [
    {
     "name": "stdout",
     "output_type": "stream",
     "text": [
      "X shape:  (626, 20, 14)\n",
      "y shape:  (626, 2)\n",
      "Train features shape:  (500, 20, 14)\n",
      "Test features shape:  (126, 20, 14)\n",
      "Train features shape:  (500, 2)\n",
      "Test features shape:  (126, 2)\n"
     ]
    }
   ],
   "source": [
    "X, y = get_X_y(X_value, y_value)\n",
    "print('X shape: ', X.shape)\n",
    "print('y shape: ', y.shape)\n",
    "train_features, test_features = split_train_test(X) \n",
    "train_target, test_target = split_train_test(y) \n",
    "\n",
    "print('Train features shape: ', train_features.shape)\n",
    "print('Test features shape: ', test_features.shape)\n",
    "print('Train features shape: ', train_target.shape)\n",
    "print('Test features shape: ', test_target.shape)"
   ]
  },
  {
   "cell_type": "code",
   "execution_count": 16,
   "id": "2450a260",
   "metadata": {},
   "outputs": [],
   "source": [
    "input_dim = train_features.shape[1]\n",
    "input_feature_size = train_features.shape[2]\n",
    "output_dim = train_target.shape[1]"
   ]
  },
  {
   "cell_type": "code",
   "execution_count": 17,
   "id": "0f4fece6",
   "metadata": {},
   "outputs": [],
   "source": [
    "N_EPOCH = 50\n",
    "BATCH_SIZE = 64\n",
    "\n",
    "def basic_simpleRNN(input_dim, output_dim, input_feature_size):\n",
    "    model = Sequential()\n",
    "    model.add(SimpleRNN(units=63, return_sequences=True, activation='relu', input_shape=(input_dim, input_feature_size)))\n",
    "    model.add(Dropout(0.2))\n",
    "    model.add(SimpleRNN(250, return_sequences=False))\n",
    "    model.add(Dropout(0.2))\n",
    "    model.add(Dense(output_dim, activation='softmax'))\n",
    "\n",
    "    model.compile(optimizer=Adam(),\n",
    "                  loss='categorical_crossentropy',\n",
    "                  metrics=['accuracy'])\n",
    "    \n",
    "    history = model.fit(train_features, train_target, epochs = N_EPOCH, \n",
    "                        validation_data = (test_features, test_target),\n",
    "                        batch_size = BATCH_SIZE, verbose = 2, shuffle = False)\n",
    "\n",
    "    return model, history"
   ]
  },
  {
   "cell_type": "code",
   "execution_count": 18,
   "id": "5b79d271",
   "metadata": {
    "scrolled": true
   },
   "outputs": [
    {
     "name": "stderr",
     "output_type": "stream",
     "text": [
      "C:\\Users\\48798\\anaconda3\\Lib\\site-packages\\keras\\src\\layers\\rnn\\rnn.py:204: UserWarning: Do not pass an `input_shape`/`input_dim` argument to a layer. When using Sequential models, prefer using an `Input(shape)` object as the first layer in the model instead.\n",
      "  super().__init__(**kwargs)\n"
     ]
    },
    {
     "name": "stdout",
     "output_type": "stream",
     "text": [
      "Epoch 1/50\n",
      "8/8 - 30s - 4s/step - accuracy: 0.5100 - loss: 0.7344 - val_accuracy: 0.4603 - val_loss: 0.7874\n",
      "Epoch 2/50\n",
      "8/8 - 1s - 104ms/step - accuracy: 0.5040 - loss: 0.7591 - val_accuracy: 0.5238 - val_loss: 0.6963\n",
      "Epoch 3/50\n",
      "8/8 - 1s - 71ms/step - accuracy: 0.5140 - loss: 0.7308 - val_accuracy: 0.4603 - val_loss: 0.7287\n",
      "Epoch 4/50\n",
      "8/8 - 1s - 85ms/step - accuracy: 0.4840 - loss: 0.7928 - val_accuracy: 0.4921 - val_loss: 0.8194\n",
      "Epoch 5/50\n",
      "8/8 - 1s - 89ms/step - accuracy: 0.5040 - loss: 0.7420 - val_accuracy: 0.4444 - val_loss: 0.7691\n",
      "Epoch 6/50\n",
      "8/8 - 1s - 69ms/step - accuracy: 0.5160 - loss: 0.7224 - val_accuracy: 0.4683 - val_loss: 0.7479\n",
      "Epoch 7/50\n",
      "8/8 - 1s - 90ms/step - accuracy: 0.5620 - loss: 0.7023 - val_accuracy: 0.4524 - val_loss: 0.7110\n",
      "Epoch 8/50\n",
      "8/8 - 1s - 74ms/step - accuracy: 0.4940 - loss: 0.7579 - val_accuracy: 0.4603 - val_loss: 0.7091\n",
      "Epoch 9/50\n",
      "8/8 - 1s - 90ms/step - accuracy: 0.5120 - loss: 0.8017 - val_accuracy: 0.4524 - val_loss: 0.7860\n",
      "Epoch 10/50\n",
      "8/8 - 1s - 85ms/step - accuracy: 0.5640 - loss: 0.7029 - val_accuracy: 0.4762 - val_loss: 0.7265\n",
      "Epoch 11/50\n",
      "8/8 - 1s - 96ms/step - accuracy: 0.5420 - loss: 0.7025 - val_accuracy: 0.4683 - val_loss: 0.7127\n",
      "Epoch 12/50\n",
      "8/8 - 1s - 79ms/step - accuracy: 0.5200 - loss: 0.7057 - val_accuracy: 0.4286 - val_loss: 0.7409\n",
      "Epoch 13/50\n",
      "8/8 - 1s - 82ms/step - accuracy: 0.5340 - loss: 0.7010 - val_accuracy: 0.4603 - val_loss: 0.7602\n",
      "Epoch 14/50\n",
      "8/8 - 1s - 77ms/step - accuracy: 0.5380 - loss: 0.7122 - val_accuracy: 0.5159 - val_loss: 0.7410\n",
      "Epoch 15/50\n",
      "8/8 - 1s - 71ms/step - accuracy: 0.5040 - loss: 0.7272 - val_accuracy: 0.4683 - val_loss: 0.7355\n",
      "Epoch 16/50\n",
      "8/8 - 1s - 79ms/step - accuracy: 0.5760 - loss: 0.6769 - val_accuracy: 0.4762 - val_loss: 0.7442\n",
      "Epoch 17/50\n",
      "8/8 - 1s - 102ms/step - accuracy: 0.5920 - loss: 0.6769 - val_accuracy: 0.4762 - val_loss: 0.7825\n",
      "Epoch 18/50\n",
      "8/8 - 1s - 90ms/step - accuracy: 0.5700 - loss: 0.6830 - val_accuracy: 0.4524 - val_loss: 0.7639\n",
      "Epoch 19/50\n",
      "8/8 - 1s - 84ms/step - accuracy: 0.5480 - loss: 0.6904 - val_accuracy: 0.4683 - val_loss: 0.7758\n",
      "Epoch 20/50\n",
      "8/8 - 1s - 87ms/step - accuracy: 0.5520 - loss: 0.6867 - val_accuracy: 0.4683 - val_loss: 0.8266\n",
      "Epoch 21/50\n",
      "8/8 - 1s - 82ms/step - accuracy: 0.5480 - loss: 0.6872 - val_accuracy: 0.4603 - val_loss: 0.7835\n",
      "Epoch 22/50\n",
      "8/8 - 1s - 90ms/step - accuracy: 0.6100 - loss: 0.6486 - val_accuracy: 0.4127 - val_loss: 0.8273\n",
      "Epoch 23/50\n",
      "8/8 - 1s - 82ms/step - accuracy: 0.5440 - loss: 0.7007 - val_accuracy: 0.4603 - val_loss: 0.7125\n",
      "Epoch 24/50\n",
      "8/8 - 1s - 94ms/step - accuracy: 0.5420 - loss: 0.6962 - val_accuracy: 0.4683 - val_loss: 0.8194\n",
      "Epoch 25/50\n",
      "8/8 - 1s - 85ms/step - accuracy: 0.5740 - loss: 0.6882 - val_accuracy: 0.4603 - val_loss: 0.9643\n",
      "Epoch 26/50\n",
      "8/8 - 1s - 75ms/step - accuracy: 0.5640 - loss: 0.7166 - val_accuracy: 0.4603 - val_loss: 0.7297\n",
      "Epoch 27/50\n",
      "8/8 - 1s - 95ms/step - accuracy: 0.5640 - loss: 0.6768 - val_accuracy: 0.4841 - val_loss: 0.7839\n",
      "Epoch 28/50\n",
      "8/8 - 1s - 73ms/step - accuracy: 0.5500 - loss: 0.6835 - val_accuracy: 0.5000 - val_loss: 0.7606\n",
      "Epoch 29/50\n",
      "8/8 - 1s - 87ms/step - accuracy: 0.6000 - loss: 0.6732 - val_accuracy: 0.4603 - val_loss: 0.7640\n",
      "Epoch 30/50\n",
      "8/8 - 1s - 85ms/step - accuracy: 0.6120 - loss: 0.6384 - val_accuracy: 0.4524 - val_loss: 0.7985\n",
      "Epoch 31/50\n",
      "8/8 - 1s - 84ms/step - accuracy: 0.6380 - loss: 0.6324 - val_accuracy: 0.4921 - val_loss: 0.8027\n",
      "Epoch 32/50\n",
      "8/8 - 1s - 85ms/step - accuracy: 0.6140 - loss: 0.6306 - val_accuracy: 0.4841 - val_loss: 0.8501\n",
      "Epoch 33/50\n",
      "8/8 - 1s - 75ms/step - accuracy: 0.6460 - loss: 0.6070 - val_accuracy: 0.4762 - val_loss: 0.8561\n",
      "Epoch 34/50\n",
      "8/8 - 1s - 80ms/step - accuracy: 0.6400 - loss: 0.6498 - val_accuracy: 0.4365 - val_loss: 0.8313\n",
      "Epoch 35/50\n",
      "8/8 - 1s - 70ms/step - accuracy: 0.6220 - loss: 0.6488 - val_accuracy: 0.4444 - val_loss: 0.8389\n",
      "Epoch 36/50\n",
      "8/8 - 1s - 68ms/step - accuracy: 0.6060 - loss: 0.6337 - val_accuracy: 0.4365 - val_loss: 0.9392\n",
      "Epoch 37/50\n",
      "8/8 - 1s - 70ms/step - accuracy: 0.6420 - loss: 0.6318 - val_accuracy: 0.4286 - val_loss: 0.9349\n",
      "Epoch 38/50\n",
      "8/8 - 1s - 72ms/step - accuracy: 0.6340 - loss: 0.6296 - val_accuracy: 0.4444 - val_loss: 0.8963\n",
      "Epoch 39/50\n",
      "8/8 - 1s - 64ms/step - accuracy: 0.6220 - loss: 0.6427 - val_accuracy: 0.4603 - val_loss: 0.9422\n",
      "Epoch 40/50\n",
      "8/8 - 1s - 64ms/step - accuracy: 0.7000 - loss: 0.5853 - val_accuracy: 0.4127 - val_loss: 0.7986\n",
      "Epoch 41/50\n",
      "8/8 - 1s - 67ms/step - accuracy: 0.6500 - loss: 0.6205 - val_accuracy: 0.4683 - val_loss: 0.8077\n",
      "Epoch 42/50\n",
      "8/8 - 1s - 68ms/step - accuracy: 0.6360 - loss: 0.6022 - val_accuracy: 0.4524 - val_loss: 0.8068\n",
      "Epoch 43/50\n",
      "8/8 - 1s - 66ms/step - accuracy: 0.7040 - loss: 0.5762 - val_accuracy: 0.4524 - val_loss: 0.8872\n",
      "Epoch 44/50\n",
      "8/8 - 1s - 63ms/step - accuracy: 0.6940 - loss: 0.5673 - val_accuracy: 0.4603 - val_loss: 0.8956\n",
      "Epoch 45/50\n",
      "8/8 - 1s - 91ms/step - accuracy: 0.6800 - loss: 0.6305 - val_accuracy: 0.4921 - val_loss: 0.7842\n",
      "Epoch 46/50\n",
      "8/8 - 0s - 55ms/step - accuracy: 0.6740 - loss: 0.5940 - val_accuracy: 0.4762 - val_loss: 0.8253\n",
      "Epoch 47/50\n",
      "8/8 - 0s - 58ms/step - accuracy: 0.6600 - loss: 0.5993 - val_accuracy: 0.4921 - val_loss: 0.7559\n",
      "Epoch 48/50\n",
      "8/8 - 0s - 57ms/step - accuracy: 0.6860 - loss: 0.5805 - val_accuracy: 0.4762 - val_loss: 0.8452\n",
      "Epoch 49/50\n",
      "8/8 - 0s - 53ms/step - accuracy: 0.7480 - loss: 0.5232 - val_accuracy: 0.4524 - val_loss: 0.8776\n",
      "Epoch 50/50\n",
      "8/8 - 0s - 56ms/step - accuracy: 0.7460 - loss: 0.5076 - val_accuracy: 0.4444 - val_loss: 0.9829\n"
     ]
    }
   ],
   "source": [
    "model, history = basic_simpleRNN(input_dim, output_dim, input_feature_size)"
   ]
  },
  {
   "cell_type": "code",
   "execution_count": 19,
   "id": "65419d2a",
   "metadata": {},
   "outputs": [
    {
     "name": "stdout",
     "output_type": "stream",
     "text": [
      "\u001b[1m16/16\u001b[0m \u001b[32m━━━━━━━━━━━━━━━━━━━━\u001b[0m\u001b[37m\u001b[0m \u001b[1m0s\u001b[0m 17ms/step - accuracy: 0.7946 - loss: 0.4422\n",
      "Train loss: 0.4805941879749298\n",
      "Train accuracy: 0.7760000228881836\n",
      "\u001b[1m4/4\u001b[0m \u001b[32m━━━━━━━━━━━━━━━━━━━━\u001b[0m\u001b[37m\u001b[0m \u001b[1m0s\u001b[0m 27ms/step - accuracy: 0.4476 - loss: 0.9671\n",
      "Test loss: 0.9828934669494629\n",
      "Test accuracy: 0.4444444477558136\n"
     ]
    }
   ],
   "source": [
    "# Ocena modelu na danych treningowych\n",
    "train_performance = model.evaluate(train_features, train_target)\n",
    "print('Train loss:', train_performance[0])\n",
    "print('Train accuracy:', train_performance[1])\n",
    "\n",
    "test_performance = model.evaluate(test_features, test_target)\n",
    "print('Test loss:', test_performance[0])\n",
    "print('Test accuracy:', test_performance[1])"
   ]
  },
  {
   "cell_type": "code",
   "execution_count": 20,
   "id": "4bce4c33",
   "metadata": {},
   "outputs": [
    {
     "name": "stdout",
     "output_type": "stream",
     "text": [
      "\u001b[1m16/16\u001b[0m \u001b[32m━━━━━━━━━━━━━━━━━━━━\u001b[0m\u001b[37m\u001b[0m \u001b[1m1s\u001b[0m 49ms/step\n",
      "206\n",
      "182\n",
      "86\n",
      "26\n",
      "Accuracy (ACC): 0.776\n",
      "True Positive Rate (TPR): 0.8879310344827587\n",
      "False Positive Rate (FPR): 0.3208955223880597\n",
      "True Negative Rate (TNR): 0.6791044776119403\n",
      "Positive Predictive Value (PPV): 0.7054794520547946\n",
      "Negative Predictive Value (NPV): 0.875\n"
     ]
    }
   ],
   "source": [
    "# Predykcja na zbiorze treningowym\n",
    "train_predictions = model.predict(train_features)\n",
    "train_predictions = np.argmax(train_predictions, axis = 1)\n",
    "train_true = np.argmax(train_target, axis = 1)\n",
    "\n",
    "# Obliczanie macierzy pomyłek\n",
    "cm = confusion_matrix(train_true, train_predictions)\n",
    "TP = cm[1, 1]  # True Positives\n",
    "TN = cm[0, 0]  # True Negatives\n",
    "FP = cm[0, 1]  # False Positives\n",
    "FN = cm[1, 0]  # False Negatives\n",
    "\n",
    "print(TP)\n",
    "print(TN)\n",
    "print(FP)\n",
    "print(FN)\n",
    "\n",
    "# TPR, FPR, TNR, PPV, NPV\n",
    "ACC = (TP + TN) / (TP + TN + FP + FN)\n",
    "TPR = TP / (TP + FN)\n",
    "FPR = FP / (FP + TN)\n",
    "TNR = TN / (TN + FP)\n",
    "PPV = TP / (TP + FP)\n",
    "NPV = TN / (TN + FN)\n",
    "\n",
    "print('Accuracy (ACC):', ACC)\n",
    "print('True Positive Rate (TPR):', TPR)\n",
    "print('False Positive Rate (FPR):', FPR)\n",
    "print('True Negative Rate (TNR):', TNR)\n",
    "print('Positive Predictive Value (PPV):', PPV)\n",
    "print('Negative Predictive Value (NPV):', NPV)"
   ]
  },
  {
   "cell_type": "code",
   "execution_count": 21,
   "id": "8e441350",
   "metadata": {},
   "outputs": [
    {
     "name": "stdout",
     "output_type": "stream",
     "text": [
      "\u001b[1m4/4\u001b[0m \u001b[32m━━━━━━━━━━━━━━━━━━━━\u001b[0m\u001b[37m\u001b[0m \u001b[1m0s\u001b[0m 15ms/step\n",
      "11\n",
      "45\n",
      "14\n",
      "56\n",
      "Accuracy (ACC): 0.4444444444444444\n",
      "True Positive Rate (TPR): 0.16417910447761194\n",
      "False Positive Rate (FPR): 0.23728813559322035\n",
      "True Negative Rate (TNR): 0.7627118644067796\n",
      "Positive Predictive Value (PPV): 0.44\n",
      "Negative Predictive Value (NPV): 0.44554455445544555\n"
     ]
    }
   ],
   "source": [
    "# Predykcja na zbiorze testowym\n",
    "test_predictions = model.predict(test_features)\n",
    "test_predictions = np.argmax(test_predictions, axis = 1)\n",
    "test_true = np.argmax(test_target, axis = 1)\n",
    "\n",
    "# Obliczanie macierzy pomyłek\n",
    "cm = confusion_matrix(test_true, test_predictions)\n",
    "TP = cm[1, 1]  # True Positives\n",
    "TN = cm[0, 0]  # True Negatives\n",
    "FP = cm[0, 1]  # False Positives\n",
    "FN = cm[1, 0]  # False Negatives\n",
    "\n",
    "print(TP)\n",
    "print(TN)\n",
    "print(FP)\n",
    "print(FN)\n",
    "\n",
    "# TPR, FPR, TNR, PPV, NPV\n",
    "ACC = (TP + TN) / (TP + TN + FP + FN)\n",
    "TPR = TP / (TP + FN)\n",
    "FPR = FP / (FP + TN)\n",
    "TNR = TN / (TN + FP)\n",
    "PPV = TP / (TP + FP)\n",
    "NPV = TN / (TN + FN)\n",
    "\n",
    "print('Accuracy (ACC):', ACC)\n",
    "print('True Positive Rate (TPR):', TPR)\n",
    "print('False Positive Rate (FPR):', FPR)\n",
    "print('True Negative Rate (TNR):', TNR)\n",
    "print('Positive Predictive Value (PPV):', PPV)\n",
    "print('Negative Predictive Value (NPV):', NPV)"
   ]
  }
 ],
 "metadata": {
  "kernelspec": {
   "display_name": "Python 3 (ipykernel)",
   "language": "python",
   "name": "python3"
  },
  "language_info": {
   "codemirror_mode": {
    "name": "ipython",
    "version": 3
   },
   "file_extension": ".py",
   "mimetype": "text/x-python",
   "name": "python",
   "nbconvert_exporter": "python",
   "pygments_lexer": "ipython3",
   "version": "3.11.5"
  }
 },
 "nbformat": 4,
 "nbformat_minor": 5
}
