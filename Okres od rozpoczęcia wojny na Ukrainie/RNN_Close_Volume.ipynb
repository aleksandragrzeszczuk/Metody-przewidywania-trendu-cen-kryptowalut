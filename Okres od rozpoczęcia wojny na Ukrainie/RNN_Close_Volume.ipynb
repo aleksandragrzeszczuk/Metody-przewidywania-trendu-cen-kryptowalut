{
 "cells": [
  {
   "cell_type": "code",
   "execution_count": 1,
   "id": "93b8defc",
   "metadata": {},
   "outputs": [],
   "source": [
    "from keras.models import Sequential\n",
    "from keras.layers import SimpleRNN, Dense, Dropout\n",
    "from keras.optimizers import Adam"
   ]
  },
  {
   "cell_type": "code",
   "execution_count": 2,
   "id": "745310cc",
   "metadata": {},
   "outputs": [],
   "source": [
    "import pandas as pd\n",
    "import optuna\n",
    "import yfinance as yf\n",
    "import pandas_datareader.data as web\n",
    "from datetime import datetime\n",
    "import numpy as np\n",
    "import pandas_ta as ta\n",
    "from keras.optimizers import Adam\n",
    "from keras.optimizers import SGD\n",
    "from keras.optimizers import Nadam\n",
    "from sklearn.metrics import confusion_matrix\n",
    "from tensorflow.keras.models import Sequential\n",
    "from tensorflow.keras.layers import Dense\n",
    "from tensorflow.keras.utils import to_categorical\n",
    "from keras.models import Sequential\n",
    "from keras.layers import Dense, Dropout\n",
    "from keras.regularizers import l2\n",
    "from keras.callbacks import EarlyStopping\n",
    "from sklearn.preprocessing import MinMaxScaler\n",
    "from keras.utils import plot_model\n",
    "from keras.layers import Dropout, Dense, GRU, LSTM, Flatten\n",
    "import matplotlib.pyplot as plt"
   ]
  },
  {
   "cell_type": "code",
   "execution_count": 3,
   "id": "ecfe67dc",
   "metadata": {},
   "outputs": [],
   "source": [
    "import warnings\n",
    "warnings.filterwarnings('ignore', category = pd.errors.PerformanceWarning)"
   ]
  },
  {
   "cell_type": "code",
   "execution_count": 4,
   "id": "3bdd371a",
   "metadata": {
    "scrolled": true
   },
   "outputs": [
    {
     "name": "stderr",
     "output_type": "stream",
     "text": [
      "\r",
      "[*********************100%%**********************]  1 of 1 completed"
     ]
    },
    {
     "name": "stdout",
     "output_type": "stream",
     "text": [
      "676\n",
      "(676, 67)\n"
     ]
    },
    {
     "name": "stderr",
     "output_type": "stream",
     "text": [
      "\n"
     ]
    }
   ],
   "source": [
    "# Pobieramy dane dotyczące BTC z yahoo\n",
    "BTC = yf.download('BTC-USD', start = '2022-02-24', end = '2024-01-01')\n",
    "\n",
    "BTC['Target'] = (BTC['Close'].diff() > 0).astype(int)\n",
    "\n",
    "def add_lagged_features(data, column_name, n_days):\n",
    "    for i in range(1, n_days + 1):\n",
    "        lagged_column_name = f'{column_name}_{i}d_back'\n",
    "        data[lagged_column_name] = data[column_name].shift(i)\n",
    "    return data\n",
    "\n",
    "BTC = add_lagged_features(BTC, 'Close', 30)\n",
    "BTC = add_lagged_features(BTC, 'Volume', 30)\n",
    "\n",
    "# df = pd.DataFrame()\n",
    "# df = BTC.copy()\n",
    "# print(BTC.head())\n",
    "print(len(BTC))\n",
    "print(BTC.shape)"
   ]
  },
  {
   "cell_type": "code",
   "execution_count": 5,
   "id": "bea0121c",
   "metadata": {},
   "outputs": [],
   "source": [
    "BTC = BTC.drop('Adj Close', axis=1)\n",
    "BTC = BTC.dropna().reset_index(drop = True)\n",
    "# BTC"
   ]
  },
  {
   "cell_type": "code",
   "execution_count": 6,
   "id": "148e7526",
   "metadata": {
    "scrolled": true
   },
   "outputs": [],
   "source": [
    "dataset = pd.DataFrame()\n",
    "dataset = BTC[['Open', 'High', 'Low', 'Close', 'Volume', 'Target']].copy()\n",
    "# dataset"
   ]
  },
  {
   "cell_type": "code",
   "execution_count": 7,
   "id": "a4639688",
   "metadata": {},
   "outputs": [],
   "source": [
    "n_steps_in = 20\n",
    "output_features = 2"
   ]
  },
  {
   "cell_type": "code",
   "execution_count": 8,
   "id": "c36088bd",
   "metadata": {},
   "outputs": [],
   "source": [
    "X_value = pd.DataFrame(dataset.iloc[:, :])\n",
    "X_value = X_value.drop('Target', axis='columns')\n",
    "# X_value"
   ]
  },
  {
   "cell_type": "code",
   "execution_count": 9,
   "id": "9eb64e54",
   "metadata": {},
   "outputs": [],
   "source": [
    "y_value = pd.DataFrame(dataset.Target)\n",
    "y_value = to_categorical(y_value)\n",
    "# y_value"
   ]
  },
  {
   "cell_type": "code",
   "execution_count": 10,
   "id": "d3d27bf1",
   "metadata": {},
   "outputs": [],
   "source": [
    "scaler = MinMaxScaler(feature_range=(-1, 1))\n",
    "scaler.fit(X_value)\n",
    "X_value = scaler.fit_transform(X_value)"
   ]
  },
  {
   "cell_type": "code",
   "execution_count": 11,
   "id": "b089df56",
   "metadata": {},
   "outputs": [],
   "source": [
    "def get_X_y(X_data, y_data):\n",
    "    X = list()\n",
    "    y = list()\n",
    "\n",
    "    length = len(X_data)\n",
    "    for i in range(0, length-n_steps_in, 1):\n",
    "        X_value = X_data[i: i + n_steps_in][:, :]\n",
    "        # y_value = y_data[i + n_steps_in: i + (n_steps_in + n_steps_out)][:, :]\n",
    "        y_value = y_data[i + n_steps_in]\n",
    "        if len(X_value) == n_steps_in and len(y_value) == output_features:\n",
    "            X.append(X_value)\n",
    "            y.append(y_value)\n",
    "\n",
    "    return np.array(X), np.array(y)"
   ]
  },
  {
   "cell_type": "code",
   "execution_count": 12,
   "id": "421d0771",
   "metadata": {},
   "outputs": [],
   "source": [
    "def split_train_test(data):\n",
    "    train_size = int(0.8 * len(X))\n",
    "    data_train = data[0:train_size]\n",
    "    data_test = data[train_size:]\n",
    "    return data_train, data_test"
   ]
  },
  {
   "cell_type": "code",
   "execution_count": 13,
   "id": "d239ce9e",
   "metadata": {},
   "outputs": [
    {
     "name": "stdout",
     "output_type": "stream",
     "text": [
      "X shape:  (626, 20, 5)\n",
      "y shape:  (626, 2)\n",
      "Train features shape:  (500, 20, 5)\n",
      "Test features shape:  (126, 20, 5)\n",
      "Train features shape:  (500, 2)\n",
      "Test features shape:  (126, 2)\n"
     ]
    }
   ],
   "source": [
    "X, y = get_X_y(X_value, y_value)\n",
    "print('X shape: ', X.shape)\n",
    "print('y shape: ', y.shape)\n",
    "train_features, test_features = split_train_test(X) \n",
    "train_target, test_target = split_train_test(y) \n",
    "\n",
    "print('Train features shape: ', train_features.shape)\n",
    "print('Test features shape: ', test_features.shape)\n",
    "print('Train features shape: ', train_target.shape)\n",
    "print('Test features shape: ', test_target.shape)"
   ]
  },
  {
   "cell_type": "code",
   "execution_count": 14,
   "id": "2450a260",
   "metadata": {},
   "outputs": [],
   "source": [
    "input_dim = train_features.shape[1]\n",
    "input_feature_size = train_features.shape[2]\n",
    "output_dim = train_target.shape[1]"
   ]
  },
  {
   "cell_type": "code",
   "execution_count": 15,
   "id": "0f4fece6",
   "metadata": {},
   "outputs": [],
   "source": [
    "N_EPOCH = 50\n",
    "BATCH_SIZE = 64\n",
    "\n",
    "def basic_simpleRNN(input_dim, output_dim, input_feature_size):\n",
    "    model = Sequential()\n",
    "    model.add(SimpleRNN(units=63, return_sequences=True, activation='relu', input_shape=(input_dim, input_feature_size)))\n",
    "    model.add(Dropout(0.2))\n",
    "    model.add(SimpleRNN(250, return_sequences=False))\n",
    "    model.add(Dropout(0.2))\n",
    "    model.add(Dense(output_dim, activation='softmax'))\n",
    "\n",
    "    model.compile(optimizer=Adam(),\n",
    "                  loss='categorical_crossentropy',\n",
    "                  metrics=['accuracy'])\n",
    "    \n",
    "    history = model.fit(train_features, train_target, epochs = N_EPOCH, \n",
    "                        validation_data = (test_features, test_target),\n",
    "                        batch_size = BATCH_SIZE, verbose = 2, shuffle = False)\n",
    "\n",
    "    return model, history"
   ]
  },
  {
   "cell_type": "code",
   "execution_count": 16,
   "id": "5b79d271",
   "metadata": {
    "scrolled": true
   },
   "outputs": [
    {
     "name": "stderr",
     "output_type": "stream",
     "text": [
      "C:\\Users\\48798\\anaconda3\\Lib\\site-packages\\keras\\src\\layers\\rnn\\rnn.py:204: UserWarning: Do not pass an `input_shape`/`input_dim` argument to a layer. When using Sequential models, prefer using an `Input(shape)` object as the first layer in the model instead.\n",
      "  super().__init__(**kwargs)\n"
     ]
    },
    {
     "name": "stdout",
     "output_type": "stream",
     "text": [
      "Epoch 1/50\n",
      "8/8 - 14s - 2s/step - accuracy: 0.4940 - loss: 0.7543 - val_accuracy: 0.4603 - val_loss: 0.7056\n",
      "Epoch 2/50\n",
      "8/8 - 1s - 72ms/step - accuracy: 0.5020 - loss: 0.7469 - val_accuracy: 0.4524 - val_loss: 0.7649\n",
      "Epoch 3/50\n",
      "8/8 - 1s - 69ms/step - accuracy: 0.5240 - loss: 0.7348 - val_accuracy: 0.5238 - val_loss: 0.6945\n",
      "Epoch 4/50\n",
      "8/8 - 1s - 91ms/step - accuracy: 0.5460 - loss: 0.6992 - val_accuracy: 0.4444 - val_loss: 0.7828\n",
      "Epoch 5/50\n",
      "8/8 - 1s - 76ms/step - accuracy: 0.5120 - loss: 0.7216 - val_accuracy: 0.4683 - val_loss: 0.7165\n",
      "Epoch 6/50\n",
      "8/8 - 1s - 88ms/step - accuracy: 0.5560 - loss: 0.7138 - val_accuracy: 0.4365 - val_loss: 0.7353\n",
      "Epoch 7/50\n",
      "8/8 - 1s - 95ms/step - accuracy: 0.5280 - loss: 0.7031 - val_accuracy: 0.4683 - val_loss: 0.7244\n",
      "Epoch 8/50\n",
      "8/8 - 1s - 89ms/step - accuracy: 0.5480 - loss: 0.6838 - val_accuracy: 0.4365 - val_loss: 0.7427\n",
      "Epoch 9/50\n",
      "8/8 - 1s - 84ms/step - accuracy: 0.5320 - loss: 0.7152 - val_accuracy: 0.4286 - val_loss: 0.7522\n",
      "Epoch 10/50\n",
      "8/8 - 1s - 81ms/step - accuracy: 0.5240 - loss: 0.6897 - val_accuracy: 0.4683 - val_loss: 0.7362\n",
      "Epoch 11/50\n",
      "8/8 - 1s - 149ms/step - accuracy: 0.5220 - loss: 0.7005 - val_accuracy: 0.4444 - val_loss: 0.7586\n",
      "Epoch 12/50\n",
      "8/8 - 1s - 79ms/step - accuracy: 0.5120 - loss: 0.7167 - val_accuracy: 0.4841 - val_loss: 0.7349\n",
      "Epoch 13/50\n",
      "8/8 - 1s - 81ms/step - accuracy: 0.5680 - loss: 0.6839 - val_accuracy: 0.4444 - val_loss: 0.7376\n",
      "Epoch 14/50\n",
      "8/8 - 1s - 92ms/step - accuracy: 0.5440 - loss: 0.6856 - val_accuracy: 0.4762 - val_loss: 0.7674\n",
      "Epoch 15/50\n",
      "8/8 - 1s - 86ms/step - accuracy: 0.5760 - loss: 0.7048 - val_accuracy: 0.4683 - val_loss: 0.7340\n",
      "Epoch 16/50\n",
      "8/8 - 1s - 80ms/step - accuracy: 0.5320 - loss: 0.6944 - val_accuracy: 0.4683 - val_loss: 0.7237\n",
      "Epoch 17/50\n",
      "8/8 - 1s - 76ms/step - accuracy: 0.5720 - loss: 0.7006 - val_accuracy: 0.4683 - val_loss: 0.7472\n",
      "Epoch 18/50\n",
      "8/8 - 1s - 79ms/step - accuracy: 0.5480 - loss: 0.6867 - val_accuracy: 0.4683 - val_loss: 0.7677\n",
      "Epoch 19/50\n",
      "8/8 - 1s - 79ms/step - accuracy: 0.5440 - loss: 0.6854 - val_accuracy: 0.4841 - val_loss: 0.7441\n",
      "Epoch 20/50\n",
      "8/8 - 1s - 89ms/step - accuracy: 0.5640 - loss: 0.6837 - val_accuracy: 0.4841 - val_loss: 0.7521\n",
      "Epoch 21/50\n",
      "8/8 - 1s - 118ms/step - accuracy: 0.5400 - loss: 0.7016 - val_accuracy: 0.4603 - val_loss: 0.7688\n",
      "Epoch 22/50\n",
      "8/8 - 1s - 82ms/step - accuracy: 0.5640 - loss: 0.6870 - val_accuracy: 0.4524 - val_loss: 0.7167\n",
      "Epoch 23/50\n",
      "8/8 - 1s - 74ms/step - accuracy: 0.5400 - loss: 0.6904 - val_accuracy: 0.4841 - val_loss: 0.7309\n",
      "Epoch 24/50\n",
      "8/8 - 1s - 76ms/step - accuracy: 0.5520 - loss: 0.6836 - val_accuracy: 0.4762 - val_loss: 0.7396\n",
      "Epoch 25/50\n",
      "8/8 - 1s - 90ms/step - accuracy: 0.5940 - loss: 0.6718 - val_accuracy: 0.4603 - val_loss: 0.7917\n",
      "Epoch 26/50\n",
      "8/8 - 1s - 75ms/step - accuracy: 0.5880 - loss: 0.6704 - val_accuracy: 0.4762 - val_loss: 0.7426\n",
      "Epoch 27/50\n",
      "8/8 - 1s - 115ms/step - accuracy: 0.5640 - loss: 0.6784 - val_accuracy: 0.4841 - val_loss: 0.7852\n",
      "Epoch 28/50\n",
      "8/8 - 1s - 75ms/step - accuracy: 0.5660 - loss: 0.6698 - val_accuracy: 0.4603 - val_loss: 0.7826\n",
      "Epoch 29/50\n",
      "8/8 - 1s - 84ms/step - accuracy: 0.5760 - loss: 0.6678 - val_accuracy: 0.5000 - val_loss: 0.7376\n",
      "Epoch 30/50\n",
      "8/8 - 1s - 99ms/step - accuracy: 0.6000 - loss: 0.6669 - val_accuracy: 0.4603 - val_loss: 0.8772\n",
      "Epoch 31/50\n",
      "8/8 - 1s - 120ms/step - accuracy: 0.6100 - loss: 0.6511 - val_accuracy: 0.4762 - val_loss: 0.7432\n",
      "Epoch 32/50\n",
      "8/8 - 1s - 113ms/step - accuracy: 0.6200 - loss: 0.6509 - val_accuracy: 0.5079 - val_loss: 0.8202\n",
      "Epoch 33/50\n",
      "8/8 - 1s - 106ms/step - accuracy: 0.6260 - loss: 0.6363 - val_accuracy: 0.5079 - val_loss: 0.7567\n",
      "Epoch 34/50\n",
      "8/8 - 1s - 113ms/step - accuracy: 0.6280 - loss: 0.6443 - val_accuracy: 0.4762 - val_loss: 0.8878\n",
      "Epoch 35/50\n",
      "8/8 - 1s - 165ms/step - accuracy: 0.6240 - loss: 0.6546 - val_accuracy: 0.5397 - val_loss: 0.8248\n",
      "Epoch 36/50\n",
      "8/8 - 1s - 96ms/step - accuracy: 0.6120 - loss: 0.6503 - val_accuracy: 0.4683 - val_loss: 0.7974\n",
      "Epoch 37/50\n",
      "8/8 - 1s - 87ms/step - accuracy: 0.6100 - loss: 0.6446 - val_accuracy: 0.5079 - val_loss: 0.7596\n",
      "Epoch 38/50\n",
      "8/8 - 1s - 119ms/step - accuracy: 0.6000 - loss: 0.6524 - val_accuracy: 0.4603 - val_loss: 0.8394\n",
      "Epoch 39/50\n",
      "8/8 - 1s - 98ms/step - accuracy: 0.5660 - loss: 0.6655 - val_accuracy: 0.5317 - val_loss: 0.8122\n",
      "Epoch 40/50\n",
      "8/8 - 1s - 91ms/step - accuracy: 0.6240 - loss: 0.6378 - val_accuracy: 0.5079 - val_loss: 0.9142\n",
      "Epoch 41/50\n",
      "8/8 - 1s - 113ms/step - accuracy: 0.5960 - loss: 0.6422 - val_accuracy: 0.5238 - val_loss: 0.7873\n",
      "Epoch 42/50\n",
      "8/8 - 1s - 89ms/step - accuracy: 0.6340 - loss: 0.6273 - val_accuracy: 0.5238 - val_loss: 0.8472\n",
      "Epoch 43/50\n",
      "8/8 - 1s - 101ms/step - accuracy: 0.6340 - loss: 0.6282 - val_accuracy: 0.4921 - val_loss: 0.8311\n",
      "Epoch 44/50\n",
      "8/8 - 1s - 89ms/step - accuracy: 0.6140 - loss: 0.6520 - val_accuracy: 0.4603 - val_loss: 0.9360\n",
      "Epoch 45/50\n",
      "8/8 - 1s - 103ms/step - accuracy: 0.5900 - loss: 0.6644 - val_accuracy: 0.4286 - val_loss: 0.7271\n",
      "Epoch 46/50\n",
      "8/8 - 1s - 100ms/step - accuracy: 0.5780 - loss: 0.6659 - val_accuracy: 0.4365 - val_loss: 0.8528\n",
      "Epoch 47/50\n",
      "8/8 - 1s - 88ms/step - accuracy: 0.5740 - loss: 0.6552 - val_accuracy: 0.4841 - val_loss: 0.7540\n",
      "Epoch 48/50\n",
      "8/8 - 1s - 141ms/step - accuracy: 0.6120 - loss: 0.6349 - val_accuracy: 0.5079 - val_loss: 0.8177\n",
      "Epoch 49/50\n",
      "8/8 - 1s - 139ms/step - accuracy: 0.6520 - loss: 0.6166 - val_accuracy: 0.5159 - val_loss: 0.7763\n",
      "Epoch 50/50\n",
      "8/8 - 1s - 72ms/step - accuracy: 0.6420 - loss: 0.6235 - val_accuracy: 0.4921 - val_loss: 0.8554\n"
     ]
    }
   ],
   "source": [
    "model, history = basic_simpleRNN(input_dim, output_dim, input_feature_size)"
   ]
  },
  {
   "cell_type": "code",
   "execution_count": 17,
   "id": "65419d2a",
   "metadata": {
    "scrolled": true
   },
   "outputs": [
    {
     "name": "stdout",
     "output_type": "stream",
     "text": [
      "\u001b[1m16/16\u001b[0m \u001b[32m━━━━━━━━━━━━━━━━━━━━\u001b[0m\u001b[37m\u001b[0m \u001b[1m1s\u001b[0m 19ms/step - accuracy: 0.6961 - loss: 0.5530\n",
      "Train loss: 0.5989827513694763\n",
      "Train accuracy: 0.6620000004768372\n",
      "\u001b[1m4/4\u001b[0m \u001b[32m━━━━━━━━━━━━━━━━━━━━\u001b[0m\u001b[37m\u001b[0m \u001b[1m0s\u001b[0m 23ms/step - accuracy: 0.5031 - loss: 0.7844\n",
      "Test loss: 0.8553828597068787\n",
      "Test accuracy: 0.4920634925365448\n"
     ]
    }
   ],
   "source": [
    "# Ocena modelu na danych treningowych\n",
    "train_performance = model.evaluate(train_features, train_target)\n",
    "print('Train loss:', train_performance[0])\n",
    "print('Train accuracy:', train_performance[1])\n",
    "\n",
    "test_performance = model.evaluate(test_features, test_target)\n",
    "print('Test loss:', test_performance[0])\n",
    "print('Test accuracy:', test_performance[1])"
   ]
  },
  {
   "cell_type": "code",
   "execution_count": 18,
   "id": "4bce4c33",
   "metadata": {},
   "outputs": [
    {
     "name": "stdout",
     "output_type": "stream",
     "text": [
      "\u001b[1m16/16\u001b[0m \u001b[32m━━━━━━━━━━━━━━━━━━━━\u001b[0m\u001b[37m\u001b[0m \u001b[1m5s\u001b[0m 161ms/step\n",
      "123\n",
      "208\n",
      "60\n",
      "109\n",
      "Accuracy (ACC): 0.662\n",
      "True Positive Rate (TPR): 0.5301724137931034\n",
      "False Positive Rate (FPR): 0.22388059701492538\n",
      "True Negative Rate (TNR): 0.7761194029850746\n",
      "Positive Predictive Value (PPV): 0.6721311475409836\n",
      "Negative Predictive Value (NPV): 0.6561514195583596\n"
     ]
    }
   ],
   "source": [
    "# Predykcja na zbiorze treningowym\n",
    "train_predictions = model.predict(train_features)\n",
    "train_predictions = np.argmax(train_predictions, axis = 1)\n",
    "train_true = np.argmax(train_target, axis = 1)\n",
    "\n",
    "# Obliczanie macierzy pomyłek\n",
    "cm = confusion_matrix(train_true, train_predictions)\n",
    "TP = cm[1, 1]  # True Positives\n",
    "TN = cm[0, 0]  # True Negatives\n",
    "FP = cm[0, 1]  # False Positives\n",
    "FN = cm[1, 0]  # False Negatives\n",
    "\n",
    "print(TP)\n",
    "print(TN)\n",
    "print(FP)\n",
    "print(FN)\n",
    "\n",
    "# TPR, FPR, TNR, PPV, NPV\n",
    "ACC = (TP + TN) / (TP + TN + FP + FN)\n",
    "TPR = TP / (TP + FN)\n",
    "FPR = FP / (FP + TN)\n",
    "TNR = TN / (TN + FP)\n",
    "PPV = TP / (TP + FP)\n",
    "NPV = TN / (TN + FN)\n",
    "\n",
    "print('Accuracy (ACC):', ACC)\n",
    "print('True Positive Rate (TPR):', TPR)\n",
    "print('False Positive Rate (FPR):', FPR)\n",
    "print('True Negative Rate (TNR):', TNR)\n",
    "print('Positive Predictive Value (PPV):', PPV)\n",
    "print('Negative Predictive Value (NPV):', NPV)"
   ]
  },
  {
   "cell_type": "code",
   "execution_count": 19,
   "id": "8e441350",
   "metadata": {},
   "outputs": [
    {
     "name": "stdout",
     "output_type": "stream",
     "text": [
      "\u001b[1m4/4\u001b[0m \u001b[32m━━━━━━━━━━━━━━━━━━━━\u001b[0m\u001b[37m\u001b[0m \u001b[1m0s\u001b[0m 17ms/step \n",
      "24\n",
      "38\n",
      "21\n",
      "43\n",
      "Accuracy (ACC): 0.49206349206349204\n",
      "True Positive Rate (TPR): 0.3582089552238806\n",
      "False Positive Rate (FPR): 0.3559322033898305\n",
      "True Negative Rate (TNR): 0.6440677966101694\n",
      "Positive Predictive Value (PPV): 0.5333333333333333\n",
      "Negative Predictive Value (NPV): 0.4691358024691358\n"
     ]
    }
   ],
   "source": [
    "# Predykcja na zbiorze testowym\n",
    "test_predictions = model.predict(test_features)\n",
    "test_predictions = np.argmax(test_predictions, axis = 1)\n",
    "test_true = np.argmax(test_target, axis = 1)\n",
    "\n",
    "# Obliczanie macierzy pomyłek\n",
    "cm = confusion_matrix(test_true, test_predictions)\n",
    "TP = cm[1, 1]  # True Positives\n",
    "TN = cm[0, 0]  # True Negatives\n",
    "FP = cm[0, 1]  # False Positives\n",
    "FN = cm[1, 0]  # False Negatives\n",
    "\n",
    "print(TP)\n",
    "print(TN)\n",
    "print(FP)\n",
    "print(FN)\n",
    "\n",
    "# TPR, FPR, TNR, PPV, NPV\n",
    "ACC = (TP + TN) / (TP + TN + FP + FN)\n",
    "TPR = TP / (TP + FN)\n",
    "FPR = FP / (FP + TN)\n",
    "TNR = TN / (TN + FP)\n",
    "PPV = TP / (TP + FP)\n",
    "NPV = TN / (TN + FN)\n",
    "\n",
    "print('Accuracy (ACC):', ACC)\n",
    "print('True Positive Rate (TPR):', TPR)\n",
    "print('False Positive Rate (FPR):', FPR)\n",
    "print('True Negative Rate (TNR):', TNR)\n",
    "print('Positive Predictive Value (PPV):', PPV)\n",
    "print('Negative Predictive Value (NPV):', NPV)"
   ]
  }
 ],
 "metadata": {
  "kernelspec": {
   "display_name": "Python 3 (ipykernel)",
   "language": "python",
   "name": "python3"
  },
  "language_info": {
   "codemirror_mode": {
    "name": "ipython",
    "version": 3
   },
   "file_extension": ".py",
   "mimetype": "text/x-python",
   "name": "python",
   "nbconvert_exporter": "python",
   "pygments_lexer": "ipython3",
   "version": "3.11.5"
  }
 },
 "nbformat": 4,
 "nbformat_minor": 5
}
