{
 "cells": [
  {
   "cell_type": "code",
   "execution_count": 1,
   "id": "745310cc",
   "metadata": {},
   "outputs": [],
   "source": [
    "import pandas as pd\n",
    "import optuna\n",
    "import yfinance as yf\n",
    "import pandas_datareader.data as web\n",
    "from datetime import datetime\n",
    "import numpy as np\n",
    "import pandas_ta as ta\n",
    "from keras.optimizers import Adam\n",
    "from keras.optimizers import SGD\n",
    "from keras.optimizers import Nadam\n",
    "from sklearn.metrics import confusion_matrix\n",
    "from tensorflow.keras.models import Sequential\n",
    "from tensorflow.keras.layers import Dense\n",
    "from tensorflow.keras.utils import to_categorical\n",
    "from keras.models import Sequential\n",
    "from keras.layers import Dense, Dropout\n",
    "from keras.regularizers import l2\n",
    "from keras.callbacks import EarlyStopping\n",
    "from sklearn.preprocessing import MinMaxScaler\n",
    "from keras.utils import plot_model\n",
    "from keras.layers import Dropout, Dense, GRU, LSTM, Flatten\n",
    "import matplotlib.pyplot as plt"
   ]
  },
  {
   "cell_type": "code",
   "execution_count": 2,
   "id": "ecfe67dc",
   "metadata": {},
   "outputs": [],
   "source": [
    "import warnings\n",
    "warnings.filterwarnings('ignore', category = pd.errors.PerformanceWarning)"
   ]
  },
  {
   "cell_type": "code",
   "execution_count": 3,
   "id": "3bdd371a",
   "metadata": {
    "scrolled": true
   },
   "outputs": [
    {
     "name": "stderr",
     "output_type": "stream",
     "text": [
      "\r",
      "[*********************100%%**********************]  1 of 1 completed"
     ]
    },
    {
     "name": "stdout",
     "output_type": "stream",
     "text": [
      "676\n",
      "(676, 127)\n"
     ]
    },
    {
     "name": "stderr",
     "output_type": "stream",
     "text": [
      "\n"
     ]
    }
   ],
   "source": [
    "# Pobieramy dane dotyczące BTC z yahoo\n",
    "BTC = yf.download('BTC-USD', start = '2022-02-24', end = '2024-01-01')\n",
    "\n",
    "BTC['Target'] = (BTC['Close'].diff() > 0).astype(int)\n",
    "\n",
    "def add_lagged_features(data, column_name, n_days):\n",
    "    for i in range(1, n_days + 1):\n",
    "        lagged_column_name = f'{column_name}_{i}d_back'\n",
    "        data[lagged_column_name] = data[column_name].shift(i)\n",
    "    return data\n",
    "\n",
    "BTC = add_lagged_features(BTC, 'Close', 30)\n",
    "BTC = add_lagged_features(BTC, 'Open', 30)\n",
    "BTC = add_lagged_features(BTC, 'High', 30)\n",
    "BTC = add_lagged_features(BTC, 'Low', 30)\n",
    "\n",
    "# df = pd.DataFrame()\n",
    "# df = BTC.copy()\n",
    "# print(BTC.head())\n",
    "print(len(BTC))\n",
    "print(BTC.shape)"
   ]
  },
  {
   "cell_type": "code",
   "execution_count": 4,
   "id": "bea0121c",
   "metadata": {},
   "outputs": [],
   "source": [
    "BTC = BTC.drop('Adj Close', axis=1)\n",
    "BTC = BTC.dropna().reset_index(drop = True)\n",
    "# BTC"
   ]
  },
  {
   "cell_type": "code",
   "execution_count": 5,
   "id": "148e7526",
   "metadata": {
    "scrolled": true
   },
   "outputs": [],
   "source": [
    "dataset = pd.DataFrame()\n",
    "dataset = BTC[['Open', 'High', 'Low', 'Close', 'Volume', 'Target']].copy()\n",
    "# dataset"
   ]
  },
  {
   "cell_type": "code",
   "execution_count": 6,
   "id": "a4639688",
   "metadata": {},
   "outputs": [],
   "source": [
    "n_steps_in = 20\n",
    "output_features = 2"
   ]
  },
  {
   "cell_type": "code",
   "execution_count": 7,
   "id": "c36088bd",
   "metadata": {},
   "outputs": [],
   "source": [
    "X_value = pd.DataFrame(dataset.iloc[:, :])\n",
    "X_value = X_value.drop('Target', axis='columns')\n",
    "# X_value"
   ]
  },
  {
   "cell_type": "code",
   "execution_count": 8,
   "id": "9eb64e54",
   "metadata": {},
   "outputs": [],
   "source": [
    "y_value = pd.DataFrame(dataset.Target)\n",
    "y_value = to_categorical(y_value)\n",
    "# y_value"
   ]
  },
  {
   "cell_type": "code",
   "execution_count": 9,
   "id": "d3d27bf1",
   "metadata": {},
   "outputs": [],
   "source": [
    "scaler = MinMaxScaler(feature_range=(-1, 1))\n",
    "scaler.fit(X_value)\n",
    "X_value = scaler.fit_transform(X_value)"
   ]
  },
  {
   "cell_type": "code",
   "execution_count": 10,
   "id": "b089df56",
   "metadata": {},
   "outputs": [],
   "source": [
    "def get_X_y(X_data, y_data):\n",
    "    X = list()\n",
    "    y = list()\n",
    "\n",
    "    length = len(X_data)\n",
    "    for i in range(0, length-n_steps_in, 1):\n",
    "        X_value = X_data[i: i + n_steps_in][:, :]\n",
    "        # y_value = y_data[i + n_steps_in: i + (n_steps_in + n_steps_out)][:, :]\n",
    "        y_value = y_data[i + n_steps_in]\n",
    "        if len(X_value) == n_steps_in and len(y_value) == output_features:\n",
    "            X.append(X_value)\n",
    "            y.append(y_value)\n",
    "\n",
    "    return np.array(X), np.array(y)"
   ]
  },
  {
   "cell_type": "code",
   "execution_count": 11,
   "id": "421d0771",
   "metadata": {},
   "outputs": [],
   "source": [
    "def split_train_test(data):\n",
    "    train_size = int(0.8 * len(X))\n",
    "    data_train = data[0:train_size]\n",
    "    data_test = data[train_size:]\n",
    "    return data_train, data_test"
   ]
  },
  {
   "cell_type": "code",
   "execution_count": 12,
   "id": "d239ce9e",
   "metadata": {},
   "outputs": [
    {
     "name": "stdout",
     "output_type": "stream",
     "text": [
      "X shape:  (626, 20, 5)\n",
      "y shape:  (626, 2)\n",
      "Train features shape:  (500, 20, 5)\n",
      "Test features shape:  (126, 20, 5)\n",
      "Train features shape:  (500, 2)\n",
      "Test features shape:  (126, 2)\n"
     ]
    }
   ],
   "source": [
    "X, y = get_X_y(X_value, y_value)\n",
    "print('X shape: ', X.shape)\n",
    "print('y shape: ', y.shape)\n",
    "train_features, test_features = split_train_test(X) \n",
    "train_target, test_target = split_train_test(y) \n",
    "\n",
    "print('Train features shape: ', train_features.shape)\n",
    "print('Test features shape: ', test_features.shape)\n",
    "print('Train features shape: ', train_target.shape)\n",
    "print('Test features shape: ', test_target.shape)"
   ]
  },
  {
   "cell_type": "code",
   "execution_count": 13,
   "id": "2450a260",
   "metadata": {},
   "outputs": [],
   "source": [
    "input_dim = train_features.shape[1]\n",
    "input_feature_size = train_features.shape[2]\n",
    "output_dim = train_target.shape[1]"
   ]
  },
  {
   "cell_type": "code",
   "execution_count": 14,
   "id": "0f4fece6",
   "metadata": {},
   "outputs": [],
   "source": [
    "N_EPOCH = 50\n",
    "BATCH_SIZE = 64\n",
    "\n",
    "def basic_LSTM(input_dim, output_dim, input_feature_size):\n",
    "    model = Sequential()\n",
    "    model.add(LSTM(units=63, return_sequences=True, activation='relu', input_shape=(input_dim, input_feature_size)))\n",
    "    model.add(Dropout(0.2))\n",
    "    model.add(LSTM(250, return_sequences=False))\n",
    "    model.add(Dropout(0.2))\n",
    "    model.add(Dense(output_dim, activation='softmax'))\n",
    "\n",
    "    model.compile(optimizer='adam',\n",
    "              loss='categorical_crossentropy',\n",
    "              metrics=['accuracy'])\n",
    "    \n",
    "    history = model.fit(train_features, train_target, epochs=N_EPOCH, \n",
    "                        validation_data=(test_features, test_target),\n",
    "                        batch_size=BATCH_SIZE, verbose=2, shuffle=False)\n",
    "\n",
    "    return model, history"
   ]
  },
  {
   "cell_type": "code",
   "execution_count": 15,
   "id": "5b79d271",
   "metadata": {
    "scrolled": true
   },
   "outputs": [
    {
     "name": "stderr",
     "output_type": "stream",
     "text": [
      "C:\\Users\\48798\\anaconda3\\Lib\\site-packages\\keras\\src\\layers\\rnn\\rnn.py:204: UserWarning: Do not pass an `input_shape`/`input_dim` argument to a layer. When using Sequential models, prefer using an `Input(shape)` object as the first layer in the model instead.\n",
      "  super().__init__(**kwargs)\n"
     ]
    },
    {
     "name": "stdout",
     "output_type": "stream",
     "text": [
      "Epoch 1/50\n",
      "8/8 - 18s - 2s/step - accuracy: 0.5280 - loss: 0.6937 - val_accuracy: 0.4683 - val_loss: 0.7305\n",
      "Epoch 2/50\n",
      "8/8 - 2s - 241ms/step - accuracy: 0.5040 - loss: 0.6955 - val_accuracy: 0.4683 - val_loss: 0.7155\n",
      "Epoch 3/50\n",
      "8/8 - 2s - 222ms/step - accuracy: 0.5360 - loss: 0.6903 - val_accuracy: 0.4683 - val_loss: 0.7144\n",
      "Epoch 4/50\n",
      "8/8 - 2s - 210ms/step - accuracy: 0.5360 - loss: 0.6901 - val_accuracy: 0.4683 - val_loss: 0.7086\n",
      "Epoch 5/50\n",
      "8/8 - 3s - 343ms/step - accuracy: 0.5340 - loss: 0.6901 - val_accuracy: 0.4683 - val_loss: 0.7142\n",
      "Epoch 6/50\n",
      "8/8 - 2s - 244ms/step - accuracy: 0.5380 - loss: 0.6902 - val_accuracy: 0.4683 - val_loss: 0.7226\n",
      "Epoch 7/50\n",
      "8/8 - 2s - 232ms/step - accuracy: 0.5340 - loss: 0.6912 - val_accuracy: 0.4683 - val_loss: 0.7150\n",
      "Epoch 8/50\n",
      "8/8 - 2s - 223ms/step - accuracy: 0.5360 - loss: 0.6897 - val_accuracy: 0.4683 - val_loss: 0.7229\n",
      "Epoch 9/50\n",
      "8/8 - 2s - 301ms/step - accuracy: 0.5360 - loss: 0.6884 - val_accuracy: 0.4683 - val_loss: 0.7168\n",
      "Epoch 10/50\n",
      "8/8 - 1s - 183ms/step - accuracy: 0.5380 - loss: 0.6882 - val_accuracy: 0.4683 - val_loss: 0.7340\n",
      "Epoch 11/50\n",
      "8/8 - 2s - 234ms/step - accuracy: 0.5220 - loss: 0.6891 - val_accuracy: 0.4683 - val_loss: 0.7113\n",
      "Epoch 12/50\n",
      "8/8 - 2s - 219ms/step - accuracy: 0.5400 - loss: 0.6890 - val_accuracy: 0.4683 - val_loss: 0.8203\n",
      "Epoch 13/50\n",
      "8/8 - 2s - 258ms/step - accuracy: 0.5100 - loss: 0.6967 - val_accuracy: 0.4921 - val_loss: 0.6943\n",
      "Epoch 14/50\n",
      "8/8 - 2s - 251ms/step - accuracy: 0.5380 - loss: 0.6896 - val_accuracy: 0.4683 - val_loss: 0.7115\n",
      "Epoch 15/50\n",
      "8/8 - 2s - 244ms/step - accuracy: 0.5360 - loss: 0.6890 - val_accuracy: 0.4683 - val_loss: 0.7198\n",
      "Epoch 16/50\n",
      "8/8 - 2s - 311ms/step - accuracy: 0.5320 - loss: 0.6874 - val_accuracy: 0.4683 - val_loss: 0.7268\n",
      "Epoch 17/50\n",
      "8/8 - 3s - 348ms/step - accuracy: 0.5440 - loss: 0.6870 - val_accuracy: 0.4683 - val_loss: 0.7254\n",
      "Epoch 18/50\n",
      "8/8 - 2s - 258ms/step - accuracy: 0.5380 - loss: 0.6871 - val_accuracy: 0.4683 - val_loss: 0.7217\n",
      "Epoch 19/50\n",
      "8/8 - 2s - 251ms/step - accuracy: 0.5440 - loss: 0.6862 - val_accuracy: 0.4683 - val_loss: 0.7241\n",
      "Epoch 20/50\n",
      "8/8 - 2s - 246ms/step - accuracy: 0.5700 - loss: 0.6836 - val_accuracy: 0.4524 - val_loss: 0.7297\n",
      "Epoch 21/50\n",
      "8/8 - 2s - 249ms/step - accuracy: 0.5360 - loss: 0.6866 - val_accuracy: 0.4603 - val_loss: 0.7445\n",
      "Epoch 22/50\n",
      "8/8 - 2s - 295ms/step - accuracy: 0.5260 - loss: 0.6847 - val_accuracy: 0.4841 - val_loss: 0.7105\n",
      "Epoch 23/50\n",
      "8/8 - 2s - 294ms/step - accuracy: 0.5400 - loss: 0.6902 - val_accuracy: 0.4841 - val_loss: 0.7388\n",
      "Epoch 24/50\n",
      "8/8 - 3s - 323ms/step - accuracy: 0.5340 - loss: 0.6868 - val_accuracy: 0.4683 - val_loss: 0.7542\n",
      "Epoch 25/50\n",
      "8/8 - 2s - 311ms/step - accuracy: 0.5500 - loss: 0.6870 - val_accuracy: 0.4683 - val_loss: 0.7258\n",
      "Epoch 26/50\n",
      "8/8 - 2s - 269ms/step - accuracy: 0.5500 - loss: 0.6856 - val_accuracy: 0.4683 - val_loss: 0.7614\n",
      "Epoch 27/50\n",
      "8/8 - 2s - 305ms/step - accuracy: 0.5440 - loss: 0.6869 - val_accuracy: 0.4683 - val_loss: 0.7380\n",
      "Epoch 28/50\n",
      "8/8 - 2s - 309ms/step - accuracy: 0.5420 - loss: 0.6848 - val_accuracy: 0.4841 - val_loss: 0.7198\n",
      "Epoch 29/50\n",
      "8/8 - 2s - 299ms/step - accuracy: 0.5440 - loss: 0.6824 - val_accuracy: 0.4762 - val_loss: 0.7287\n",
      "Epoch 30/50\n",
      "8/8 - 3s - 313ms/step - accuracy: 0.5660 - loss: 0.6790 - val_accuracy: 0.4524 - val_loss: 0.7636\n",
      "Epoch 31/50\n",
      "8/8 - 3s - 397ms/step - accuracy: 0.5680 - loss: 0.6835 - val_accuracy: 0.4762 - val_loss: 0.7735\n",
      "Epoch 32/50\n",
      "8/8 - 2s - 266ms/step - accuracy: 0.5600 - loss: 0.6813 - val_accuracy: 0.4841 - val_loss: 0.7039\n",
      "Epoch 33/50\n",
      "8/8 - 3s - 354ms/step - accuracy: 0.5700 - loss: 0.6793 - val_accuracy: 0.4444 - val_loss: 0.7915\n",
      "Epoch 34/50\n",
      "8/8 - 3s - 349ms/step - accuracy: 0.5200 - loss: 0.6872 - val_accuracy: 0.4683 - val_loss: 0.7428\n",
      "Epoch 35/50\n",
      "8/8 - 3s - 323ms/step - accuracy: 0.5460 - loss: 0.6845 - val_accuracy: 0.4683 - val_loss: 0.7201\n",
      "Epoch 36/50\n",
      "8/8 - 2s - 304ms/step - accuracy: 0.5540 - loss: 0.6899 - val_accuracy: 0.4683 - val_loss: 0.7162\n",
      "Epoch 37/50\n",
      "8/8 - 2s - 311ms/step - accuracy: 0.5520 - loss: 0.6861 - val_accuracy: 0.4683 - val_loss: 0.7164\n",
      "Epoch 38/50\n",
      "8/8 - 2s - 271ms/step - accuracy: 0.5440 - loss: 0.6877 - val_accuracy: 0.4683 - val_loss: 0.7212\n",
      "Epoch 39/50\n",
      "8/8 - 2s - 290ms/step - accuracy: 0.5620 - loss: 0.6848 - val_accuracy: 0.4683 - val_loss: 0.7242\n",
      "Epoch 40/50\n",
      "8/8 - 2s - 288ms/step - accuracy: 0.5600 - loss: 0.6849 - val_accuracy: 0.4444 - val_loss: 0.7266\n",
      "Epoch 41/50\n",
      "8/8 - 3s - 323ms/step - accuracy: 0.5660 - loss: 0.6860 - val_accuracy: 0.4683 - val_loss: 0.7334\n",
      "Epoch 42/50\n",
      "8/8 - 2s - 294ms/step - accuracy: 0.5480 - loss: 0.6846 - val_accuracy: 0.4365 - val_loss: 0.7271\n",
      "Epoch 43/50\n",
      "8/8 - 3s - 386ms/step - accuracy: 0.5620 - loss: 0.6864 - val_accuracy: 0.4683 - val_loss: 0.7410\n",
      "Epoch 44/50\n",
      "8/8 - 3s - 411ms/step - accuracy: 0.5620 - loss: 0.6872 - val_accuracy: 0.4603 - val_loss: 0.7205\n",
      "Epoch 45/50\n",
      "8/8 - 2s - 286ms/step - accuracy: 0.5300 - loss: 0.6900 - val_accuracy: 0.4683 - val_loss: 0.7489\n",
      "Epoch 46/50\n",
      "8/8 - 2s - 242ms/step - accuracy: 0.5440 - loss: 0.6868 - val_accuracy: 0.4683 - val_loss: 0.7358\n",
      "Epoch 47/50\n",
      "8/8 - 2s - 228ms/step - accuracy: 0.5460 - loss: 0.6851 - val_accuracy: 0.4286 - val_loss: 0.7256\n",
      "Epoch 48/50\n",
      "8/8 - 2s - 219ms/step - accuracy: 0.5680 - loss: 0.6835 - val_accuracy: 0.4365 - val_loss: 0.7279\n",
      "Epoch 49/50\n",
      "8/8 - 2s - 226ms/step - accuracy: 0.5820 - loss: 0.6810 - val_accuracy: 0.4286 - val_loss: 0.7405\n",
      "Epoch 50/50\n",
      "8/8 - 2s - 203ms/step - accuracy: 0.5640 - loss: 0.6804 - val_accuracy: 0.4365 - val_loss: 0.7418\n"
     ]
    }
   ],
   "source": [
    "model, history = basic_LSTM(input_dim, output_dim, input_feature_size)"
   ]
  },
  {
   "cell_type": "code",
   "execution_count": 16,
   "id": "65419d2a",
   "metadata": {},
   "outputs": [
    {
     "name": "stdout",
     "output_type": "stream",
     "text": [
      "\u001b[1m16/16\u001b[0m \u001b[32m━━━━━━━━━━━━━━━━━━━━\u001b[0m\u001b[37m\u001b[0m \u001b[1m1s\u001b[0m 49ms/step - accuracy: 0.5781 - loss: 0.6726\n",
      "Train loss: 0.6785959601402283\n",
      "Train accuracy: 0.5659999847412109\n",
      "\u001b[1m4/4\u001b[0m \u001b[32m━━━━━━━━━━━━━━━━━━━━\u001b[0m\u001b[37m\u001b[0m \u001b[1m0s\u001b[0m 53ms/step - accuracy: 0.4454 - loss: 0.7217\n",
      "Test loss: 0.7417741417884827\n",
      "Test accuracy: 0.4365079402923584\n"
     ]
    }
   ],
   "source": [
    "# Ocena modelu na danych treningowych\n",
    "train_performance = model.evaluate(train_features, train_target)\n",
    "print('Train loss:', train_performance[0])\n",
    "print('Train accuracy:', train_performance[1])\n",
    "\n",
    "test_performance = model.evaluate(test_features, test_target)\n",
    "print('Test loss:', test_performance[0])\n",
    "print('Test accuracy:', test_performance[1])"
   ]
  },
  {
   "cell_type": "code",
   "execution_count": 17,
   "id": "4bce4c33",
   "metadata": {},
   "outputs": [
    {
     "name": "stdout",
     "output_type": "stream",
     "text": [
      "\u001b[1m16/16\u001b[0m \u001b[32m━━━━━━━━━━━━━━━━━━━━\u001b[0m\u001b[37m\u001b[0m \u001b[1m6s\u001b[0m 171ms/step\n",
      "59\n",
      "224\n",
      "44\n",
      "173\n",
      "Accuracy (ACC): 0.566\n",
      "True Positive Rate (TPR): 0.2543103448275862\n",
      "False Positive Rate (FPR): 0.16417910447761194\n",
      "True Negative Rate (TNR): 0.835820895522388\n",
      "Positive Predictive Value (PPV): 0.5728155339805825\n",
      "Negative Predictive Value (NPV): 0.5642317380352645\n"
     ]
    }
   ],
   "source": [
    "# Predykcja na zbiorze treningowym\n",
    "train_predictions = model.predict(train_features)\n",
    "train_predictions = np.argmax(train_predictions, axis = 1)\n",
    "train_true = np.argmax(train_target, axis = 1)\n",
    "\n",
    "# Obliczanie macierzy pomyłek\n",
    "cm = confusion_matrix(train_true, train_predictions)\n",
    "TP = cm[1, 1]  # True Positives\n",
    "TN = cm[0, 0]  # True Negatives\n",
    "FP = cm[0, 1]  # False Positives\n",
    "FN = cm[1, 0]  # False Negatives\n",
    "\n",
    "print(TP)\n",
    "print(TN)\n",
    "print(FP)\n",
    "print(FN)\n",
    "\n",
    "# TPR, FPR, TNR, PPV, NPV\n",
    "ACC = (TP + TN) / (TP + TN + FP + FN)\n",
    "TPR = TP / (TP + FN)\n",
    "FPR = FP / (FP + TN)\n",
    "TNR = TN / (TN + FP)\n",
    "PPV = TP / (TP + FP)\n",
    "NPV = TN / (TN + FN)\n",
    "\n",
    "print('Accuracy (ACC):', ACC)\n",
    "print('True Positive Rate (TPR):', TPR)\n",
    "print('False Positive Rate (FPR):', FPR)\n",
    "print('True Negative Rate (TNR):', TNR)\n",
    "print('Positive Predictive Value (PPV):', PPV)\n",
    "print('Negative Predictive Value (NPV):', NPV)"
   ]
  },
  {
   "cell_type": "code",
   "execution_count": 18,
   "id": "8e441350",
   "metadata": {},
   "outputs": [
    {
     "name": "stdout",
     "output_type": "stream",
     "text": [
      "\u001b[1m4/4\u001b[0m \u001b[32m━━━━━━━━━━━━━━━━━━━━\u001b[0m\u001b[37m\u001b[0m \u001b[1m0s\u001b[0m 57ms/step\n",
      "25\n",
      "30\n",
      "29\n",
      "42\n",
      "Accuracy (ACC): 0.4365079365079365\n",
      "True Positive Rate (TPR): 0.373134328358209\n",
      "False Positive Rate (FPR): 0.4915254237288136\n",
      "True Negative Rate (TNR): 0.5084745762711864\n",
      "Positive Predictive Value (PPV): 0.46296296296296297\n",
      "Negative Predictive Value (NPV): 0.4166666666666667\n"
     ]
    }
   ],
   "source": [
    "# Predykcja na zbiorze testowym\n",
    "test_predictions = model.predict(test_features)\n",
    "test_predictions = np.argmax(test_predictions, axis = 1)\n",
    "test_true = np.argmax(test_target, axis = 1)\n",
    "\n",
    "# Obliczanie macierzy pomyłek\n",
    "cm = confusion_matrix(test_true, test_predictions)\n",
    "TP = cm[1, 1]  # True Positives\n",
    "TN = cm[0, 0]  # True Negatives\n",
    "FP = cm[0, 1]  # False Positives\n",
    "FN = cm[1, 0]  # False Negatives\n",
    "\n",
    "print(TP)\n",
    "print(TN)\n",
    "print(FP)\n",
    "print(FN)\n",
    "\n",
    "# TPR, FPR, TNR, PPV, NPV\n",
    "ACC = (TP + TN) / (TP + TN + FP + FN)\n",
    "TPR = TP / (TP + FN)\n",
    "FPR = FP / (FP + TN)\n",
    "TNR = TN / (TN + FP)\n",
    "PPV = TP / (TP + FP)\n",
    "NPV = TN / (TN + FN)\n",
    "\n",
    "print('Accuracy (ACC):', ACC)\n",
    "print('True Positive Rate (TPR):', TPR)\n",
    "print('False Positive Rate (FPR):', FPR)\n",
    "print('True Negative Rate (TNR):', TNR)\n",
    "print('Positive Predictive Value (PPV):', PPV)\n",
    "print('Negative Predictive Value (NPV):', NPV)"
   ]
  },
  {
   "cell_type": "code",
   "execution_count": 19,
   "id": "138343a9",
   "metadata": {},
   "outputs": [
    {
     "data": {
      "image/png": "[encoded data removed]",
      "text/plain": [
       "<Figure size 640x480 with 1 Axes>"
      ]
     },
     "metadata": {},
     "output_type": "display_data"
    }
   ],
   "source": [
    "plt.plot(history.history[\"accuracy\"], label=\"train\")\n",
    "plt.plot(history.history[\"val_accuracy\"], label=\"test\")\n",
    "plt.title(\"Skuteczność - LSTM\")\n",
    "plt.xlabel(\"Epoch\")\n",
    "plt.ylabel(\"Accuracy\")\n",
    "plt.xticks(np.arange(0, N_EPOCH, step=5))\n",
    "plt.yticks(np.arange(0, 1, step=0.1))\n",
    "plt.legend()\n",
    "plt.show()"
   ]
  },
  {
   "cell_type": "code",
   "execution_count": 20,
   "id": "8e1ebd56",
   "metadata": {},
   "outputs": [
    {
     "data": {
      "image/png": "[encoded data removed]",
      "text/plain": [
       "<Figure size 640x480 with 1 Axes>"
      ]
     },
     "metadata": {},
     "output_type": "display_data"
    }
   ],
   "source": [
    "plt.plot(history.history[\"loss\"], label=\"train\")\n",
    "plt.plot(history.history[\"val_loss\"], label=\"test\")\n",
    "plt.title(\"Funkcja strat - LSTM\")\n",
    "plt.xlabel(\"Epoch\")\n",
    "plt.ylabel(\"Loss\")\n",
    "plt.xticks(np.arange(0, N_EPOCH, step=5))\n",
    "plt.yticks(np.arange(0, 1, step=0.1))\n",
    "plt.legend()\n",
    "plt.show()"
   ]
  }
 ],
 "metadata": {
  "kernelspec": {
   "display_name": "Python 3 (ipykernel)",
   "language": "python",
   "name": "python3"
  },
  "language_info": {
   "codemirror_mode": {
    "name": "ipython",
    "version": 3
   },
   "file_extension": ".py",
   "mimetype": "text/x-python",
   "name": "python",
   "nbconvert_exporter": "python",
   "pygments_lexer": "ipython3",
   "version": "3.11.5"
  }
 },
 "nbformat": 4,
 "nbformat_minor": 5
}
