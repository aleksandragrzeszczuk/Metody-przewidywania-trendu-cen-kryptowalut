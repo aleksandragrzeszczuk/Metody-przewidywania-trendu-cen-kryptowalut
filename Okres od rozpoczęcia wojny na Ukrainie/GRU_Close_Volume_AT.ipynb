{
 "cells": [
  {
   "cell_type": "code",
   "execution_count": 1,
   "id": "745310cc",
   "metadata": {},
   "outputs": [],
   "source": [
    "import pandas as pd\n",
    "import optuna\n",
    "import yfinance as yf\n",
    "import pandas_datareader.data as web\n",
    "from datetime import datetime\n",
    "import numpy as np\n",
    "import pandas_ta as ta\n",
    "from keras.optimizers import Adam\n",
    "from keras.optimizers import SGD\n",
    "from keras.optimizers import Nadam\n",
    "from sklearn.metrics import confusion_matrix\n",
    "from tensorflow.keras.models import Sequential\n",
    "from tensorflow.keras.layers import Dense\n",
    "from tensorflow.keras.utils import to_categorical\n",
    "from keras.models import Sequential\n",
    "from keras.layers import Dense, Dropout\n",
    "from keras.regularizers import l2\n",
    "from keras.callbacks import EarlyStopping\n",
    "from sklearn.preprocessing import MinMaxScaler\n",
    "from keras.utils import plot_model\n",
    "from keras.layers import Dropout, Dense, GRU, LSTM, Flatten\n",
    "import matplotlib.pyplot as plt"
   ]
  },
  {
   "cell_type": "code",
   "execution_count": 2,
   "id": "ecfe67dc",
   "metadata": {},
   "outputs": [],
   "source": [
    "import warnings\n",
    "warnings.filterwarnings('ignore', category = pd.errors.PerformanceWarning)"
   ]
  },
  {
   "cell_type": "code",
   "execution_count": 3,
   "id": "3bdd371a",
   "metadata": {
    "scrolled": true
   },
   "outputs": [
    {
     "name": "stderr",
     "output_type": "stream",
     "text": [
      "\r",
      "[*********************100%%**********************]  1 of 1 completed"
     ]
    },
    {
     "name": "stdout",
     "output_type": "stream",
     "text": [
      "676\n",
      "(676, 69)\n"
     ]
    },
    {
     "name": "stderr",
     "output_type": "stream",
     "text": [
      "\n"
     ]
    }
   ],
   "source": [
    "# Pobieramy dane dotyczące BTC z yahoo\n",
    "BTC = yf.download('BTC-USD', start = '2022-02-24', end = '2024-01-01')\n",
    "\n",
    "BTC['Target'] = (BTC['Close'].diff() > 0).astype(int)\n",
    "\n",
    "def add_lagged_features(data, column_name, n_days):\n",
    "    for i in range(1, n_days + 1):\n",
    "        lagged_column_name = f'{column_name}_{i}d_back'\n",
    "        data[lagged_column_name] = data[column_name].shift(i)\n",
    "    return data\n",
    "\n",
    "BTC = add_lagged_features(BTC, 'Close', 30)\n",
    "BTC = add_lagged_features(BTC, 'Volume', 30)\n",
    "BTC = add_lagged_features(BTC, 'High', 1)\n",
    "BTC = add_lagged_features(BTC, 'Low', 1)\n",
    "\n",
    "# df = pd.DataFrame()\n",
    "# df = BTC.copy()\n",
    "# print(BTC.head())\n",
    "print(len(BTC))\n",
    "print(BTC.shape)"
   ]
  },
  {
   "cell_type": "code",
   "execution_count": 4,
   "id": "445cd5d4",
   "metadata": {},
   "outputs": [],
   "source": [
    "# SMA\n",
    "BTC['SMA'] = ta.sma(BTC['Close_1d_back'], length = 30)\n",
    "\n",
    "# MFI \n",
    "BTC['MFI'] = ta.mfi(BTC['High_1d_back'], BTC['Low_1d_back'], \n",
    "                    BTC['Close_1d_back'], BTC['Volume_1d_back'], length = 29)\n",
    "\n",
    "# RSI \n",
    "BTC['RSI'] = ta.rsi(BTC['Close_1d_back'], length = 29)\n",
    "\n",
    "# Bollinger Bands\n",
    "bollinger = ta.bbands(BTC['Close_1d_back'], length = 30, std = 2)\n",
    "BTC['BB_Upper'] = bollinger['BBU_30_2.0']\n",
    "BTC['BB_Middle'] = bollinger['BBM_30_2.0']\n",
    "BTC['BB_Lower'] = bollinger['BBL_30_2.0']\n",
    "\n",
    "# CCI \n",
    "BTC['CCI'] = ta.cci(BTC['High_1d_back'], BTC['Low_1d_back'], \n",
    "                    BTC['Close_1d_back'], length = 30)"
   ]
  },
  {
   "cell_type": "code",
   "execution_count": 5,
   "id": "3afd826c",
   "metadata": {},
   "outputs": [],
   "source": [
    "high_series = BTC['High_1d_back']\n",
    "low_series = BTC['Low_1d_back']\n",
    "close_series = BTC['Close_1d_back']\n",
    "\n",
    "# Wprowadzenie jasnych parametrów dla kanału Donchian\n",
    "donchian = ta.donchian(high = high_series, low = low_series, close = close_series, lower_length = 30, upper_length = 30)\n",
    "\n",
    "# Przypisanie wyników kanału Donchian do DataFrame\n",
    "BTC['Donchian_High'] = donchian['DCU_30_30']\n",
    "BTC['Donchian_Low'] = donchian['DCL_30_30']"
   ]
  },
  {
   "cell_type": "code",
   "execution_count": 6,
   "id": "bea0121c",
   "metadata": {},
   "outputs": [],
   "source": [
    "BTC = BTC.drop('Adj Close', axis=1)\n",
    "BTC = BTC.dropna().reset_index(drop = True)\n",
    "# BTC"
   ]
  },
  {
   "cell_type": "code",
   "execution_count": 7,
   "id": "148e7526",
   "metadata": {
    "scrolled": true
   },
   "outputs": [],
   "source": [
    "dataset = pd.DataFrame()\n",
    "dataset = BTC[['Open', 'High', 'Low', 'Close', 'Volume', 'SMA', 'MFI', 'RSI', 'BB_Upper', \n",
    "          'BB_Middle', 'BB_Lower', 'CCI', 'Donchian_High', 'Donchian_Low', 'Target']].copy()\n",
    "# dataset"
   ]
  },
  {
   "cell_type": "code",
   "execution_count": 8,
   "id": "a4639688",
   "metadata": {},
   "outputs": [],
   "source": [
    "n_steps_in = 20\n",
    "output_features = 2"
   ]
  },
  {
   "cell_type": "code",
   "execution_count": 9,
   "id": "c36088bd",
   "metadata": {},
   "outputs": [],
   "source": [
    "X_value = pd.DataFrame(dataset.iloc[:, :])\n",
    "X_value = X_value.drop('Target', axis='columns')\n",
    "# X_value"
   ]
  },
  {
   "cell_type": "code",
   "execution_count": 10,
   "id": "9eb64e54",
   "metadata": {},
   "outputs": [],
   "source": [
    "y_value = pd.DataFrame(dataset.Target)\n",
    "y_value = to_categorical(y_value)\n",
    "# y_value"
   ]
  },
  {
   "cell_type": "code",
   "execution_count": 11,
   "id": "d3d27bf1",
   "metadata": {},
   "outputs": [],
   "source": [
    "scaler = MinMaxScaler(feature_range=(-1, 1))\n",
    "scaler.fit(X_value)\n",
    "X_value = scaler.fit_transform(X_value)"
   ]
  },
  {
   "cell_type": "code",
   "execution_count": 12,
   "id": "b089df56",
   "metadata": {},
   "outputs": [],
   "source": [
    "def get_X_y(X_data, y_data):\n",
    "    X = list()\n",
    "    y = list()\n",
    "\n",
    "    length = len(X_data)\n",
    "    for i in range(0, length-n_steps_in, 1):\n",
    "        X_value = X_data[i: i + n_steps_in][:, :]\n",
    "        # y_value = y_data[i + n_steps_in: i + (n_steps_in + n_steps_out)][:, :]\n",
    "        y_value = y_data[i + n_steps_in]\n",
    "        if len(X_value) == n_steps_in and len(y_value) == output_features:\n",
    "            X.append(X_value)\n",
    "            y.append(y_value)\n",
    "\n",
    "    return np.array(X), np.array(y)"
   ]
  },
  {
   "cell_type": "code",
   "execution_count": 13,
   "id": "421d0771",
   "metadata": {},
   "outputs": [],
   "source": [
    "def split_train_test(data):\n",
    "    train_size = int(0.8 * len(X))\n",
    "    data_train = data[0:train_size]\n",
    "    data_test = data[train_size:]\n",
    "    return data_train, data_test"
   ]
  },
  {
   "cell_type": "code",
   "execution_count": 14,
   "id": "d239ce9e",
   "metadata": {},
   "outputs": [
    {
     "name": "stdout",
     "output_type": "stream",
     "text": [
      "X shape:  (626, 20, 14)\n",
      "y shape:  (626, 2)\n",
      "Train features shape:  (500, 20, 14)\n",
      "Test features shape:  (126, 20, 14)\n",
      "Train features shape:  (500, 2)\n",
      "Test features shape:  (126, 2)\n"
     ]
    }
   ],
   "source": [
    "X, y = get_X_y(X_value, y_value)\n",
    "print('X shape: ', X.shape)\n",
    "print('y shape: ', y.shape)\n",
    "train_features, test_features = split_train_test(X) \n",
    "train_target, test_target = split_train_test(y) \n",
    "\n",
    "print('Train features shape: ', train_features.shape)\n",
    "print('Test features shape: ', test_features.shape)\n",
    "print('Train features shape: ', train_target.shape)\n",
    "print('Test features shape: ', test_target.shape)"
   ]
  },
  {
   "cell_type": "code",
   "execution_count": 15,
   "id": "2450a260",
   "metadata": {},
   "outputs": [],
   "source": [
    "input_dim = train_features.shape[1]\n",
    "input_feature_size = train_features.shape[2]\n",
    "output_dim = train_target.shape[1]"
   ]
  },
  {
   "cell_type": "code",
   "execution_count": 16,
   "id": "0f4fece6",
   "metadata": {},
   "outputs": [],
   "source": [
    "N_EPOCH = 50\n",
    "BATCH_SIZE = 64\n",
    "\n",
    "def basic_GRU(input_dim, output_dim, input_feature_size):\n",
    "    model = Sequential()\n",
    "    model.add(GRU(units=63, return_sequences=True, activation='relu', input_shape=(input_dim, input_feature_size)))\n",
    "    model.add(Dropout(0.2))\n",
    "    model.add(GRU(250, return_sequences=False))\n",
    "    model.add(Dropout(0.2))\n",
    "    model.add(Dense(output_dim, activation='softmax'))\n",
    "\n",
    "    model.compile(optimizer='adam',\n",
    "              loss='categorical_crossentropy',\n",
    "              metrics=['accuracy'])\n",
    "    \n",
    "    history = model.fit(train_features, train_target, epochs=N_EPOCH, \n",
    "                        validation_data=(test_features, test_target),\n",
    "                        batch_size=BATCH_SIZE, verbose=2, shuffle=False)\n",
    "\n",
    "    return model, history"
   ]
  },
  {
   "cell_type": "code",
   "execution_count": 17,
   "id": "5b79d271",
   "metadata": {
    "scrolled": true
   },
   "outputs": [
    {
     "name": "stderr",
     "output_type": "stream",
     "text": [
      "C:\\Users\\48798\\anaconda3\\Lib\\site-packages\\keras\\src\\layers\\rnn\\rnn.py:204: UserWarning: Do not pass an `input_shape`/`input_dim` argument to a layer. When using Sequential models, prefer using an `Input(shape)` object as the first layer in the model instead.\n",
      "  super().__init__(**kwargs)\n"
     ]
    },
    {
     "name": "stdout",
     "output_type": "stream",
     "text": [
      "Epoch 1/50\n",
      "8/8 - 48s - 6s/step - accuracy: 0.5400 - loss: 0.6923 - val_accuracy: 0.4524 - val_loss: 0.7254\n",
      "Epoch 2/50\n",
      "8/8 - 4s - 480ms/step - accuracy: 0.5180 - loss: 0.7019 - val_accuracy: 0.4683 - val_loss: 0.7503\n",
      "Epoch 3/50\n",
      "8/8 - 3s - 333ms/step - accuracy: 0.5360 - loss: 0.6978 - val_accuracy: 0.4683 - val_loss: 0.7139\n",
      "Epoch 4/50\n",
      "8/8 - 2s - 297ms/step - accuracy: 0.5480 - loss: 0.6888 - val_accuracy: 0.4683 - val_loss: 0.7131\n",
      "Epoch 5/50\n",
      "8/8 - 3s - 382ms/step - accuracy: 0.5460 - loss: 0.6876 - val_accuracy: 0.4683 - val_loss: 0.7361\n",
      "Epoch 6/50\n",
      "8/8 - 4s - 450ms/step - accuracy: 0.5480 - loss: 0.6873 - val_accuracy: 0.4683 - val_loss: 0.7547\n",
      "Epoch 7/50\n",
      "8/8 - 5s - 666ms/step - accuracy: 0.5480 - loss: 0.6847 - val_accuracy: 0.4683 - val_loss: 0.7465\n",
      "Epoch 8/50\n",
      "8/8 - 3s - 366ms/step - accuracy: 0.5720 - loss: 0.6832 - val_accuracy: 0.4683 - val_loss: 0.7428\n",
      "Epoch 9/50\n",
      "8/8 - 3s - 406ms/step - accuracy: 0.5460 - loss: 0.6842 - val_accuracy: 0.4683 - val_loss: 0.7661\n",
      "Epoch 10/50\n",
      "8/8 - 4s - 531ms/step - accuracy: 0.5800 - loss: 0.6811 - val_accuracy: 0.4683 - val_loss: 0.7669\n",
      "Epoch 11/50\n",
      "8/8 - 4s - 478ms/step - accuracy: 0.5460 - loss: 0.6825 - val_accuracy: 0.4683 - val_loss: 0.7867\n",
      "Epoch 12/50\n",
      "8/8 - 4s - 491ms/step - accuracy: 0.5880 - loss: 0.6752 - val_accuracy: 0.4762 - val_loss: 0.7493\n",
      "Epoch 13/50\n",
      "8/8 - 4s - 528ms/step - accuracy: 0.5700 - loss: 0.6808 - val_accuracy: 0.4683 - val_loss: 0.8317\n",
      "Epoch 14/50\n",
      "8/8 - 3s - 380ms/step - accuracy: 0.5840 - loss: 0.6744 - val_accuracy: 0.4683 - val_loss: 0.7344\n",
      "Epoch 15/50\n",
      "8/8 - 5s - 647ms/step - accuracy: 0.5700 - loss: 0.6766 - val_accuracy: 0.4683 - val_loss: 0.8633\n",
      "Epoch 16/50\n",
      "8/8 - 3s - 381ms/step - accuracy: 0.5680 - loss: 0.6785 - val_accuracy: 0.4683 - val_loss: 0.7686\n",
      "Epoch 17/50\n",
      "8/8 - 5s - 577ms/step - accuracy: 0.5600 - loss: 0.6747 - val_accuracy: 0.4762 - val_loss: 0.7542\n",
      "Epoch 18/50\n",
      "8/8 - 2s - 275ms/step - accuracy: 0.5520 - loss: 0.6865 - val_accuracy: 0.4683 - val_loss: 0.8623\n",
      "Epoch 19/50\n",
      "8/8 - 3s - 417ms/step - accuracy: 0.5520 - loss: 0.6841 - val_accuracy: 0.4683 - val_loss: 0.7716\n",
      "Epoch 20/50\n",
      "8/8 - 3s - 355ms/step - accuracy: 0.5720 - loss: 0.6758 - val_accuracy: 0.4683 - val_loss: 0.7687\n",
      "Epoch 21/50\n",
      "8/8 - 3s - 397ms/step - accuracy: 0.5860 - loss: 0.6722 - val_accuracy: 0.4683 - val_loss: 0.8322\n",
      "Epoch 22/50\n",
      "8/8 - 2s - 221ms/step - accuracy: 0.5760 - loss: 0.6696 - val_accuracy: 0.4683 - val_loss: 0.8588\n",
      "Epoch 23/50\n",
      "8/8 - 3s - 401ms/step - accuracy: 0.5780 - loss: 0.6695 - val_accuracy: 0.4683 - val_loss: 0.8251\n",
      "Epoch 24/50\n",
      "8/8 - 3s - 329ms/step - accuracy: 0.5820 - loss: 0.6671 - val_accuracy: 0.4683 - val_loss: 0.8606\n",
      "Epoch 25/50\n",
      "8/8 - 3s - 399ms/step - accuracy: 0.5900 - loss: 0.6587 - val_accuracy: 0.4683 - val_loss: 0.9062\n",
      "Epoch 26/50\n",
      "8/8 - 2s - 300ms/step - accuracy: 0.5760 - loss: 0.6633 - val_accuracy: 0.4683 - val_loss: 0.8725\n",
      "Epoch 27/50\n",
      "8/8 - 3s - 342ms/step - accuracy: 0.6060 - loss: 0.6568 - val_accuracy: 0.4762 - val_loss: 0.8908\n",
      "Epoch 28/50\n",
      "8/8 - 2s - 261ms/step - accuracy: 0.5940 - loss: 0.6625 - val_accuracy: 0.4762 - val_loss: 0.8627\n",
      "Epoch 29/50\n",
      "8/8 - 3s - 329ms/step - accuracy: 0.5880 - loss: 0.6579 - val_accuracy: 0.5159 - val_loss: 0.8485\n",
      "Epoch 30/50\n",
      "8/8 - 3s - 331ms/step - accuracy: 0.6060 - loss: 0.6507 - val_accuracy: 0.5159 - val_loss: 0.9011\n",
      "Epoch 31/50\n",
      "8/8 - 2s - 311ms/step - accuracy: 0.5760 - loss: 0.6717 - val_accuracy: 0.5159 - val_loss: 0.9315\n",
      "Epoch 32/50\n",
      "8/8 - 2s - 285ms/step - accuracy: 0.5620 - loss: 0.6922 - val_accuracy: 0.4841 - val_loss: 0.8822\n",
      "Epoch 33/50\n",
      "8/8 - 3s - 356ms/step - accuracy: 0.5820 - loss: 0.6772 - val_accuracy: 0.4683 - val_loss: 0.9610\n",
      "Epoch 34/50\n",
      "8/8 - 2s - 300ms/step - accuracy: 0.5760 - loss: 0.6710 - val_accuracy: 0.4683 - val_loss: 0.8835\n",
      "Epoch 35/50\n",
      "8/8 - 2s - 251ms/step - accuracy: 0.5820 - loss: 0.6621 - val_accuracy: 0.4762 - val_loss: 0.8312\n",
      "Epoch 36/50\n",
      "8/8 - 2s - 251ms/step - accuracy: 0.6080 - loss: 0.6535 - val_accuracy: 0.5000 - val_loss: 0.8580\n",
      "Epoch 37/50\n",
      "8/8 - 2s - 218ms/step - accuracy: 0.6080 - loss: 0.6504 - val_accuracy: 0.4921 - val_loss: 0.8793\n",
      "Epoch 38/50\n",
      "8/8 - 2s - 231ms/step - accuracy: 0.6140 - loss: 0.6451 - val_accuracy: 0.5159 - val_loss: 1.0021\n",
      "Epoch 39/50\n",
      "8/8 - 2s - 195ms/step - accuracy: 0.5880 - loss: 0.6534 - val_accuracy: 0.4762 - val_loss: 0.9744\n",
      "Epoch 40/50\n",
      "8/8 - 1s - 183ms/step - accuracy: 0.6080 - loss: 0.6476 - val_accuracy: 0.4841 - val_loss: 1.0512\n",
      "Epoch 41/50\n",
      "8/8 - 2s - 257ms/step - accuracy: 0.6360 - loss: 0.6373 - val_accuracy: 0.4921 - val_loss: 0.9110\n",
      "Epoch 42/50\n",
      "8/8 - 2s - 198ms/step - accuracy: 0.6380 - loss: 0.6516 - val_accuracy: 0.4841 - val_loss: 1.4121\n",
      "Epoch 43/50\n",
      "8/8 - 2s - 208ms/step - accuracy: 0.5960 - loss: 0.6649 - val_accuracy: 0.4921 - val_loss: 0.7783\n",
      "Epoch 44/50\n",
      "8/8 - 2s - 195ms/step - accuracy: 0.6040 - loss: 0.6660 - val_accuracy: 0.5159 - val_loss: 0.8567\n",
      "Epoch 45/50\n",
      "8/8 - 2s - 197ms/step - accuracy: 0.6160 - loss: 0.6441 - val_accuracy: 0.4921 - val_loss: 0.9314\n",
      "Epoch 46/50\n",
      "8/8 - 2s - 199ms/step - accuracy: 0.6000 - loss: 0.6458 - val_accuracy: 0.4683 - val_loss: 0.9788\n",
      "Epoch 47/50\n",
      "8/8 - 2s - 234ms/step - accuracy: 0.6120 - loss: 0.6356 - val_accuracy: 0.4762 - val_loss: 0.9985\n",
      "Epoch 48/50\n",
      "8/8 - 2s - 237ms/step - accuracy: 0.6200 - loss: 0.6324 - val_accuracy: 0.4762 - val_loss: 1.0368\n",
      "Epoch 49/50\n",
      "8/8 - 2s - 241ms/step - accuracy: 0.6280 - loss: 0.6332 - val_accuracy: 0.4762 - val_loss: 1.0257\n",
      "Epoch 50/50\n",
      "8/8 - 2s - 238ms/step - accuracy: 0.6500 - loss: 0.6194 - val_accuracy: 0.4683 - val_loss: 1.0664\n"
     ]
    }
   ],
   "source": [
    "model, history = basic_GRU(input_dim, output_dim, input_feature_size)"
   ]
  },
  {
   "cell_type": "code",
   "execution_count": 18,
   "id": "65419d2a",
   "metadata": {},
   "outputs": [
    {
     "name": "stdout",
     "output_type": "stream",
     "text": [
      "\u001b[1m16/16\u001b[0m \u001b[32m━━━━━━━━━━━━━━━━━━━━\u001b[0m\u001b[37m\u001b[0m \u001b[1m1s\u001b[0m 57ms/step - accuracy: 0.6576 - loss: 0.5884\n",
      "Train loss: 0.6098342537879944\n",
      "Train accuracy: 0.6660000085830688\n",
      "\u001b[1m4/4\u001b[0m \u001b[32m━━━━━━━━━━━━━━━━━━━━\u001b[0m\u001b[37m\u001b[0m \u001b[1m0s\u001b[0m 52ms/step - accuracy: 0.4883 - loss: 0.9493\n",
      "Test loss: 1.0663526058197021\n",
      "Test accuracy: 0.4682539701461792\n"
     ]
    }
   ],
   "source": [
    "# Ocena modelu na danych treningowych\n",
    "train_performance = model.evaluate(train_features, train_target)\n",
    "print('Train loss:', train_performance[0])\n",
    "print('Train accuracy:', train_performance[1])\n",
    "\n",
    "test_performance = model.evaluate(test_features, test_target)\n",
    "print('Test loss:', test_performance[0])\n",
    "print('Test accuracy:', test_performance[1])"
   ]
  },
  {
   "cell_type": "code",
   "execution_count": 19,
   "id": "4bce4c33",
   "metadata": {},
   "outputs": [
    {
     "name": "stdout",
     "output_type": "stream",
     "text": [
      "\u001b[1m16/16\u001b[0m \u001b[32m━━━━━━━━━━━━━━━━━━━━\u001b[0m\u001b[37m\u001b[0m \u001b[1m4s\u001b[0m 141ms/step\n",
      "135\n",
      "198\n",
      "70\n",
      "97\n",
      "Accuracy (ACC): 0.666\n",
      "True Positive Rate (TPR): 0.5818965517241379\n",
      "False Positive Rate (FPR): 0.26119402985074625\n",
      "True Negative Rate (TNR): 0.7388059701492538\n",
      "Positive Predictive Value (PPV): 0.6585365853658537\n",
      "Negative Predictive Value (NPV): 0.6711864406779661\n"
     ]
    }
   ],
   "source": [
    "# Predykcja na zbiorze treningowym\n",
    "train_predictions = model.predict(train_features)\n",
    "train_predictions = np.argmax(train_predictions, axis = 1)\n",
    "train_true = np.argmax(train_target, axis = 1)\n",
    "\n",
    "# Obliczanie macierzy pomyłek\n",
    "cm = confusion_matrix(train_true, train_predictions)\n",
    "TP = cm[1, 1]  # True Positives\n",
    "TN = cm[0, 0]  # True Negatives\n",
    "FP = cm[0, 1]  # False Positives\n",
    "FN = cm[1, 0]  # False Negatives\n",
    "\n",
    "print(TP)\n",
    "print(TN)\n",
    "print(FP)\n",
    "print(FN)\n",
    "\n",
    "# TPR, FPR, TNR, PPV, NPV\n",
    "ACC = (TP + TN) / (TP + TN + FP + FN)\n",
    "TPR = TP / (TP + FN)\n",
    "FPR = FP / (FP + TN)\n",
    "TNR = TN / (TN + FP)\n",
    "PPV = TP / (TP + FP)\n",
    "NPV = TN / (TN + FN)\n",
    "\n",
    "print('Accuracy (ACC):', ACC)\n",
    "print('True Positive Rate (TPR):', TPR)\n",
    "print('False Positive Rate (FPR):', FPR)\n",
    "print('True Negative Rate (TNR):', TNR)\n",
    "print('Positive Predictive Value (PPV):', PPV)\n",
    "print('Negative Predictive Value (NPV):', NPV)"
   ]
  },
  {
   "cell_type": "code",
   "execution_count": 20,
   "id": "8e441350",
   "metadata": {},
   "outputs": [
    {
     "name": "stdout",
     "output_type": "stream",
     "text": [
      "\u001b[1m4/4\u001b[0m \u001b[32m━━━━━━━━━━━━━━━━━━━━\u001b[0m\u001b[37m\u001b[0m \u001b[1m0s\u001b[0m 33ms/step\n",
      "4\n",
      "55\n",
      "4\n",
      "63\n",
      "Accuracy (ACC): 0.46825396825396826\n",
      "True Positive Rate (TPR): 0.05970149253731343\n",
      "False Positive Rate (FPR): 0.06779661016949153\n",
      "True Negative Rate (TNR): 0.9322033898305084\n",
      "Positive Predictive Value (PPV): 0.5\n",
      "Negative Predictive Value (NPV): 0.4661016949152542\n"
     ]
    }
   ],
   "source": [
    "# Predykcja na zbiorze testowym\n",
    "test_predictions = model.predict(test_features)\n",
    "test_predictions = np.argmax(test_predictions, axis = 1)\n",
    "test_true = np.argmax(test_target, axis = 1)\n",
    "\n",
    "# Obliczanie macierzy pomyłek\n",
    "cm = confusion_matrix(test_true, test_predictions)\n",
    "TP = cm[1, 1]  # True Positives\n",
    "TN = cm[0, 0]  # True Negatives\n",
    "FP = cm[0, 1]  # False Positives\n",
    "FN = cm[1, 0]  # False Negatives\n",
    "\n",
    "print(TP)\n",
    "print(TN)\n",
    "print(FP)\n",
    "print(FN)\n",
    "\n",
    "# TPR, FPR, TNR, PPV, NPV\n",
    "ACC = (TP + TN) / (TP + TN + FP + FN)\n",
    "TPR = TP / (TP + FN)\n",
    "FPR = FP / (FP + TN)\n",
    "TNR = TN / (TN + FP)\n",
    "PPV = TP / (TP + FP)\n",
    "NPV = TN / (TN + FN)\n",
    "\n",
    "print('Accuracy (ACC):', ACC)\n",
    "print('True Positive Rate (TPR):', TPR)\n",
    "print('False Positive Rate (FPR):', FPR)\n",
    "print('True Negative Rate (TNR):', TNR)\n",
    "print('Positive Predictive Value (PPV):', PPV)\n",
    "print('Negative Predictive Value (NPV):', NPV)"
   ]
  },
  {
   "cell_type": "code",
   "execution_count": 21,
   "id": "138343a9",
   "metadata": {
    "scrolled": false
   },
   "outputs": [
    {
     "data": {
      "image/png": "[encoded data removed]",
      "text/plain": [
       "<Figure size 640x480 with 1 Axes>"
      ]
     },
     "metadata": {},
     "output_type": "display_data"
    }
   ],
   "source": [
    "plt.plot(history.history[\"accuracy\"], label=\"train\")\n",
    "plt.plot(history.history[\"val_accuracy\"], label=\"test\")\n",
    "plt.title(\"Skuteczność - GRU\")\n",
    "plt.xlabel(\"Epoch\")\n",
    "plt.ylabel(\"Accuracy\")\n",
    "plt.xticks(np.arange(0, N_EPOCH, step=5))\n",
    "plt.yticks(np.arange(0, 1, step=0.1))\n",
    "plt.legend()\n",
    "plt.show()"
   ]
  },
  {
   "cell_type": "code",
   "execution_count": 22,
   "id": "8e1ebd56",
   "metadata": {},
   "outputs": [
    {
     "data": {
      "image/png": "[encoded data removed]",
      "text/plain": [
       "<Figure size 640x480 with 1 Axes>"
      ]
     },
     "metadata": {},
     "output_type": "display_data"
    }
   ],
   "source": [
    "plt.plot(history.history[\"loss\"], label=\"train\")\n",
    "plt.plot(history.history[\"val_loss\"], label=\"test\")\n",
    "plt.title(\"Funkcja strat - GRU\")\n",
    "plt.xlabel(\"Epoch\")\n",
    "plt.ylabel(\"Loss\")\n",
    "plt.xticks(np.arange(0, N_EPOCH, step=5))\n",
    "plt.yticks(np.arange(0, 1, step=0.1))\n",
    "plt.legend()\n",
    "plt.show()"
   ]
  }
 ],
 "metadata": {
  "kernelspec": {
   "display_name": "Python 3 (ipykernel)",
   "language": "python",
   "name": "python3"
  },
  "language_info": {
   "codemirror_mode": {
    "name": "ipython",
    "version": 3
   },
   "file_extension": ".py",
   "mimetype": "text/x-python",
   "name": "python",
   "nbconvert_exporter": "python",
   "pygments_lexer": "ipython3",
   "version": "3.11.5"
  }
 },
 "nbformat": 4,
 "nbformat_minor": 5
}
