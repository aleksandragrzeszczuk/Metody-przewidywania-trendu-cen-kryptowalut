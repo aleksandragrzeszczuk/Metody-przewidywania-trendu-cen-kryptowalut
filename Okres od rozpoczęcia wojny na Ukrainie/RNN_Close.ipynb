{
 "cells": [
  {
   "cell_type": "code",
   "execution_count": 1,
   "id": "c1432d40",
   "metadata": {},
   "outputs": [],
   "source": [
    "from keras.models import Sequential\n",
    "from keras.layers import SimpleRNN, Dense, Dropout\n",
    "from keras.optimizers import Adam"
   ]
  },
  {
   "cell_type": "code",
   "execution_count": 2,
   "id": "745310cc",
   "metadata": {},
   "outputs": [],
   "source": [
    "import pandas as pd\n",
    "import optuna\n",
    "import yfinance as yf\n",
    "import pandas_datareader.data as web\n",
    "from datetime import datetime\n",
    "import numpy as np\n",
    "import pandas_ta as ta\n",
    "from keras.optimizers import Adam\n",
    "from keras.optimizers import SGD\n",
    "from keras.optimizers import Nadam\n",
    "from sklearn.metrics import confusion_matrix\n",
    "from tensorflow.keras.models import Sequential\n",
    "from tensorflow.keras.layers import Dense\n",
    "from tensorflow.keras.utils import to_categorical\n",
    "from keras.models import Sequential\n",
    "from keras.layers import Dense, Dropout\n",
    "from keras.regularizers import l2\n",
    "from keras.callbacks import EarlyStopping\n",
    "from sklearn.preprocessing import MinMaxScaler\n",
    "from keras.utils import plot_model\n",
    "from keras.layers import Dropout, Dense, GRU, LSTM, Flatten\n",
    "import matplotlib.pyplot as plt"
   ]
  },
  {
   "cell_type": "code",
   "execution_count": 3,
   "id": "ecfe67dc",
   "metadata": {},
   "outputs": [],
   "source": [
    "import warnings\n",
    "warnings.filterwarnings('ignore', category = pd.errors.PerformanceWarning)"
   ]
  },
  {
   "cell_type": "code",
   "execution_count": 4,
   "id": "3bdd371a",
   "metadata": {
    "scrolled": true
   },
   "outputs": [
    {
     "name": "stderr",
     "output_type": "stream",
     "text": [
      "\r",
      "[*********************100%%**********************]  1 of 1 completed"
     ]
    },
    {
     "name": "stdout",
     "output_type": "stream",
     "text": [
      "676\n",
      "(676, 37)\n"
     ]
    },
    {
     "name": "stderr",
     "output_type": "stream",
     "text": [
      "\n"
     ]
    }
   ],
   "source": [
    "# Pobieramy dane dotyczące BTC z yahoo\n",
    "BTC = yf.download('BTC-USD', start = '2022-02-24', end = '2024-01-01')\n",
    "\n",
    "BTC['Target'] = (BTC['Close'].diff() > 0).astype(int)\n",
    "\n",
    "def add_lagged_features(data, column_name, n_days):\n",
    "    for i in range(1, n_days + 1):\n",
    "        lagged_column_name = f'{column_name}_{i}d_back'\n",
    "        data[lagged_column_name] = data[column_name].shift(i)\n",
    "    return data\n",
    "\n",
    "BTC = add_lagged_features(BTC, 'Close', 30)\n",
    "\n",
    "# df = pd.DataFrame()\n",
    "# df = BTC.copy()\n",
    "# print(BTC.head())\n",
    "print(len(BTC))\n",
    "print(BTC.shape)"
   ]
  },
  {
   "cell_type": "code",
   "execution_count": 5,
   "id": "bea0121c",
   "metadata": {},
   "outputs": [],
   "source": [
    "BTC = BTC.drop('Adj Close', axis=1)\n",
    "BTC = BTC.dropna().reset_index(drop = True)\n",
    "# BTC"
   ]
  },
  {
   "cell_type": "code",
   "execution_count": 6,
   "id": "148e7526",
   "metadata": {
    "scrolled": true
   },
   "outputs": [],
   "source": [
    "dataset = pd.DataFrame()\n",
    "dataset = BTC[['Open', 'High', 'Low', 'Close', 'Volume', 'Target']].copy()\n",
    "# dataset"
   ]
  },
  {
   "cell_type": "code",
   "execution_count": 7,
   "id": "a4639688",
   "metadata": {},
   "outputs": [],
   "source": [
    "n_steps_in = 20\n",
    "output_features = 2"
   ]
  },
  {
   "cell_type": "code",
   "execution_count": 8,
   "id": "c36088bd",
   "metadata": {},
   "outputs": [],
   "source": [
    "X_value = pd.DataFrame(dataset.iloc[:, :])\n",
    "X_value = X_value.drop('Target', axis='columns')\n",
    "# X_value"
   ]
  },
  {
   "cell_type": "code",
   "execution_count": 9,
   "id": "9eb64e54",
   "metadata": {},
   "outputs": [],
   "source": [
    "y_value = pd.DataFrame(dataset.Target)\n",
    "y_value = to_categorical(y_value)\n",
    "# y_value"
   ]
  },
  {
   "cell_type": "code",
   "execution_count": 10,
   "id": "d3d27bf1",
   "metadata": {},
   "outputs": [],
   "source": [
    "scaler = MinMaxScaler(feature_range=(-1, 1))\n",
    "scaler.fit(X_value)\n",
    "X_value = scaler.fit_transform(X_value)"
   ]
  },
  {
   "cell_type": "code",
   "execution_count": 11,
   "id": "b089df56",
   "metadata": {},
   "outputs": [],
   "source": [
    "def get_X_y(X_data, y_data):\n",
    "    X = list()\n",
    "    y = list()\n",
    "\n",
    "    length = len(X_data)\n",
    "    for i in range(0, length-n_steps_in, 1):\n",
    "        X_value = X_data[i: i + n_steps_in][:, :]\n",
    "        # y_value = y_data[i + n_steps_in: i + (n_steps_in + n_steps_out)][:, :]\n",
    "        y_value = y_data[i + n_steps_in]\n",
    "        if len(X_value) == n_steps_in and len(y_value) == output_features:\n",
    "            X.append(X_value)\n",
    "            y.append(y_value)\n",
    "\n",
    "    return np.array(X), np.array(y)"
   ]
  },
  {
   "cell_type": "code",
   "execution_count": 12,
   "id": "421d0771",
   "metadata": {},
   "outputs": [],
   "source": [
    "def split_train_test(data):\n",
    "    train_size = int(0.8 * len(X))\n",
    "    data_train = data[0:train_size]\n",
    "    data_test = data[train_size:]\n",
    "    return data_train, data_test"
   ]
  },
  {
   "cell_type": "code",
   "execution_count": 13,
   "id": "d239ce9e",
   "metadata": {},
   "outputs": [
    {
     "name": "stdout",
     "output_type": "stream",
     "text": [
      "X shape:  (626, 20, 5)\n",
      "y shape:  (626, 2)\n",
      "Train features shape:  (500, 20, 5)\n",
      "Test features shape:  (126, 20, 5)\n",
      "Train features shape:  (500, 2)\n",
      "Test features shape:  (126, 2)\n"
     ]
    }
   ],
   "source": [
    "X, y = get_X_y(X_value, y_value)\n",
    "print('X shape: ', X.shape)\n",
    "print('y shape: ', y.shape)\n",
    "train_features, test_features = split_train_test(X) \n",
    "train_target, test_target = split_train_test(y) \n",
    "\n",
    "print('Train features shape: ', train_features.shape)\n",
    "print('Test features shape: ', test_features.shape)\n",
    "print('Train features shape: ', train_target.shape)\n",
    "print('Test features shape: ', test_target.shape)"
   ]
  },
  {
   "cell_type": "code",
   "execution_count": 14,
   "id": "2450a260",
   "metadata": {},
   "outputs": [],
   "source": [
    "input_dim = train_features.shape[1]\n",
    "input_feature_size = train_features.shape[2]\n",
    "output_dim = train_target.shape[1]"
   ]
  },
  {
   "cell_type": "code",
   "execution_count": 15,
   "id": "0f4fece6",
   "metadata": {},
   "outputs": [],
   "source": [
    "N_EPOCH = 50\n",
    "BATCH_SIZE = 64\n",
    "\n",
    "def basic_simpleRNN(input_dim, output_dim, input_feature_size):\n",
    "    model = Sequential()\n",
    "    model.add(SimpleRNN(units=63, return_sequences=True, activation='relu', input_shape=(input_dim, input_feature_size)))\n",
    "    model.add(Dropout(0.2))\n",
    "    model.add(SimpleRNN(250, return_sequences=False))\n",
    "    model.add(Dropout(0.2))\n",
    "    model.add(Dense(output_dim, activation='softmax'))\n",
    "\n",
    "    model.compile(optimizer=Adam(),\n",
    "                  loss='categorical_crossentropy',\n",
    "                  metrics=['accuracy'])\n",
    "    \n",
    "    history = model.fit(train_features, train_target, epochs = N_EPOCH, \n",
    "                        validation_data = (test_features, test_target),\n",
    "                        batch_size = BATCH_SIZE, verbose = 2, shuffle = False)\n",
    "\n",
    "    return model, history"
   ]
  },
  {
   "cell_type": "code",
   "execution_count": 16,
   "id": "5b79d271",
   "metadata": {
    "scrolled": true
   },
   "outputs": [
    {
     "name": "stderr",
     "output_type": "stream",
     "text": [
      "C:\\Users\\48798\\anaconda3\\Lib\\site-packages\\keras\\src\\layers\\rnn\\rnn.py:204: UserWarning: Do not pass an `input_shape`/`input_dim` argument to a layer. When using Sequential models, prefer using an `Input(shape)` object as the first layer in the model instead.\n",
      "  super().__init__(**kwargs)\n"
     ]
    },
    {
     "name": "stdout",
     "output_type": "stream",
     "text": [
      "Epoch 1/50\n",
      "8/8 - 13s - 2s/step - accuracy: 0.4960 - loss: 0.8128 - val_accuracy: 0.4841 - val_loss: 0.8064\n",
      "Epoch 2/50\n",
      "8/8 - 1s - 95ms/step - accuracy: 0.5080 - loss: 0.7309 - val_accuracy: 0.4286 - val_loss: 0.7014\n",
      "Epoch 3/50\n",
      "8/8 - 1s - 94ms/step - accuracy: 0.4960 - loss: 0.7046 - val_accuracy: 0.4524 - val_loss: 0.7079\n",
      "Epoch 4/50\n",
      "8/8 - 1s - 65ms/step - accuracy: 0.5240 - loss: 0.7208 - val_accuracy: 0.4683 - val_loss: 0.7190\n",
      "Epoch 5/50\n",
      "8/8 - 1s - 74ms/step - accuracy: 0.5440 - loss: 0.7197 - val_accuracy: 0.4683 - val_loss: 0.7406\n",
      "Epoch 6/50\n",
      "8/8 - 1s - 96ms/step - accuracy: 0.5320 - loss: 0.7102 - val_accuracy: 0.4683 - val_loss: 0.7422\n",
      "Epoch 7/50\n",
      "8/8 - 1s - 96ms/step - accuracy: 0.5700 - loss: 0.6996 - val_accuracy: 0.4444 - val_loss: 0.7262\n",
      "Epoch 8/50\n",
      "8/8 - 1s - 68ms/step - accuracy: 0.5240 - loss: 0.7397 - val_accuracy: 0.4444 - val_loss: 0.7475\n",
      "Epoch 9/50\n",
      "8/8 - 1s - 71ms/step - accuracy: 0.4960 - loss: 0.7163 - val_accuracy: 0.4683 - val_loss: 0.7642\n",
      "Epoch 10/50\n",
      "8/8 - 1s - 80ms/step - accuracy: 0.5260 - loss: 0.7061 - val_accuracy: 0.4603 - val_loss: 0.7709\n",
      "Epoch 11/50\n",
      "8/8 - 1s - 69ms/step - accuracy: 0.5140 - loss: 0.7052 - val_accuracy: 0.4841 - val_loss: 0.7164\n",
      "Epoch 12/50\n",
      "8/8 - 1s - 91ms/step - accuracy: 0.5240 - loss: 0.7051 - val_accuracy: 0.4603 - val_loss: 0.7290\n",
      "Epoch 13/50\n",
      "8/8 - 1s - 82ms/step - accuracy: 0.4920 - loss: 0.7219 - val_accuracy: 0.4603 - val_loss: 0.7427\n",
      "Epoch 14/50\n",
      "8/8 - 1s - 95ms/step - accuracy: 0.5420 - loss: 0.7082 - val_accuracy: 0.4762 - val_loss: 0.7963\n",
      "Epoch 15/50\n",
      "8/8 - 1s - 175ms/step - accuracy: 0.5560 - loss: 0.6926 - val_accuracy: 0.4762 - val_loss: 0.7837\n",
      "Epoch 16/50\n",
      "8/8 - 1s - 83ms/step - accuracy: 0.5440 - loss: 0.7467 - val_accuracy: 0.4286 - val_loss: 0.7153\n",
      "Epoch 17/50\n",
      "8/8 - 1s - 79ms/step - accuracy: 0.5300 - loss: 0.7133 - val_accuracy: 0.4683 - val_loss: 0.7664\n",
      "Epoch 18/50\n",
      "8/8 - 1s - 111ms/step - accuracy: 0.5320 - loss: 0.7022 - val_accuracy: 0.4286 - val_loss: 0.7308\n",
      "Epoch 19/50\n",
      "8/8 - 1s - 87ms/step - accuracy: 0.5160 - loss: 0.7115 - val_accuracy: 0.4603 - val_loss: 0.7393\n",
      "Epoch 20/50\n",
      "8/8 - 1s - 77ms/step - accuracy: 0.5580 - loss: 0.6857 - val_accuracy: 0.4603 - val_loss: 0.7459\n",
      "Epoch 21/50\n",
      "8/8 - 1s - 98ms/step - accuracy: 0.5300 - loss: 0.6908 - val_accuracy: 0.4762 - val_loss: 0.7275\n",
      "Epoch 22/50\n",
      "8/8 - 1s - 78ms/step - accuracy: 0.5560 - loss: 0.6882 - val_accuracy: 0.4444 - val_loss: 0.7561\n",
      "Epoch 23/50\n",
      "8/8 - 1s - 92ms/step - accuracy: 0.5740 - loss: 0.6942 - val_accuracy: 0.4603 - val_loss: 0.7468\n",
      "Epoch 24/50\n",
      "8/8 - 1s - 156ms/step - accuracy: 0.6520 - loss: 0.6666 - val_accuracy: 0.4286 - val_loss: 0.7395\n",
      "Epoch 25/50\n",
      "8/8 - 1s - 78ms/step - accuracy: 0.5940 - loss: 0.6724 - val_accuracy: 0.4683 - val_loss: 0.7923\n",
      "Epoch 26/50\n",
      "8/8 - 1s - 81ms/step - accuracy: 0.5480 - loss: 0.7196 - val_accuracy: 0.4762 - val_loss: 0.7405\n",
      "Epoch 27/50\n",
      "8/8 - 1s - 98ms/step - accuracy: 0.5620 - loss: 0.6833 - val_accuracy: 0.4444 - val_loss: 0.7414\n",
      "Epoch 28/50\n",
      "8/8 - 1s - 93ms/step - accuracy: 0.5980 - loss: 0.6748 - val_accuracy: 0.5317 - val_loss: 0.7083\n",
      "Epoch 29/50\n",
      "8/8 - 1s - 77ms/step - accuracy: 0.5380 - loss: 0.7160 - val_accuracy: 0.4921 - val_loss: 0.8047\n",
      "Epoch 30/50\n",
      "8/8 - 1s - 79ms/step - accuracy: 0.5760 - loss: 0.6732 - val_accuracy: 0.4921 - val_loss: 0.7490\n",
      "Epoch 31/50\n",
      "8/8 - 1s - 81ms/step - accuracy: 0.5860 - loss: 0.6720 - val_accuracy: 0.4603 - val_loss: 0.7298\n",
      "Epoch 32/50\n",
      "8/8 - 1s - 78ms/step - accuracy: 0.5700 - loss: 0.6716 - val_accuracy: 0.4524 - val_loss: 0.8259\n",
      "Epoch 33/50\n",
      "8/8 - 1s - 116ms/step - accuracy: 0.5700 - loss: 0.6847 - val_accuracy: 0.4524 - val_loss: 0.7739\n",
      "Epoch 34/50\n",
      "8/8 - 1s - 100ms/step - accuracy: 0.6120 - loss: 0.6585 - val_accuracy: 0.4286 - val_loss: 0.7529\n",
      "Epoch 35/50\n",
      "8/8 - 1s - 79ms/step - accuracy: 0.6240 - loss: 0.6380 - val_accuracy: 0.4524 - val_loss: 0.7592\n",
      "Epoch 36/50\n",
      "8/8 - 1s - 98ms/step - accuracy: 0.5880 - loss: 0.6718 - val_accuracy: 0.4444 - val_loss: 0.7562\n",
      "Epoch 37/50\n",
      "8/8 - 1s - 163ms/step - accuracy: 0.5940 - loss: 0.6686 - val_accuracy: 0.4841 - val_loss: 0.8220\n",
      "Epoch 38/50\n",
      "8/8 - 1s - 130ms/step - accuracy: 0.6500 - loss: 0.6226 - val_accuracy: 0.4524 - val_loss: 0.7757\n",
      "Epoch 39/50\n",
      "8/8 - 1s - 166ms/step - accuracy: 0.6180 - loss: 0.6363 - val_accuracy: 0.4286 - val_loss: 0.7802\n",
      "Epoch 40/50\n",
      "8/8 - 1s - 181ms/step - accuracy: 0.6140 - loss: 0.6647 - val_accuracy: 0.4524 - val_loss: 0.7908\n",
      "Epoch 41/50\n",
      "8/8 - 1s - 110ms/step - accuracy: 0.6360 - loss: 0.6261 - val_accuracy: 0.4524 - val_loss: 0.8588\n",
      "Epoch 42/50\n",
      "8/8 - 1s - 79ms/step - accuracy: 0.6640 - loss: 0.6109 - val_accuracy: 0.4206 - val_loss: 0.7857\n",
      "Epoch 43/50\n",
      "8/8 - 1s - 127ms/step - accuracy: 0.6480 - loss: 0.6129 - val_accuracy: 0.4841 - val_loss: 0.7943\n",
      "Epoch 44/50\n",
      "8/8 - 1s - 90ms/step - accuracy: 0.6480 - loss: 0.6158 - val_accuracy: 0.4683 - val_loss: 0.7878\n",
      "Epoch 45/50\n",
      "8/8 - 1s - 82ms/step - accuracy: 0.6200 - loss: 0.6294 - val_accuracy: 0.4603 - val_loss: 0.8210\n",
      "Epoch 46/50\n",
      "8/8 - 1s - 89ms/step - accuracy: 0.6500 - loss: 0.6127 - val_accuracy: 0.4206 - val_loss: 0.9216\n",
      "Epoch 47/50\n",
      "8/8 - 1s - 159ms/step - accuracy: 0.6460 - loss: 0.6310 - val_accuracy: 0.4286 - val_loss: 0.7763\n",
      "Epoch 48/50\n",
      "8/8 - 1s - 103ms/step - accuracy: 0.6580 - loss: 0.6152 - val_accuracy: 0.4683 - val_loss: 0.8367\n",
      "Epoch 49/50\n",
      "8/8 - 1s - 127ms/step - accuracy: 0.6660 - loss: 0.5850 - val_accuracy: 0.4683 - val_loss: 0.8314\n",
      "Epoch 50/50\n",
      "8/8 - 1s - 99ms/step - accuracy: 0.7020 - loss: 0.5723 - val_accuracy: 0.4841 - val_loss: 0.8575\n"
     ]
    }
   ],
   "source": [
    "model, history = basic_simpleRNN(input_dim, output_dim, input_feature_size)"
   ]
  },
  {
   "cell_type": "code",
   "execution_count": 17,
   "id": "65419d2a",
   "metadata": {},
   "outputs": [
    {
     "name": "stdout",
     "output_type": "stream",
     "text": [
      "\u001b[1m16/16\u001b[0m \u001b[32m━━━━━━━━━━━━━━━━━━━━\u001b[0m\u001b[37m\u001b[0m \u001b[1m0s\u001b[0m 20ms/step - accuracy: 0.7280 - loss: 0.5280\n",
      "Train loss: 0.561420202255249\n",
      "Train accuracy: 0.6959999799728394\n",
      "\u001b[1m4/4\u001b[0m \u001b[32m━━━━━━━━━━━━━━━━━━━━\u001b[0m\u001b[37m\u001b[0m \u001b[1m0s\u001b[0m 23ms/step - accuracy: 0.4697 - loss: 0.8557\n",
      "Test loss: 0.8575466275215149\n",
      "Test accuracy: 0.4841269850730896\n"
     ]
    }
   ],
   "source": [
    "# Ocena modelu na danych treningowych\n",
    "train_performance = model.evaluate(train_features, train_target)\n",
    "print('Train loss:', train_performance[0])\n",
    "print('Train accuracy:', train_performance[1])\n",
    "\n",
    "test_performance = model.evaluate(test_features, test_target)\n",
    "print('Test loss:', test_performance[0])\n",
    "print('Test accuracy:', test_performance[1])"
   ]
  },
  {
   "cell_type": "code",
   "execution_count": 18,
   "id": "4bce4c33",
   "metadata": {},
   "outputs": [
    {
     "name": "stdout",
     "output_type": "stream",
     "text": [
      "\u001b[1m16/16\u001b[0m \u001b[32m━━━━━━━━━━━━━━━━━━━━\u001b[0m\u001b[37m\u001b[0m \u001b[1m5s\u001b[0m 142ms/step\n",
      "96\n",
      "252\n",
      "16\n",
      "136\n",
      "Accuracy (ACC): 0.696\n",
      "True Positive Rate (TPR): 0.41379310344827586\n",
      "False Positive Rate (FPR): 0.05970149253731343\n",
      "True Negative Rate (TNR): 0.9402985074626866\n",
      "Positive Predictive Value (PPV): 0.8571428571428571\n",
      "Negative Predictive Value (NPV): 0.6494845360824743\n"
     ]
    }
   ],
   "source": [
    "# Predykcja na zbiorze treningowym\n",
    "train_predictions = model.predict(train_features)\n",
    "train_predictions = np.argmax(train_predictions, axis = 1)\n",
    "train_true = np.argmax(train_target, axis = 1)\n",
    "\n",
    "# Obliczanie macierzy pomyłek\n",
    "cm = confusion_matrix(train_true, train_predictions)\n",
    "TP = cm[1, 1]  # True Positives\n",
    "TN = cm[0, 0]  # True Negatives\n",
    "FP = cm[0, 1]  # False Positives\n",
    "FN = cm[1, 0]  # False Negatives\n",
    "\n",
    "print(TP)\n",
    "print(TN)\n",
    "print(FP)\n",
    "print(FN)\n",
    "\n",
    "# TPR, FPR, TNR, PPV, NPV\n",
    "ACC = (TP + TN) / (TP + TN + FP + FN)\n",
    "TPR = TP / (TP + FN)\n",
    "FPR = FP / (FP + TN)\n",
    "TNR = TN / (TN + FP)\n",
    "PPV = TP / (TP + FP)\n",
    "NPV = TN / (TN + FN)\n",
    "\n",
    "print('Accuracy (ACC):', ACC)\n",
    "print('True Positive Rate (TPR):', TPR)\n",
    "print('False Positive Rate (FPR):', FPR)\n",
    "print('True Negative Rate (TNR):', TNR)\n",
    "print('Positive Predictive Value (PPV):', PPV)\n",
    "print('Negative Predictive Value (NPV):', NPV)"
   ]
  },
  {
   "cell_type": "code",
   "execution_count": 19,
   "id": "8e441350",
   "metadata": {},
   "outputs": [
    {
     "name": "stdout",
     "output_type": "stream",
     "text": [
      "\u001b[1m4/4\u001b[0m \u001b[32m━━━━━━━━━━━━━━━━━━━━\u001b[0m\u001b[37m\u001b[0m \u001b[1m0s\u001b[0m 19ms/step\n",
      "21\n",
      "40\n",
      "19\n",
      "46\n",
      "Accuracy (ACC): 0.48412698412698413\n",
      "True Positive Rate (TPR): 0.31343283582089554\n",
      "False Positive Rate (FPR): 0.3220338983050847\n",
      "True Negative Rate (TNR): 0.6779661016949152\n",
      "Positive Predictive Value (PPV): 0.525\n",
      "Negative Predictive Value (NPV): 0.46511627906976744\n"
     ]
    }
   ],
   "source": [
    "# Predykcja na zbiorze testowym\n",
    "test_predictions = model.predict(test_features)\n",
    "test_predictions = np.argmax(test_predictions, axis = 1)\n",
    "test_true = np.argmax(test_target, axis = 1)\n",
    "\n",
    "# Obliczanie macierzy pomyłek\n",
    "cm = confusion_matrix(test_true, test_predictions)\n",
    "TP = cm[1, 1]  # True Positives\n",
    "TN = cm[0, 0]  # True Negatives\n",
    "FP = cm[0, 1]  # False Positives\n",
    "FN = cm[1, 0]  # False Negatives\n",
    "\n",
    "print(TP)\n",
    "print(TN)\n",
    "print(FP)\n",
    "print(FN)\n",
    "\n",
    "# TPR, FPR, TNR, PPV, NPV\n",
    "ACC = (TP + TN) / (TP + TN + FP + FN)\n",
    "TPR = TP / (TP + FN)\n",
    "FPR = FP / (FP + TN)\n",
    "TNR = TN / (TN + FP)\n",
    "PPV = TP / (TP + FP)\n",
    "NPV = TN / (TN + FN)\n",
    "\n",
    "print('Accuracy (ACC):', ACC)\n",
    "print('True Positive Rate (TPR):', TPR)\n",
    "print('False Positive Rate (FPR):', FPR)\n",
    "print('True Negative Rate (TNR):', TNR)\n",
    "print('Positive Predictive Value (PPV):', PPV)\n",
    "print('Negative Predictive Value (NPV):', NPV)"
   ]
  }
 ],
 "metadata": {
  "kernelspec": {
   "display_name": "Python 3 (ipykernel)",
   "language": "python",
   "name": "python3"
  },
  "language_info": {
   "codemirror_mode": {
    "name": "ipython",
    "version": 3
   },
   "file_extension": ".py",
   "mimetype": "text/x-python",
   "name": "python",
   "nbconvert_exporter": "python",
   "pygments_lexer": "ipython3",
   "version": "3.11.5"
  }
 },
 "nbformat": 4,
 "nbformat_minor": 5
}
