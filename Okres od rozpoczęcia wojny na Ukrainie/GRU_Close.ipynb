{
 "cells": [
  {
   "cell_type": "code",
   "execution_count": 1,
   "id": "745310cc",
   "metadata": {},
   "outputs": [],
   "source": [
    "import pandas as pd\n",
    "import optuna\n",
    "import yfinance as yf\n",
    "import pandas_datareader.data as web\n",
    "from datetime import datetime\n",
    "import numpy as np\n",
    "import pandas_ta as ta\n",
    "from keras.optimizers import Adam\n",
    "from keras.optimizers import SGD\n",
    "from keras.optimizers import Nadam\n",
    "from sklearn.metrics import confusion_matrix\n",
    "from tensorflow.keras.models import Sequential\n",
    "from tensorflow.keras.layers import Dense\n",
    "from tensorflow.keras.utils import to_categorical\n",
    "from keras.models import Sequential\n",
    "from keras.layers import Dense, Dropout\n",
    "from keras.regularizers import l2\n",
    "from keras.callbacks import EarlyStopping\n",
    "from sklearn.preprocessing import MinMaxScaler\n",
    "from keras.utils import plot_model\n",
    "from keras.layers import Dropout, Dense, GRU, LSTM, Flatten\n",
    "import matplotlib.pyplot as plt"
   ]
  },
  {
   "cell_type": "code",
   "execution_count": 2,
   "id": "ecfe67dc",
   "metadata": {},
   "outputs": [],
   "source": [
    "import warnings\n",
    "warnings.filterwarnings('ignore', category = pd.errors.PerformanceWarning)"
   ]
  },
  {
   "cell_type": "code",
   "execution_count": 3,
   "id": "3bdd371a",
   "metadata": {
    "scrolled": true
   },
   "outputs": [
    {
     "name": "stderr",
     "output_type": "stream",
     "text": [
      "\r",
      "[*********************100%%**********************]  1 of 1 completed"
     ]
    },
    {
     "name": "stdout",
     "output_type": "stream",
     "text": [
      "676\n",
      "(676, 37)\n"
     ]
    },
    {
     "name": "stderr",
     "output_type": "stream",
     "text": [
      "\n"
     ]
    }
   ],
   "source": [
    "# Pobieramy dane dotyczące BTC z yahoo\n",
    "BTC = yf.download('BTC-USD', start = '2022-02-24', end = '2024-01-01')\n",
    "\n",
    "BTC['Target'] = (BTC['Close'].diff() > 0).astype(int)\n",
    "\n",
    "def add_lagged_features(data, column_name, n_days):\n",
    "    for i in range(1, n_days + 1):\n",
    "        lagged_column_name = f'{column_name}_{i}d_back'\n",
    "        data[lagged_column_name] = data[column_name].shift(i)\n",
    "    return data\n",
    "\n",
    "BTC = add_lagged_features(BTC, 'Close', 30)\n",
    "\n",
    "# df = pd.DataFrame()\n",
    "# df = BTC.copy()\n",
    "# print(BTC.head())\n",
    "print(len(BTC))\n",
    "print(BTC.shape)"
   ]
  },
  {
   "cell_type": "code",
   "execution_count": 4,
   "id": "bea0121c",
   "metadata": {},
   "outputs": [],
   "source": [
    "BTC = BTC.drop('Adj Close', axis=1)\n",
    "BTC = BTC.dropna().reset_index(drop = True)\n",
    "# BTC"
   ]
  },
  {
   "cell_type": "code",
   "execution_count": 5,
   "id": "148e7526",
   "metadata": {
    "scrolled": true
   },
   "outputs": [],
   "source": [
    "dataset = pd.DataFrame()\n",
    "dataset = BTC[['Open', 'High', 'Low', 'Close', 'Volume', 'Target']].copy()\n",
    "# dataset"
   ]
  },
  {
   "cell_type": "code",
   "execution_count": 6,
   "id": "a4639688",
   "metadata": {},
   "outputs": [],
   "source": [
    "n_steps_in = 20\n",
    "output_features = 2"
   ]
  },
  {
   "cell_type": "code",
   "execution_count": 7,
   "id": "c36088bd",
   "metadata": {},
   "outputs": [],
   "source": [
    "X_value = pd.DataFrame(dataset.iloc[:, :])\n",
    "X_value = X_value.drop('Target', axis = 'columns')\n",
    "# X_value"
   ]
  },
  {
   "cell_type": "code",
   "execution_count": 8,
   "id": "9eb64e54",
   "metadata": {},
   "outputs": [],
   "source": [
    "y_value = pd.DataFrame(dataset.Target)\n",
    "y_value = to_categorical(y_value)\n",
    "# y_value"
   ]
  },
  {
   "cell_type": "code",
   "execution_count": 9,
   "id": "d3d27bf1",
   "metadata": {},
   "outputs": [],
   "source": [
    "scaler = MinMaxScaler(feature_range = (-1, 1))\n",
    "scaler.fit(X_value)\n",
    "X_value = scaler.fit_transform(X_value)"
   ]
  },
  {
   "cell_type": "code",
   "execution_count": 10,
   "id": "b089df56",
   "metadata": {},
   "outputs": [],
   "source": [
    "def get_X_y(X_data, y_data):\n",
    "    X = list()\n",
    "    y = list()\n",
    "\n",
    "    length = len(X_data)\n",
    "    for i in range(0, length-n_steps_in, 1):\n",
    "        X_value = X_data[i: i + n_steps_in][:, :]\n",
    "        # y_value = y_data[i + n_steps_in: i + (n_steps_in + n_steps_out)][:, :]\n",
    "        y_value = y_data[i + n_steps_in]\n",
    "        if len(X_value) == n_steps_in and len(y_value) == output_features:\n",
    "            X.append(X_value)\n",
    "            y.append(y_value)\n",
    "\n",
    "    return np.array(X), np.array(y)"
   ]
  },
  {
   "cell_type": "code",
   "execution_count": 11,
   "id": "421d0771",
   "metadata": {},
   "outputs": [],
   "source": [
    "def split_train_test(data):\n",
    "    train_size = int(0.8 * len(X))\n",
    "    data_train = data[0:train_size]\n",
    "    data_test = data[train_size:]\n",
    "    return data_train, data_test"
   ]
  },
  {
   "cell_type": "code",
   "execution_count": 12,
   "id": "d239ce9e",
   "metadata": {},
   "outputs": [
    {
     "name": "stdout",
     "output_type": "stream",
     "text": [
      "X shape:  (626, 20, 5)\n",
      "y shape:  (626, 2)\n",
      "Train features shape:  (500, 20, 5)\n",
      "Test features shape:  (126, 20, 5)\n",
      "Train features shape:  (500, 2)\n",
      "Test features shape:  (126, 2)\n"
     ]
    }
   ],
   "source": [
    "X, y = get_X_y(X_value, y_value)\n",
    "print('X shape: ', X.shape)\n",
    "print('y shape: ', y.shape)\n",
    "train_features, test_features = split_train_test(X) \n",
    "train_target, test_target = split_train_test(y) \n",
    "\n",
    "print('Train features shape: ', train_features.shape)\n",
    "print('Test features shape: ', test_features.shape)\n",
    "print('Train features shape: ', train_target.shape)\n",
    "print('Test features shape: ', test_target.shape)"
   ]
  },
  {
   "cell_type": "code",
   "execution_count": 13,
   "id": "2450a260",
   "metadata": {},
   "outputs": [],
   "source": [
    "input_dim = train_features.shape[1]\n",
    "input_feature_size = train_features.shape[2]\n",
    "output_dim = train_target.shape[1]"
   ]
  },
  {
   "cell_type": "code",
   "execution_count": 14,
   "id": "0f4fece6",
   "metadata": {},
   "outputs": [],
   "source": [
    "N_EPOCH = 50\n",
    "BATCH_SIZE = 64\n",
    "\n",
    "def basic_GRU(input_dim, output_dim, input_feature_size):\n",
    "    model = Sequential()\n",
    "    model.add(GRU(units = 63, return_sequences = True, activation = 'relu', input_shape = (input_dim, input_feature_size)))\n",
    "    model.add(Dropout(0.2))\n",
    "    model.add(GRU(250, return_sequences = False))\n",
    "    model.add(Dropout(0.2))\n",
    "    model.add(Dense(output_dim, activation = 'softmax'))\n",
    "\n",
    "    model.compile(optimizer = 'adam',\n",
    "              loss = 'categorical_crossentropy',\n",
    "              metrics = ['accuracy'])\n",
    "    \n",
    "    history = model.fit(train_features, train_target, epochs = N_EPOCH, \n",
    "                        validation_data = (test_features, test_target),\n",
    "                        batch_size = BATCH_SIZE, verbose = 2, shuffle = False)\n",
    "\n",
    "    return model, history"
   ]
  },
  {
   "cell_type": "code",
   "execution_count": 15,
   "id": "5b79d271",
   "metadata": {
    "scrolled": true
   },
   "outputs": [
    {
     "name": "stderr",
     "output_type": "stream",
     "text": [
      "C:\\Users\\48798\\anaconda3\\Lib\\site-packages\\keras\\src\\layers\\rnn\\rnn.py:204: UserWarning: Do not pass an `input_shape`/`input_dim` argument to a layer. When using Sequential models, prefer using an `Input(shape)` object as the first layer in the model instead.\n",
      "  super().__init__(**kwargs)\n"
     ]
    },
    {
     "name": "stdout",
     "output_type": "stream",
     "text": [
      "Epoch 1/50\n",
      "8/8 - 18s - 2s/step - accuracy: 0.5200 - loss: 0.6960 - val_accuracy: 0.4683 - val_loss: 0.7149\n",
      "Epoch 2/50\n",
      "8/8 - 2s - 189ms/step - accuracy: 0.5080 - loss: 0.6945 - val_accuracy: 0.4683 - val_loss: 0.7252\n",
      "Epoch 3/50\n",
      "8/8 - 2s - 241ms/step - accuracy: 0.5360 - loss: 0.6893 - val_accuracy: 0.4683 - val_loss: 0.7231\n",
      "Epoch 4/50\n",
      "8/8 - 2s - 262ms/step - accuracy: 0.5220 - loss: 0.6910 - val_accuracy: 0.4683 - val_loss: 0.7218\n",
      "Epoch 5/50\n",
      "8/8 - 2s - 233ms/step - accuracy: 0.5440 - loss: 0.6880 - val_accuracy: 0.4683 - val_loss: 0.7288\n",
      "Epoch 6/50\n",
      "8/8 - 2s - 196ms/step - accuracy: 0.5480 - loss: 0.6908 - val_accuracy: 0.4683 - val_loss: 0.7297\n",
      "Epoch 7/50\n",
      "8/8 - 2s - 289ms/step - accuracy: 0.5340 - loss: 0.6884 - val_accuracy: 0.4683 - val_loss: 0.7289\n",
      "Epoch 8/50\n",
      "8/8 - 4s - 481ms/step - accuracy: 0.5420 - loss: 0.6880 - val_accuracy: 0.4683 - val_loss: 0.7295\n",
      "Epoch 9/50\n",
      "8/8 - 1s - 181ms/step - accuracy: 0.5560 - loss: 0.6887 - val_accuracy: 0.4683 - val_loss: 0.7306\n",
      "Epoch 10/50\n",
      "8/8 - 3s - 391ms/step - accuracy: 0.5380 - loss: 0.6891 - val_accuracy: 0.4683 - val_loss: 0.7282\n",
      "Epoch 11/50\n",
      "8/8 - 7s - 821ms/step - accuracy: 0.5420 - loss: 0.6890 - val_accuracy: 0.4683 - val_loss: 0.7287\n",
      "Epoch 12/50\n",
      "8/8 - 3s - 437ms/step - accuracy: 0.5400 - loss: 0.6883 - val_accuracy: 0.4683 - val_loss: 0.7297\n",
      "Epoch 13/50\n",
      "8/8 - 5s - 601ms/step - accuracy: 0.5520 - loss: 0.6880 - val_accuracy: 0.4683 - val_loss: 0.7365\n",
      "Epoch 14/50\n",
      "8/8 - 3s - 354ms/step - accuracy: 0.5440 - loss: 0.6869 - val_accuracy: 0.4683 - val_loss: 0.7247\n",
      "Epoch 15/50\n",
      "8/8 - 2s - 290ms/step - accuracy: 0.5480 - loss: 0.6871 - val_accuracy: 0.4683 - val_loss: 0.7343\n",
      "Epoch 16/50\n",
      "8/8 - 3s - 434ms/step - accuracy: 0.5100 - loss: 0.6884 - val_accuracy: 0.4683 - val_loss: 0.7273\n",
      "Epoch 17/50\n",
      "8/8 - 3s - 353ms/step - accuracy: 0.5560 - loss: 0.6844 - val_accuracy: 0.4683 - val_loss: 0.7644\n",
      "Epoch 18/50\n",
      "8/8 - 2s - 295ms/step - accuracy: 0.5700 - loss: 0.6841 - val_accuracy: 0.4921 - val_loss: 0.6998\n",
      "Epoch 19/50\n",
      "8/8 - 3s - 390ms/step - accuracy: 0.5400 - loss: 0.6876 - val_accuracy: 0.4683 - val_loss: 0.8825\n",
      "Epoch 20/50\n",
      "8/8 - 5s - 607ms/step - accuracy: 0.5140 - loss: 0.7002 - val_accuracy: 0.4683 - val_loss: 0.7611\n",
      "Epoch 21/50\n",
      "8/8 - 4s - 538ms/step - accuracy: 0.5360 - loss: 0.6857 - val_accuracy: 0.4683 - val_loss: 0.7316\n",
      "Epoch 22/50\n",
      "8/8 - 3s - 367ms/step - accuracy: 0.5420 - loss: 0.6861 - val_accuracy: 0.4683 - val_loss: 0.7224\n",
      "Epoch 23/50\n",
      "8/8 - 3s - 422ms/step - accuracy: 0.5580 - loss: 0.6851 - val_accuracy: 0.4683 - val_loss: 0.7283\n",
      "Epoch 24/50\n",
      "8/8 - 4s - 523ms/step - accuracy: 0.5500 - loss: 0.6852 - val_accuracy: 0.4683 - val_loss: 0.7372\n",
      "Epoch 25/50\n",
      "8/8 - 4s - 457ms/step - accuracy: 0.5520 - loss: 0.6849 - val_accuracy: 0.4683 - val_loss: 0.7354\n",
      "Epoch 26/50\n",
      "8/8 - 4s - 476ms/step - accuracy: 0.5840 - loss: 0.6813 - val_accuracy: 0.4683 - val_loss: 0.7364\n",
      "Epoch 27/50\n",
      "8/8 - 5s - 566ms/step - accuracy: 0.5540 - loss: 0.6801 - val_accuracy: 0.4683 - val_loss: 0.7305\n",
      "Epoch 28/50\n",
      "8/8 - 3s - 347ms/step - accuracy: 0.5600 - loss: 0.6816 - val_accuracy: 0.4683 - val_loss: 0.7243\n",
      "Epoch 29/50\n",
      "8/8 - 2s - 235ms/step - accuracy: 0.5540 - loss: 0.6802 - val_accuracy: 0.4683 - val_loss: 0.7401\n",
      "Epoch 30/50\n",
      "8/8 - 2s - 289ms/step - accuracy: 0.5380 - loss: 0.6820 - val_accuracy: 0.4683 - val_loss: 0.7472\n",
      "Epoch 31/50\n",
      "8/8 - 2s - 292ms/step - accuracy: 0.5500 - loss: 0.6769 - val_accuracy: 0.4683 - val_loss: 0.7479\n",
      "Epoch 32/50\n",
      "8/8 - 3s - 364ms/step - accuracy: 0.5440 - loss: 0.6795 - val_accuracy: 0.4762 - val_loss: 0.7372\n",
      "Epoch 33/50\n",
      "8/8 - 2s - 281ms/step - accuracy: 0.5760 - loss: 0.6778 - val_accuracy: 0.4683 - val_loss: 0.8132\n",
      "Epoch 34/50\n",
      "8/8 - 2s - 260ms/step - accuracy: 0.5820 - loss: 0.6698 - val_accuracy: 0.4683 - val_loss: 0.7352\n",
      "Epoch 35/50\n",
      "8/8 - 3s - 428ms/step - accuracy: 0.5760 - loss: 0.6767 - val_accuracy: 0.4841 - val_loss: 0.7917\n",
      "Epoch 36/50\n",
      "8/8 - 3s - 339ms/step - accuracy: 0.5840 - loss: 0.6714 - val_accuracy: 0.4683 - val_loss: 0.7780\n",
      "Epoch 37/50\n",
      "8/8 - 3s - 348ms/step - accuracy: 0.5520 - loss: 0.6738 - val_accuracy: 0.4603 - val_loss: 0.7499\n",
      "Epoch 38/50\n",
      "8/8 - 2s - 269ms/step - accuracy: 0.5500 - loss: 0.6816 - val_accuracy: 0.4683 - val_loss: 0.8152\n",
      "Epoch 39/50\n",
      "8/8 - 4s - 482ms/step - accuracy: 0.5820 - loss: 0.6704 - val_accuracy: 0.4683 - val_loss: 0.7787\n",
      "Epoch 40/50\n",
      "8/8 - 3s - 362ms/step - accuracy: 0.5840 - loss: 0.6718 - val_accuracy: 0.4762 - val_loss: 0.7449\n",
      "Epoch 41/50\n",
      "8/8 - 2s - 281ms/step - accuracy: 0.5540 - loss: 0.6728 - val_accuracy: 0.4762 - val_loss: 0.7698\n",
      "Epoch 42/50\n",
      "8/8 - 2s - 289ms/step - accuracy: 0.5580 - loss: 0.6761 - val_accuracy: 0.4683 - val_loss: 0.7425\n",
      "Epoch 43/50\n",
      "8/8 - 3s - 354ms/step - accuracy: 0.5740 - loss: 0.6764 - val_accuracy: 0.4286 - val_loss: 0.7843\n",
      "Epoch 44/50\n",
      "8/8 - 3s - 362ms/step - accuracy: 0.5400 - loss: 0.6883 - val_accuracy: 0.4683 - val_loss: 0.8837\n",
      "Epoch 45/50\n",
      "8/8 - 3s - 406ms/step - accuracy: 0.5540 - loss: 0.6851 - val_accuracy: 0.4683 - val_loss: 0.7303\n",
      "Epoch 46/50\n",
      "8/8 - 2s - 303ms/step - accuracy: 0.5760 - loss: 0.6791 - val_accuracy: 0.4683 - val_loss: 0.7172\n",
      "Epoch 47/50\n",
      "8/8 - 3s - 325ms/step - accuracy: 0.5800 - loss: 0.6763 - val_accuracy: 0.4683 - val_loss: 0.7308\n",
      "Epoch 48/50\n",
      "8/8 - 2s - 299ms/step - accuracy: 0.5720 - loss: 0.6788 - val_accuracy: 0.4683 - val_loss: 0.7383\n",
      "Epoch 49/50\n",
      "8/8 - 3s - 354ms/step - accuracy: 0.5620 - loss: 0.6746 - val_accuracy: 0.4683 - val_loss: 0.7557\n",
      "Epoch 50/50\n",
      "8/8 - 3s - 313ms/step - accuracy: 0.5720 - loss: 0.6719 - val_accuracy: 0.4683 - val_loss: 0.7660\n"
     ]
    }
   ],
   "source": [
    "model, history = basic_GRU(input_dim, output_dim, input_feature_size)"
   ]
  },
  {
   "cell_type": "code",
   "execution_count": 16,
   "id": "65419d2a",
   "metadata": {},
   "outputs": [
    {
     "name": "stdout",
     "output_type": "stream",
     "text": [
      "\u001b[1m16/16\u001b[0m \u001b[32m━━━━━━━━━━━━━━━━━━━━\u001b[0m\u001b[37m\u001b[0m \u001b[1m1s\u001b[0m 53ms/step - accuracy: 0.5928 - loss: 0.6573\n",
      "Train loss: 0.669292688369751\n",
      "Train accuracy: 0.578000009059906\n",
      "\u001b[1m4/4\u001b[0m \u001b[32m━━━━━━━━━━━━━━━━━━━━\u001b[0m\u001b[37m\u001b[0m \u001b[1m0s\u001b[0m 49ms/step - accuracy: 0.4915 - loss: 0.7304\n",
      "Test loss: 0.7660294771194458\n",
      "Test accuracy: 0.4682539701461792\n"
     ]
    }
   ],
   "source": [
    "# Ocena modelu na danych treningowych\n",
    "train_performance = model.evaluate(train_features, train_target)\n",
    "print('Train loss:', train_performance[0])\n",
    "print('Train accuracy:', train_performance[1])\n",
    "\n",
    "test_performance = model.evaluate(test_features, test_target)\n",
    "print('Test loss:', test_performance[0])\n",
    "print('Test accuracy:', test_performance[1])"
   ]
  },
  {
   "cell_type": "code",
   "execution_count": 17,
   "id": "4bce4c33",
   "metadata": {},
   "outputs": [
    {
     "name": "stdout",
     "output_type": "stream",
     "text": [
      "\u001b[1m16/16\u001b[0m \u001b[32m━━━━━━━━━━━━━━━━━━━━\u001b[0m\u001b[37m\u001b[0m \u001b[1m11s\u001b[0m 342ms/step\n",
      "70\n",
      "219\n",
      "49\n",
      "162\n",
      "Accuracy (ACC): 0.578\n",
      "True Positive Rate (TPR): 0.3017241379310345\n",
      "False Positive Rate (FPR): 0.1828358208955224\n",
      "True Negative Rate (TNR): 0.8171641791044776\n",
      "Positive Predictive Value (PPV): 0.5882352941176471\n",
      "Negative Predictive Value (NPV): 0.5748031496062992\n"
     ]
    }
   ],
   "source": [
    "# Predykcja na zbiorze treningowym\n",
    "train_predictions = model.predict(train_features)\n",
    "train_predictions = np.argmax(train_predictions, axis = 1)\n",
    "train_true = np.argmax(train_target, axis = 1)\n",
    "\n",
    "# Obliczanie macierzy pomyłek\n",
    "cm = confusion_matrix(train_true, train_predictions)\n",
    "TP = cm[1, 1]  # True Positives\n",
    "TN = cm[0, 0]  # True Negatives\n",
    "FP = cm[0, 1]  # False Positives\n",
    "FN = cm[1, 0]  # False Negatives\n",
    "\n",
    "print(TP)\n",
    "print(TN)\n",
    "print(FP)\n",
    "print(FN)\n",
    "\n",
    "# TPR, FPR, TNR, PPV, NPV\n",
    "ACC = (TP + TN) / (TP + TN + FP + FN)\n",
    "TPR = TP / (TP + FN)\n",
    "FPR = FP / (FP + TN)\n",
    "TNR = TN / (TN + FP)\n",
    "PPV = TP / (TP + FP)\n",
    "NPV = TN / (TN + FN)\n",
    "\n",
    "print('Accuracy (ACC):', ACC)\n",
    "print('True Positive Rate (TPR):', TPR)\n",
    "print('False Positive Rate (FPR):', FPR)\n",
    "print('True Negative Rate (TNR):', TNR)\n",
    "print('Positive Predictive Value (PPV):', PPV)\n",
    "print('Negative Predictive Value (NPV):', NPV)"
   ]
  },
  {
   "cell_type": "code",
   "execution_count": 18,
   "id": "8e441350",
   "metadata": {
    "scrolled": true
   },
   "outputs": [
    {
     "name": "stdout",
     "output_type": "stream",
     "text": [
      "\u001b[1m4/4\u001b[0m \u001b[32m━━━━━━━━━━━━━━━━━━━━\u001b[0m\u001b[37m\u001b[0m \u001b[1m0s\u001b[0m 50ms/step\n",
      "0\n",
      "59\n",
      "0\n",
      "67\n",
      "Accuracy (ACC): 0.46825396825396826\n",
      "True Positive Rate (TPR): 0.0\n",
      "False Positive Rate (FPR): 0.0\n",
      "True Negative Rate (TNR): 1.0\n",
      "Positive Predictive Value (PPV): nan\n",
      "Negative Predictive Value (NPV): 0.46825396825396826\n"
     ]
    },
    {
     "name": "stderr",
     "output_type": "stream",
     "text": [
      "C:\\Users\\48798\\AppData\\Local\\Temp\\ipykernel_10912\\4228670605.py:23: RuntimeWarning: invalid value encountered in scalar divide\n",
      "  PPV = TP / (TP + FP)\n"
     ]
    }
   ],
   "source": [
    "# Predykcja na zbiorze testowym\n",
    "test_predictions = model.predict(test_features)\n",
    "test_predictions = np.argmax(test_predictions, axis = 1)\n",
    "test_true = np.argmax(test_target, axis = 1)\n",
    "\n",
    "# Obliczanie macierzy pomyłek\n",
    "cm = confusion_matrix(test_true, test_predictions)\n",
    "TP = cm[1, 1]  # True Positives\n",
    "TN = cm[0, 0]  # True Negatives\n",
    "FP = cm[0, 1]  # False Positives\n",
    "FN = cm[1, 0]  # False Negatives\n",
    "\n",
    "print(TP)\n",
    "print(TN)\n",
    "print(FP)\n",
    "print(FN)\n",
    "\n",
    "# TPR, FPR, TNR, PPV, NPV\n",
    "ACC = (TP + TN) / (TP + TN + FP + FN)\n",
    "TPR = TP / (TP + FN)\n",
    "FPR = FP / (FP + TN)\n",
    "TNR = TN / (TN + FP)\n",
    "PPV = TP / (TP + FP)\n",
    "NPV = TN / (TN + FN)\n",
    "\n",
    "print('Accuracy (ACC):', ACC)\n",
    "print('True Positive Rate (TPR):', TPR)\n",
    "print('False Positive Rate (FPR):', FPR)\n",
    "print('True Negative Rate (TNR):', TNR)\n",
    "print('Positive Predictive Value (PPV):', PPV)\n",
    "print('Negative Predictive Value (NPV):', NPV)"
   ]
  },
  {
   "cell_type": "code",
   "execution_count": 19,
   "id": "138343a9",
   "metadata": {},
   "outputs": [
    {
     "data": {
      "image/png": "[encoded data removed]",
      "text/plain": [
       "<Figure size 640x480 with 1 Axes>"
      ]
     },
     "metadata": {},
     "output_type": "display_data"
    }
   ],
   "source": [
    "plt.plot(history.history[\"accuracy\"], label=\"train\")\n",
    "plt.plot(history.history[\"val_accuracy\"], label=\"test\")\n",
    "plt.title(\"Skuteczność - GRU\")\n",
    "plt.xlabel(\"Epoch\")\n",
    "plt.ylabel(\"Accuracy\")\n",
    "plt.xticks(np.arange(0, N_EPOCH, step=5))\n",
    "plt.yticks(np.arange(0, 1, step=0.1))\n",
    "plt.legend()\n",
    "plt.show()"
   ]
  },
  {
   "cell_type": "code",
   "execution_count": 20,
   "id": "8e1ebd56",
   "metadata": {},
   "outputs": [
    {
     "data": {
      "image/png": "[encoded data removed]",
      "text/plain": [
       "<Figure size 640x480 with 1 Axes>"
      ]
     },
     "metadata": {},
     "output_type": "display_data"
    }
   ],
   "source": [
    "plt.plot(history.history[\"loss\"], label=\"train\")\n",
    "plt.plot(history.history[\"val_loss\"], label=\"test\")\n",
    "plt.title(\"Funkcja strat - GRU\")\n",
    "plt.xlabel(\"Epoch\")\n",
    "plt.ylabel(\"Loss\")\n",
    "plt.xticks(np.arange(0, N_EPOCH, step=5))\n",
    "plt.yticks(np.arange(0, 1, step=0.1))\n",
    "plt.legend()\n",
    "plt.show()"
   ]
  }
 ],
 "metadata": {
  "kernelspec": {
   "display_name": "Python 3 (ipykernel)",
   "language": "python",
   "name": "python3"
  },
  "language_info": {
   "codemirror_mode": {
    "name": "ipython",
    "version": 3
   },
   "file_extension": ".py",
   "mimetype": "text/x-python",
   "name": "python",
   "nbconvert_exporter": "python",
   "pygments_lexer": "ipython3",
   "version": "3.11.5"
  }
 },
 "nbformat": 4,
 "nbformat_minor": 5
}
