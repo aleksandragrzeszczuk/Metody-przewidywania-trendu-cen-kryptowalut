{
 "cells": [
  {
   "cell_type": "code",
   "execution_count": 1,
   "id": "538a527a",
   "metadata": {},
   "outputs": [],
   "source": [
    "from keras.models import Sequential\n",
    "from keras.layers import SimpleRNN, Dense, Dropout\n",
    "from keras.optimizers import Adam"
   ]
  },
  {
   "cell_type": "code",
   "execution_count": 2,
   "id": "745310cc",
   "metadata": {},
   "outputs": [],
   "source": [
    "import pandas as pd\n",
    "import optuna\n",
    "import yfinance as yf\n",
    "import pandas_datareader.data as web\n",
    "from datetime import datetime\n",
    "import numpy as np\n",
    "import pandas_ta as ta\n",
    "from keras.optimizers import Adam\n",
    "from keras.optimizers import SGD\n",
    "from keras.optimizers import Nadam\n",
    "from sklearn.metrics import confusion_matrix\n",
    "from tensorflow.keras.models import Sequential\n",
    "from tensorflow.keras.layers import Dense\n",
    "from tensorflow.keras.utils import to_categorical\n",
    "from keras.models import Sequential\n",
    "from keras.layers import Dense, Dropout\n",
    "from keras.regularizers import l2\n",
    "from keras.callbacks import EarlyStopping\n",
    "from sklearn.preprocessing import MinMaxScaler\n",
    "from keras.utils import plot_model\n",
    "from keras.layers import Dropout, Dense, GRU, LSTM, Flatten\n",
    "import matplotlib.pyplot as plt"
   ]
  },
  {
   "cell_type": "code",
   "execution_count": 3,
   "id": "ecfe67dc",
   "metadata": {},
   "outputs": [],
   "source": [
    "import warnings\n",
    "warnings.filterwarnings('ignore', category = pd.errors.PerformanceWarning)"
   ]
  },
  {
   "cell_type": "code",
   "execution_count": 4,
   "id": "3bdd371a",
   "metadata": {
    "scrolled": true
   },
   "outputs": [
    {
     "name": "stderr",
     "output_type": "stream",
     "text": [
      "[*********************100%%**********************]  1 of 1 completed\n"
     ]
    },
    {
     "name": "stdout",
     "output_type": "stream",
     "text": [
      "676\n",
      "(676, 157)\n"
     ]
    }
   ],
   "source": [
    "# Pobieramy dane dotyczące BTC z yahoo\n",
    "BTC = yf.download('BTC-USD', start = '2022-02-24', end = '2024-01-01')\n",
    "\n",
    "BTC['Target'] = (BTC['Close'].diff() > 0).astype(int)\n",
    "\n",
    "def add_lagged_features(data, column_name, n_days):\n",
    "    for i in range(1, n_days + 1):\n",
    "        lagged_column_name = f'{column_name}_{i}d_back'\n",
    "        data[lagged_column_name] = data[column_name].shift(i)\n",
    "    return data\n",
    "\n",
    "BTC = add_lagged_features(BTC, 'Close', 30)\n",
    "BTC = add_lagged_features(BTC, 'Open', 30)\n",
    "BTC = add_lagged_features(BTC, 'Volume', 30)\n",
    "BTC = add_lagged_features(BTC, 'High', 30)\n",
    "BTC = add_lagged_features(BTC, 'Low', 30)\n",
    "\n",
    "# df = pd.DataFrame()\n",
    "# df = BTC.copy()\n",
    "# print(BTC.head())\n",
    "print(len(BTC))\n",
    "print(BTC.shape)"
   ]
  },
  {
   "cell_type": "code",
   "execution_count": 5,
   "id": "bea0121c",
   "metadata": {},
   "outputs": [],
   "source": [
    "BTC = BTC.drop('Adj Close', axis=1)\n",
    "BTC = BTC.dropna().reset_index(drop = True)\n",
    "# BTC"
   ]
  },
  {
   "cell_type": "code",
   "execution_count": 6,
   "id": "148e7526",
   "metadata": {
    "scrolled": true
   },
   "outputs": [],
   "source": [
    "dataset = pd.DataFrame()\n",
    "dataset = BTC[['Open', 'High', 'Low', 'Close', 'Volume', 'Target']].copy()\n",
    "# dataset"
   ]
  },
  {
   "cell_type": "code",
   "execution_count": 7,
   "id": "a4639688",
   "metadata": {},
   "outputs": [],
   "source": [
    "n_steps_in = 20\n",
    "output_features = 2"
   ]
  },
  {
   "cell_type": "code",
   "execution_count": 8,
   "id": "c36088bd",
   "metadata": {},
   "outputs": [],
   "source": [
    "X_value = pd.DataFrame(dataset.iloc[:, :])\n",
    "X_value = X_value.drop('Target', axis='columns')\n",
    "# X_value"
   ]
  },
  {
   "cell_type": "code",
   "execution_count": 9,
   "id": "9eb64e54",
   "metadata": {},
   "outputs": [],
   "source": [
    "y_value = pd.DataFrame(dataset.Target)\n",
    "y_value = to_categorical(y_value)\n",
    "# y_value"
   ]
  },
  {
   "cell_type": "code",
   "execution_count": 10,
   "id": "d3d27bf1",
   "metadata": {},
   "outputs": [],
   "source": [
    "scaler = MinMaxScaler(feature_range=(-1, 1))\n",
    "scaler.fit(X_value)\n",
    "X_value = scaler.fit_transform(X_value)"
   ]
  },
  {
   "cell_type": "code",
   "execution_count": 11,
   "id": "b089df56",
   "metadata": {},
   "outputs": [],
   "source": [
    "def get_X_y(X_data, y_data):\n",
    "    X = list()\n",
    "    y = list()\n",
    "\n",
    "    length = len(X_data)\n",
    "    for i in range(0, length-n_steps_in, 1):\n",
    "        X_value = X_data[i: i + n_steps_in][:, :]\n",
    "        # y_value = y_data[i + n_steps_in: i + (n_steps_in + n_steps_out)][:, :]\n",
    "        y_value = y_data[i + n_steps_in]\n",
    "        if len(X_value) == n_steps_in and len(y_value) == output_features:\n",
    "            X.append(X_value)\n",
    "            y.append(y_value)\n",
    "\n",
    "    return np.array(X), np.array(y)"
   ]
  },
  {
   "cell_type": "code",
   "execution_count": 12,
   "id": "421d0771",
   "metadata": {},
   "outputs": [],
   "source": [
    "def split_train_test(data):\n",
    "    train_size = int(0.8 * len(X))\n",
    "    data_train = data[0:train_size]\n",
    "    data_test = data[train_size:]\n",
    "    return data_train, data_test"
   ]
  },
  {
   "cell_type": "code",
   "execution_count": 13,
   "id": "d239ce9e",
   "metadata": {},
   "outputs": [
    {
     "name": "stdout",
     "output_type": "stream",
     "text": [
      "X shape:  (626, 20, 5)\n",
      "y shape:  (626, 2)\n",
      "Train features shape:  (500, 20, 5)\n",
      "Test features shape:  (126, 20, 5)\n",
      "Train features shape:  (500, 2)\n",
      "Test features shape:  (126, 2)\n"
     ]
    }
   ],
   "source": [
    "X, y = get_X_y(X_value, y_value)\n",
    "print('X shape: ', X.shape)\n",
    "print('y shape: ', y.shape)\n",
    "train_features, test_features = split_train_test(X) \n",
    "train_target, test_target = split_train_test(y) \n",
    "\n",
    "print('Train features shape: ', train_features.shape)\n",
    "print('Test features shape: ', test_features.shape)\n",
    "print('Train features shape: ', train_target.shape)\n",
    "print('Test features shape: ', test_target.shape)"
   ]
  },
  {
   "cell_type": "code",
   "execution_count": 14,
   "id": "2450a260",
   "metadata": {},
   "outputs": [],
   "source": [
    "input_dim = train_features.shape[1]\n",
    "input_feature_size = train_features.shape[2]\n",
    "output_dim = train_target.shape[1]"
   ]
  },
  {
   "cell_type": "code",
   "execution_count": 15,
   "id": "0f4fece6",
   "metadata": {},
   "outputs": [],
   "source": [
    "N_EPOCH = 50\n",
    "BATCH_SIZE = 64\n",
    "\n",
    "def basic_simpleRNN(input_dim, output_dim, input_feature_size):\n",
    "    model = Sequential()\n",
    "    model.add(SimpleRNN(units=63, return_sequences=True, activation='relu', input_shape=(input_dim, input_feature_size)))\n",
    "    model.add(Dropout(0.2))\n",
    "    model.add(SimpleRNN(250, return_sequences=False))\n",
    "    model.add(Dropout(0.2))\n",
    "    model.add(Dense(output_dim, activation='softmax'))\n",
    "\n",
    "    model.compile(optimizer=Adam(),\n",
    "                  loss='categorical_crossentropy',\n",
    "                  metrics=['accuracy'])\n",
    "    \n",
    "    history = model.fit(train_features, train_target, epochs = N_EPOCH, \n",
    "                        validation_data = (test_features, test_target),\n",
    "                        batch_size = BATCH_SIZE, verbose = 2, shuffle = False)\n",
    "\n",
    "    return model, history"
   ]
  },
  {
   "cell_type": "code",
   "execution_count": 16,
   "id": "5b79d271",
   "metadata": {
    "scrolled": true
   },
   "outputs": [
    {
     "name": "stderr",
     "output_type": "stream",
     "text": [
      "C:\\Users\\48798\\anaconda3\\Lib\\site-packages\\keras\\src\\layers\\rnn\\rnn.py:204: UserWarning: Do not pass an `input_shape`/`input_dim` argument to a layer. When using Sequential models, prefer using an `Input(shape)` object as the first layer in the model instead.\n",
      "  super().__init__(**kwargs)\n"
     ]
    },
    {
     "name": "stdout",
     "output_type": "stream",
     "text": [
      "Epoch 1/50\n",
      "8/8 - 22s - 3s/step - accuracy: 0.5160 - loss: 0.7574 - val_accuracy: 0.4841 - val_loss: 0.7290\n",
      "Epoch 2/50\n",
      "8/8 - 1s - 117ms/step - accuracy: 0.4960 - loss: 0.7808 - val_accuracy: 0.4762 - val_loss: 0.8005\n",
      "Epoch 3/50\n",
      "8/8 - 1s - 91ms/step - accuracy: 0.5020 - loss: 0.7285 - val_accuracy: 0.5079 - val_loss: 0.7064\n",
      "Epoch 4/50\n",
      "8/8 - 1s - 101ms/step - accuracy: 0.5160 - loss: 0.7236 - val_accuracy: 0.4683 - val_loss: 0.7361\n",
      "Epoch 5/50\n",
      "8/8 - 1s - 115ms/step - accuracy: 0.5140 - loss: 0.7007 - val_accuracy: 0.4683 - val_loss: 0.7177\n",
      "Epoch 6/50\n",
      "8/8 - 1s - 95ms/step - accuracy: 0.5360 - loss: 0.7021 - val_accuracy: 0.4603 - val_loss: 0.7835\n",
      "Epoch 7/50\n",
      "8/8 - 1s - 134ms/step - accuracy: 0.5360 - loss: 0.7261 - val_accuracy: 0.4603 - val_loss: 0.7146\n",
      "Epoch 8/50\n",
      "8/8 - 1s - 124ms/step - accuracy: 0.5120 - loss: 0.7166 - val_accuracy: 0.4762 - val_loss: 0.7063\n",
      "Epoch 9/50\n",
      "8/8 - 1s - 103ms/step - accuracy: 0.5440 - loss: 0.7048 - val_accuracy: 0.4444 - val_loss: 0.8041\n",
      "Epoch 10/50\n",
      "8/8 - 1s - 82ms/step - accuracy: 0.5200 - loss: 0.7400 - val_accuracy: 0.4683 - val_loss: 0.7349\n",
      "Epoch 11/50\n",
      "8/8 - 1s - 99ms/step - accuracy: 0.5400 - loss: 0.6983 - val_accuracy: 0.4524 - val_loss: 0.7116\n",
      "Epoch 12/50\n",
      "8/8 - 1s - 171ms/step - accuracy: 0.5700 - loss: 0.6948 - val_accuracy: 0.4603 - val_loss: 0.7568\n",
      "Epoch 13/50\n",
      "8/8 - 1s - 104ms/step - accuracy: 0.5560 - loss: 0.6867 - val_accuracy: 0.4683 - val_loss: 0.7500\n",
      "Epoch 14/50\n",
      "8/8 - 1s - 119ms/step - accuracy: 0.5360 - loss: 0.6919 - val_accuracy: 0.4127 - val_loss: 0.7725\n",
      "Epoch 15/50\n",
      "8/8 - 1s - 94ms/step - accuracy: 0.5460 - loss: 0.7076 - val_accuracy: 0.4683 - val_loss: 0.7361\n",
      "Epoch 16/50\n",
      "8/8 - 1s - 83ms/step - accuracy: 0.5660 - loss: 0.6874 - val_accuracy: 0.4762 - val_loss: 0.7185\n",
      "Epoch 17/50\n",
      "8/8 - 1s - 78ms/step - accuracy: 0.5860 - loss: 0.6824 - val_accuracy: 0.4365 - val_loss: 0.7458\n",
      "Epoch 18/50\n",
      "8/8 - 1s - 116ms/step - accuracy: 0.5520 - loss: 0.7056 - val_accuracy: 0.4683 - val_loss: 0.7819\n",
      "Epoch 19/50\n",
      "8/8 - 1s - 97ms/step - accuracy: 0.5380 - loss: 0.6982 - val_accuracy: 0.4762 - val_loss: 0.7211\n",
      "Epoch 20/50\n",
      "8/8 - 1s - 75ms/step - accuracy: 0.5520 - loss: 0.6913 - val_accuracy: 0.4762 - val_loss: 0.7315\n",
      "Epoch 21/50\n",
      "8/8 - 1s - 80ms/step - accuracy: 0.5800 - loss: 0.6813 - val_accuracy: 0.4683 - val_loss: 0.7468\n",
      "Epoch 22/50\n",
      "8/8 - 1s - 80ms/step - accuracy: 0.5560 - loss: 0.6869 - val_accuracy: 0.4603 - val_loss: 0.7428\n",
      "Epoch 23/50\n",
      "8/8 - 1s - 78ms/step - accuracy: 0.5780 - loss: 0.6738 - val_accuracy: 0.4603 - val_loss: 0.7411\n",
      "Epoch 24/50\n",
      "8/8 - 1s - 86ms/step - accuracy: 0.5600 - loss: 0.6880 - val_accuracy: 0.4603 - val_loss: 0.7946\n",
      "Epoch 25/50\n",
      "8/8 - 1s - 174ms/step - accuracy: 0.5640 - loss: 0.6803 - val_accuracy: 0.4444 - val_loss: 0.7447\n",
      "Epoch 26/50\n",
      "8/8 - 1s - 98ms/step - accuracy: 0.6000 - loss: 0.6683 - val_accuracy: 0.4524 - val_loss: 0.7389\n",
      "Epoch 27/50\n",
      "8/8 - 1s - 149ms/step - accuracy: 0.6000 - loss: 0.6625 - val_accuracy: 0.4603 - val_loss: 0.7408\n",
      "Epoch 28/50\n",
      "8/8 - 1s - 78ms/step - accuracy: 0.6120 - loss: 0.6641 - val_accuracy: 0.4762 - val_loss: 0.8063\n",
      "Epoch 29/50\n",
      "8/8 - 1s - 90ms/step - accuracy: 0.5880 - loss: 0.6880 - val_accuracy: 0.4683 - val_loss: 0.7206\n",
      "Epoch 30/50\n",
      "8/8 - 1s - 76ms/step - accuracy: 0.5980 - loss: 0.6726 - val_accuracy: 0.4603 - val_loss: 0.7638\n",
      "Epoch 31/50\n",
      "8/8 - 1s - 79ms/step - accuracy: 0.5720 - loss: 0.6776 - val_accuracy: 0.5079 - val_loss: 0.7607\n",
      "Epoch 32/50\n",
      "8/8 - 1s - 81ms/step - accuracy: 0.5640 - loss: 0.6855 - val_accuracy: 0.4444 - val_loss: 0.7165\n",
      "Epoch 33/50\n",
      "8/8 - 1s - 85ms/step - accuracy: 0.6140 - loss: 0.6453 - val_accuracy: 0.4841 - val_loss: 0.7861\n",
      "Epoch 34/50\n",
      "8/8 - 1s - 91ms/step - accuracy: 0.6160 - loss: 0.6507 - val_accuracy: 0.4841 - val_loss: 0.7548\n",
      "Epoch 35/50\n",
      "8/8 - 1s - 77ms/step - accuracy: 0.5860 - loss: 0.6560 - val_accuracy: 0.5159 - val_loss: 0.7815\n",
      "Epoch 36/50\n",
      "8/8 - 1s - 80ms/step - accuracy: 0.6360 - loss: 0.6379 - val_accuracy: 0.4762 - val_loss: 0.7582\n",
      "Epoch 37/50\n",
      "8/8 - 1s - 99ms/step - accuracy: 0.5880 - loss: 0.6554 - val_accuracy: 0.5000 - val_loss: 0.7427\n",
      "Epoch 38/50\n",
      "8/8 - 1s - 88ms/step - accuracy: 0.6280 - loss: 0.6202 - val_accuracy: 0.4921 - val_loss: 0.7968\n",
      "Epoch 39/50\n",
      "8/8 - 1s - 80ms/step - accuracy: 0.6160 - loss: 0.6513 - val_accuracy: 0.5000 - val_loss: 0.7619\n",
      "Epoch 40/50\n",
      "8/8 - 1s - 91ms/step - accuracy: 0.6540 - loss: 0.6367 - val_accuracy: 0.4921 - val_loss: 0.7512\n",
      "Epoch 41/50\n",
      "8/8 - 1s - 77ms/step - accuracy: 0.5700 - loss: 0.6435 - val_accuracy: 0.5000 - val_loss: 0.7740\n",
      "Epoch 42/50\n",
      "8/8 - 1s - 86ms/step - accuracy: 0.6160 - loss: 0.6490 - val_accuracy: 0.4762 - val_loss: 0.8118\n",
      "Epoch 43/50\n",
      "8/8 - 1s - 82ms/step - accuracy: 0.5740 - loss: 0.6865 - val_accuracy: 0.5079 - val_loss: 0.7351\n",
      "Epoch 44/50\n",
      "8/8 - 1s - 76ms/step - accuracy: 0.5780 - loss: 0.6920 - val_accuracy: 0.5079 - val_loss: 0.7967\n",
      "Epoch 45/50\n",
      "8/8 - 1s - 84ms/step - accuracy: 0.5940 - loss: 0.6552 - val_accuracy: 0.4683 - val_loss: 0.7766\n",
      "Epoch 46/50\n",
      "8/8 - 1s - 84ms/step - accuracy: 0.6300 - loss: 0.6302 - val_accuracy: 0.5000 - val_loss: 0.8403\n",
      "Epoch 47/50\n",
      "8/8 - 1s - 161ms/step - accuracy: 0.6400 - loss: 0.6292 - val_accuracy: 0.5159 - val_loss: 0.7813\n",
      "Epoch 48/50\n",
      "8/8 - 1s - 74ms/step - accuracy: 0.5900 - loss: 0.6696 - val_accuracy: 0.4762 - val_loss: 0.7622\n",
      "Epoch 49/50\n",
      "8/8 - 1s - 86ms/step - accuracy: 0.6020 - loss: 0.6405 - val_accuracy: 0.4921 - val_loss: 0.7743\n",
      "Epoch 50/50\n",
      "8/8 - 1s - 90ms/step - accuracy: 0.6200 - loss: 0.6296 - val_accuracy: 0.4921 - val_loss: 0.8340\n"
     ]
    }
   ],
   "source": [
    "model, history = basic_simpleRNN(input_dim, output_dim, input_feature_size)"
   ]
  },
  {
   "cell_type": "code",
   "execution_count": 17,
   "id": "65419d2a",
   "metadata": {},
   "outputs": [
    {
     "name": "stdout",
     "output_type": "stream",
     "text": [
      "\u001b[1m16/16\u001b[0m \u001b[32m━━━━━━━━━━━━━━━━━━━━\u001b[0m\u001b[37m\u001b[0m \u001b[1m0s\u001b[0m 22ms/step - accuracy: 0.7236 - loss: 0.5557\n",
      "Train loss: 0.6022144556045532\n",
      "Train accuracy: 0.6779999732971191\n",
      "\u001b[1m4/4\u001b[0m \u001b[32m━━━━━━━━━━━━━━━━━━━━\u001b[0m\u001b[37m\u001b[0m \u001b[1m0s\u001b[0m 23ms/step - accuracy: 0.4666 - loss: 0.7829\n",
      "Test loss: 0.8340384364128113\n",
      "Test accuracy: 0.4920634925365448\n"
     ]
    }
   ],
   "source": [
    "# Ocena modelu na danych treningowych\n",
    "train_performance = model.evaluate(train_features, train_target)\n",
    "print('Train loss:', train_performance[0])\n",
    "print('Train accuracy:', train_performance[1])\n",
    "\n",
    "test_performance = model.evaluate(test_features, test_target)\n",
    "print('Test loss:', test_performance[0])\n",
    "print('Test accuracy:', test_performance[1])"
   ]
  },
  {
   "cell_type": "code",
   "execution_count": 18,
   "id": "4bce4c33",
   "metadata": {
    "scrolled": true
   },
   "outputs": [
    {
     "name": "stdout",
     "output_type": "stream",
     "text": [
      "\u001b[1m16/16\u001b[0m \u001b[32m━━━━━━━━━━━━━━━━━━━━\u001b[0m\u001b[37m\u001b[0m \u001b[1m3s\u001b[0m 105ms/step\n",
      "181\n",
      "158\n",
      "110\n",
      "51\n",
      "Accuracy (ACC): 0.678\n",
      "True Positive Rate (TPR): 0.7801724137931034\n",
      "False Positive Rate (FPR): 0.41044776119402987\n",
      "True Negative Rate (TNR): 0.5895522388059702\n",
      "Positive Predictive Value (PPV): 0.6219931271477663\n",
      "Negative Predictive Value (NPV): 0.7559808612440191\n"
     ]
    }
   ],
   "source": [
    "# Predykcja na zbiorze treningowym\n",
    "train_predictions = model.predict(train_features)\n",
    "train_predictions = np.argmax(train_predictions, axis = 1)\n",
    "train_true = np.argmax(train_target, axis = 1)\n",
    "\n",
    "# Obliczanie macierzy pomyłek\n",
    "cm = confusion_matrix(train_true, train_predictions)\n",
    "TP = cm[1, 1]  # True Positives\n",
    "TN = cm[0, 0]  # True Negatives\n",
    "FP = cm[0, 1]  # False Positives\n",
    "FN = cm[1, 0]  # False Negatives\n",
    "\n",
    "print(TP)\n",
    "print(TN)\n",
    "print(FP)\n",
    "print(FN)\n",
    "\n",
    "# TPR, FPR, TNR, PPV, NPV\n",
    "ACC = (TP + TN) / (TP + TN + FP + FN)\n",
    "TPR = TP / (TP + FN)\n",
    "FPR = FP / (FP + TN)\n",
    "TNR = TN / (TN + FP)\n",
    "PPV = TP / (TP + FP)\n",
    "NPV = TN / (TN + FN)\n",
    "\n",
    "print('Accuracy (ACC):', ACC)\n",
    "print('True Positive Rate (TPR):', TPR)\n",
    "print('False Positive Rate (FPR):', FPR)\n",
    "print('True Negative Rate (TNR):', TNR)\n",
    "print('Positive Predictive Value (PPV):', PPV)\n",
    "print('Negative Predictive Value (NPV):', NPV)"
   ]
  },
  {
   "cell_type": "code",
   "execution_count": 19,
   "id": "8e441350",
   "metadata": {},
   "outputs": [
    {
     "name": "stdout",
     "output_type": "stream",
     "text": [
      "\u001b[1m4/4\u001b[0m \u001b[32m━━━━━━━━━━━━━━━━━━━━\u001b[0m\u001b[37m\u001b[0m \u001b[1m0s\u001b[0m 25ms/step\n",
      "25\n",
      "37\n",
      "22\n",
      "42\n",
      "Accuracy (ACC): 0.49206349206349204\n",
      "True Positive Rate (TPR): 0.373134328358209\n",
      "False Positive Rate (FPR): 0.3728813559322034\n",
      "True Negative Rate (TNR): 0.6271186440677966\n",
      "Positive Predictive Value (PPV): 0.5319148936170213\n",
      "Negative Predictive Value (NPV): 0.46835443037974683\n"
     ]
    }
   ],
   "source": [
    "# Predykcja na zbiorze testowym\n",
    "test_predictions = model.predict(test_features)\n",
    "test_predictions = np.argmax(test_predictions, axis = 1)\n",
    "test_true = np.argmax(test_target, axis = 1)\n",
    "\n",
    "# Obliczanie macierzy pomyłek\n",
    "cm = confusion_matrix(test_true, test_predictions)\n",
    "TP = cm[1, 1]  # True Positives\n",
    "TN = cm[0, 0]  # True Negatives\n",
    "FP = cm[0, 1]  # False Positives\n",
    "FN = cm[1, 0]  # False Negatives\n",
    "\n",
    "print(TP)\n",
    "print(TN)\n",
    "print(FP)\n",
    "print(FN)\n",
    "\n",
    "# TPR, FPR, TNR, PPV, NPV\n",
    "ACC = (TP + TN) / (TP + TN + FP + FN)\n",
    "TPR = TP / (TP + FN)\n",
    "FPR = FP / (FP + TN)\n",
    "TNR = TN / (TN + FP)\n",
    "PPV = TP / (TP + FP)\n",
    "NPV = TN / (TN + FN)\n",
    "\n",
    "print('Accuracy (ACC):', ACC)\n",
    "print('True Positive Rate (TPR):', TPR)\n",
    "print('False Positive Rate (FPR):', FPR)\n",
    "print('True Negative Rate (TNR):', TNR)\n",
    "print('Positive Predictive Value (PPV):', PPV)\n",
    "print('Negative Predictive Value (NPV):', NPV)"
   ]
  }
 ],
 "metadata": {
  "kernelspec": {
   "display_name": "Python 3 (ipykernel)",
   "language": "python",
   "name": "python3"
  },
  "language_info": {
   "codemirror_mode": {
    "name": "ipython",
    "version": 3
   },
   "file_extension": ".py",
   "mimetype": "text/x-python",
   "name": "python",
   "nbconvert_exporter": "python",
   "pygments_lexer": "ipython3",
   "version": "3.11.5"
  }
 },
 "nbformat": 4,
 "nbformat_minor": 5
}
