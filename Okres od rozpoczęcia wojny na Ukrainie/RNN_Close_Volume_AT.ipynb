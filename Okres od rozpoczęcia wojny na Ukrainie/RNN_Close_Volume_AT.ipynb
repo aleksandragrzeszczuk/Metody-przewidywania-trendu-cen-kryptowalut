{
 "cells": [
  {
   "cell_type": "code",
   "execution_count": 1,
   "id": "be1511d4",
   "metadata": {},
   "outputs": [],
   "source": [
    "from keras.models import Sequential\n",
    "from keras.layers import SimpleRNN, Dense, Dropout\n",
    "from keras.optimizers import Adam"
   ]
  },
  {
   "cell_type": "code",
   "execution_count": 2,
   "id": "745310cc",
   "metadata": {},
   "outputs": [],
   "source": [
    "import pandas as pd\n",
    "import optuna\n",
    "import yfinance as yf\n",
    "import pandas_datareader.data as web\n",
    "from datetime import datetime\n",
    "import numpy as np\n",
    "import pandas_ta as ta\n",
    "from keras.optimizers import Adam\n",
    "from keras.optimizers import SGD\n",
    "from keras.optimizers import Nadam\n",
    "from sklearn.metrics import confusion_matrix\n",
    "from tensorflow.keras.models import Sequential\n",
    "from tensorflow.keras.layers import Dense\n",
    "from tensorflow.keras.utils import to_categorical\n",
    "from keras.models import Sequential\n",
    "from keras.layers import Dense, Dropout\n",
    "from keras.regularizers import l2\n",
    "from keras.callbacks import EarlyStopping\n",
    "from sklearn.preprocessing import MinMaxScaler\n",
    "from keras.utils import plot_model\n",
    "from keras.layers import Dropout, Dense, GRU, LSTM, Flatten\n",
    "import matplotlib.pyplot as plt"
   ]
  },
  {
   "cell_type": "code",
   "execution_count": 3,
   "id": "ecfe67dc",
   "metadata": {},
   "outputs": [],
   "source": [
    "import warnings\n",
    "warnings.filterwarnings('ignore', category = pd.errors.PerformanceWarning)"
   ]
  },
  {
   "cell_type": "code",
   "execution_count": 4,
   "id": "3bdd371a",
   "metadata": {
    "scrolled": true
   },
   "outputs": [
    {
     "name": "stderr",
     "output_type": "stream",
     "text": [
      "\r",
      "[*********************100%%**********************]  1 of 1 completed"
     ]
    },
    {
     "name": "stdout",
     "output_type": "stream",
     "text": [
      "676\n",
      "(676, 69)\n"
     ]
    },
    {
     "name": "stderr",
     "output_type": "stream",
     "text": [
      "\n"
     ]
    }
   ],
   "source": [
    "# Pobieramy dane dotyczące BTC z yahoo\n",
    "BTC = yf.download('BTC-USD', start = '2022-02-24', end = '2024-01-01')\n",
    "\n",
    "BTC['Target'] = (BTC['Close'].diff() > 0).astype(int)\n",
    "\n",
    "def add_lagged_features(data, column_name, n_days):\n",
    "    for i in range(1, n_days + 1):\n",
    "        lagged_column_name = f'{column_name}_{i}d_back'\n",
    "        data[lagged_column_name] = data[column_name].shift(i)\n",
    "    return data\n",
    "\n",
    "BTC = add_lagged_features(BTC, 'Close', 30)\n",
    "BTC = add_lagged_features(BTC, 'Volume', 30)\n",
    "BTC = add_lagged_features(BTC, 'High', 1)\n",
    "BTC = add_lagged_features(BTC, 'Low', 1)\n",
    "\n",
    "# df = pd.DataFrame()\n",
    "# df = BTC.copy()\n",
    "# print(BTC.head())\n",
    "print(len(BTC))\n",
    "print(BTC.shape)"
   ]
  },
  {
   "cell_type": "code",
   "execution_count": 5,
   "id": "445cd5d4",
   "metadata": {},
   "outputs": [],
   "source": [
    "# SMA\n",
    "BTC['SMA'] = ta.sma(BTC['Close_1d_back'], length = 30)\n",
    "\n",
    "# MFI \n",
    "BTC['MFI'] = ta.mfi(BTC['High_1d_back'], BTC['Low_1d_back'], \n",
    "                    BTC['Close_1d_back'], BTC['Volume_1d_back'], length = 29)\n",
    "\n",
    "# RSI \n",
    "BTC['RSI'] = ta.rsi(BTC['Close_1d_back'], length = 29)\n",
    "\n",
    "# Bollinger Bands\n",
    "bollinger = ta.bbands(BTC['Close_1d_back'], length = 30, std = 2)\n",
    "BTC['BB_Upper'] = bollinger['BBU_30_2.0']\n",
    "BTC['BB_Middle'] = bollinger['BBM_30_2.0']\n",
    "BTC['BB_Lower'] = bollinger['BBL_30_2.0']\n",
    "\n",
    "# CCI \n",
    "BTC['CCI'] = ta.cci(BTC['High_1d_back'], BTC['Low_1d_back'], \n",
    "                    BTC['Close_1d_back'], length = 30)"
   ]
  },
  {
   "cell_type": "code",
   "execution_count": 6,
   "id": "3afd826c",
   "metadata": {},
   "outputs": [],
   "source": [
    "high_series = BTC['High_1d_back']\n",
    "low_series = BTC['Low_1d_back']\n",
    "close_series = BTC['Close_1d_back']\n",
    "\n",
    "# Wprowadzenie jasnych parametrów dla kanału Donchian\n",
    "donchian = ta.donchian(high = high_series, low = low_series, close = close_series, lower_length = 30, upper_length = 30)\n",
    "\n",
    "# Przypisanie wyników kanału Donchian do DataFrame\n",
    "BTC['Donchian_High'] = donchian['DCU_30_30']\n",
    "BTC['Donchian_Low'] = donchian['DCL_30_30']"
   ]
  },
  {
   "cell_type": "code",
   "execution_count": 7,
   "id": "bea0121c",
   "metadata": {},
   "outputs": [],
   "source": [
    "BTC = BTC.drop('Adj Close', axis=1)\n",
    "BTC = BTC.dropna().reset_index(drop = True)\n",
    "# BTC"
   ]
  },
  {
   "cell_type": "code",
   "execution_count": 8,
   "id": "148e7526",
   "metadata": {
    "scrolled": true
   },
   "outputs": [],
   "source": [
    "dataset = pd.DataFrame()\n",
    "dataset = BTC[['Open', 'High', 'Low', 'Close', 'Volume', 'SMA', 'MFI', 'RSI', 'BB_Upper', \n",
    "          'BB_Middle', 'BB_Lower', 'CCI', 'Donchian_High', 'Donchian_Low', 'Target']].copy()\n",
    "# dataset"
   ]
  },
  {
   "cell_type": "code",
   "execution_count": 9,
   "id": "a4639688",
   "metadata": {},
   "outputs": [],
   "source": [
    "n_steps_in = 20\n",
    "output_features = 2"
   ]
  },
  {
   "cell_type": "code",
   "execution_count": 10,
   "id": "c36088bd",
   "metadata": {},
   "outputs": [],
   "source": [
    "X_value = pd.DataFrame(dataset.iloc[:, :])\n",
    "X_value = X_value.drop('Target', axis='columns')\n",
    "# X_value"
   ]
  },
  {
   "cell_type": "code",
   "execution_count": 11,
   "id": "9eb64e54",
   "metadata": {},
   "outputs": [],
   "source": [
    "y_value = pd.DataFrame(dataset.Target)\n",
    "y_value = to_categorical(y_value)\n",
    "# y_value"
   ]
  },
  {
   "cell_type": "code",
   "execution_count": 12,
   "id": "d3d27bf1",
   "metadata": {},
   "outputs": [],
   "source": [
    "scaler = MinMaxScaler(feature_range=(-1, 1))\n",
    "scaler.fit(X_value)\n",
    "X_value = scaler.fit_transform(X_value)"
   ]
  },
  {
   "cell_type": "code",
   "execution_count": 13,
   "id": "b089df56",
   "metadata": {},
   "outputs": [],
   "source": [
    "def get_X_y(X_data, y_data):\n",
    "    X = list()\n",
    "    y = list()\n",
    "\n",
    "    length = len(X_data)\n",
    "    for i in range(0, length-n_steps_in, 1):\n",
    "        X_value = X_data[i: i + n_steps_in][:, :]\n",
    "        # y_value = y_data[i + n_steps_in: i + (n_steps_in + n_steps_out)][:, :]\n",
    "        y_value = y_data[i + n_steps_in]\n",
    "        if len(X_value) == n_steps_in and len(y_value) == output_features:\n",
    "            X.append(X_value)\n",
    "            y.append(y_value)\n",
    "\n",
    "    return np.array(X), np.array(y)"
   ]
  },
  {
   "cell_type": "code",
   "execution_count": 14,
   "id": "421d0771",
   "metadata": {},
   "outputs": [],
   "source": [
    "def split_train_test(data):\n",
    "    train_size = int(0.8 * len(X))\n",
    "    data_train = data[0:train_size]\n",
    "    data_test = data[train_size:]\n",
    "    return data_train, data_test"
   ]
  },
  {
   "cell_type": "code",
   "execution_count": 15,
   "id": "d239ce9e",
   "metadata": {},
   "outputs": [
    {
     "name": "stdout",
     "output_type": "stream",
     "text": [
      "X shape:  (626, 20, 14)\n",
      "y shape:  (626, 2)\n",
      "Train features shape:  (500, 20, 14)\n",
      "Test features shape:  (126, 20, 14)\n",
      "Train features shape:  (500, 2)\n",
      "Test features shape:  (126, 2)\n"
     ]
    }
   ],
   "source": [
    "X, y = get_X_y(X_value, y_value)\n",
    "print('X shape: ', X.shape)\n",
    "print('y shape: ', y.shape)\n",
    "train_features, test_features = split_train_test(X) \n",
    "train_target, test_target = split_train_test(y) \n",
    "\n",
    "print('Train features shape: ', train_features.shape)\n",
    "print('Test features shape: ', test_features.shape)\n",
    "print('Train features shape: ', train_target.shape)\n",
    "print('Test features shape: ', test_target.shape)"
   ]
  },
  {
   "cell_type": "code",
   "execution_count": 16,
   "id": "2450a260",
   "metadata": {},
   "outputs": [],
   "source": [
    "input_dim = train_features.shape[1]\n",
    "input_feature_size = train_features.shape[2]\n",
    "output_dim = train_target.shape[1]"
   ]
  },
  {
   "cell_type": "code",
   "execution_count": 17,
   "id": "0f4fece6",
   "metadata": {},
   "outputs": [],
   "source": [
    "N_EPOCH = 50\n",
    "BATCH_SIZE = 64\n",
    "\n",
    "def basic_simpleRNN(input_dim, output_dim, input_feature_size):\n",
    "    model = Sequential()\n",
    "    model.add(SimpleRNN(units=63, return_sequences=True, activation='relu', input_shape=(input_dim, input_feature_size)))\n",
    "    model.add(Dropout(0.2))\n",
    "    model.add(SimpleRNN(250, return_sequences=False))\n",
    "    model.add(Dropout(0.2))\n",
    "    model.add(Dense(output_dim, activation='softmax'))\n",
    "\n",
    "    model.compile(optimizer=Adam(),\n",
    "                  loss='categorical_crossentropy',\n",
    "                  metrics=['accuracy'])\n",
    "    \n",
    "    history = model.fit(train_features, train_target, epochs = N_EPOCH, \n",
    "                        validation_data = (test_features, test_target),\n",
    "                        batch_size = BATCH_SIZE, verbose = 2, shuffle = False)\n",
    "\n",
    "    return model, history"
   ]
  },
  {
   "cell_type": "code",
   "execution_count": 18,
   "id": "5b79d271",
   "metadata": {
    "scrolled": true
   },
   "outputs": [
    {
     "name": "stderr",
     "output_type": "stream",
     "text": [
      "C:\\Users\\48798\\anaconda3\\Lib\\site-packages\\keras\\src\\layers\\rnn\\rnn.py:204: UserWarning: Do not pass an `input_shape`/`input_dim` argument to a layer. When using Sequential models, prefer using an `Input(shape)` object as the first layer in the model instead.\n",
      "  super().__init__(**kwargs)\n"
     ]
    },
    {
     "name": "stdout",
     "output_type": "stream",
     "text": [
      "Epoch 1/50\n",
      "8/8 - 26s - 3s/step - accuracy: 0.5100 - loss: 0.8329 - val_accuracy: 0.4683 - val_loss: 0.8813\n",
      "Epoch 2/50\n",
      "8/8 - 1s - 124ms/step - accuracy: 0.5280 - loss: 0.7415 - val_accuracy: 0.5238 - val_loss: 0.7096\n",
      "Epoch 3/50\n",
      "8/8 - 1s - 158ms/step - accuracy: 0.4820 - loss: 0.8227 - val_accuracy: 0.4524 - val_loss: 0.7719\n",
      "Epoch 4/50\n",
      "8/8 - 1s - 90ms/step - accuracy: 0.4860 - loss: 0.7655 - val_accuracy: 0.4048 - val_loss: 0.7960\n",
      "Epoch 5/50\n",
      "8/8 - 1s - 93ms/step - accuracy: 0.5060 - loss: 0.7489 - val_accuracy: 0.4683 - val_loss: 0.7070\n",
      "Epoch 6/50\n",
      "8/8 - 1s - 98ms/step - accuracy: 0.5220 - loss: 0.7157 - val_accuracy: 0.4683 - val_loss: 0.7338\n",
      "Epoch 7/50\n",
      "8/8 - 1s - 78ms/step - accuracy: 0.5400 - loss: 0.6894 - val_accuracy: 0.4365 - val_loss: 0.7145\n",
      "Epoch 8/50\n",
      "8/8 - 1s - 80ms/step - accuracy: 0.5380 - loss: 0.7002 - val_accuracy: 0.4444 - val_loss: 0.7488\n",
      "Epoch 9/50\n",
      "8/8 - 1s - 143ms/step - accuracy: 0.5120 - loss: 0.7108 - val_accuracy: 0.4524 - val_loss: 0.7346\n",
      "Epoch 10/50\n",
      "8/8 - 1s - 80ms/step - accuracy: 0.5300 - loss: 0.7027 - val_accuracy: 0.4365 - val_loss: 0.7447\n",
      "Epoch 11/50\n",
      "8/8 - 1s - 172ms/step - accuracy: 0.5300 - loss: 0.6996 - val_accuracy: 0.4603 - val_loss: 0.7391\n",
      "Epoch 12/50\n",
      "8/8 - 1s - 87ms/step - accuracy: 0.5460 - loss: 0.6950 - val_accuracy: 0.4603 - val_loss: 0.7495\n",
      "Epoch 13/50\n",
      "8/8 - 1s - 85ms/step - accuracy: 0.5820 - loss: 0.6859 - val_accuracy: 0.4365 - val_loss: 0.7860\n",
      "Epoch 14/50\n",
      "8/8 - 1s - 81ms/step - accuracy: 0.5540 - loss: 0.6933 - val_accuracy: 0.4762 - val_loss: 0.7413\n",
      "Epoch 15/50\n",
      "8/8 - 1s - 89ms/step - accuracy: 0.6000 - loss: 0.6647 - val_accuracy: 0.4683 - val_loss: 0.7717\n",
      "Epoch 16/50\n",
      "8/8 - 1s - 118ms/step - accuracy: 0.5740 - loss: 0.6814 - val_accuracy: 0.4524 - val_loss: 0.7824\n",
      "Epoch 17/50\n",
      "8/8 - 1s - 71ms/step - accuracy: 0.5740 - loss: 0.6994 - val_accuracy: 0.4603 - val_loss: 0.7297\n",
      "Epoch 18/50\n",
      "8/8 - 1s - 82ms/step - accuracy: 0.5460 - loss: 0.7135 - val_accuracy: 0.4683 - val_loss: 0.7835\n",
      "Epoch 19/50\n",
      "8/8 - 1s - 72ms/step - accuracy: 0.5300 - loss: 0.6997 - val_accuracy: 0.4286 - val_loss: 0.7298\n",
      "Epoch 20/50\n",
      "8/8 - 1s - 84ms/step - accuracy: 0.5800 - loss: 0.6740 - val_accuracy: 0.4444 - val_loss: 0.8266\n",
      "Epoch 21/50\n",
      "8/8 - 1s - 84ms/step - accuracy: 0.5480 - loss: 0.7004 - val_accuracy: 0.4603 - val_loss: 0.7854\n",
      "Epoch 22/50\n",
      "8/8 - 1s - 82ms/step - accuracy: 0.6160 - loss: 0.6512 - val_accuracy: 0.4683 - val_loss: 0.8424\n",
      "Epoch 23/50\n",
      "8/8 - 1s - 81ms/step - accuracy: 0.6240 - loss: 0.6367 - val_accuracy: 0.4921 - val_loss: 0.7767\n",
      "Epoch 24/50\n",
      "8/8 - 1s - 79ms/step - accuracy: 0.6000 - loss: 0.6534 - val_accuracy: 0.4603 - val_loss: 0.7783\n",
      "Epoch 25/50\n",
      "8/8 - 1s - 86ms/step - accuracy: 0.5700 - loss: 0.6916 - val_accuracy: 0.5000 - val_loss: 0.7488\n",
      "Epoch 26/50\n",
      "8/8 - 1s - 78ms/step - accuracy: 0.5980 - loss: 0.6499 - val_accuracy: 0.4603 - val_loss: 0.7547\n",
      "Epoch 27/50\n",
      "8/8 - 1s - 90ms/step - accuracy: 0.6140 - loss: 0.6402 - val_accuracy: 0.4524 - val_loss: 0.8440\n",
      "Epoch 28/50\n",
      "8/8 - 1s - 91ms/step - accuracy: 0.6520 - loss: 0.6231 - val_accuracy: 0.4444 - val_loss: 0.7845\n",
      "Epoch 29/50\n",
      "8/8 - 1s - 94ms/step - accuracy: 0.6440 - loss: 0.6174 - val_accuracy: 0.4365 - val_loss: 0.8460\n",
      "Epoch 30/50\n",
      "8/8 - 1s - 77ms/step - accuracy: 0.6720 - loss: 0.6100 - val_accuracy: 0.4683 - val_loss: 0.8034\n",
      "Epoch 31/50\n",
      "8/8 - 1s - 85ms/step - accuracy: 0.6260 - loss: 0.6410 - val_accuracy: 0.4603 - val_loss: 0.8678\n",
      "Epoch 32/50\n",
      "8/8 - 1s - 81ms/step - accuracy: 0.6280 - loss: 0.6484 - val_accuracy: 0.4762 - val_loss: 0.8053\n",
      "Epoch 33/50\n",
      "8/8 - 1s - 86ms/step - accuracy: 0.6540 - loss: 0.6186 - val_accuracy: 0.4444 - val_loss: 0.9063\n",
      "Epoch 34/50\n",
      "8/8 - 1s - 82ms/step - accuracy: 0.6500 - loss: 0.6196 - val_accuracy: 0.4444 - val_loss: 0.7981\n",
      "Epoch 35/50\n",
      "8/8 - 1s - 76ms/step - accuracy: 0.5920 - loss: 0.6501 - val_accuracy: 0.4524 - val_loss: 0.8298\n",
      "Epoch 36/50\n",
      "8/8 - 1s - 80ms/step - accuracy: 0.6240 - loss: 0.6458 - val_accuracy: 0.4683 - val_loss: 0.8139\n",
      "Epoch 37/50\n",
      "8/8 - 1s - 86ms/step - accuracy: 0.6480 - loss: 0.6040 - val_accuracy: 0.4286 - val_loss: 0.8152\n",
      "Epoch 38/50\n",
      "8/8 - 1s - 77ms/step - accuracy: 0.6720 - loss: 0.5998 - val_accuracy: 0.4841 - val_loss: 0.8862\n",
      "Epoch 39/50\n",
      "8/8 - 1s - 87ms/step - accuracy: 0.6100 - loss: 0.6454 - val_accuracy: 0.5079 - val_loss: 0.7680\n",
      "Epoch 40/50\n",
      "8/8 - 1s - 73ms/step - accuracy: 0.6100 - loss: 0.6408 - val_accuracy: 0.5397 - val_loss: 0.8144\n",
      "Epoch 41/50\n",
      "8/8 - 1s - 85ms/step - accuracy: 0.6620 - loss: 0.5976 - val_accuracy: 0.5000 - val_loss: 0.8227\n",
      "Epoch 42/50\n",
      "8/8 - 1s - 86ms/step - accuracy: 0.6800 - loss: 0.5673 - val_accuracy: 0.4921 - val_loss: 0.7793\n",
      "Epoch 43/50\n",
      "8/8 - 1s - 84ms/step - accuracy: 0.7080 - loss: 0.5581 - val_accuracy: 0.4683 - val_loss: 0.8229\n",
      "Epoch 44/50\n",
      "8/8 - 1s - 88ms/step - accuracy: 0.7260 - loss: 0.5146 - val_accuracy: 0.4762 - val_loss: 0.8281\n",
      "Epoch 45/50\n",
      "8/8 - 1s - 73ms/step - accuracy: 0.7220 - loss: 0.5261 - val_accuracy: 0.4841 - val_loss: 0.9390\n",
      "Epoch 46/50\n",
      "8/8 - 1s - 78ms/step - accuracy: 0.7220 - loss: 0.5281 - val_accuracy: 0.5079 - val_loss: 0.8413\n",
      "Epoch 47/50\n",
      "8/8 - 1s - 70ms/step - accuracy: 0.7040 - loss: 0.5603 - val_accuracy: 0.4841 - val_loss: 0.9954\n",
      "Epoch 48/50\n",
      "8/8 - 1s - 68ms/step - accuracy: 0.6840 - loss: 0.5952 - val_accuracy: 0.4444 - val_loss: 0.8465\n",
      "Epoch 49/50\n",
      "8/8 - 1s - 87ms/step - accuracy: 0.6420 - loss: 0.5861 - val_accuracy: 0.4286 - val_loss: 0.9777\n",
      "Epoch 50/50\n",
      "8/8 - 1s - 71ms/step - accuracy: 0.7000 - loss: 0.5792 - val_accuracy: 0.4603 - val_loss: 0.9997\n"
     ]
    }
   ],
   "source": [
    "model, history = basic_simpleRNN(input_dim, output_dim, input_feature_size)"
   ]
  },
  {
   "cell_type": "code",
   "execution_count": 19,
   "id": "65419d2a",
   "metadata": {},
   "outputs": [
    {
     "name": "stdout",
     "output_type": "stream",
     "text": [
      "\u001b[1m16/16\u001b[0m \u001b[32m━━━━━━━━━━━━━━━━━━━━\u001b[0m\u001b[37m\u001b[0m \u001b[1m0s\u001b[0m 16ms/step - accuracy: 0.7052 - loss: 0.5438\n",
      "Train loss: 0.5239198803901672\n",
      "Train accuracy: 0.7139999866485596\n",
      "\u001b[1m4/4\u001b[0m \u001b[32m━━━━━━━━━━━━━━━━━━━━\u001b[0m\u001b[37m\u001b[0m \u001b[1m0s\u001b[0m 16ms/step - accuracy: 0.4768 - loss: 0.9776\n",
      "Test loss: 0.9996510148048401\n",
      "Test accuracy: 0.460317462682724\n"
     ]
    }
   ],
   "source": [
    "# Ocena modelu na danych treningowych\n",
    "train_performance = model.evaluate(train_features, train_target)\n",
    "print('Train loss:', train_performance[0])\n",
    "print('Train accuracy:', train_performance[1])\n",
    "\n",
    "test_performance = model.evaluate(test_features, test_target)\n",
    "print('Test loss:', test_performance[0])\n",
    "print('Test accuracy:', test_performance[1])"
   ]
  },
  {
   "cell_type": "code",
   "execution_count": 20,
   "id": "4bce4c33",
   "metadata": {},
   "outputs": [
    {
     "name": "stdout",
     "output_type": "stream",
     "text": [
      "\u001b[1m16/16\u001b[0m \u001b[32m━━━━━━━━━━━━━━━━━━━━\u001b[0m\u001b[37m\u001b[0m \u001b[1m2s\u001b[0m 73ms/step\n",
      "104\n",
      "253\n",
      "15\n",
      "128\n",
      "Accuracy (ACC): 0.714\n",
      "True Positive Rate (TPR): 0.4482758620689655\n",
      "False Positive Rate (FPR): 0.055970149253731345\n",
      "True Negative Rate (TNR): 0.9440298507462687\n",
      "Positive Predictive Value (PPV): 0.8739495798319328\n",
      "Negative Predictive Value (NPV): 0.6640419947506562\n"
     ]
    }
   ],
   "source": [
    "# Predykcja na zbiorze treningowym\n",
    "train_predictions = model.predict(train_features)\n",
    "train_predictions = np.argmax(train_predictions, axis = 1)\n",
    "train_true = np.argmax(train_target, axis = 1)\n",
    "\n",
    "# Obliczanie macierzy pomyłek\n",
    "cm = confusion_matrix(train_true, train_predictions)\n",
    "TP = cm[1, 1]  # True Positives\n",
    "TN = cm[0, 0]  # True Negatives\n",
    "FP = cm[0, 1]  # False Positives\n",
    "FN = cm[1, 0]  # False Negatives\n",
    "\n",
    "print(TP)\n",
    "print(TN)\n",
    "print(FP)\n",
    "print(FN)\n",
    "\n",
    "# TPR, FPR, TNR, PPV, NPV\n",
    "ACC = (TP + TN) / (TP + TN + FP + FN)\n",
    "TPR = TP / (TP + FN)\n",
    "FPR = FP / (FP + TN)\n",
    "TNR = TN / (TN + FP)\n",
    "PPV = TP / (TP + FP)\n",
    "NPV = TN / (TN + FN)\n",
    "\n",
    "print('Accuracy (ACC):', ACC)\n",
    "print('True Positive Rate (TPR):', TPR)\n",
    "print('False Positive Rate (FPR):', FPR)\n",
    "print('True Negative Rate (TNR):', TNR)\n",
    "print('Positive Predictive Value (PPV):', PPV)\n",
    "print('Negative Predictive Value (NPV):', NPV)"
   ]
  },
  {
   "cell_type": "code",
   "execution_count": 21,
   "id": "8e441350",
   "metadata": {},
   "outputs": [
    {
     "name": "stdout",
     "output_type": "stream",
     "text": [
      "\u001b[1m4/4\u001b[0m \u001b[32m━━━━━━━━━━━━━━━━━━━━\u001b[0m\u001b[37m\u001b[0m \u001b[1m0s\u001b[0m 15ms/step \n",
      "9\n",
      "49\n",
      "10\n",
      "58\n",
      "Accuracy (ACC): 0.4603174603174603\n",
      "True Positive Rate (TPR): 0.13432835820895522\n",
      "False Positive Rate (FPR): 0.1694915254237288\n",
      "True Negative Rate (TNR): 0.8305084745762712\n",
      "Positive Predictive Value (PPV): 0.47368421052631576\n",
      "Negative Predictive Value (NPV): 0.45794392523364486\n"
     ]
    }
   ],
   "source": [
    "# Predykcja na zbiorze testowym\n",
    "test_predictions = model.predict(test_features)\n",
    "test_predictions = np.argmax(test_predictions, axis = 1)\n",
    "test_true = np.argmax(test_target, axis = 1)\n",
    "\n",
    "# Obliczanie macierzy pomyłek\n",
    "cm = confusion_matrix(test_true, test_predictions)\n",
    "TP = cm[1, 1]  # True Positives\n",
    "TN = cm[0, 0]  # True Negatives\n",
    "FP = cm[0, 1]  # False Positives\n",
    "FN = cm[1, 0]  # False Negatives\n",
    "\n",
    "print(TP)\n",
    "print(TN)\n",
    "print(FP)\n",
    "print(FN)\n",
    "\n",
    "# TPR, FPR, TNR, PPV, NPV\n",
    "ACC = (TP + TN) / (TP + TN + FP + FN)\n",
    "TPR = TP / (TP + FN)\n",
    "FPR = FP / (FP + TN)\n",
    "TNR = TN / (TN + FP)\n",
    "PPV = TP / (TP + FP)\n",
    "NPV = TN / (TN + FN)\n",
    "\n",
    "print('Accuracy (ACC):', ACC)\n",
    "print('True Positive Rate (TPR):', TPR)\n",
    "print('False Positive Rate (FPR):', FPR)\n",
    "print('True Negative Rate (TNR):', TNR)\n",
    "print('Positive Predictive Value (PPV):', PPV)\n",
    "print('Negative Predictive Value (NPV):', NPV)"
   ]
  }
 ],
 "metadata": {
  "kernelspec": {
   "display_name": "Python 3 (ipykernel)",
   "language": "python",
   "name": "python3"
  },
  "language_info": {
   "codemirror_mode": {
    "name": "ipython",
    "version": 3
   },
   "file_extension": ".py",
   "mimetype": "text/x-python",
   "name": "python",
   "nbconvert_exporter": "python",
   "pygments_lexer": "ipython3",
   "version": "3.11.5"
  }
 },
 "nbformat": 4,
 "nbformat_minor": 5
}
