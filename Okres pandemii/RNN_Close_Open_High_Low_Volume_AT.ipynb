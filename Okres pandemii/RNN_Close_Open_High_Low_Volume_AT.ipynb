{
 "cells": [
  {
   "cell_type": "code",
   "execution_count": 1,
   "id": "1162b5c8",
   "metadata": {},
   "outputs": [],
   "source": [
    "from keras.models import Sequential\n",
    "from keras.layers import SimpleRNN, Dense, Dropout\n",
    "from keras.optimizers import Adam"
   ]
  },
  {
   "cell_type": "code",
   "execution_count": 2,
   "id": "745310cc",
   "metadata": {},
   "outputs": [],
   "source": [
    "import pandas as pd\n",
    "import optuna\n",
    "import yfinance as yf\n",
    "import pandas_datareader.data as web\n",
    "from datetime import datetime\n",
    "import numpy as np\n",
    "import pandas_ta as ta\n",
    "from keras.optimizers import Adam\n",
    "from keras.optimizers import SGD\n",
    "from keras.optimizers import Nadam\n",
    "from sklearn.metrics import confusion_matrix\n",
    "from tensorflow.keras.models import Sequential\n",
    "from tensorflow.keras.layers import Dense\n",
    "from tensorflow.keras.utils import to_categorical\n",
    "from keras.models import Sequential\n",
    "from keras.layers import Dense, Dropout\n",
    "from keras.regularizers import l2\n",
    "from keras.callbacks import EarlyStopping\n",
    "from sklearn.preprocessing import MinMaxScaler\n",
    "from keras.utils import plot_model\n",
    "from keras.layers import Dropout, Dense, GRU, LSTM, Flatten\n",
    "import matplotlib.pyplot as plt"
   ]
  },
  {
   "cell_type": "code",
   "execution_count": 3,
   "id": "ecfe67dc",
   "metadata": {},
   "outputs": [],
   "source": [
    "import warnings\n",
    "warnings.filterwarnings('ignore', category = pd.errors.PerformanceWarning)"
   ]
  },
  {
   "cell_type": "code",
   "execution_count": 4,
   "id": "3bdd371a",
   "metadata": {
    "scrolled": true
   },
   "outputs": [
    {
     "name": "stderr",
     "output_type": "stream",
     "text": [
      "\r",
      "[*********************100%%**********************]  1 of 1 completed"
     ]
    },
    {
     "name": "stdout",
     "output_type": "stream",
     "text": [
      "784\n",
      "(784, 157)\n"
     ]
    },
    {
     "name": "stderr",
     "output_type": "stream",
     "text": [
      "\n"
     ]
    }
   ],
   "source": [
    "# Pobieramy dane dotyczące BTC z yahoo\n",
    "BTC = yf.download('BTC-USD', start = '2020-01-01', end = '2022-02-23')\n",
    "\n",
    "BTC['Target'] = (BTC['Close'].diff() > 0).astype(int)\n",
    "\n",
    "def add_lagged_features(data, column_name, n_days):\n",
    "    for i in range(1, n_days + 1):\n",
    "        lagged_column_name = f'{column_name}_{i}d_back'\n",
    "        data[lagged_column_name] = data[column_name].shift(i)\n",
    "    return data\n",
    "\n",
    "BTC = add_lagged_features(BTC, 'Close', 30)\n",
    "BTC = add_lagged_features(BTC, 'Open', 30)\n",
    "BTC = add_lagged_features(BTC, 'Volume', 30)\n",
    "BTC = add_lagged_features(BTC, 'High', 30)\n",
    "BTC = add_lagged_features(BTC, 'Low', 30)\n",
    "\n",
    "# df = pd.DataFrame()\n",
    "# df = BTC.copy()\n",
    "# print(BTC.head())\n",
    "print(len(BTC))\n",
    "print(BTC.shape)"
   ]
  },
  {
   "cell_type": "code",
   "execution_count": 5,
   "id": "445cd5d4",
   "metadata": {},
   "outputs": [],
   "source": [
    "# SMA\n",
    "BTC['SMA'] = ta.sma(BTC['Close_1d_back'], length = 30)\n",
    "\n",
    "# MFI \n",
    "BTC['MFI'] = ta.mfi(BTC['High_1d_back'], BTC['Low_1d_back'], \n",
    "                    BTC['Close_1d_back'], BTC['Volume_1d_back'], length = 29)\n",
    "\n",
    "# RSI \n",
    "BTC['RSI'] = ta.rsi(BTC['Close_1d_back'], length = 29)\n",
    "\n",
    "# Bollinger Bands\n",
    "bollinger = ta.bbands(BTC['Close_1d_back'], length = 30, std = 2)\n",
    "BTC['BB_Upper'] = bollinger['BBU_30_2.0']\n",
    "BTC['BB_Middle'] = bollinger['BBM_30_2.0']\n",
    "BTC['BB_Lower'] = bollinger['BBL_30_2.0']\n",
    "\n",
    "# CCI \n",
    "BTC['CCI'] = ta.cci(BTC['High_1d_back'], BTC['Low_1d_back'], \n",
    "                    BTC['Close_1d_back'], length = 30)"
   ]
  },
  {
   "cell_type": "code",
   "execution_count": 6,
   "id": "3afd826c",
   "metadata": {},
   "outputs": [],
   "source": [
    "high_series = BTC['High_1d_back']\n",
    "low_series = BTC['Low_1d_back']\n",
    "close_series = BTC['Close_1d_back']\n",
    "\n",
    "# Wprowadzenie jasnych parametrów dla kanału Donchian\n",
    "donchian = ta.donchian(high = high_series, low = low_series, close = close_series, lower_length = 30, upper_length = 30)\n",
    "\n",
    "# Przypisanie wyników kanału Donchian do DataFrame\n",
    "BTC['Donchian_High'] = donchian['DCU_30_30']\n",
    "BTC['Donchian_Low'] = donchian['DCL_30_30']"
   ]
  },
  {
   "cell_type": "code",
   "execution_count": 7,
   "id": "bea0121c",
   "metadata": {},
   "outputs": [],
   "source": [
    "BTC = BTC.drop('Adj Close', axis=1)\n",
    "BTC = BTC.dropna().reset_index(drop = True)\n",
    "# BTC"
   ]
  },
  {
   "cell_type": "code",
   "execution_count": 8,
   "id": "148e7526",
   "metadata": {
    "scrolled": true
   },
   "outputs": [],
   "source": [
    "dataset = pd.DataFrame()\n",
    "dataset = BTC[['Open', 'High', 'Low', 'Close', 'Volume', 'SMA', 'MFI', 'RSI', 'BB_Upper', \n",
    "          'BB_Middle', 'BB_Lower', 'CCI', 'Donchian_High', 'Donchian_Low', 'Target']].copy()\n",
    "# dataset"
   ]
  },
  {
   "cell_type": "code",
   "execution_count": 9,
   "id": "a4639688",
   "metadata": {},
   "outputs": [],
   "source": [
    "n_steps_in = 20\n",
    "output_features = 2"
   ]
  },
  {
   "cell_type": "code",
   "execution_count": 10,
   "id": "c36088bd",
   "metadata": {},
   "outputs": [],
   "source": [
    "X_value = pd.DataFrame(dataset.iloc[:, :])\n",
    "X_value = X_value.drop('Target', axis='columns')\n",
    "# X_value"
   ]
  },
  {
   "cell_type": "code",
   "execution_count": 11,
   "id": "9eb64e54",
   "metadata": {},
   "outputs": [],
   "source": [
    "y_value = pd.DataFrame(dataset.Target)\n",
    "y_value = to_categorical(y_value)\n",
    "# y_value"
   ]
  },
  {
   "cell_type": "code",
   "execution_count": 12,
   "id": "d3d27bf1",
   "metadata": {},
   "outputs": [],
   "source": [
    "scaler = MinMaxScaler(feature_range=(-1, 1))\n",
    "scaler.fit(X_value)\n",
    "X_value = scaler.fit_transform(X_value)"
   ]
  },
  {
   "cell_type": "code",
   "execution_count": 13,
   "id": "b089df56",
   "metadata": {},
   "outputs": [],
   "source": [
    "def get_X_y(X_data, y_data):\n",
    "    X = list()\n",
    "    y = list()\n",
    "\n",
    "    length = len(X_data)\n",
    "    for i in range(0, length-n_steps_in, 1):\n",
    "        X_value = X_data[i: i + n_steps_in][:, :]\n",
    "        # y_value = y_data[i + n_steps_in: i + (n_steps_in + n_steps_out)][:, :]\n",
    "        y_value = y_data[i + n_steps_in]\n",
    "        if len(X_value) == n_steps_in and len(y_value) == output_features:\n",
    "            X.append(X_value)\n",
    "            y.append(y_value)\n",
    "\n",
    "    return np.array(X), np.array(y)"
   ]
  },
  {
   "cell_type": "code",
   "execution_count": 14,
   "id": "421d0771",
   "metadata": {},
   "outputs": [],
   "source": [
    "def split_train_test(data):\n",
    "    train_size = int(0.8 * len(X))\n",
    "    data_train = data[0:train_size]\n",
    "    data_test = data[train_size:]\n",
    "    return data_train, data_test"
   ]
  },
  {
   "cell_type": "code",
   "execution_count": 15,
   "id": "d239ce9e",
   "metadata": {},
   "outputs": [
    {
     "name": "stdout",
     "output_type": "stream",
     "text": [
      "X shape:  (734, 20, 14)\n",
      "y shape:  (734, 2)\n",
      "Train features shape:  (587, 20, 14)\n",
      "Test features shape:  (147, 20, 14)\n",
      "Train features shape:  (587, 2)\n",
      "Test features shape:  (147, 2)\n"
     ]
    }
   ],
   "source": [
    "X, y = get_X_y(X_value, y_value)\n",
    "print('X shape: ', X.shape)\n",
    "print('y shape: ', y.shape)\n",
    "train_features, test_features = split_train_test(X) \n",
    "train_target, test_target = split_train_test(y) \n",
    "\n",
    "print('Train features shape: ', train_features.shape)\n",
    "print('Test features shape: ', test_features.shape)\n",
    "print('Train features shape: ', train_target.shape)\n",
    "print('Test features shape: ', test_target.shape)"
   ]
  },
  {
   "cell_type": "code",
   "execution_count": 16,
   "id": "2450a260",
   "metadata": {},
   "outputs": [],
   "source": [
    "input_dim = train_features.shape[1]\n",
    "input_feature_size = train_features.shape[2]\n",
    "output_dim = train_target.shape[1]"
   ]
  },
  {
   "cell_type": "code",
   "execution_count": 17,
   "id": "0f4fece6",
   "metadata": {},
   "outputs": [],
   "source": [
    "N_EPOCH = 50\n",
    "BATCH_SIZE = 64\n",
    "\n",
    "def basic_simpleRNN(input_dim, output_dim, input_feature_size):\n",
    "    model = Sequential()\n",
    "    model.add(SimpleRNN(units=63, return_sequences=True, activation='relu', input_shape=(input_dim, input_feature_size)))\n",
    "    model.add(Dropout(0.2))\n",
    "    model.add(SimpleRNN(250, return_sequences=False))\n",
    "    model.add(Dropout(0.2))\n",
    "    model.add(Dense(output_dim, activation='softmax'))\n",
    "\n",
    "    model.compile(optimizer=Adam(),\n",
    "                  loss='categorical_crossentropy',\n",
    "                  metrics=['accuracy'])\n",
    "    \n",
    "    history = model.fit(train_features, train_target, epochs = N_EPOCH, \n",
    "                        validation_data = (test_features, test_target),\n",
    "                        batch_size = BATCH_SIZE, verbose = 2, shuffle = False)\n",
    "\n",
    "    return model, history"
   ]
  },
  {
   "cell_type": "code",
   "execution_count": 18,
   "id": "5b79d271",
   "metadata": {
    "scrolled": true
   },
   "outputs": [
    {
     "name": "stderr",
     "output_type": "stream",
     "text": [
      "C:\\Users\\48798\\anaconda3\\Lib\\site-packages\\keras\\src\\layers\\rnn\\rnn.py:204: UserWarning: Do not pass an `input_shape`/`input_dim` argument to a layer. When using Sequential models, prefer using an `Input(shape)` object as the first layer in the model instead.\n",
      "  super().__init__(**kwargs)\n"
     ]
    },
    {
     "name": "stdout",
     "output_type": "stream",
     "text": [
      "Epoch 1/50\n",
      "10/10 - 33s - 3s/step - accuracy: 0.5094 - loss: 0.8052 - val_accuracy: 0.5374 - val_loss: 0.7082\n",
      "Epoch 2/50\n",
      "10/10 - 1s - 87ms/step - accuracy: 0.4940 - loss: 0.7779 - val_accuracy: 0.4898 - val_loss: 0.7035\n",
      "Epoch 3/50\n",
      "10/10 - 1s - 78ms/step - accuracy: 0.5128 - loss: 0.7428 - val_accuracy: 0.4966 - val_loss: 0.7166\n",
      "Epoch 4/50\n",
      "10/10 - 1s - 89ms/step - accuracy: 0.5230 - loss: 0.7703 - val_accuracy: 0.4830 - val_loss: 0.7096\n",
      "Epoch 5/50\n",
      "10/10 - 2s - 159ms/step - accuracy: 0.5349 - loss: 0.7209 - val_accuracy: 0.5170 - val_loss: 0.6963\n",
      "Epoch 6/50\n",
      "10/10 - 1s - 143ms/step - accuracy: 0.5264 - loss: 0.7371 - val_accuracy: 0.4830 - val_loss: 0.7247\n",
      "Epoch 7/50\n",
      "10/10 - 1s - 97ms/step - accuracy: 0.5451 - loss: 0.7143 - val_accuracy: 0.5034 - val_loss: 0.7001\n",
      "Epoch 8/50\n",
      "10/10 - 1s - 79ms/step - accuracy: 0.5315 - loss: 0.7202 - val_accuracy: 0.4694 - val_loss: 0.7227\n",
      "Epoch 9/50\n",
      "10/10 - 1s - 108ms/step - accuracy: 0.5349 - loss: 0.7074 - val_accuracy: 0.4694 - val_loss: 0.7067\n",
      "Epoch 10/50\n",
      "10/10 - 1s - 123ms/step - accuracy: 0.5332 - loss: 0.7117 - val_accuracy: 0.4762 - val_loss: 0.7406\n",
      "Epoch 11/50\n",
      "10/10 - 1s - 128ms/step - accuracy: 0.5366 - loss: 0.7186 - val_accuracy: 0.5034 - val_loss: 0.7150\n",
      "Epoch 12/50\n",
      "10/10 - 1s - 67ms/step - accuracy: 0.5298 - loss: 0.7100 - val_accuracy: 0.4626 - val_loss: 0.7205\n",
      "Epoch 13/50\n",
      "10/10 - 1s - 79ms/step - accuracy: 0.5656 - loss: 0.7086 - val_accuracy: 0.5102 - val_loss: 0.7225\n",
      "Epoch 14/50\n",
      "10/10 - 1s - 106ms/step - accuracy: 0.5690 - loss: 0.6866 - val_accuracy: 0.5238 - val_loss: 0.7202\n",
      "Epoch 15/50\n",
      "10/10 - 1s - 70ms/step - accuracy: 0.5707 - loss: 0.6788 - val_accuracy: 0.4490 - val_loss: 0.7516\n",
      "Epoch 16/50\n",
      "10/10 - 1s - 63ms/step - accuracy: 0.5792 - loss: 0.6682 - val_accuracy: 0.4830 - val_loss: 0.7702\n",
      "Epoch 17/50\n",
      "10/10 - 1s - 96ms/step - accuracy: 0.5486 - loss: 0.7060 - val_accuracy: 0.4626 - val_loss: 0.7762\n",
      "Epoch 18/50\n",
      "10/10 - 1s - 116ms/step - accuracy: 0.5383 - loss: 0.7051 - val_accuracy: 0.4830 - val_loss: 0.8444\n",
      "Epoch 19/50\n",
      "10/10 - 1s - 72ms/step - accuracy: 0.5605 - loss: 0.6923 - val_accuracy: 0.4830 - val_loss: 0.7717\n",
      "Epoch 20/50\n",
      "10/10 - 1s - 93ms/step - accuracy: 0.5826 - loss: 0.6547 - val_accuracy: 0.4966 - val_loss: 0.8638\n",
      "Epoch 21/50\n",
      "10/10 - 1s - 135ms/step - accuracy: 0.6048 - loss: 0.6573 - val_accuracy: 0.4966 - val_loss: 0.8314\n",
      "Epoch 22/50\n",
      "10/10 - 1s - 67ms/step - accuracy: 0.5486 - loss: 0.7178 - val_accuracy: 0.5102 - val_loss: 0.7266\n",
      "Epoch 23/50\n",
      "10/10 - 1s - 76ms/step - accuracy: 0.5468 - loss: 0.7179 - val_accuracy: 0.5170 - val_loss: 0.7294\n",
      "Epoch 24/50\n",
      "10/10 - 1s - 103ms/step - accuracy: 0.5571 - loss: 0.6899 - val_accuracy: 0.5034 - val_loss: 0.7160\n",
      "Epoch 25/50\n",
      "10/10 - 0s - 42ms/step - accuracy: 0.5468 - loss: 0.6979 - val_accuracy: 0.5102 - val_loss: 0.7685\n",
      "Epoch 26/50\n",
      "10/10 - 1s - 68ms/step - accuracy: 0.5656 - loss: 0.6799 - val_accuracy: 0.4966 - val_loss: 0.9234\n",
      "Epoch 27/50\n",
      "10/10 - 1s - 50ms/step - accuracy: 0.5928 - loss: 0.6768 - val_accuracy: 0.5034 - val_loss: 0.7626\n",
      "Epoch 28/50\n",
      "10/10 - 1s - 71ms/step - accuracy: 0.5775 - loss: 0.6863 - val_accuracy: 0.4830 - val_loss: 0.8394\n",
      "Epoch 29/50\n",
      "10/10 - 1s - 69ms/step - accuracy: 0.5809 - loss: 0.7086 - val_accuracy: 0.5034 - val_loss: 0.8122\n",
      "Epoch 30/50\n",
      "10/10 - 1s - 69ms/step - accuracy: 0.5690 - loss: 0.6869 - val_accuracy: 0.5442 - val_loss: 0.7346\n",
      "Epoch 31/50\n",
      "10/10 - 1s - 91ms/step - accuracy: 0.5554 - loss: 0.6752 - val_accuracy: 0.5374 - val_loss: 0.7930\n",
      "Epoch 32/50\n",
      "10/10 - 1s - 127ms/step - accuracy: 0.5639 - loss: 0.7156 - val_accuracy: 0.4830 - val_loss: 0.7428\n",
      "Epoch 33/50\n",
      "10/10 - 1s - 58ms/step - accuracy: 0.5775 - loss: 0.6909 - val_accuracy: 0.4898 - val_loss: 0.7708\n",
      "Epoch 34/50\n",
      "10/10 - 1s - 56ms/step - accuracy: 0.5758 - loss: 0.6969 - val_accuracy: 0.5034 - val_loss: 0.7084\n",
      "Epoch 35/50\n",
      "10/10 - 1s - 69ms/step - accuracy: 0.5622 - loss: 0.6903 - val_accuracy: 0.4898 - val_loss: 0.7479\n",
      "Epoch 36/50\n",
      "10/10 - 1s - 56ms/step - accuracy: 0.5860 - loss: 0.6680 - val_accuracy: 0.4830 - val_loss: 0.8290\n",
      "Epoch 37/50\n",
      "10/10 - 1s - 67ms/step - accuracy: 0.6252 - loss: 0.6404 - val_accuracy: 0.4966 - val_loss: 0.9121\n",
      "Epoch 38/50\n",
      "10/10 - 1s - 69ms/step - accuracy: 0.5809 - loss: 0.6807 - val_accuracy: 0.5170 - val_loss: 0.9348\n",
      "Epoch 39/50\n",
      "10/10 - 1s - 64ms/step - accuracy: 0.5843 - loss: 0.6884 - val_accuracy: 0.5306 - val_loss: 0.7689\n",
      "Epoch 40/50\n",
      "10/10 - 1s - 84ms/step - accuracy: 0.5809 - loss: 0.6607 - val_accuracy: 0.4694 - val_loss: 1.0101\n",
      "Epoch 41/50\n",
      "10/10 - 1s - 86ms/step - accuracy: 0.5963 - loss: 0.6545 - val_accuracy: 0.5170 - val_loss: 0.9918\n",
      "Epoch 42/50\n",
      "10/10 - 0s - 35ms/step - accuracy: 0.6184 - loss: 0.6439 - val_accuracy: 0.5782 - val_loss: 0.8579\n",
      "Epoch 43/50\n",
      "10/10 - 0s - 35ms/step - accuracy: 0.6048 - loss: 0.6744 - val_accuracy: 0.4762 - val_loss: 1.1324\n",
      "Epoch 44/50\n",
      "10/10 - 0s - 35ms/step - accuracy: 0.5894 - loss: 0.6782 - val_accuracy: 0.5442 - val_loss: 0.7620\n",
      "Epoch 45/50\n",
      "10/10 - 0s - 38ms/step - accuracy: 0.5690 - loss: 0.6970 - val_accuracy: 0.5510 - val_loss: 0.7799\n",
      "Epoch 46/50\n",
      "10/10 - 1s - 52ms/step - accuracy: 0.6252 - loss: 0.6233 - val_accuracy: 0.5102 - val_loss: 0.9923\n",
      "Epoch 47/50\n",
      "10/10 - 1s - 52ms/step - accuracy: 0.6491 - loss: 0.6055 - val_accuracy: 0.4898 - val_loss: 1.1547\n",
      "Epoch 48/50\n",
      "10/10 - 1s - 66ms/step - accuracy: 0.6508 - loss: 0.5949 - val_accuracy: 0.4762 - val_loss: 1.2131\n",
      "Epoch 49/50\n",
      "10/10 - 1s - 75ms/step - accuracy: 0.6320 - loss: 0.6178 - val_accuracy: 0.4558 - val_loss: 1.0601\n",
      "Epoch 50/50\n",
      "10/10 - 1s - 106ms/step - accuracy: 0.5980 - loss: 0.6959 - val_accuracy: 0.5170 - val_loss: 0.7571\n"
     ]
    }
   ],
   "source": [
    "model, history = basic_simpleRNN(input_dim, output_dim, input_feature_size)"
   ]
  },
  {
   "cell_type": "code",
   "execution_count": 19,
   "id": "65419d2a",
   "metadata": {},
   "outputs": [
    {
     "name": "stdout",
     "output_type": "stream",
     "text": [
      "\u001b[1m19/19\u001b[0m \u001b[32m━━━━━━━━━━━━━━━━━━━━\u001b[0m\u001b[37m\u001b[0m \u001b[1m0s\u001b[0m 9ms/step - accuracy: 0.5405 - loss: 0.7173\n",
      "Train loss: 0.6748993396759033\n",
      "Train accuracy: 0.5809199213981628\n",
      "\u001b[1m5/5\u001b[0m \u001b[32m━━━━━━━━━━━━━━━━━━━━\u001b[0m\u001b[37m\u001b[0m \u001b[1m0s\u001b[0m 9ms/step - accuracy: 0.4900 - loss: 0.7842 \n",
      "Test loss: 0.7570850849151611\n",
      "Test accuracy: 0.5170068144798279\n"
     ]
    }
   ],
   "source": [
    "# Ocena modelu na danych treningowych\n",
    "train_performance = model.evaluate(train_features, train_target)\n",
    "print('Train loss:', train_performance[0])\n",
    "print('Train accuracy:', train_performance[1])\n",
    "\n",
    "test_performance = model.evaluate(test_features, test_target)\n",
    "print('Test loss:', test_performance[0])\n",
    "print('Test accuracy:', test_performance[1])"
   ]
  },
  {
   "cell_type": "code",
   "execution_count": 20,
   "id": "4bce4c33",
   "metadata": {},
   "outputs": [
    {
     "name": "stdout",
     "output_type": "stream",
     "text": [
      "\u001b[1m19/19\u001b[0m \u001b[32m━━━━━━━━━━━━━━━━━━━━\u001b[0m\u001b[37m\u001b[0m \u001b[1m1s\u001b[0m 34ms/step\n",
      "246\n",
      "95\n",
      "175\n",
      "71\n",
      "Accuracy (ACC): 0.5809199318568995\n",
      "True Positive Rate (TPR): 0.7760252365930599\n",
      "False Positive Rate (FPR): 0.6481481481481481\n",
      "True Negative Rate (TNR): 0.35185185185185186\n",
      "Positive Predictive Value (PPV): 0.5843230403800475\n",
      "Negative Predictive Value (NPV): 0.572289156626506\n"
     ]
    }
   ],
   "source": [
    "# Predykcja na zbiorze treningowym\n",
    "train_predictions = model.predict(train_features)\n",
    "train_predictions = np.argmax(train_predictions, axis = 1)\n",
    "train_true = np.argmax(train_target, axis = 1)\n",
    "\n",
    "# Obliczanie macierzy pomyłek\n",
    "cm = confusion_matrix(train_true, train_predictions)\n",
    "TP = cm[1, 1]  # True Positives\n",
    "TN = cm[0, 0]  # True Negatives\n",
    "FP = cm[0, 1]  # False Positives\n",
    "FN = cm[1, 0]  # False Negatives\n",
    "\n",
    "print(TP)\n",
    "print(TN)\n",
    "print(FP)\n",
    "print(FN)\n",
    "\n",
    "# TPR, FPR, TNR, PPV, NPV\n",
    "ACC = (TP + TN) / (TP + TN + FP + FN)\n",
    "TPR = TP / (TP + FN)\n",
    "FPR = FP / (FP + TN)\n",
    "TNR = TN / (TN + FP)\n",
    "PPV = TP / (TP + FP)\n",
    "NPV = TN / (TN + FN)\n",
    "\n",
    "print('Accuracy (ACC):', ACC)\n",
    "print('True Positive Rate (TPR):', TPR)\n",
    "print('False Positive Rate (FPR):', FPR)\n",
    "print('True Negative Rate (TNR):', TNR)\n",
    "print('Positive Predictive Value (PPV):', PPV)\n",
    "print('Negative Predictive Value (NPV):', NPV)"
   ]
  },
  {
   "cell_type": "code",
   "execution_count": 21,
   "id": "8e441350",
   "metadata": {},
   "outputs": [
    {
     "name": "stdout",
     "output_type": "stream",
     "text": [
      "\u001b[1m5/5\u001b[0m \u001b[32m━━━━━━━━━━━━━━━━━━━━\u001b[0m\u001b[37m\u001b[0m \u001b[1m0s\u001b[0m 7ms/step \n",
      "5\n",
      "71\n",
      "2\n",
      "69\n",
      "Accuracy (ACC): 0.5170068027210885\n",
      "True Positive Rate (TPR): 0.06756756756756757\n",
      "False Positive Rate (FPR): 0.0273972602739726\n",
      "True Negative Rate (TNR): 0.9726027397260274\n",
      "Positive Predictive Value (PPV): 0.7142857142857143\n",
      "Negative Predictive Value (NPV): 0.5071428571428571\n"
     ]
    }
   ],
   "source": [
    "# Predykcja na zbiorze testowym\n",
    "test_predictions = model.predict(test_features)\n",
    "test_predictions = np.argmax(test_predictions, axis = 1)\n",
    "test_true = np.argmax(test_target, axis = 1)\n",
    "\n",
    "# Obliczanie macierzy pomyłek\n",
    "cm = confusion_matrix(test_true, test_predictions)\n",
    "TP = cm[1, 1]  # True Positives\n",
    "TN = cm[0, 0]  # True Negatives\n",
    "FP = cm[0, 1]  # False Positives\n",
    "FN = cm[1, 0]  # False Negatives\n",
    "\n",
    "print(TP)\n",
    "print(TN)\n",
    "print(FP)\n",
    "print(FN)\n",
    "\n",
    "# TPR, FPR, TNR, PPV, NPV\n",
    "ACC = (TP + TN) / (TP + TN + FP + FN)\n",
    "TPR = TP / (TP + FN)\n",
    "FPR = FP / (FP + TN)\n",
    "TNR = TN / (TN + FP)\n",
    "PPV = TP / (TP + FP)\n",
    "NPV = TN / (TN + FN)\n",
    "\n",
    "print('Accuracy (ACC):', ACC)\n",
    "print('True Positive Rate (TPR):', TPR)\n",
    "print('False Positive Rate (FPR):', FPR)\n",
    "print('True Negative Rate (TNR):', TNR)\n",
    "print('Positive Predictive Value (PPV):', PPV)\n",
    "print('Negative Predictive Value (NPV):', NPV)"
   ]
  }
 ],
 "metadata": {
  "kernelspec": {
   "display_name": "Python 3 (ipykernel)",
   "language": "python",
   "name": "python3"
  },
  "language_info": {
   "codemirror_mode": {
    "name": "ipython",
    "version": 3
   },
   "file_extension": ".py",
   "mimetype": "text/x-python",
   "name": "python",
   "nbconvert_exporter": "python",
   "pygments_lexer": "ipython3",
   "version": "3.11.5"
  }
 },
 "nbformat": 4,
 "nbformat_minor": 5
}
