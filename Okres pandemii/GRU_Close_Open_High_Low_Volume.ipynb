{
 "cells": [
  {
   "cell_type": "code",
   "execution_count": 1,
   "id": "745310cc",
   "metadata": {},
   "outputs": [],
   "source": [
    "import pandas as pd\n",
    "import optuna\n",
    "import yfinance as yf\n",
    "import pandas_datareader.data as web\n",
    "from datetime import datetime\n",
    "import numpy as np\n",
    "import pandas_ta as ta\n",
    "from keras.optimizers import Adam\n",
    "from keras.optimizers import SGD\n",
    "from keras.optimizers import Nadam\n",
    "from sklearn.metrics import confusion_matrix\n",
    "from tensorflow.keras.models import Sequential\n",
    "from tensorflow.keras.layers import Dense\n",
    "from tensorflow.keras.utils import to_categorical\n",
    "from keras.models import Sequential\n",
    "from keras.layers import Dense, Dropout\n",
    "from keras.regularizers import l2\n",
    "from keras.callbacks import EarlyStopping\n",
    "from sklearn.preprocessing import MinMaxScaler\n",
    "from keras.utils import plot_model\n",
    "from keras.layers import Dropout, Dense, GRU, LSTM, Flatten\n",
    "import matplotlib.pyplot as plt"
   ]
  },
  {
   "cell_type": "code",
   "execution_count": 2,
   "id": "ecfe67dc",
   "metadata": {},
   "outputs": [],
   "source": [
    "import warnings\n",
    "warnings.filterwarnings('ignore', category = pd.errors.PerformanceWarning)"
   ]
  },
  {
   "cell_type": "code",
   "execution_count": 3,
   "id": "3bdd371a",
   "metadata": {
    "scrolled": true
   },
   "outputs": [
    {
     "name": "stderr",
     "output_type": "stream",
     "text": [
      "[*********************100%%**********************]  1 of 1 completed\n"
     ]
    },
    {
     "name": "stdout",
     "output_type": "stream",
     "text": [
      "784\n",
      "(784, 157)\n"
     ]
    }
   ],
   "source": [
    "# Pobieramy dane dotyczące BTC z yahoo\n",
    "BTC = yf.download('BTC-USD', start = '2020-01-01', end = '2022-02-23')\n",
    "\n",
    "BTC['Target'] = (BTC['Close'].diff() > 0).astype(int)\n",
    "\n",
    "def add_lagged_features(data, column_name, n_days):\n",
    "    for i in range(1, n_days + 1):\n",
    "        lagged_column_name = f'{column_name}_{i}d_back'\n",
    "        data[lagged_column_name] = data[column_name].shift(i)\n",
    "    return data\n",
    "\n",
    "BTC = add_lagged_features(BTC, 'Close', 30)\n",
    "BTC = add_lagged_features(BTC, 'Open', 30)\n",
    "BTC = add_lagged_features(BTC, 'Volume', 30)\n",
    "BTC = add_lagged_features(BTC, 'High', 30)\n",
    "BTC = add_lagged_features(BTC, 'Low', 30)\n",
    "\n",
    "# df = pd.DataFrame()\n",
    "# df = BTC.copy()\n",
    "# print(BTC.head())\n",
    "print(len(BTC))\n",
    "print(BTC.shape)"
   ]
  },
  {
   "cell_type": "code",
   "execution_count": 4,
   "id": "bea0121c",
   "metadata": {},
   "outputs": [],
   "source": [
    "BTC = BTC.drop('Adj Close', axis=1)\n",
    "BTC = BTC.dropna().reset_index(drop = True)\n",
    "# BTC"
   ]
  },
  {
   "cell_type": "code",
   "execution_count": 5,
   "id": "148e7526",
   "metadata": {
    "scrolled": true
   },
   "outputs": [],
   "source": [
    "dataset = pd.DataFrame()\n",
    "dataset = BTC[['Open', 'High', 'Low', 'Close', 'Volume', 'Target']].copy()\n",
    "# dataset"
   ]
  },
  {
   "cell_type": "code",
   "execution_count": 6,
   "id": "a4639688",
   "metadata": {},
   "outputs": [],
   "source": [
    "n_steps_in = 20\n",
    "output_features = 2"
   ]
  },
  {
   "cell_type": "code",
   "execution_count": 7,
   "id": "c36088bd",
   "metadata": {},
   "outputs": [],
   "source": [
    "X_value = pd.DataFrame(dataset.iloc[:, :])\n",
    "X_value = X_value.drop('Target', axis='columns')\n",
    "# X_value"
   ]
  },
  {
   "cell_type": "code",
   "execution_count": 8,
   "id": "9eb64e54",
   "metadata": {},
   "outputs": [],
   "source": [
    "y_value = pd.DataFrame(dataset.Target)\n",
    "y_value = to_categorical(y_value)\n",
    "# y_value"
   ]
  },
  {
   "cell_type": "code",
   "execution_count": 9,
   "id": "d3d27bf1",
   "metadata": {},
   "outputs": [],
   "source": [
    "scaler = MinMaxScaler(feature_range=(-1, 1))\n",
    "scaler.fit(X_value)\n",
    "X_value = scaler.fit_transform(X_value)"
   ]
  },
  {
   "cell_type": "code",
   "execution_count": 10,
   "id": "b089df56",
   "metadata": {},
   "outputs": [],
   "source": [
    "def get_X_y(X_data, y_data):\n",
    "    X = list()\n",
    "    y = list()\n",
    "\n",
    "    length = len(X_data)\n",
    "    for i in range(0, length-n_steps_in, 1):\n",
    "        X_value = X_data[i: i + n_steps_in][:, :]\n",
    "        # y_value = y_data[i + n_steps_in: i + (n_steps_in + n_steps_out)][:, :]\n",
    "        y_value = y_data[i + n_steps_in]\n",
    "        if len(X_value) == n_steps_in and len(y_value) == output_features:\n",
    "            X.append(X_value)\n",
    "            y.append(y_value)\n",
    "\n",
    "    return np.array(X), np.array(y)"
   ]
  },
  {
   "cell_type": "code",
   "execution_count": 11,
   "id": "421d0771",
   "metadata": {},
   "outputs": [],
   "source": [
    "def split_train_test(data):\n",
    "    train_size = int(0.8 * len(X))\n",
    "    data_train = data[0:train_size]\n",
    "    data_test = data[train_size:]\n",
    "    return data_train, data_test"
   ]
  },
  {
   "cell_type": "code",
   "execution_count": 12,
   "id": "d239ce9e",
   "metadata": {},
   "outputs": [
    {
     "name": "stdout",
     "output_type": "stream",
     "text": [
      "X shape:  (734, 20, 5)\n",
      "y shape:  (734, 2)\n",
      "Train features shape:  (587, 20, 5)\n",
      "Test features shape:  (147, 20, 5)\n",
      "Train features shape:  (587, 2)\n",
      "Test features shape:  (147, 2)\n"
     ]
    }
   ],
   "source": [
    "X, y = get_X_y(X_value, y_value)\n",
    "print('X shape: ', X.shape)\n",
    "print('y shape: ', y.shape)\n",
    "train_features, test_features = split_train_test(X) \n",
    "train_target, test_target = split_train_test(y) \n",
    "\n",
    "print('Train features shape: ', train_features.shape)\n",
    "print('Test features shape: ', test_features.shape)\n",
    "print('Train features shape: ', train_target.shape)\n",
    "print('Test features shape: ', test_target.shape)"
   ]
  },
  {
   "cell_type": "code",
   "execution_count": 13,
   "id": "2450a260",
   "metadata": {},
   "outputs": [],
   "source": [
    "input_dim = train_features.shape[1]\n",
    "input_feature_size = train_features.shape[2]\n",
    "output_dim = train_target.shape[1]"
   ]
  },
  {
   "cell_type": "code",
   "execution_count": 14,
   "id": "0f4fece6",
   "metadata": {},
   "outputs": [],
   "source": [
    "N_EPOCH = 50\n",
    "BATCH_SIZE = 64\n",
    "\n",
    "def basic_GRU(input_dim, output_dim, input_feature_size):\n",
    "    model = Sequential()\n",
    "    model.add(GRU(units=63, return_sequences=True, activation='relu', input_shape=(input_dim, input_feature_size)))\n",
    "    model.add(Dropout(0.2))\n",
    "    model.add(GRU(250, return_sequences=False))\n",
    "    model.add(Dropout(0.2))\n",
    "    model.add(Dense(output_dim, activation='softmax'))\n",
    "\n",
    "    model.compile(optimizer='adam',\n",
    "              loss='categorical_crossentropy',\n",
    "              metrics=['accuracy'])\n",
    "    \n",
    "    history = model.fit(train_features, train_target, epochs=N_EPOCH, \n",
    "                        validation_data=(test_features, test_target),\n",
    "                        batch_size=BATCH_SIZE, verbose=2, shuffle=False)\n",
    "\n",
    "    return model, history"
   ]
  },
  {
   "cell_type": "code",
   "execution_count": 15,
   "id": "5b79d271",
   "metadata": {
    "scrolled": true
   },
   "outputs": [
    {
     "name": "stderr",
     "output_type": "stream",
     "text": [
      "C:\\Users\\48798\\anaconda3\\Lib\\site-packages\\keras\\src\\layers\\rnn\\rnn.py:204: UserWarning: Do not pass an `input_shape`/`input_dim` argument to a layer. When using Sequential models, prefer using an `Input(shape)` object as the first layer in the model instead.\n",
      "  super().__init__(**kwargs)\n"
     ]
    },
    {
     "name": "stdout",
     "output_type": "stream",
     "text": [
      "Epoch 1/50\n",
      "10/10 - 36s - 4s/step - accuracy: 0.4974 - loss: 0.6968 - val_accuracy: 0.5238 - val_loss: 0.6888\n",
      "Epoch 2/50\n",
      "10/10 - 2s - 205ms/step - accuracy: 0.5451 - loss: 0.7053 - val_accuracy: 0.4966 - val_loss: 0.7008\n",
      "Epoch 3/50\n",
      "10/10 - 2s - 214ms/step - accuracy: 0.5673 - loss: 0.6913 - val_accuracy: 0.5442 - val_loss: 0.6913\n",
      "Epoch 4/50\n",
      "10/10 - 2s - 191ms/step - accuracy: 0.5468 - loss: 0.6881 - val_accuracy: 0.5374 - val_loss: 0.6898\n",
      "Epoch 5/50\n",
      "10/10 - 2s - 243ms/step - accuracy: 0.5520 - loss: 0.6883 - val_accuracy: 0.5646 - val_loss: 0.6907\n",
      "Epoch 6/50\n",
      "10/10 - 3s - 262ms/step - accuracy: 0.5503 - loss: 0.6889 - val_accuracy: 0.5578 - val_loss: 0.6920\n",
      "Epoch 7/50\n",
      "10/10 - 3s - 347ms/step - accuracy: 0.5554 - loss: 0.6881 - val_accuracy: 0.5510 - val_loss: 0.6912\n",
      "Epoch 8/50\n",
      "10/10 - 2s - 211ms/step - accuracy: 0.5520 - loss: 0.6873 - val_accuracy: 0.5442 - val_loss: 0.6906\n",
      "Epoch 9/50\n",
      "10/10 - 3s - 255ms/step - accuracy: 0.5588 - loss: 0.6889 - val_accuracy: 0.5578 - val_loss: 0.6903\n",
      "Epoch 10/50\n",
      "10/10 - 2s - 223ms/step - accuracy: 0.5503 - loss: 0.6880 - val_accuracy: 0.5442 - val_loss: 0.6903\n",
      "Epoch 11/50\n",
      "10/10 - 3s - 309ms/step - accuracy: 0.5434 - loss: 0.6873 - val_accuracy: 0.5578 - val_loss: 0.6901\n",
      "Epoch 12/50\n",
      "10/10 - 3s - 309ms/step - accuracy: 0.5468 - loss: 0.6881 - val_accuracy: 0.5510 - val_loss: 0.6908\n",
      "Epoch 13/50\n",
      "10/10 - 3s - 318ms/step - accuracy: 0.5417 - loss: 0.6861 - val_accuracy: 0.5374 - val_loss: 0.6895\n",
      "Epoch 14/50\n",
      "10/10 - 4s - 372ms/step - accuracy: 0.5486 - loss: 0.6880 - val_accuracy: 0.5578 - val_loss: 0.6893\n",
      "Epoch 15/50\n",
      "10/10 - 5s - 455ms/step - accuracy: 0.5434 - loss: 0.6860 - val_accuracy: 0.5442 - val_loss: 0.6892\n",
      "Epoch 16/50\n",
      "10/10 - 3s - 259ms/step - accuracy: 0.5434 - loss: 0.6860 - val_accuracy: 0.5238 - val_loss: 0.6894\n",
      "Epoch 17/50\n",
      "10/10 - 3s - 297ms/step - accuracy: 0.5520 - loss: 0.6871 - val_accuracy: 0.5238 - val_loss: 0.6887\n",
      "Epoch 18/50\n",
      "10/10 - 5s - 533ms/step - accuracy: 0.5417 - loss: 0.6881 - val_accuracy: 0.5510 - val_loss: 0.6891\n",
      "Epoch 19/50\n",
      "10/10 - 4s - 387ms/step - accuracy: 0.5520 - loss: 0.6875 - val_accuracy: 0.5646 - val_loss: 0.6899\n",
      "Epoch 20/50\n",
      "10/10 - 5s - 491ms/step - accuracy: 0.5486 - loss: 0.6864 - val_accuracy: 0.5374 - val_loss: 0.6882\n",
      "Epoch 21/50\n",
      "10/10 - 4s - 438ms/step - accuracy: 0.5366 - loss: 0.6850 - val_accuracy: 0.5646 - val_loss: 0.6890\n",
      "Epoch 22/50\n",
      "10/10 - 3s - 329ms/step - accuracy: 0.5400 - loss: 0.6836 - val_accuracy: 0.5578 - val_loss: 0.6889\n",
      "Epoch 23/50\n",
      "10/10 - 6s - 624ms/step - accuracy: 0.5486 - loss: 0.6855 - val_accuracy: 0.5714 - val_loss: 0.6888\n",
      "Epoch 24/50\n",
      "10/10 - 3s - 330ms/step - accuracy: 0.5486 - loss: 0.6856 - val_accuracy: 0.5646 - val_loss: 0.6893\n",
      "Epoch 25/50\n",
      "10/10 - 4s - 389ms/step - accuracy: 0.5468 - loss: 0.6848 - val_accuracy: 0.5918 - val_loss: 0.6881\n",
      "Epoch 26/50\n",
      "10/10 - 3s - 280ms/step - accuracy: 0.5400 - loss: 0.6880 - val_accuracy: 0.5646 - val_loss: 0.6894\n",
      "Epoch 27/50\n",
      "10/10 - 4s - 450ms/step - accuracy: 0.5554 - loss: 0.6860 - val_accuracy: 0.5306 - val_loss: 0.6919\n",
      "Epoch 28/50\n",
      "10/10 - 3s - 330ms/step - accuracy: 0.5468 - loss: 0.6859 - val_accuracy: 0.5510 - val_loss: 0.6887\n",
      "Epoch 29/50\n",
      "10/10 - 6s - 582ms/step - accuracy: 0.5486 - loss: 0.6869 - val_accuracy: 0.5442 - val_loss: 0.6897\n",
      "Epoch 30/50\n",
      "10/10 - 3s - 253ms/step - accuracy: 0.5468 - loss: 0.6822 - val_accuracy: 0.5510 - val_loss: 0.6887\n",
      "Epoch 31/50\n",
      "10/10 - 3s - 260ms/step - accuracy: 0.5588 - loss: 0.6860 - val_accuracy: 0.5510 - val_loss: 0.6883\n",
      "Epoch 32/50\n",
      "10/10 - 3s - 251ms/step - accuracy: 0.5434 - loss: 0.6853 - val_accuracy: 0.5442 - val_loss: 0.6890\n",
      "Epoch 33/50\n",
      "10/10 - 3s - 252ms/step - accuracy: 0.5537 - loss: 0.6837 - val_accuracy: 0.5442 - val_loss: 0.6884\n",
      "Epoch 34/50\n",
      "10/10 - 3s - 256ms/step - accuracy: 0.5417 - loss: 0.6847 - val_accuracy: 0.5442 - val_loss: 0.6878\n",
      "Epoch 35/50\n",
      "10/10 - 2s - 181ms/step - accuracy: 0.5315 - loss: 0.6872 - val_accuracy: 0.5238 - val_loss: 0.6917\n",
      "Epoch 36/50\n",
      "10/10 - 2s - 229ms/step - accuracy: 0.5383 - loss: 0.6864 - val_accuracy: 0.4966 - val_loss: 0.6974\n",
      "Epoch 37/50\n",
      "10/10 - 2s - 203ms/step - accuracy: 0.5605 - loss: 0.6882 - val_accuracy: 0.4898 - val_loss: 0.6908\n",
      "Epoch 38/50\n",
      "10/10 - 2s - 214ms/step - accuracy: 0.5417 - loss: 0.6889 - val_accuracy: 0.5442 - val_loss: 0.6892\n",
      "Epoch 39/50\n",
      "10/10 - 2s - 216ms/step - accuracy: 0.5588 - loss: 0.6825 - val_accuracy: 0.5238 - val_loss: 0.6950\n",
      "Epoch 40/50\n",
      "10/10 - 2s - 220ms/step - accuracy: 0.5588 - loss: 0.6837 - val_accuracy: 0.5442 - val_loss: 0.6882\n",
      "Epoch 41/50\n",
      "10/10 - 2s - 196ms/step - accuracy: 0.5451 - loss: 0.6818 - val_accuracy: 0.5374 - val_loss: 0.6882\n",
      "Epoch 42/50\n",
      "10/10 - 2s - 187ms/step - accuracy: 0.5554 - loss: 0.6838 - val_accuracy: 0.5238 - val_loss: 0.6893\n",
      "Epoch 43/50\n",
      "10/10 - 2s - 225ms/step - accuracy: 0.5622 - loss: 0.6806 - val_accuracy: 0.5306 - val_loss: 0.6897\n",
      "Epoch 44/50\n",
      "10/10 - 2s - 197ms/step - accuracy: 0.5537 - loss: 0.6794 - val_accuracy: 0.5170 - val_loss: 0.6917\n",
      "Epoch 45/50\n",
      "10/10 - 2s - 203ms/step - accuracy: 0.5434 - loss: 0.6811 - val_accuracy: 0.5306 - val_loss: 0.6924\n",
      "Epoch 46/50\n",
      "10/10 - 2s - 184ms/step - accuracy: 0.5656 - loss: 0.6862 - val_accuracy: 0.4966 - val_loss: 0.7001\n",
      "Epoch 47/50\n",
      "10/10 - 2s - 194ms/step - accuracy: 0.5588 - loss: 0.6844 - val_accuracy: 0.5238 - val_loss: 0.6938\n",
      "Epoch 48/50\n",
      "10/10 - 2s - 172ms/step - accuracy: 0.5315 - loss: 0.6910 - val_accuracy: 0.5102 - val_loss: 0.6936\n",
      "Epoch 49/50\n",
      "10/10 - 2s - 168ms/step - accuracy: 0.5400 - loss: 0.6854 - val_accuracy: 0.5238 - val_loss: 0.6984\n",
      "Epoch 50/50\n",
      "10/10 - 2s - 190ms/step - accuracy: 0.5622 - loss: 0.6828 - val_accuracy: 0.5238 - val_loss: 0.6909\n"
     ]
    }
   ],
   "source": [
    "model, history = basic_GRU(input_dim, output_dim, input_feature_size)"
   ]
  },
  {
   "cell_type": "code",
   "execution_count": 16,
   "id": "65419d2a",
   "metadata": {},
   "outputs": [
    {
     "name": "stdout",
     "output_type": "stream",
     "text": [
      "\u001b[1m19/19\u001b[0m \u001b[32m━━━━━━━━━━━━━━━━━━━━\u001b[0m\u001b[37m\u001b[0m \u001b[1m1s\u001b[0m 44ms/step - accuracy: 0.5350 - loss: 0.6902\n",
      "Train loss: 0.6788448095321655\n",
      "Train accuracy: 0.5638841390609741\n",
      "\u001b[1m5/5\u001b[0m \u001b[32m━━━━━━━━━━━━━━━━━━━━\u001b[0m\u001b[37m\u001b[0m \u001b[1m0s\u001b[0m 49ms/step - accuracy: 0.4802 - loss: 0.7004\n",
      "Test loss: 0.6908754110336304\n",
      "Test accuracy: 0.523809552192688\n"
     ]
    }
   ],
   "source": [
    "# Ocena modelu na danych treningowych\n",
    "train_performance = model.evaluate(train_features, train_target)\n",
    "print('Train loss:', train_performance[0])\n",
    "print('Train accuracy:', train_performance[1])\n",
    "\n",
    "test_performance = model.evaluate(test_features, test_target)\n",
    "print('Test loss:', test_performance[0])\n",
    "print('Test accuracy:', test_performance[1])"
   ]
  },
  {
   "cell_type": "code",
   "execution_count": 17,
   "id": "4bce4c33",
   "metadata": {
    "scrolled": true
   },
   "outputs": [
    {
     "name": "stdout",
     "output_type": "stream",
     "text": [
      "\u001b[1m19/19\u001b[0m \u001b[32m━━━━━━━━━━━━━━━━━━━━\u001b[0m\u001b[37m\u001b[0m \u001b[1m6s\u001b[0m 169ms/step\n",
      "244\n",
      "87\n",
      "183\n",
      "73\n",
      "Accuracy (ACC): 0.5638841567291312\n",
      "True Positive Rate (TPR): 0.7697160883280757\n",
      "False Positive Rate (FPR): 0.6777777777777778\n",
      "True Negative Rate (TNR): 0.32222222222222224\n",
      "Positive Predictive Value (PPV): 0.5714285714285714\n",
      "Negative Predictive Value (NPV): 0.54375\n"
     ]
    }
   ],
   "source": [
    "# Predykcja na zbiorze treningowym\n",
    "train_predictions = model.predict(train_features)\n",
    "train_predictions = np.argmax(train_predictions, axis = 1)\n",
    "train_true = np.argmax(train_target, axis = 1)\n",
    "\n",
    "# Obliczanie macierzy pomyłek\n",
    "cm = confusion_matrix(train_true, train_predictions)\n",
    "TP = cm[1, 1]  # True Positives\n",
    "TN = cm[0, 0]  # True Negatives\n",
    "FP = cm[0, 1]  # False Positives\n",
    "FN = cm[1, 0]  # False Negatives\n",
    "\n",
    "print(TP)\n",
    "print(TN)\n",
    "print(FP)\n",
    "print(FN)\n",
    "\n",
    "# TPR, FPR, TNR, PPV, NPV\n",
    "ACC = (TP + TN) / (TP + TN + FP + FN)\n",
    "TPR = TP / (TP + FN)\n",
    "FPR = FP / (FP + TN)\n",
    "TNR = TN / (TN + FP)\n",
    "PPV = TP / (TP + FP)\n",
    "NPV = TN / (TN + FN)\n",
    "\n",
    "print('Accuracy (ACC):', ACC)\n",
    "print('True Positive Rate (TPR):', TPR)\n",
    "print('False Positive Rate (FPR):', FPR)\n",
    "print('True Negative Rate (TNR):', TNR)\n",
    "print('Positive Predictive Value (PPV):', PPV)\n",
    "print('Negative Predictive Value (NPV):', NPV)"
   ]
  },
  {
   "cell_type": "code",
   "execution_count": 18,
   "id": "8e441350",
   "metadata": {},
   "outputs": [
    {
     "name": "stdout",
     "output_type": "stream",
     "text": [
      "\u001b[1m5/5\u001b[0m \u001b[32m━━━━━━━━━━━━━━━━━━━━\u001b[0m\u001b[37m\u001b[0m \u001b[1m0s\u001b[0m 45ms/step\n",
      "8\n",
      "69\n",
      "4\n",
      "66\n",
      "Accuracy (ACC): 0.5238095238095238\n",
      "True Positive Rate (TPR): 0.10810810810810811\n",
      "False Positive Rate (FPR): 0.0547945205479452\n",
      "True Negative Rate (TNR): 0.9452054794520548\n",
      "Positive Predictive Value (PPV): 0.6666666666666666\n",
      "Negative Predictive Value (NPV): 0.5111111111111111\n"
     ]
    }
   ],
   "source": [
    "# Predykcja na zbiorze testowym\n",
    "test_predictions = model.predict(test_features)\n",
    "test_predictions = np.argmax(test_predictions, axis = 1)\n",
    "test_true = np.argmax(test_target, axis = 1)\n",
    "\n",
    "# Obliczanie macierzy pomyłek\n",
    "cm = confusion_matrix(test_true, test_predictions)\n",
    "TP = cm[1, 1]  # True Positives\n",
    "TN = cm[0, 0]  # True Negatives\n",
    "FP = cm[0, 1]  # False Positives\n",
    "FN = cm[1, 0]  # False Negatives\n",
    "\n",
    "print(TP)\n",
    "print(TN)\n",
    "print(FP)\n",
    "print(FN)\n",
    "\n",
    "# TPR, FPR, TNR, PPV, NPV\n",
    "ACC = (TP + TN) / (TP + TN + FP + FN)\n",
    "TPR = TP / (TP + FN)\n",
    "FPR = FP / (FP + TN)\n",
    "TNR = TN / (TN + FP)\n",
    "PPV = TP / (TP + FP)\n",
    "NPV = TN / (TN + FN)\n",
    "\n",
    "print('Accuracy (ACC):', ACC)\n",
    "print('True Positive Rate (TPR):', TPR)\n",
    "print('False Positive Rate (FPR):', FPR)\n",
    "print('True Negative Rate (TNR):', TNR)\n",
    "print('Positive Predictive Value (PPV):', PPV)\n",
    "print('Negative Predictive Value (NPV):', NPV)"
   ]
  },
  {
   "cell_type": "code",
   "execution_count": 19,
   "id": "138343a9",
   "metadata": {},
   "outputs": [
    {
     "data": {
      "image/png": "[encoded data removed]",
      "text/plain": [
       "<Figure size 640x480 with 1 Axes>"
      ]
     },
     "metadata": {},
     "output_type": "display_data"
    }
   ],
   "source": [
    "plt.plot(history.history[\"accuracy\"], label=\"train\")\n",
    "plt.plot(history.history[\"val_accuracy\"], label=\"test\")\n",
    "plt.title(\"Skuteczność - GRU\")\n",
    "plt.xlabel(\"Epoch\")\n",
    "plt.ylabel(\"Accuracy\")\n",
    "plt.xticks(np.arange(0, N_EPOCH, step=5))\n",
    "plt.yticks(np.arange(0, 1, step=0.1))\n",
    "plt.legend()\n",
    "plt.show()"
   ]
  },
  {
   "cell_type": "code",
   "execution_count": 20,
   "id": "8e1ebd56",
   "metadata": {},
   "outputs": [
    {
     "data": {
      "image/png": "[encoded data removed]",
      "text/plain": [
       "<Figure size 640x480 with 1 Axes>"
      ]
     },
     "metadata": {},
     "output_type": "display_data"
    }
   ],
   "source": [
    "plt.plot(history.history[\"loss\"], label=\"train\")\n",
    "plt.plot(history.history[\"val_loss\"], label=\"test\")\n",
    "plt.title(\"Funkcja strat - GRU\")\n",
    "plt.xlabel(\"Epoch\")\n",
    "plt.ylabel(\"Loss\")\n",
    "plt.xticks(np.arange(0, N_EPOCH, step=5))\n",
    "plt.yticks(np.arange(0, 1, step=0.1))\n",
    "plt.legend()\n",
    "plt.show()"
   ]
  }
 ],
 "metadata": {
  "kernelspec": {
   "display_name": "Python 3 (ipykernel)",
   "language": "python",
   "name": "python3"
  },
  "language_info": {
   "codemirror_mode": {
    "name": "ipython",
    "version": 3
   },
   "file_extension": ".py",
   "mimetype": "text/x-python",
   "name": "python",
   "nbconvert_exporter": "python",
   "pygments_lexer": "ipython3",
   "version": "3.11.5"
  }
 },
 "nbformat": 4,
 "nbformat_minor": 5
}
