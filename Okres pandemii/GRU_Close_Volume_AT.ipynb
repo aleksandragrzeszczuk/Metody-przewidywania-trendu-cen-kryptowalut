{
 "cells": [
  {
   "cell_type": "code",
   "execution_count": 1,
   "id": "745310cc",
   "metadata": {},
   "outputs": [],
   "source": [
    "import pandas as pd\n",
    "import optuna\n",
    "import yfinance as yf\n",
    "import pandas_datareader.data as web\n",
    "from datetime import datetime\n",
    "import numpy as np\n",
    "import pandas_ta as ta\n",
    "from keras.optimizers import Adam\n",
    "from keras.optimizers import SGD\n",
    "from keras.optimizers import Nadam\n",
    "from sklearn.metrics import confusion_matrix\n",
    "from tensorflow.keras.models import Sequential\n",
    "from tensorflow.keras.layers import Dense\n",
    "from tensorflow.keras.utils import to_categorical\n",
    "from keras.models import Sequential\n",
    "from keras.layers import Dense, Dropout\n",
    "from keras.regularizers import l2\n",
    "from keras.callbacks import EarlyStopping\n",
    "from sklearn.preprocessing import MinMaxScaler\n",
    "from keras.utils import plot_model\n",
    "from keras.layers import Dropout, Dense, GRU, LSTM, Flatten\n",
    "import matplotlib.pyplot as plt"
   ]
  },
  {
   "cell_type": "code",
   "execution_count": 2,
   "id": "ecfe67dc",
   "metadata": {},
   "outputs": [],
   "source": [
    "import warnings\n",
    "warnings.filterwarnings('ignore', category = pd.errors.PerformanceWarning)"
   ]
  },
  {
   "cell_type": "code",
   "execution_count": 3,
   "id": "3bdd371a",
   "metadata": {
    "scrolled": true
   },
   "outputs": [
    {
     "name": "stderr",
     "output_type": "stream",
     "text": [
      "[*********************100%%**********************]  1 of 1 completed\n"
     ]
    },
    {
     "name": "stdout",
     "output_type": "stream",
     "text": [
      "784\n",
      "(784, 69)\n"
     ]
    }
   ],
   "source": [
    "# Pobieramy dane dotyczące BTC z yahoo\n",
    "BTC = yf.download('BTC-USD', start = '2020-01-01', end = '2022-02-23')\n",
    "\n",
    "BTC['Target'] = (BTC['Close'].diff() > 0).astype(int)\n",
    "\n",
    "def add_lagged_features(data, column_name, n_days):\n",
    "    for i in range(1, n_days + 1):\n",
    "        lagged_column_name = f'{column_name}_{i}d_back'\n",
    "        data[lagged_column_name] = data[column_name].shift(i)\n",
    "    return data\n",
    "\n",
    "BTC = add_lagged_features(BTC, 'Close', 30)\n",
    "BTC = add_lagged_features(BTC, 'Volume', 30)\n",
    "BTC = add_lagged_features(BTC, 'High', 1)\n",
    "BTC = add_lagged_features(BTC, 'Low', 1)\n",
    "\n",
    "# df = pd.DataFrame()\n",
    "# df = BTC.copy()\n",
    "# print(BTC.head())\n",
    "print(len(BTC))\n",
    "print(BTC.shape)"
   ]
  },
  {
   "cell_type": "code",
   "execution_count": 4,
   "id": "445cd5d4",
   "metadata": {},
   "outputs": [],
   "source": [
    "# SMA\n",
    "BTC['SMA'] = ta.sma(BTC['Close_1d_back'], length = 30)\n",
    "\n",
    "# MFI \n",
    "BTC['MFI'] = ta.mfi(BTC['High_1d_back'], BTC['Low_1d_back'], \n",
    "                    BTC['Close_1d_back'], BTC['Volume_1d_back'], length = 29)\n",
    "\n",
    "# RSI \n",
    "BTC['RSI'] = ta.rsi(BTC['Close_1d_back'], length = 29)\n",
    "\n",
    "# Bollinger Bands\n",
    "bollinger = ta.bbands(BTC['Close_1d_back'], length = 30, std = 2)\n",
    "BTC['BB_Upper'] = bollinger['BBU_30_2.0']\n",
    "BTC['BB_Middle'] = bollinger['BBM_30_2.0']\n",
    "BTC['BB_Lower'] = bollinger['BBL_30_2.0']\n",
    "\n",
    "# CCI \n",
    "BTC['CCI'] = ta.cci(BTC['High_1d_back'], BTC['Low_1d_back'], \n",
    "                    BTC['Close_1d_back'], length = 30)"
   ]
  },
  {
   "cell_type": "code",
   "execution_count": 5,
   "id": "3afd826c",
   "metadata": {},
   "outputs": [],
   "source": [
    "high_series = BTC['High_1d_back']\n",
    "low_series = BTC['Low_1d_back']\n",
    "close_series = BTC['Close_1d_back']\n",
    "\n",
    "# Wprowadzenie jasnych parametrów dla kanału Donchian\n",
    "donchian = ta.donchian(high = high_series, low = low_series, close = close_series, lower_length = 30, upper_length = 30)\n",
    "\n",
    "# Przypisanie wyników kanału Donchian do DataFrame\n",
    "BTC['Donchian_High'] = donchian['DCU_30_30']\n",
    "BTC['Donchian_Low'] = donchian['DCL_30_30']"
   ]
  },
  {
   "cell_type": "code",
   "execution_count": 6,
   "id": "bea0121c",
   "metadata": {},
   "outputs": [],
   "source": [
    "BTC = BTC.drop('Adj Close', axis=1)\n",
    "BTC = BTC.dropna().reset_index(drop = True)\n",
    "# BTC"
   ]
  },
  {
   "cell_type": "code",
   "execution_count": 7,
   "id": "148e7526",
   "metadata": {
    "scrolled": true
   },
   "outputs": [],
   "source": [
    "dataset = pd.DataFrame()\n",
    "dataset = BTC[['Open', 'High', 'Low', 'Close', 'Volume', 'SMA', 'MFI', 'RSI', 'BB_Upper', \n",
    "          'BB_Middle', 'BB_Lower', 'CCI', 'Donchian_High', 'Donchian_Low', 'Target']].copy()\n",
    "# dataset"
   ]
  },
  {
   "cell_type": "code",
   "execution_count": 8,
   "id": "a4639688",
   "metadata": {},
   "outputs": [],
   "source": [
    "n_steps_in = 20\n",
    "output_features = 2"
   ]
  },
  {
   "cell_type": "code",
   "execution_count": 9,
   "id": "c36088bd",
   "metadata": {},
   "outputs": [],
   "source": [
    "X_value = pd.DataFrame(dataset.iloc[:, :])\n",
    "X_value = X_value.drop('Target', axis='columns')\n",
    "# X_value"
   ]
  },
  {
   "cell_type": "code",
   "execution_count": 10,
   "id": "9eb64e54",
   "metadata": {},
   "outputs": [],
   "source": [
    "y_value = pd.DataFrame(dataset.Target)\n",
    "y_value = to_categorical(y_value)\n",
    "# y_value"
   ]
  },
  {
   "cell_type": "code",
   "execution_count": 11,
   "id": "d3d27bf1",
   "metadata": {},
   "outputs": [],
   "source": [
    "scaler = MinMaxScaler(feature_range=(-1, 1))\n",
    "scaler.fit(X_value)\n",
    "X_value = scaler.fit_transform(X_value)"
   ]
  },
  {
   "cell_type": "code",
   "execution_count": 12,
   "id": "b089df56",
   "metadata": {},
   "outputs": [],
   "source": [
    "def get_X_y(X_data, y_data):\n",
    "    X = list()\n",
    "    y = list()\n",
    "\n",
    "    length = len(X_data)\n",
    "    for i in range(0, length-n_steps_in, 1):\n",
    "        X_value = X_data[i: i + n_steps_in][:, :]\n",
    "        # y_value = y_data[i + n_steps_in: i + (n_steps_in + n_steps_out)][:, :]\n",
    "        y_value = y_data[i + n_steps_in]\n",
    "        if len(X_value) == n_steps_in and len(y_value) == output_features:\n",
    "            X.append(X_value)\n",
    "            y.append(y_value)\n",
    "\n",
    "    return np.array(X), np.array(y)"
   ]
  },
  {
   "cell_type": "code",
   "execution_count": 13,
   "id": "421d0771",
   "metadata": {},
   "outputs": [],
   "source": [
    "def split_train_test(data):\n",
    "    train_size = int(0.8 * len(X))\n",
    "    data_train = data[0:train_size]\n",
    "    data_test = data[train_size:]\n",
    "    return data_train, data_test"
   ]
  },
  {
   "cell_type": "code",
   "execution_count": 14,
   "id": "d239ce9e",
   "metadata": {},
   "outputs": [
    {
     "name": "stdout",
     "output_type": "stream",
     "text": [
      "X shape:  (734, 20, 14)\n",
      "y shape:  (734, 2)\n",
      "Train features shape:  (587, 20, 14)\n",
      "Test features shape:  (147, 20, 14)\n",
      "Train features shape:  (587, 2)\n",
      "Test features shape:  (147, 2)\n"
     ]
    }
   ],
   "source": [
    "X, y = get_X_y(X_value, y_value)\n",
    "print('X shape: ', X.shape)\n",
    "print('y shape: ', y.shape)\n",
    "train_features, test_features = split_train_test(X) \n",
    "train_target, test_target = split_train_test(y) \n",
    "\n",
    "print('Train features shape: ', train_features.shape)\n",
    "print('Test features shape: ', test_features.shape)\n",
    "print('Train features shape: ', train_target.shape)\n",
    "print('Test features shape: ', test_target.shape)"
   ]
  },
  {
   "cell_type": "code",
   "execution_count": 15,
   "id": "2450a260",
   "metadata": {},
   "outputs": [],
   "source": [
    "input_dim = train_features.shape[1]\n",
    "input_feature_size = train_features.shape[2]\n",
    "output_dim = train_target.shape[1]"
   ]
  },
  {
   "cell_type": "code",
   "execution_count": 16,
   "id": "0f4fece6",
   "metadata": {},
   "outputs": [],
   "source": [
    "N_EPOCH = 50\n",
    "BATCH_SIZE = 64\n",
    "\n",
    "def basic_GRU(input_dim, output_dim, input_feature_size):\n",
    "    model = Sequential()\n",
    "    model.add(GRU(units=63, return_sequences=True, activation='relu', input_shape=(input_dim, input_feature_size)))\n",
    "    model.add(Dropout(0.2))\n",
    "    model.add(GRU(250, return_sequences=False))\n",
    "    model.add(Dropout(0.2))\n",
    "    model.add(Dense(output_dim, activation='softmax'))\n",
    "\n",
    "    model.compile(optimizer='adam',\n",
    "              loss='categorical_crossentropy',\n",
    "              metrics=['accuracy'])\n",
    "    \n",
    "    history = model.fit(train_features, train_target, epochs=N_EPOCH, \n",
    "                        validation_data=(test_features, test_target),\n",
    "                        batch_size=BATCH_SIZE, verbose=2, shuffle=False)\n",
    "\n",
    "    return model, history"
   ]
  },
  {
   "cell_type": "code",
   "execution_count": 17,
   "id": "5b79d271",
   "metadata": {
    "scrolled": true
   },
   "outputs": [
    {
     "name": "stderr",
     "output_type": "stream",
     "text": [
      "C:\\Users\\48798\\anaconda3\\Lib\\site-packages\\keras\\src\\layers\\rnn\\rnn.py:204: UserWarning: Do not pass an `input_shape`/`input_dim` argument to a layer. When using Sequential models, prefer using an `Input(shape)` object as the first layer in the model instead.\n",
      "  super().__init__(**kwargs)\n"
     ]
    },
    {
     "name": "stdout",
     "output_type": "stream",
     "text": [
      "Epoch 1/50\n",
      "10/10 - 40s - 4s/step - accuracy: 0.5349 - loss: 0.6993 - val_accuracy: 0.5102 - val_loss: 0.6962\n",
      "Epoch 2/50\n",
      "10/10 - 3s - 305ms/step - accuracy: 0.5383 - loss: 0.7362 - val_accuracy: 0.4966 - val_loss: 0.7122\n",
      "Epoch 3/50\n",
      "10/10 - 3s - 297ms/step - accuracy: 0.5468 - loss: 0.6893 - val_accuracy: 0.5102 - val_loss: 0.6929\n",
      "Epoch 4/50\n",
      "10/10 - 3s - 276ms/step - accuracy: 0.5451 - loss: 0.6895 - val_accuracy: 0.5442 - val_loss: 0.6925\n",
      "Epoch 5/50\n",
      "10/10 - 2s - 216ms/step - accuracy: 0.5468 - loss: 0.6881 - val_accuracy: 0.4898 - val_loss: 0.6957\n",
      "Epoch 6/50\n",
      "10/10 - 3s - 266ms/step - accuracy: 0.5537 - loss: 0.6868 - val_accuracy: 0.4762 - val_loss: 0.6992\n",
      "Epoch 7/50\n",
      "10/10 - 2s - 238ms/step - accuracy: 0.5537 - loss: 0.6868 - val_accuracy: 0.4898 - val_loss: 0.6981\n",
      "Epoch 8/50\n",
      "10/10 - 6s - 567ms/step - accuracy: 0.5639 - loss: 0.6833 - val_accuracy: 0.4966 - val_loss: 0.6985\n",
      "Epoch 9/50\n",
      "10/10 - 3s - 301ms/step - accuracy: 0.5622 - loss: 0.6831 - val_accuracy: 0.4966 - val_loss: 0.7019\n",
      "Epoch 10/50\n",
      "10/10 - 3s - 321ms/step - accuracy: 0.5605 - loss: 0.6831 - val_accuracy: 0.4966 - val_loss: 0.7017\n",
      "Epoch 11/50\n",
      "10/10 - 3s - 329ms/step - accuracy: 0.5605 - loss: 0.6825 - val_accuracy: 0.5102 - val_loss: 0.7031\n",
      "Epoch 12/50\n",
      "10/10 - 3s - 285ms/step - accuracy: 0.5554 - loss: 0.6792 - val_accuracy: 0.5170 - val_loss: 0.7025\n",
      "Epoch 13/50\n",
      "10/10 - 3s - 266ms/step - accuracy: 0.5571 - loss: 0.6811 - val_accuracy: 0.5102 - val_loss: 0.7106\n",
      "Epoch 14/50\n",
      "10/10 - 5s - 533ms/step - accuracy: 0.5554 - loss: 0.6819 - val_accuracy: 0.4966 - val_loss: 0.7041\n",
      "Epoch 15/50\n",
      "10/10 - 11s - 1s/step - accuracy: 0.5605 - loss: 0.6842 - val_accuracy: 0.4898 - val_loss: 0.7185\n",
      "Epoch 16/50\n",
      "10/10 - 3s - 285ms/step - accuracy: 0.5690 - loss: 0.6808 - val_accuracy: 0.5306 - val_loss: 0.7034\n",
      "Epoch 17/50\n",
      "10/10 - 7s - 706ms/step - accuracy: 0.5775 - loss: 0.6828 - val_accuracy: 0.4898 - val_loss: 0.7069\n",
      "Epoch 18/50\n",
      "10/10 - 3s - 336ms/step - accuracy: 0.5724 - loss: 0.6844 - val_accuracy: 0.4966 - val_loss: 0.7078\n",
      "Epoch 19/50\n",
      "10/10 - 3s - 326ms/step - accuracy: 0.5758 - loss: 0.6792 - val_accuracy: 0.5102 - val_loss: 0.7062\n",
      "Epoch 20/50\n",
      "10/10 - 1s - 90ms/step - accuracy: 0.5724 - loss: 0.6780 - val_accuracy: 0.5034 - val_loss: 0.7151\n",
      "Epoch 21/50\n",
      "10/10 - 1s - 111ms/step - accuracy: 0.5741 - loss: 0.6712 - val_accuracy: 0.5102 - val_loss: 0.7184\n",
      "Epoch 22/50\n",
      "10/10 - 2s - 211ms/step - accuracy: 0.5877 - loss: 0.6711 - val_accuracy: 0.5238 - val_loss: 0.7210\n",
      "Epoch 23/50\n",
      "10/10 - 2s - 242ms/step - accuracy: 0.5792 - loss: 0.6742 - val_accuracy: 0.4898 - val_loss: 0.7734\n",
      "Epoch 24/50\n",
      "10/10 - 6s - 592ms/step - accuracy: 0.5877 - loss: 0.6897 - val_accuracy: 0.5170 - val_loss: 0.7026\n",
      "Epoch 25/50\n",
      "10/10 - 8s - 810ms/step - accuracy: 0.5537 - loss: 0.6839 - val_accuracy: 0.5034 - val_loss: 0.7027\n",
      "Epoch 26/50\n",
      "10/10 - 3s - 264ms/step - accuracy: 0.5775 - loss: 0.6780 - val_accuracy: 0.4830 - val_loss: 0.7125\n",
      "Epoch 27/50\n",
      "10/10 - 3s - 258ms/step - accuracy: 0.5775 - loss: 0.6770 - val_accuracy: 0.5102 - val_loss: 0.7084\n",
      "Epoch 28/50\n",
      "10/10 - 2s - 232ms/step - accuracy: 0.5775 - loss: 0.6706 - val_accuracy: 0.5102 - val_loss: 0.7130\n",
      "Epoch 29/50\n",
      "10/10 - 3s - 319ms/step - accuracy: 0.5980 - loss: 0.6684 - val_accuracy: 0.5034 - val_loss: 0.7236\n",
      "Epoch 30/50\n",
      "10/10 - 2s - 202ms/step - accuracy: 0.5980 - loss: 0.6680 - val_accuracy: 0.4898 - val_loss: 0.7269\n",
      "Epoch 31/50\n",
      "10/10 - 2s - 235ms/step - accuracy: 0.6031 - loss: 0.6645 - val_accuracy: 0.4626 - val_loss: 0.7485\n",
      "Epoch 32/50\n",
      "10/10 - 2s - 236ms/step - accuracy: 0.6082 - loss: 0.6621 - val_accuracy: 0.4830 - val_loss: 0.7499\n",
      "Epoch 33/50\n",
      "10/10 - 2s - 235ms/step - accuracy: 0.6133 - loss: 0.6602 - val_accuracy: 0.4898 - val_loss: 0.7382\n",
      "Epoch 34/50\n",
      "10/10 - 3s - 262ms/step - accuracy: 0.5792 - loss: 0.6689 - val_accuracy: 0.4626 - val_loss: 0.7341\n",
      "Epoch 35/50\n",
      "10/10 - 3s - 251ms/step - accuracy: 0.5860 - loss: 0.6682 - val_accuracy: 0.4626 - val_loss: 0.7528\n",
      "Epoch 36/50\n",
      "10/10 - 2s - 206ms/step - accuracy: 0.5775 - loss: 0.6870 - val_accuracy: 0.4762 - val_loss: 0.7161\n",
      "Epoch 37/50\n",
      "10/10 - 2s - 198ms/step - accuracy: 0.5792 - loss: 0.6862 - val_accuracy: 0.5102 - val_loss: 0.7049\n",
      "Epoch 38/50\n",
      "10/10 - 2s - 215ms/step - accuracy: 0.5639 - loss: 0.6778 - val_accuracy: 0.5034 - val_loss: 0.7396\n",
      "Epoch 39/50\n",
      "10/10 - 2s - 247ms/step - accuracy: 0.6031 - loss: 0.6677 - val_accuracy: 0.5102 - val_loss: 0.7081\n",
      "Epoch 40/50\n",
      "10/10 - 2s - 193ms/step - accuracy: 0.6082 - loss: 0.6652 - val_accuracy: 0.5034 - val_loss: 0.7071\n",
      "Epoch 41/50\n",
      "10/10 - 2s - 196ms/step - accuracy: 0.6048 - loss: 0.6617 - val_accuracy: 0.4966 - val_loss: 0.7184\n",
      "Epoch 42/50\n",
      "10/10 - 2s - 177ms/step - accuracy: 0.6286 - loss: 0.6568 - val_accuracy: 0.4898 - val_loss: 0.7282\n",
      "Epoch 43/50\n",
      "10/10 - 2s - 173ms/step - accuracy: 0.6014 - loss: 0.6603 - val_accuracy: 0.4966 - val_loss: 0.7298\n",
      "Epoch 44/50\n",
      "10/10 - 2s - 172ms/step - accuracy: 0.6065 - loss: 0.6582 - val_accuracy: 0.4966 - val_loss: 0.7271\n",
      "Epoch 45/50\n",
      "10/10 - 2s - 183ms/step - accuracy: 0.6014 - loss: 0.6609 - val_accuracy: 0.4966 - val_loss: 0.7195\n",
      "Epoch 46/50\n",
      "10/10 - 2s - 181ms/step - accuracy: 0.5741 - loss: 0.6624 - val_accuracy: 0.5102 - val_loss: 0.7201\n",
      "Epoch 47/50\n",
      "10/10 - 2s - 187ms/step - accuracy: 0.5945 - loss: 0.6601 - val_accuracy: 0.5170 - val_loss: 0.7234\n",
      "Epoch 48/50\n",
      "10/10 - 2s - 189ms/step - accuracy: 0.6031 - loss: 0.6590 - val_accuracy: 0.5102 - val_loss: 0.7301\n",
      "Epoch 49/50\n",
      "10/10 - 2s - 176ms/step - accuracy: 0.6201 - loss: 0.6496 - val_accuracy: 0.5102 - val_loss: 0.7355\n",
      "Epoch 50/50\n",
      "10/10 - 2s - 186ms/step - accuracy: 0.5945 - loss: 0.6544 - val_accuracy: 0.4898 - val_loss: 0.7292\n"
     ]
    }
   ],
   "source": [
    "model, history = basic_GRU(input_dim, output_dim, input_feature_size)"
   ]
  },
  {
   "cell_type": "code",
   "execution_count": 18,
   "id": "65419d2a",
   "metadata": {},
   "outputs": [
    {
     "name": "stdout",
     "output_type": "stream",
     "text": [
      "\u001b[1m19/19\u001b[0m \u001b[32m━━━━━━━━━━━━━━━━━━━━\u001b[0m\u001b[37m\u001b[0m \u001b[1m1s\u001b[0m 43ms/step - accuracy: 0.5987 - loss: 0.6662\n",
      "Train loss: 0.6481550931930542\n",
      "Train accuracy: 0.6252129673957825\n",
      "\u001b[1m5/5\u001b[0m \u001b[32m━━━━━━━━━━━━━━━━━━━━\u001b[0m\u001b[37m\u001b[0m \u001b[1m0s\u001b[0m 49ms/step - accuracy: 0.4619 - loss: 0.7472\n",
      "Test loss: 0.7291620373725891\n",
      "Test accuracy: 0.4897959232330322\n"
     ]
    }
   ],
   "source": [
    "# Ocena modelu na danych treningowych\n",
    "train_performance = model.evaluate(train_features, train_target)\n",
    "print('Train loss:', train_performance[0])\n",
    "print('Train accuracy:', train_performance[1])\n",
    "\n",
    "test_performance = model.evaluate(test_features, test_target)\n",
    "print('Test loss:', test_performance[0])\n",
    "print('Test accuracy:', test_performance[1])"
   ]
  },
  {
   "cell_type": "code",
   "execution_count": 19,
   "id": "4bce4c33",
   "metadata": {},
   "outputs": [
    {
     "name": "stdout",
     "output_type": "stream",
     "text": [
      "\u001b[1m19/19\u001b[0m \u001b[32m━━━━━━━━━━━━━━━━━━━━\u001b[0m\u001b[37m\u001b[0m \u001b[1m3s\u001b[0m 108ms/step\n",
      "260\n",
      "107\n",
      "163\n",
      "57\n",
      "Accuracy (ACC): 0.6252129471890971\n",
      "True Positive Rate (TPR): 0.8201892744479495\n",
      "False Positive Rate (FPR): 0.6037037037037037\n",
      "True Negative Rate (TNR): 0.3962962962962963\n",
      "Positive Predictive Value (PPV): 0.6146572104018913\n",
      "Negative Predictive Value (NPV): 0.6524390243902439\n"
     ]
    }
   ],
   "source": [
    "# Predykcja na zbiorze treningowym\n",
    "train_predictions = model.predict(train_features)\n",
    "train_predictions = np.argmax(train_predictions, axis = 1)\n",
    "train_true = np.argmax(train_target, axis = 1)\n",
    "\n",
    "# Obliczanie macierzy pomyłek\n",
    "cm = confusion_matrix(train_true, train_predictions)\n",
    "TP = cm[1, 1]  # True Positives\n",
    "TN = cm[0, 0]  # True Negatives\n",
    "FP = cm[0, 1]  # False Positives\n",
    "FN = cm[1, 0]  # False Negatives\n",
    "\n",
    "print(TP)\n",
    "print(TN)\n",
    "print(FP)\n",
    "print(FN)\n",
    "\n",
    "# TPR, FPR, TNR, PPV, NPV\n",
    "ACC = (TP + TN) / (TP + TN + FP + FN)\n",
    "TPR = TP / (TP + FN)\n",
    "FPR = FP / (FP + TN)\n",
    "TNR = TN / (TN + FP)\n",
    "PPV = TP / (TP + FP)\n",
    "NPV = TN / (TN + FN)\n",
    "\n",
    "print('Accuracy (ACC):', ACC)\n",
    "print('True Positive Rate (TPR):', TPR)\n",
    "print('False Positive Rate (FPR):', FPR)\n",
    "print('True Negative Rate (TNR):', TNR)\n",
    "print('Positive Predictive Value (PPV):', PPV)\n",
    "print('Negative Predictive Value (NPV):', NPV)"
   ]
  },
  {
   "cell_type": "code",
   "execution_count": 20,
   "id": "8e441350",
   "metadata": {},
   "outputs": [
    {
     "name": "stdout",
     "output_type": "stream",
     "text": [
      "\u001b[1m5/5\u001b[0m \u001b[32m━━━━━━━━━━━━━━━━━━━━\u001b[0m\u001b[37m\u001b[0m \u001b[1m0s\u001b[0m 39ms/step\n",
      "17\n",
      "55\n",
      "18\n",
      "57\n",
      "Accuracy (ACC): 0.4897959183673469\n",
      "True Positive Rate (TPR): 0.22972972972972974\n",
      "False Positive Rate (FPR): 0.2465753424657534\n",
      "True Negative Rate (TNR): 0.7534246575342466\n",
      "Positive Predictive Value (PPV): 0.4857142857142857\n",
      "Negative Predictive Value (NPV): 0.49107142857142855\n"
     ]
    }
   ],
   "source": [
    "# Predykcja na zbiorze testowym\n",
    "test_predictions = model.predict(test_features)\n",
    "test_predictions = np.argmax(test_predictions, axis = 1)\n",
    "test_true = np.argmax(test_target, axis = 1)\n",
    "\n",
    "# Obliczanie macierzy pomyłek\n",
    "cm = confusion_matrix(test_true, test_predictions)\n",
    "TP = cm[1, 1]  # True Positives\n",
    "TN = cm[0, 0]  # True Negatives\n",
    "FP = cm[0, 1]  # False Positives\n",
    "FN = cm[1, 0]  # False Negatives\n",
    "\n",
    "print(TP)\n",
    "print(TN)\n",
    "print(FP)\n",
    "print(FN)\n",
    "\n",
    "# TPR, FPR, TNR, PPV, NPV\n",
    "ACC = (TP + TN) / (TP + TN + FP + FN)\n",
    "TPR = TP / (TP + FN)\n",
    "FPR = FP / (FP + TN)\n",
    "TNR = TN / (TN + FP)\n",
    "PPV = TP / (TP + FP)\n",
    "NPV = TN / (TN + FN)\n",
    "\n",
    "print('Accuracy (ACC):', ACC)\n",
    "print('True Positive Rate (TPR):', TPR)\n",
    "print('False Positive Rate (FPR):', FPR)\n",
    "print('True Negative Rate (TNR):', TNR)\n",
    "print('Positive Predictive Value (PPV):', PPV)\n",
    "print('Negative Predictive Value (NPV):', NPV)"
   ]
  },
  {
   "cell_type": "code",
   "execution_count": 21,
   "id": "138343a9",
   "metadata": {
    "scrolled": false
   },
   "outputs": [
    {
     "data": {
      "image/png": "[encoded data removed]",
      "text/plain": [
       "<Figure size 640x480 with 1 Axes>"
      ]
     },
     "metadata": {},
     "output_type": "display_data"
    }
   ],
   "source": [
    "plt.plot(history.history[\"accuracy\"], label=\"train\")\n",
    "plt.plot(history.history[\"val_accuracy\"], label=\"test\")\n",
    "plt.title(\"Skuteczność - GRU\")\n",
    "plt.xlabel(\"Epoch\")\n",
    "plt.ylabel(\"Accuracy\")\n",
    "plt.xticks(np.arange(0, N_EPOCH, step=5))\n",
    "plt.yticks(np.arange(0, 1, step=0.1))\n",
    "plt.legend()\n",
    "plt.show()"
   ]
  },
  {
   "cell_type": "code",
   "execution_count": 22,
   "id": "8e1ebd56",
   "metadata": {},
   "outputs": [
    {
     "data": {
      "image/png": "[encoded data removed]",
      "text/plain": [
       "<Figure size 640x480 with 1 Axes>"
      ]
     },
     "metadata": {},
     "output_type": "display_data"
    }
   ],
   "source": [
    "plt.plot(history.history[\"loss\"], label=\"train\")\n",
    "plt.plot(history.history[\"val_loss\"], label=\"test\")\n",
    "plt.title(\"Funkcja strat - GRU\")\n",
    "plt.xlabel(\"Epoch\")\n",
    "plt.ylabel(\"Loss\")\n",
    "plt.xticks(np.arange(0, N_EPOCH, step=5))\n",
    "plt.yticks(np.arange(0, 1, step=0.1))\n",
    "plt.legend()\n",
    "plt.show()"
   ]
  }
 ],
 "metadata": {
  "kernelspec": {
   "display_name": "Python 3 (ipykernel)",
   "language": "python",
   "name": "python3"
  },
  "language_info": {
   "codemirror_mode": {
    "name": "ipython",
    "version": 3
   },
   "file_extension": ".py",
   "mimetype": "text/x-python",
   "name": "python",
   "nbconvert_exporter": "python",
   "pygments_lexer": "ipython3",
   "version": "3.11.5"
  }
 },
 "nbformat": 4,
 "nbformat_minor": 5
}
