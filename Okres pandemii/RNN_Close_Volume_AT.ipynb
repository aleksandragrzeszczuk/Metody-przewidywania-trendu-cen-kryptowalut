{
 "cells": [
  {
   "cell_type": "code",
   "execution_count": 1,
   "id": "be1511d4",
   "metadata": {},
   "outputs": [],
   "source": [
    "from keras.models import Sequential\n",
    "from keras.layers import SimpleRNN, Dense, Dropout\n",
    "from keras.optimizers import Adam"
   ]
  },
  {
   "cell_type": "code",
   "execution_count": 2,
   "id": "745310cc",
   "metadata": {},
   "outputs": [],
   "source": [
    "import pandas as pd\n",
    "import optuna\n",
    "import yfinance as yf\n",
    "import pandas_datareader.data as web\n",
    "from datetime import datetime\n",
    "import numpy as np\n",
    "import pandas_ta as ta\n",
    "from keras.optimizers import Adam\n",
    "from keras.optimizers import SGD\n",
    "from keras.optimizers import Nadam\n",
    "from sklearn.metrics import confusion_matrix\n",
    "from tensorflow.keras.models import Sequential\n",
    "from tensorflow.keras.layers import Dense\n",
    "from tensorflow.keras.utils import to_categorical\n",
    "from keras.models import Sequential\n",
    "from keras.layers import Dense, Dropout\n",
    "from keras.regularizers import l2\n",
    "from keras.callbacks import EarlyStopping\n",
    "from sklearn.preprocessing import MinMaxScaler\n",
    "from keras.utils import plot_model\n",
    "from keras.layers import Dropout, Dense, GRU, LSTM, Flatten\n",
    "import matplotlib.pyplot as plt"
   ]
  },
  {
   "cell_type": "code",
   "execution_count": 3,
   "id": "ecfe67dc",
   "metadata": {},
   "outputs": [],
   "source": [
    "import warnings\n",
    "warnings.filterwarnings('ignore', category = pd.errors.PerformanceWarning)"
   ]
  },
  {
   "cell_type": "code",
   "execution_count": 4,
   "id": "3bdd371a",
   "metadata": {
    "scrolled": true
   },
   "outputs": [
    {
     "name": "stderr",
     "output_type": "stream",
     "text": [
      "\r",
      "[*********************100%%**********************]  1 of 1 completed"
     ]
    },
    {
     "name": "stdout",
     "output_type": "stream",
     "text": [
      "784\n",
      "(784, 69)\n"
     ]
    },
    {
     "name": "stderr",
     "output_type": "stream",
     "text": [
      "\n"
     ]
    }
   ],
   "source": [
    "# Pobieramy dane dotyczące BTC z yahoo\n",
    "BTC = yf.download('BTC-USD', start = '2020-01-01', end = '2022-02-23')\n",
    "\n",
    "BTC['Target'] = (BTC['Close'].diff() > 0).astype(int)\n",
    "\n",
    "def add_lagged_features(data, column_name, n_days):\n",
    "    for i in range(1, n_days + 1):\n",
    "        lagged_column_name = f'{column_name}_{i}d_back'\n",
    "        data[lagged_column_name] = data[column_name].shift(i)\n",
    "    return data\n",
    "\n",
    "BTC = add_lagged_features(BTC, 'Close', 30)\n",
    "BTC = add_lagged_features(BTC, 'Volume', 30)\n",
    "BTC = add_lagged_features(BTC, 'High', 1)\n",
    "BTC = add_lagged_features(BTC, 'Low', 1)\n",
    "\n",
    "# df = pd.DataFrame()\n",
    "# df = BTC.copy()\n",
    "# print(BTC.head())\n",
    "print(len(BTC))\n",
    "print(BTC.shape)"
   ]
  },
  {
   "cell_type": "code",
   "execution_count": 5,
   "id": "445cd5d4",
   "metadata": {},
   "outputs": [],
   "source": [
    "# SMA\n",
    "BTC['SMA'] = ta.sma(BTC['Close_1d_back'], length = 30)\n",
    "\n",
    "# MFI \n",
    "BTC['MFI'] = ta.mfi(BTC['High_1d_back'], BTC['Low_1d_back'], \n",
    "                    BTC['Close_1d_back'], BTC['Volume_1d_back'], length = 29)\n",
    "\n",
    "# RSI \n",
    "BTC['RSI'] = ta.rsi(BTC['Close_1d_back'], length = 29)\n",
    "\n",
    "# Bollinger Bands\n",
    "bollinger = ta.bbands(BTC['Close_1d_back'], length = 30, std = 2)\n",
    "BTC['BB_Upper'] = bollinger['BBU_30_2.0']\n",
    "BTC['BB_Middle'] = bollinger['BBM_30_2.0']\n",
    "BTC['BB_Lower'] = bollinger['BBL_30_2.0']\n",
    "\n",
    "# CCI \n",
    "BTC['CCI'] = ta.cci(BTC['High_1d_back'], BTC['Low_1d_back'], \n",
    "                    BTC['Close_1d_back'], length = 30)"
   ]
  },
  {
   "cell_type": "code",
   "execution_count": 6,
   "id": "3afd826c",
   "metadata": {},
   "outputs": [],
   "source": [
    "high_series = BTC['High_1d_back']\n",
    "low_series = BTC['Low_1d_back']\n",
    "close_series = BTC['Close_1d_back']\n",
    "\n",
    "# Wprowadzenie jasnych parametrów dla kanału Donchian\n",
    "donchian = ta.donchian(high = high_series, low = low_series, close = close_series, lower_length = 30, upper_length = 30)\n",
    "\n",
    "# Przypisanie wyników kanału Donchian do DataFrame\n",
    "BTC['Donchian_High'] = donchian['DCU_30_30']\n",
    "BTC['Donchian_Low'] = donchian['DCL_30_30']"
   ]
  },
  {
   "cell_type": "code",
   "execution_count": 7,
   "id": "bea0121c",
   "metadata": {},
   "outputs": [],
   "source": [
    "BTC = BTC.drop('Adj Close', axis=1)\n",
    "BTC = BTC.dropna().reset_index(drop = True)\n",
    "# BTC"
   ]
  },
  {
   "cell_type": "code",
   "execution_count": 8,
   "id": "148e7526",
   "metadata": {
    "scrolled": true
   },
   "outputs": [],
   "source": [
    "dataset = pd.DataFrame()\n",
    "dataset = BTC[['Open', 'High', 'Low', 'Close', 'Volume', 'SMA', 'MFI', 'RSI', 'BB_Upper', \n",
    "          'BB_Middle', 'BB_Lower', 'CCI', 'Donchian_High', 'Donchian_Low', 'Target']].copy()\n",
    "# dataset"
   ]
  },
  {
   "cell_type": "code",
   "execution_count": 9,
   "id": "a4639688",
   "metadata": {},
   "outputs": [],
   "source": [
    "n_steps_in = 20\n",
    "output_features = 2"
   ]
  },
  {
   "cell_type": "code",
   "execution_count": 10,
   "id": "c36088bd",
   "metadata": {},
   "outputs": [],
   "source": [
    "X_value = pd.DataFrame(dataset.iloc[:, :])\n",
    "X_value = X_value.drop('Target', axis='columns')\n",
    "# X_value"
   ]
  },
  {
   "cell_type": "code",
   "execution_count": 11,
   "id": "9eb64e54",
   "metadata": {},
   "outputs": [],
   "source": [
    "y_value = pd.DataFrame(dataset.Target)\n",
    "y_value = to_categorical(y_value)\n",
    "# y_value"
   ]
  },
  {
   "cell_type": "code",
   "execution_count": 12,
   "id": "d3d27bf1",
   "metadata": {},
   "outputs": [],
   "source": [
    "scaler = MinMaxScaler(feature_range=(-1, 1))\n",
    "scaler.fit(X_value)\n",
    "X_value = scaler.fit_transform(X_value)"
   ]
  },
  {
   "cell_type": "code",
   "execution_count": 13,
   "id": "b089df56",
   "metadata": {},
   "outputs": [],
   "source": [
    "def get_X_y(X_data, y_data):\n",
    "    X = list()\n",
    "    y = list()\n",
    "\n",
    "    length = len(X_data)\n",
    "    for i in range(0, length-n_steps_in, 1):\n",
    "        X_value = X_data[i: i + n_steps_in][:, :]\n",
    "        # y_value = y_data[i + n_steps_in: i + (n_steps_in + n_steps_out)][:, :]\n",
    "        y_value = y_data[i + n_steps_in]\n",
    "        if len(X_value) == n_steps_in and len(y_value) == output_features:\n",
    "            X.append(X_value)\n",
    "            y.append(y_value)\n",
    "\n",
    "    return np.array(X), np.array(y)"
   ]
  },
  {
   "cell_type": "code",
   "execution_count": 14,
   "id": "421d0771",
   "metadata": {},
   "outputs": [],
   "source": [
    "def split_train_test(data):\n",
    "    train_size = int(0.8 * len(X))\n",
    "    data_train = data[0:train_size]\n",
    "    data_test = data[train_size:]\n",
    "    return data_train, data_test"
   ]
  },
  {
   "cell_type": "code",
   "execution_count": 15,
   "id": "d239ce9e",
   "metadata": {},
   "outputs": [
    {
     "name": "stdout",
     "output_type": "stream",
     "text": [
      "X shape:  (734, 20, 14)\n",
      "y shape:  (734, 2)\n",
      "Train features shape:  (587, 20, 14)\n",
      "Test features shape:  (147, 20, 14)\n",
      "Train features shape:  (587, 2)\n",
      "Test features shape:  (147, 2)\n"
     ]
    }
   ],
   "source": [
    "X, y = get_X_y(X_value, y_value)\n",
    "print('X shape: ', X.shape)\n",
    "print('y shape: ', y.shape)\n",
    "train_features, test_features = split_train_test(X) \n",
    "train_target, test_target = split_train_test(y) \n",
    "\n",
    "print('Train features shape: ', train_features.shape)\n",
    "print('Test features shape: ', test_features.shape)\n",
    "print('Train features shape: ', train_target.shape)\n",
    "print('Test features shape: ', test_target.shape)"
   ]
  },
  {
   "cell_type": "code",
   "execution_count": 16,
   "id": "2450a260",
   "metadata": {},
   "outputs": [],
   "source": [
    "input_dim = train_features.shape[1]\n",
    "input_feature_size = train_features.shape[2]\n",
    "output_dim = train_target.shape[1]"
   ]
  },
  {
   "cell_type": "code",
   "execution_count": 17,
   "id": "0f4fece6",
   "metadata": {},
   "outputs": [],
   "source": [
    "N_EPOCH = 50\n",
    "BATCH_SIZE = 64\n",
    "\n",
    "def basic_simpleRNN(input_dim, output_dim, input_feature_size):\n",
    "    model = Sequential()\n",
    "    model.add(SimpleRNN(units=63, return_sequences=True, activation='relu', input_shape=(input_dim, input_feature_size)))\n",
    "    model.add(Dropout(0.2))\n",
    "    model.add(SimpleRNN(250, return_sequences=False))\n",
    "    model.add(Dropout(0.2))\n",
    "    model.add(Dense(output_dim, activation='softmax'))\n",
    "\n",
    "    model.compile(optimizer=Adam(),\n",
    "                  loss='categorical_crossentropy',\n",
    "                  metrics=['accuracy'])\n",
    "    \n",
    "    history = model.fit(train_features, train_target, epochs = N_EPOCH, \n",
    "                        validation_data = (test_features, test_target),\n",
    "                        batch_size = BATCH_SIZE, verbose = 2, shuffle = False)\n",
    "\n",
    "    return model, history"
   ]
  },
  {
   "cell_type": "code",
   "execution_count": 18,
   "id": "5b79d271",
   "metadata": {
    "scrolled": true
   },
   "outputs": [
    {
     "name": "stderr",
     "output_type": "stream",
     "text": [
      "C:\\Users\\48798\\anaconda3\\Lib\\site-packages\\keras\\src\\layers\\rnn\\rnn.py:204: UserWarning: Do not pass an `input_shape`/`input_dim` argument to a layer. When using Sequential models, prefer using an `Input(shape)` object as the first layer in the model instead.\n",
      "  super().__init__(**kwargs)\n"
     ]
    },
    {
     "name": "stdout",
     "output_type": "stream",
     "text": [
      "Epoch 1/50\n",
      "10/10 - 18s - 2s/step - accuracy: 0.5366 - loss: 0.9192 - val_accuracy: 0.4966 - val_loss: 0.8144\n",
      "Epoch 2/50\n",
      "10/10 - 1s - 81ms/step - accuracy: 0.4974 - loss: 0.7797 - val_accuracy: 0.5238 - val_loss: 0.6981\n",
      "Epoch 3/50\n",
      "10/10 - 1s - 134ms/step - accuracy: 0.4974 - loss: 0.7724 - val_accuracy: 0.4694 - val_loss: 0.6995\n",
      "Epoch 4/50\n",
      "10/10 - 1s - 117ms/step - accuracy: 0.5571 - loss: 0.7098 - val_accuracy: 0.5306 - val_loss: 0.6935\n",
      "Epoch 5/50\n",
      "10/10 - 1s - 103ms/step - accuracy: 0.5349 - loss: 0.7063 - val_accuracy: 0.4966 - val_loss: 0.7203\n",
      "Epoch 6/50\n",
      "10/10 - 1s - 97ms/step - accuracy: 0.5537 - loss: 0.7123 - val_accuracy: 0.4898 - val_loss: 0.7073\n",
      "Epoch 7/50\n",
      "10/10 - 1s - 124ms/step - accuracy: 0.5554 - loss: 0.6991 - val_accuracy: 0.4762 - val_loss: 0.7085\n",
      "Epoch 8/50\n",
      "10/10 - 1s - 100ms/step - accuracy: 0.5315 - loss: 0.7192 - val_accuracy: 0.4830 - val_loss: 0.7368\n",
      "Epoch 9/50\n",
      "10/10 - 1s - 136ms/step - accuracy: 0.5758 - loss: 0.6899 - val_accuracy: 0.4762 - val_loss: 0.7370\n",
      "Epoch 10/50\n",
      "10/10 - 1s - 70ms/step - accuracy: 0.5588 - loss: 0.7095 - val_accuracy: 0.4762 - val_loss: 0.7485\n",
      "Epoch 11/50\n",
      "10/10 - 1s - 128ms/step - accuracy: 0.5400 - loss: 0.6942 - val_accuracy: 0.4626 - val_loss: 0.7692\n",
      "Epoch 12/50\n",
      "10/10 - 1s - 74ms/step - accuracy: 0.5826 - loss: 0.6864 - val_accuracy: 0.4830 - val_loss: 0.8336\n",
      "Epoch 13/50\n",
      "10/10 - 1s - 70ms/step - accuracy: 0.5639 - loss: 0.6947 - val_accuracy: 0.4422 - val_loss: 0.7872\n",
      "Epoch 14/50\n",
      "10/10 - 1s - 70ms/step - accuracy: 0.5741 - loss: 0.6933 - val_accuracy: 0.4694 - val_loss: 0.8793\n",
      "Epoch 15/50\n",
      "10/10 - 1s - 80ms/step - accuracy: 0.5945 - loss: 0.6985 - val_accuracy: 0.5170 - val_loss: 0.7698\n",
      "Epoch 16/50\n",
      "10/10 - 1s - 74ms/step - accuracy: 0.5332 - loss: 0.7154 - val_accuracy: 0.4966 - val_loss: 0.7203\n",
      "Epoch 17/50\n",
      "10/10 - 1s - 84ms/step - accuracy: 0.5128 - loss: 0.7491 - val_accuracy: 0.4966 - val_loss: 0.7696\n",
      "Epoch 18/50\n",
      "10/10 - 1s - 86ms/step - accuracy: 0.4991 - loss: 0.8275 - val_accuracy: 0.5442 - val_loss: 0.7127\n",
      "Epoch 19/50\n",
      "10/10 - 1s - 86ms/step - accuracy: 0.5349 - loss: 0.7786 - val_accuracy: 0.4966 - val_loss: 0.7601\n",
      "Epoch 20/50\n",
      "10/10 - 1s - 103ms/step - accuracy: 0.5571 - loss: 0.7127 - val_accuracy: 0.5102 - val_loss: 0.7040\n",
      "Epoch 21/50\n",
      "10/10 - 1s - 133ms/step - accuracy: 0.5537 - loss: 0.7352 - val_accuracy: 0.5034 - val_loss: 0.7313\n",
      "Epoch 22/50\n",
      "10/10 - 1s - 87ms/step - accuracy: 0.5724 - loss: 0.6900 - val_accuracy: 0.4830 - val_loss: 0.7110\n",
      "Epoch 23/50\n",
      "10/10 - 2s - 154ms/step - accuracy: 0.5486 - loss: 0.7014 - val_accuracy: 0.5578 - val_loss: 0.6889\n",
      "Epoch 24/50\n",
      "10/10 - 1s - 124ms/step - accuracy: 0.5724 - loss: 0.6879 - val_accuracy: 0.5374 - val_loss: 0.6944\n",
      "Epoch 25/50\n",
      "10/10 - 1s - 149ms/step - accuracy: 0.5707 - loss: 0.6853 - val_accuracy: 0.5510 - val_loss: 0.6997\n",
      "Epoch 26/50\n",
      "10/10 - 1s - 93ms/step - accuracy: 0.5520 - loss: 0.7075 - val_accuracy: 0.5034 - val_loss: 0.7127\n",
      "Epoch 27/50\n",
      "10/10 - 1s - 69ms/step - accuracy: 0.5434 - loss: 0.6855 - val_accuracy: 0.4558 - val_loss: 0.7637\n",
      "Epoch 28/50\n",
      "10/10 - 1s - 124ms/step - accuracy: 0.5911 - loss: 0.6750 - val_accuracy: 0.4898 - val_loss: 0.9423\n",
      "Epoch 29/50\n",
      "10/10 - 1s - 141ms/step - accuracy: 0.6065 - loss: 0.6760 - val_accuracy: 0.5374 - val_loss: 0.7996\n",
      "Epoch 30/50\n",
      "10/10 - 1s - 79ms/step - accuracy: 0.6014 - loss: 0.6650 - val_accuracy: 0.4558 - val_loss: 0.7746\n",
      "Epoch 31/50\n",
      "10/10 - 1s - 69ms/step - accuracy: 0.5928 - loss: 0.7204 - val_accuracy: 0.4218 - val_loss: 0.7891\n",
      "Epoch 32/50\n",
      "10/10 - 1s - 104ms/step - accuracy: 0.6167 - loss: 0.6659 - val_accuracy: 0.4694 - val_loss: 0.7262\n",
      "Epoch 33/50\n",
      "10/10 - 1s - 117ms/step - accuracy: 0.5639 - loss: 0.7136 - val_accuracy: 0.4082 - val_loss: 0.7597\n",
      "Epoch 34/50\n",
      "10/10 - 1s - 70ms/step - accuracy: 0.5894 - loss: 0.6830 - val_accuracy: 0.5238 - val_loss: 0.8456\n",
      "Epoch 35/50\n",
      "10/10 - 2s - 162ms/step - accuracy: 0.5980 - loss: 0.7005 - val_accuracy: 0.5034 - val_loss: 0.7082\n",
      "Epoch 36/50\n",
      "10/10 - 1s - 120ms/step - accuracy: 0.5809 - loss: 0.6743 - val_accuracy: 0.4694 - val_loss: 0.8389\n",
      "Epoch 37/50\n",
      "10/10 - 1s - 75ms/step - accuracy: 0.5826 - loss: 0.6770 - val_accuracy: 0.4490 - val_loss: 0.8894\n",
      "Epoch 38/50\n",
      "10/10 - 1s - 85ms/step - accuracy: 0.5843 - loss: 0.6605 - val_accuracy: 0.4626 - val_loss: 0.9652\n",
      "Epoch 39/50\n",
      "10/10 - 1s - 89ms/step - accuracy: 0.5809 - loss: 0.6671 - val_accuracy: 0.4898 - val_loss: 0.7823\n",
      "Epoch 40/50\n",
      "10/10 - 1s - 79ms/step - accuracy: 0.5963 - loss: 0.6594 - val_accuracy: 0.4830 - val_loss: 0.8041\n",
      "Epoch 41/50\n",
      "10/10 - 1s - 79ms/step - accuracy: 0.6201 - loss: 0.6490 - val_accuracy: 0.4694 - val_loss: 0.8935\n",
      "Epoch 42/50\n",
      "10/10 - 1s - 104ms/step - accuracy: 0.6661 - loss: 0.6137 - val_accuracy: 0.4694 - val_loss: 1.0027\n",
      "Epoch 43/50\n",
      "10/10 - 0s - 44ms/step - accuracy: 0.5945 - loss: 0.6571 - val_accuracy: 0.4558 - val_loss: 0.8714\n",
      "Epoch 44/50\n",
      "10/10 - 0s - 37ms/step - accuracy: 0.5980 - loss: 0.6437 - val_accuracy: 0.4626 - val_loss: 0.8858\n",
      "Epoch 45/50\n",
      "10/10 - 0s - 38ms/step - accuracy: 0.6167 - loss: 0.6187 - val_accuracy: 0.4490 - val_loss: 1.0406\n",
      "Epoch 46/50\n",
      "10/10 - 0s - 41ms/step - accuracy: 0.6661 - loss: 0.5967 - val_accuracy: 0.4626 - val_loss: 1.1626\n",
      "Epoch 47/50\n",
      "10/10 - 1s - 68ms/step - accuracy: 0.6559 - loss: 0.5863 - val_accuracy: 0.4830 - val_loss: 1.0039\n",
      "Epoch 48/50\n",
      "10/10 - 1s - 63ms/step - accuracy: 0.6661 - loss: 0.6087 - val_accuracy: 0.4422 - val_loss: 1.0276\n",
      "Epoch 49/50\n",
      "10/10 - 2s - 151ms/step - accuracy: 0.6780 - loss: 0.5905 - val_accuracy: 0.4558 - val_loss: 1.0760\n",
      "Epoch 50/50\n",
      "10/10 - 1s - 73ms/step - accuracy: 0.6678 - loss: 0.5765 - val_accuracy: 0.4762 - val_loss: 1.0858\n"
     ]
    }
   ],
   "source": [
    "model, history = basic_simpleRNN(input_dim, output_dim, input_feature_size)"
   ]
  },
  {
   "cell_type": "code",
   "execution_count": 19,
   "id": "65419d2a",
   "metadata": {},
   "outputs": [
    {
     "name": "stdout",
     "output_type": "stream",
     "text": [
      "\u001b[1m19/19\u001b[0m \u001b[32m━━━━━━━━━━━━━━━━━━━━\u001b[0m\u001b[37m\u001b[0m \u001b[1m1s\u001b[0m 27ms/step - accuracy: 0.6271 - loss: 0.6195\n",
      "Train loss: 0.528897762298584\n",
      "Train accuracy: 0.7035775184631348\n",
      "\u001b[1m5/5\u001b[0m \u001b[32m━━━━━━━━━━━━━━━━━━━━\u001b[0m\u001b[37m\u001b[0m \u001b[1m0s\u001b[0m 17ms/step - accuracy: 0.4708 - loss: 1.3242\n",
      "Test loss: 1.0857549905776978\n",
      "Test accuracy: 0.4761904776096344\n"
     ]
    }
   ],
   "source": [
    "# Ocena modelu na danych treningowych\n",
    "train_performance = model.evaluate(train_features, train_target)\n",
    "print('Train loss:', train_performance[0])\n",
    "print('Train accuracy:', train_performance[1])\n",
    "\n",
    "test_performance = model.evaluate(test_features, test_target)\n",
    "print('Test loss:', test_performance[0])\n",
    "print('Test accuracy:', test_performance[1])"
   ]
  },
  {
   "cell_type": "code",
   "execution_count": 20,
   "id": "4bce4c33",
   "metadata": {},
   "outputs": [
    {
     "name": "stdout",
     "output_type": "stream",
     "text": [
      "\u001b[1m19/19\u001b[0m \u001b[32m━━━━━━━━━━━━━━━━━━━━\u001b[0m\u001b[37m\u001b[0m \u001b[1m2s\u001b[0m 64ms/step\n",
      "272\n",
      "141\n",
      "129\n",
      "45\n",
      "Accuracy (ACC): 0.7035775127768313\n",
      "True Positive Rate (TPR): 0.8580441640378549\n",
      "False Positive Rate (FPR): 0.4777777777777778\n",
      "True Negative Rate (TNR): 0.5222222222222223\n",
      "Positive Predictive Value (PPV): 0.6783042394014963\n",
      "Negative Predictive Value (NPV): 0.7580645161290323\n"
     ]
    }
   ],
   "source": [
    "# Predykcja na zbiorze treningowym\n",
    "train_predictions = model.predict(train_features)\n",
    "train_predictions = np.argmax(train_predictions, axis = 1)\n",
    "train_true = np.argmax(train_target, axis = 1)\n",
    "\n",
    "# Obliczanie macierzy pomyłek\n",
    "cm = confusion_matrix(train_true, train_predictions)\n",
    "TP = cm[1, 1]  # True Positives\n",
    "TN = cm[0, 0]  # True Negatives\n",
    "FP = cm[0, 1]  # False Positives\n",
    "FN = cm[1, 0]  # False Negatives\n",
    "\n",
    "print(TP)\n",
    "print(TN)\n",
    "print(FP)\n",
    "print(FN)\n",
    "\n",
    "# TPR, FPR, TNR, PPV, NPV\n",
    "ACC = (TP + TN) / (TP + TN + FP + FN)\n",
    "TPR = TP / (TP + FN)\n",
    "FPR = FP / (FP + TN)\n",
    "TNR = TN / (TN + FP)\n",
    "PPV = TP / (TP + FP)\n",
    "NPV = TN / (TN + FN)\n",
    "\n",
    "print('Accuracy (ACC):', ACC)\n",
    "print('True Positive Rate (TPR):', TPR)\n",
    "print('False Positive Rate (FPR):', FPR)\n",
    "print('True Negative Rate (TNR):', TNR)\n",
    "print('Positive Predictive Value (PPV):', PPV)\n",
    "print('Negative Predictive Value (NPV):', NPV)"
   ]
  },
  {
   "cell_type": "code",
   "execution_count": 21,
   "id": "8e441350",
   "metadata": {},
   "outputs": [
    {
     "name": "stdout",
     "output_type": "stream",
     "text": [
      "\u001b[1m5/5\u001b[0m \u001b[32m━━━━━━━━━━━━━━━━━━━━\u001b[0m\u001b[37m\u001b[0m \u001b[1m0s\u001b[0m 21ms/step\n",
      "24\n",
      "46\n",
      "27\n",
      "50\n",
      "Accuracy (ACC): 0.47619047619047616\n",
      "True Positive Rate (TPR): 0.32432432432432434\n",
      "False Positive Rate (FPR): 0.3698630136986301\n",
      "True Negative Rate (TNR): 0.6301369863013698\n",
      "Positive Predictive Value (PPV): 0.47058823529411764\n",
      "Negative Predictive Value (NPV): 0.4791666666666667\n"
     ]
    }
   ],
   "source": [
    "# Predykcja na zbiorze testowym\n",
    "test_predictions = model.predict(test_features)\n",
    "test_predictions = np.argmax(test_predictions, axis = 1)\n",
    "test_true = np.argmax(test_target, axis = 1)\n",
    "\n",
    "# Obliczanie macierzy pomyłek\n",
    "cm = confusion_matrix(test_true, test_predictions)\n",
    "TP = cm[1, 1]  # True Positives\n",
    "TN = cm[0, 0]  # True Negatives\n",
    "FP = cm[0, 1]  # False Positives\n",
    "FN = cm[1, 0]  # False Negatives\n",
    "\n",
    "print(TP)\n",
    "print(TN)\n",
    "print(FP)\n",
    "print(FN)\n",
    "\n",
    "# TPR, FPR, TNR, PPV, NPV\n",
    "ACC = (TP + TN) / (TP + TN + FP + FN)\n",
    "TPR = TP / (TP + FN)\n",
    "FPR = FP / (FP + TN)\n",
    "TNR = TN / (TN + FP)\n",
    "PPV = TP / (TP + FP)\n",
    "NPV = TN / (TN + FN)\n",
    "\n",
    "print('Accuracy (ACC):', ACC)\n",
    "print('True Positive Rate (TPR):', TPR)\n",
    "print('False Positive Rate (FPR):', FPR)\n",
    "print('True Negative Rate (TNR):', TNR)\n",
    "print('Positive Predictive Value (PPV):', PPV)\n",
    "print('Negative Predictive Value (NPV):', NPV)"
   ]
  }
 ],
 "metadata": {
  "kernelspec": {
   "display_name": "Python 3 (ipykernel)",
   "language": "python",
   "name": "python3"
  },
  "language_info": {
   "codemirror_mode": {
    "name": "ipython",
    "version": 3
   },
   "file_extension": ".py",
   "mimetype": "text/x-python",
   "name": "python",
   "nbconvert_exporter": "python",
   "pygments_lexer": "ipython3",
   "version": "3.11.5"
  }
 },
 "nbformat": 4,
 "nbformat_minor": 5
}
