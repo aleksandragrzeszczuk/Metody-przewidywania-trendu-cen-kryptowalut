{
 "cells": [
  {
   "cell_type": "code",
   "execution_count": 1,
   "id": "745310cc",
   "metadata": {},
   "outputs": [],
   "source": [
    "import pandas as pd\n",
    "import optuna\n",
    "import yfinance as yf\n",
    "import pandas_datareader.data as web\n",
    "from datetime import datetime\n",
    "import numpy as np\n",
    "import pandas_ta as ta\n",
    "from keras.optimizers import Adam\n",
    "from keras.optimizers import SGD\n",
    "from keras.optimizers import Nadam\n",
    "from sklearn.metrics import confusion_matrix\n",
    "from tensorflow.keras.models import Sequential\n",
    "from tensorflow.keras.layers import Dense\n",
    "from tensorflow.keras.utils import to_categorical\n",
    "from keras.models import Sequential\n",
    "from keras.layers import Dense, Dropout\n",
    "from keras.regularizers import l2\n",
    "from keras.callbacks import EarlyStopping\n",
    "from sklearn.preprocessing import MinMaxScaler\n",
    "from keras.utils import plot_model\n",
    "from keras.layers import Dropout, Dense, GRU, LSTM, Flatten\n",
    "import matplotlib.pyplot as plt"
   ]
  },
  {
   "cell_type": "code",
   "execution_count": 2,
   "id": "ecfe67dc",
   "metadata": {},
   "outputs": [],
   "source": [
    "import warnings\n",
    "warnings.filterwarnings('ignore', category = pd.errors.PerformanceWarning)"
   ]
  },
  {
   "cell_type": "code",
   "execution_count": 3,
   "id": "3bdd371a",
   "metadata": {
    "scrolled": true
   },
   "outputs": [
    {
     "name": "stderr",
     "output_type": "stream",
     "text": [
      "\r",
      "[*********************100%%**********************]  1 of 1 completed"
     ]
    },
    {
     "name": "stdout",
     "output_type": "stream",
     "text": [
      "784\n",
      "(784, 157)\n"
     ]
    },
    {
     "name": "stderr",
     "output_type": "stream",
     "text": [
      "\n"
     ]
    }
   ],
   "source": [
    "# Pobieramy dane dotyczące BTC z yahoo\n",
    "BTC = yf.download('BTC-USD', start = '2020-01-01', end = '2022-02-23')\n",
    "\n",
    "BTC['Target'] = (BTC['Close'].diff() > 0).astype(int)\n",
    "\n",
    "def add_lagged_features(data, column_name, n_days):\n",
    "    for i in range(1, n_days + 1):\n",
    "        lagged_column_name = f'{column_name}_{i}d_back'\n",
    "        data[lagged_column_name] = data[column_name].shift(i)\n",
    "    return data\n",
    "\n",
    "BTC = add_lagged_features(BTC, 'Close', 30)\n",
    "BTC = add_lagged_features(BTC, 'Open', 30)\n",
    "BTC = add_lagged_features(BTC, 'Volume', 30)\n",
    "BTC = add_lagged_features(BTC, 'High', 30)\n",
    "BTC = add_lagged_features(BTC, 'Low', 30)\n",
    "\n",
    "# df = pd.DataFrame()\n",
    "# df = BTC.copy()\n",
    "# print(BTC.head())\n",
    "print(len(BTC))\n",
    "print(BTC.shape)"
   ]
  },
  {
   "cell_type": "code",
   "execution_count": 4,
   "id": "bea0121c",
   "metadata": {},
   "outputs": [],
   "source": [
    "BTC = BTC.drop('Adj Close', axis=1)\n",
    "BTC = BTC.dropna().reset_index(drop = True)\n",
    "# BTC"
   ]
  },
  {
   "cell_type": "code",
   "execution_count": 5,
   "id": "148e7526",
   "metadata": {
    "scrolled": true
   },
   "outputs": [],
   "source": [
    "dataset = pd.DataFrame()\n",
    "dataset = BTC[['Open', 'High', 'Low', 'Close', 'Volume', 'Target']].copy()\n",
    "# dataset"
   ]
  },
  {
   "cell_type": "code",
   "execution_count": 6,
   "id": "a4639688",
   "metadata": {},
   "outputs": [],
   "source": [
    "n_steps_in = 20\n",
    "output_features = 2"
   ]
  },
  {
   "cell_type": "code",
   "execution_count": 7,
   "id": "c36088bd",
   "metadata": {},
   "outputs": [],
   "source": [
    "X_value = pd.DataFrame(dataset.iloc[:, :])\n",
    "X_value = X_value.drop('Target', axis='columns')\n",
    "# X_value"
   ]
  },
  {
   "cell_type": "code",
   "execution_count": 8,
   "id": "9eb64e54",
   "metadata": {},
   "outputs": [],
   "source": [
    "y_value = pd.DataFrame(dataset.Target)\n",
    "y_value = to_categorical(y_value)\n",
    "# y_value"
   ]
  },
  {
   "cell_type": "code",
   "execution_count": 9,
   "id": "d3d27bf1",
   "metadata": {},
   "outputs": [],
   "source": [
    "scaler = MinMaxScaler(feature_range=(-1, 1))\n",
    "scaler.fit(X_value)\n",
    "X_value = scaler.fit_transform(X_value)"
   ]
  },
  {
   "cell_type": "code",
   "execution_count": 10,
   "id": "b089df56",
   "metadata": {},
   "outputs": [],
   "source": [
    "def get_X_y(X_data, y_data):\n",
    "    X = list()\n",
    "    y = list()\n",
    "\n",
    "    length = len(X_data)\n",
    "    for i in range(0, length-n_steps_in, 1):\n",
    "        X_value = X_data[i: i + n_steps_in][:, :]\n",
    "        # y_value = y_data[i + n_steps_in: i + (n_steps_in + n_steps_out)][:, :]\n",
    "        y_value = y_data[i + n_steps_in]\n",
    "        if len(X_value) == n_steps_in and len(y_value) == output_features:\n",
    "            X.append(X_value)\n",
    "            y.append(y_value)\n",
    "\n",
    "    return np.array(X), np.array(y)"
   ]
  },
  {
   "cell_type": "code",
   "execution_count": 11,
   "id": "421d0771",
   "metadata": {},
   "outputs": [],
   "source": [
    "def split_train_test(data):\n",
    "    train_size = int(0.8 * len(X))\n",
    "    data_train = data[0:train_size]\n",
    "    data_test = data[train_size:]\n",
    "    return data_train, data_test"
   ]
  },
  {
   "cell_type": "code",
   "execution_count": 12,
   "id": "d239ce9e",
   "metadata": {},
   "outputs": [
    {
     "name": "stdout",
     "output_type": "stream",
     "text": [
      "X shape:  (734, 20, 5)\n",
      "y shape:  (734, 2)\n",
      "Train features shape:  (587, 20, 5)\n",
      "Test features shape:  (147, 20, 5)\n",
      "Train features shape:  (587, 2)\n",
      "Test features shape:  (147, 2)\n"
     ]
    }
   ],
   "source": [
    "X, y = get_X_y(X_value, y_value)\n",
    "print('X shape: ', X.shape)\n",
    "print('y shape: ', y.shape)\n",
    "train_features, test_features = split_train_test(X) \n",
    "train_target, test_target = split_train_test(y) \n",
    "\n",
    "print('Train features shape: ', train_features.shape)\n",
    "print('Test features shape: ', test_features.shape)\n",
    "print('Train features shape: ', train_target.shape)\n",
    "print('Test features shape: ', test_target.shape)"
   ]
  },
  {
   "cell_type": "code",
   "execution_count": 13,
   "id": "2450a260",
   "metadata": {},
   "outputs": [],
   "source": [
    "input_dim = train_features.shape[1]\n",
    "input_feature_size = train_features.shape[2]\n",
    "output_dim = train_target.shape[1]"
   ]
  },
  {
   "cell_type": "code",
   "execution_count": 14,
   "id": "0f4fece6",
   "metadata": {},
   "outputs": [],
   "source": [
    "N_EPOCH = 50\n",
    "BATCH_SIZE = 64\n",
    "\n",
    "def basic_LSTM(input_dim, output_dim, input_feature_size):\n",
    "    model = Sequential()\n",
    "    model.add(LSTM(units=63, return_sequences=True, activation='relu', input_shape=(input_dim, input_feature_size)))\n",
    "    model.add(Dropout(0.2))\n",
    "    model.add(LSTM(250, return_sequences=False))\n",
    "    model.add(Dropout(0.2))\n",
    "    model.add(Dense(output_dim, activation='softmax'))\n",
    "\n",
    "    model.compile(optimizer='adam',\n",
    "              loss='categorical_crossentropy',\n",
    "              metrics=['accuracy'])\n",
    "    \n",
    "    history = model.fit(train_features, train_target, epochs=N_EPOCH, \n",
    "                        validation_data=(test_features, test_target),\n",
    "                        batch_size=BATCH_SIZE, verbose=2, shuffle=False)\n",
    "\n",
    "    return model, history"
   ]
  },
  {
   "cell_type": "code",
   "execution_count": 15,
   "id": "5b79d271",
   "metadata": {
    "scrolled": true
   },
   "outputs": [
    {
     "name": "stderr",
     "output_type": "stream",
     "text": [
      "C:\\Users\\48798\\anaconda3\\Lib\\site-packages\\keras\\src\\layers\\rnn\\rnn.py:204: UserWarning: Do not pass an `input_shape`/`input_dim` argument to a layer. When using Sequential models, prefer using an `Input(shape)` object as the first layer in the model instead.\n",
      "  super().__init__(**kwargs)\n"
     ]
    },
    {
     "name": "stdout",
     "output_type": "stream",
     "text": [
      "Epoch 1/50\n",
      "10/10 - 28s - 3s/step - accuracy: 0.4957 - loss: 0.7010 - val_accuracy: 0.5238 - val_loss: 0.6906\n",
      "Epoch 2/50\n",
      "10/10 - 2s - 199ms/step - accuracy: 0.5417 - loss: 0.7140 - val_accuracy: 0.4966 - val_loss: 0.6942\n",
      "Epoch 3/50\n",
      "10/10 - 4s - 359ms/step - accuracy: 0.5264 - loss: 0.6918 - val_accuracy: 0.4966 - val_loss: 0.6927\n",
      "Epoch 4/50\n",
      "10/10 - 2s - 233ms/step - accuracy: 0.5554 - loss: 0.6889 - val_accuracy: 0.5374 - val_loss: 0.6918\n",
      "Epoch 5/50\n",
      "10/10 - 3s - 319ms/step - accuracy: 0.5537 - loss: 0.6887 - val_accuracy: 0.5374 - val_loss: 0.6922\n",
      "Epoch 6/50\n",
      "10/10 - 2s - 213ms/step - accuracy: 0.5503 - loss: 0.6892 - val_accuracy: 0.5374 - val_loss: 0.6930\n",
      "Epoch 7/50\n",
      "10/10 - 2s - 224ms/step - accuracy: 0.5486 - loss: 0.6890 - val_accuracy: 0.5306 - val_loss: 0.6924\n",
      "Epoch 8/50\n",
      "10/10 - 3s - 265ms/step - accuracy: 0.5451 - loss: 0.6873 - val_accuracy: 0.5306 - val_loss: 0.6922\n",
      "Epoch 9/50\n",
      "10/10 - 2s - 237ms/step - accuracy: 0.5554 - loss: 0.6889 - val_accuracy: 0.5306 - val_loss: 0.6921\n",
      "Epoch 10/50\n",
      "10/10 - 2s - 236ms/step - accuracy: 0.5554 - loss: 0.6869 - val_accuracy: 0.5442 - val_loss: 0.6912\n",
      "Epoch 11/50\n",
      "10/10 - 4s - 364ms/step - accuracy: 0.5537 - loss: 0.6874 - val_accuracy: 0.5442 - val_loss: 0.6915\n",
      "Epoch 12/50\n",
      "10/10 - 2s - 239ms/step - accuracy: 0.5486 - loss: 0.6890 - val_accuracy: 0.5374 - val_loss: 0.6910\n",
      "Epoch 13/50\n",
      "10/10 - 3s - 318ms/step - accuracy: 0.5554 - loss: 0.6879 - val_accuracy: 0.5306 - val_loss: 0.6912\n",
      "Epoch 14/50\n",
      "10/10 - 3s - 270ms/step - accuracy: 0.5486 - loss: 0.6899 - val_accuracy: 0.5170 - val_loss: 0.6930\n",
      "Epoch 15/50\n",
      "10/10 - 3s - 263ms/step - accuracy: 0.5486 - loss: 0.6861 - val_accuracy: 0.5374 - val_loss: 0.6917\n",
      "Epoch 16/50\n",
      "10/10 - 2s - 246ms/step - accuracy: 0.5486 - loss: 0.6869 - val_accuracy: 0.5306 - val_loss: 0.6921\n",
      "Epoch 17/50\n",
      "10/10 - 2s - 235ms/step - accuracy: 0.5571 - loss: 0.6862 - val_accuracy: 0.5306 - val_loss: 0.6945\n",
      "Epoch 18/50\n",
      "10/10 - 3s - 321ms/step - accuracy: 0.5520 - loss: 0.6859 - val_accuracy: 0.5238 - val_loss: 0.6929\n",
      "Epoch 19/50\n",
      "10/10 - 2s - 220ms/step - accuracy: 0.5588 - loss: 0.6867 - val_accuracy: 0.5306 - val_loss: 0.6944\n",
      "Epoch 20/50\n",
      "10/10 - 2s - 205ms/step - accuracy: 0.5537 - loss: 0.6843 - val_accuracy: 0.5238 - val_loss: 0.6938\n",
      "Epoch 21/50\n",
      "10/10 - 3s - 262ms/step - accuracy: 0.5554 - loss: 0.6862 - val_accuracy: 0.5238 - val_loss: 0.6977\n",
      "Epoch 22/50\n",
      "10/10 - 3s - 287ms/step - accuracy: 0.5537 - loss: 0.6849 - val_accuracy: 0.5306 - val_loss: 0.6916\n",
      "Epoch 23/50\n",
      "10/10 - 5s - 482ms/step - accuracy: 0.5434 - loss: 0.6866 - val_accuracy: 0.5306 - val_loss: 0.6949\n",
      "Epoch 24/50\n",
      "10/10 - 2s - 249ms/step - accuracy: 0.5571 - loss: 0.6860 - val_accuracy: 0.5374 - val_loss: 0.6988\n",
      "Epoch 25/50\n",
      "10/10 - 3s - 260ms/step - accuracy: 0.5520 - loss: 0.6856 - val_accuracy: 0.5374 - val_loss: 0.6913\n",
      "Epoch 26/50\n",
      "10/10 - 3s - 278ms/step - accuracy: 0.5537 - loss: 0.6839 - val_accuracy: 0.5238 - val_loss: 0.6953\n",
      "Epoch 27/50\n",
      "10/10 - 3s - 322ms/step - accuracy: 0.5605 - loss: 0.6833 - val_accuracy: 0.5170 - val_loss: 0.6972\n",
      "Epoch 28/50\n",
      "10/10 - 3s - 283ms/step - accuracy: 0.5520 - loss: 0.6858 - val_accuracy: 0.5374 - val_loss: 0.6956\n",
      "Epoch 29/50\n",
      "10/10 - 3s - 254ms/step - accuracy: 0.5537 - loss: 0.6853 - val_accuracy: 0.5306 - val_loss: 0.6963\n",
      "Epoch 30/50\n",
      "10/10 - 3s - 269ms/step - accuracy: 0.5571 - loss: 0.6857 - val_accuracy: 0.5306 - val_loss: 0.6944\n",
      "Epoch 31/50\n",
      "10/10 - 3s - 256ms/step - accuracy: 0.5520 - loss: 0.6842 - val_accuracy: 0.5238 - val_loss: 0.6938\n",
      "Epoch 32/50\n",
      "10/10 - 4s - 373ms/step - accuracy: 0.5571 - loss: 0.6841 - val_accuracy: 0.5306 - val_loss: 0.6958\n",
      "Epoch 33/50\n",
      "10/10 - 3s - 289ms/step - accuracy: 0.5554 - loss: 0.6829 - val_accuracy: 0.5238 - val_loss: 0.6947\n",
      "Epoch 34/50\n",
      "10/10 - 3s - 267ms/step - accuracy: 0.5537 - loss: 0.6831 - val_accuracy: 0.5306 - val_loss: 0.6960\n",
      "Epoch 35/50\n",
      "10/10 - 5s - 477ms/step - accuracy: 0.5451 - loss: 0.6806 - val_accuracy: 0.5170 - val_loss: 0.6976\n",
      "Epoch 36/50\n",
      "10/10 - 2s - 244ms/step - accuracy: 0.5639 - loss: 0.6816 - val_accuracy: 0.5306 - val_loss: 0.6924\n",
      "Epoch 37/50\n",
      "10/10 - 3s - 268ms/step - accuracy: 0.5486 - loss: 0.6854 - val_accuracy: 0.4966 - val_loss: 0.6957\n",
      "Epoch 38/50\n",
      "10/10 - 2s - 209ms/step - accuracy: 0.5486 - loss: 0.6855 - val_accuracy: 0.4966 - val_loss: 0.6948\n",
      "Epoch 39/50\n",
      "10/10 - 3s - 310ms/step - accuracy: 0.5571 - loss: 0.6837 - val_accuracy: 0.5306 - val_loss: 0.6940\n",
      "Epoch 40/50\n",
      "10/10 - 2s - 230ms/step - accuracy: 0.5503 - loss: 0.6826 - val_accuracy: 0.5306 - val_loss: 0.6927\n",
      "Epoch 41/50\n",
      "10/10 - 3s - 274ms/step - accuracy: 0.5588 - loss: 0.6843 - val_accuracy: 0.5170 - val_loss: 0.6962\n",
      "Epoch 42/50\n",
      "10/10 - 2s - 218ms/step - accuracy: 0.5486 - loss: 0.6844 - val_accuracy: 0.5306 - val_loss: 0.6936\n",
      "Epoch 43/50\n",
      "10/10 - 2s - 208ms/step - accuracy: 0.5315 - loss: 0.6858 - val_accuracy: 0.5306 - val_loss: 0.6934\n",
      "Epoch 44/50\n",
      "10/10 - 2s - 194ms/step - accuracy: 0.5451 - loss: 0.6841 - val_accuracy: 0.5306 - val_loss: 0.6966\n",
      "Epoch 45/50\n",
      "10/10 - 2s - 211ms/step - accuracy: 0.5520 - loss: 0.6827 - val_accuracy: 0.5374 - val_loss: 0.6940\n",
      "Epoch 46/50\n",
      "10/10 - 2s - 196ms/step - accuracy: 0.5417 - loss: 0.6792 - val_accuracy: 0.5374 - val_loss: 0.6972\n",
      "Epoch 47/50\n",
      "10/10 - 3s - 338ms/step - accuracy: 0.5554 - loss: 0.6823 - val_accuracy: 0.4966 - val_loss: 0.6968\n",
      "Epoch 48/50\n",
      "10/10 - 2s - 221ms/step - accuracy: 0.5468 - loss: 0.6798 - val_accuracy: 0.5170 - val_loss: 0.7018\n",
      "Epoch 49/50\n",
      "10/10 - 2s - 224ms/step - accuracy: 0.5622 - loss: 0.6903 - val_accuracy: 0.4966 - val_loss: 0.6952\n",
      "Epoch 50/50\n",
      "10/10 - 2s - 208ms/step - accuracy: 0.5554 - loss: 0.6877 - val_accuracy: 0.5374 - val_loss: 0.6919\n"
     ]
    }
   ],
   "source": [
    "model, history = basic_LSTM(input_dim, output_dim, input_feature_size)"
   ]
  },
  {
   "cell_type": "code",
   "execution_count": 16,
   "id": "65419d2a",
   "metadata": {},
   "outputs": [
    {
     "name": "stdout",
     "output_type": "stream",
     "text": [
      "\u001b[1m19/19\u001b[0m \u001b[32m━━━━━━━━━━━━━━━━━━━━\u001b[0m\u001b[37m\u001b[0m \u001b[1m1s\u001b[0m 67ms/step - accuracy: 0.5294 - loss: 0.6990\n",
      "Train loss: 0.6848259568214417\n",
      "Train accuracy: 0.5519590973854065\n",
      "\u001b[1m5/5\u001b[0m \u001b[32m━━━━━━━━━━━━━━━━━━━━\u001b[0m\u001b[37m\u001b[0m \u001b[1m1s\u001b[0m 60ms/step - accuracy: 0.4890 - loss: 0.6977\n",
      "Test loss: 0.6919202208518982\n",
      "Test accuracy: 0.5374149680137634\n"
     ]
    }
   ],
   "source": [
    "# Ocena modelu na danych treningowych\n",
    "train_performance = model.evaluate(train_features, train_target)\n",
    "print('Train loss:', train_performance[0])\n",
    "print('Train accuracy:', train_performance[1])\n",
    "\n",
    "test_performance = model.evaluate(test_features, test_target)\n",
    "print('Test loss:', test_performance[0])\n",
    "print('Test accuracy:', test_performance[1])"
   ]
  },
  {
   "cell_type": "code",
   "execution_count": 17,
   "id": "4bce4c33",
   "metadata": {
    "scrolled": true
   },
   "outputs": [
    {
     "name": "stdout",
     "output_type": "stream",
     "text": [
      "\u001b[1m19/19\u001b[0m \u001b[32m━━━━━━━━━━━━━━━━━━━━\u001b[0m\u001b[37m\u001b[0m \u001b[1m5s\u001b[0m 150ms/step\n",
      "247\n",
      "77\n",
      "193\n",
      "70\n",
      "Accuracy (ACC): 0.5519591141396933\n",
      "True Positive Rate (TPR): 0.7791798107255521\n",
      "False Positive Rate (FPR): 0.7148148148148148\n",
      "True Negative Rate (TNR): 0.2851851851851852\n",
      "Positive Predictive Value (PPV): 0.5613636363636364\n",
      "Negative Predictive Value (NPV): 0.5238095238095238\n"
     ]
    }
   ],
   "source": [
    "# Predykcja na zbiorze treningowym\n",
    "train_predictions = model.predict(train_features)\n",
    "train_predictions = np.argmax(train_predictions, axis = 1)\n",
    "train_true = np.argmax(train_target, axis = 1)\n",
    "\n",
    "# Obliczanie macierzy pomyłek\n",
    "cm = confusion_matrix(train_true, train_predictions)\n",
    "TP = cm[1, 1]  # True Positives\n",
    "TN = cm[0, 0]  # True Negatives\n",
    "FP = cm[0, 1]  # False Positives\n",
    "FN = cm[1, 0]  # False Negatives\n",
    "\n",
    "print(TP)\n",
    "print(TN)\n",
    "print(FP)\n",
    "print(FN)\n",
    "\n",
    "# TPR, FPR, TNR, PPV, NPV\n",
    "ACC = (TP + TN) / (TP + TN + FP + FN)\n",
    "TPR = TP / (TP + FN)\n",
    "FPR = FP / (FP + TN)\n",
    "TNR = TN / (TN + FP)\n",
    "PPV = TP / (TP + FP)\n",
    "NPV = TN / (TN + FN)\n",
    "\n",
    "print('Accuracy (ACC):', ACC)\n",
    "print('True Positive Rate (TPR):', TPR)\n",
    "print('False Positive Rate (FPR):', FPR)\n",
    "print('True Negative Rate (TNR):', TNR)\n",
    "print('Positive Predictive Value (PPV):', PPV)\n",
    "print('Negative Predictive Value (NPV):', NPV)"
   ]
  },
  {
   "cell_type": "code",
   "execution_count": 18,
   "id": "8e441350",
   "metadata": {},
   "outputs": [
    {
     "name": "stdout",
     "output_type": "stream",
     "text": [
      "\u001b[1m5/5\u001b[0m \u001b[32m━━━━━━━━━━━━━━━━━━━━\u001b[0m\u001b[37m\u001b[0m \u001b[1m0s\u001b[0m 43ms/step\n",
      "12\n",
      "67\n",
      "6\n",
      "62\n",
      "Accuracy (ACC): 0.5374149659863946\n",
      "True Positive Rate (TPR): 0.16216216216216217\n",
      "False Positive Rate (FPR): 0.0821917808219178\n",
      "True Negative Rate (TNR): 0.9178082191780822\n",
      "Positive Predictive Value (PPV): 0.6666666666666666\n",
      "Negative Predictive Value (NPV): 0.5193798449612403\n"
     ]
    }
   ],
   "source": [
    "# Predykcja na zbiorze testowym\n",
    "test_predictions = model.predict(test_features)\n",
    "test_predictions = np.argmax(test_predictions, axis = 1)\n",
    "test_true = np.argmax(test_target, axis = 1)\n",
    "\n",
    "# Obliczanie macierzy pomyłek\n",
    "cm = confusion_matrix(test_true, test_predictions)\n",
    "TP = cm[1, 1]  # True Positives\n",
    "TN = cm[0, 0]  # True Negatives\n",
    "FP = cm[0, 1]  # False Positives\n",
    "FN = cm[1, 0]  # False Negatives\n",
    "\n",
    "print(TP)\n",
    "print(TN)\n",
    "print(FP)\n",
    "print(FN)\n",
    "\n",
    "# TPR, FPR, TNR, PPV, NPV\n",
    "ACC = (TP + TN) / (TP + TN + FP + FN)\n",
    "TPR = TP / (TP + FN)\n",
    "FPR = FP / (FP + TN)\n",
    "TNR = TN / (TN + FP)\n",
    "PPV = TP / (TP + FP)\n",
    "NPV = TN / (TN + FN)\n",
    "\n",
    "print('Accuracy (ACC):', ACC)\n",
    "print('True Positive Rate (TPR):', TPR)\n",
    "print('False Positive Rate (FPR):', FPR)\n",
    "print('True Negative Rate (TNR):', TNR)\n",
    "print('Positive Predictive Value (PPV):', PPV)\n",
    "print('Negative Predictive Value (NPV):', NPV)"
   ]
  },
  {
   "cell_type": "code",
   "execution_count": 19,
   "id": "138343a9",
   "metadata": {},
   "outputs": [
    {
     "data": {
      "image/png": "[encoded data removed]",
      "text/plain": [
       "<Figure size 640x480 with 1 Axes>"
      ]
     },
     "metadata": {},
     "output_type": "display_data"
    }
   ],
   "source": [
    "plt.plot(history.history[\"accuracy\"], label=\"train\")\n",
    "plt.plot(history.history[\"val_accuracy\"], label=\"test\")\n",
    "plt.title(\"Skuteczność - LSTM\")\n",
    "plt.xlabel(\"Epoch\")\n",
    "plt.ylabel(\"Accuracy\")\n",
    "plt.xticks(np.arange(0, N_EPOCH, step=5))\n",
    "plt.yticks(np.arange(0, 1, step=0.1))\n",
    "plt.legend()\n",
    "plt.show()"
   ]
  },
  {
   "cell_type": "code",
   "execution_count": 20,
   "id": "8e1ebd56",
   "metadata": {},
   "outputs": [
    {
     "data": {
      "image/png": "[encoded data removed]",
      "text/plain": [
       "<Figure size 640x480 with 1 Axes>"
      ]
     },
     "metadata": {},
     "output_type": "display_data"
    }
   ],
   "source": [
    "plt.plot(history.history[\"loss\"], label=\"train\")\n",
    "plt.plot(history.history[\"val_loss\"], label=\"test\")\n",
    "plt.title(\"Funkcja strat - LSTM\")\n",
    "plt.xlabel(\"Epoch\")\n",
    "plt.ylabel(\"Loss\")\n",
    "plt.xticks(np.arange(0, N_EPOCH, step=5))\n",
    "plt.yticks(np.arange(0, 1, step=0.1))\n",
    "plt.legend()\n",
    "plt.show()"
   ]
  }
 ],
 "metadata": {
  "kernelspec": {
   "display_name": "Python 3 (ipykernel)",
   "language": "python",
   "name": "python3"
  },
  "language_info": {
   "codemirror_mode": {
    "name": "ipython",
    "version": 3
   },
   "file_extension": ".py",
   "mimetype": "text/x-python",
   "name": "python",
   "nbconvert_exporter": "python",
   "pygments_lexer": "ipython3",
   "version": "3.11.5"
  }
 },
 "nbformat": 4,
 "nbformat_minor": 5
}
