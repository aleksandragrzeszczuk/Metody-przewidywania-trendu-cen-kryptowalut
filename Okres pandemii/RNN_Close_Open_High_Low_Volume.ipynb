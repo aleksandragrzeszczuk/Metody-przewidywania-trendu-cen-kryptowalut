{
 "cells": [
  {
   "cell_type": "code",
   "execution_count": 1,
   "id": "538a527a",
   "metadata": {},
   "outputs": [],
   "source": [
    "from keras.models import Sequential\n",
    "from keras.layers import SimpleRNN, Dense, Dropout\n",
    "from keras.optimizers import Adam"
   ]
  },
  {
   "cell_type": "code",
   "execution_count": 2,
   "id": "745310cc",
   "metadata": {},
   "outputs": [],
   "source": [
    "import pandas as pd\n",
    "import optuna\n",
    "import yfinance as yf\n",
    "import pandas_datareader.data as web\n",
    "from datetime import datetime\n",
    "import numpy as np\n",
    "import pandas_ta as ta\n",
    "from keras.optimizers import Adam\n",
    "from keras.optimizers import SGD\n",
    "from keras.optimizers import Nadam\n",
    "from sklearn.metrics import confusion_matrix\n",
    "from tensorflow.keras.models import Sequential\n",
    "from tensorflow.keras.layers import Dense\n",
    "from tensorflow.keras.utils import to_categorical\n",
    "from keras.models import Sequential\n",
    "from keras.layers import Dense, Dropout\n",
    "from keras.regularizers import l2\n",
    "from keras.callbacks import EarlyStopping\n",
    "from sklearn.preprocessing import MinMaxScaler\n",
    "from keras.utils import plot_model\n",
    "from keras.layers import Dropout, Dense, GRU, LSTM, Flatten\n",
    "import matplotlib.pyplot as plt"
   ]
  },
  {
   "cell_type": "code",
   "execution_count": 3,
   "id": "ecfe67dc",
   "metadata": {},
   "outputs": [],
   "source": [
    "import warnings\n",
    "warnings.filterwarnings('ignore', category = pd.errors.PerformanceWarning)"
   ]
  },
  {
   "cell_type": "code",
   "execution_count": 4,
   "id": "3bdd371a",
   "metadata": {
    "scrolled": true
   },
   "outputs": [
    {
     "name": "stderr",
     "output_type": "stream",
     "text": [
      "\r",
      "[*********************100%%**********************]  1 of 1 completed"
     ]
    },
    {
     "name": "stdout",
     "output_type": "stream",
     "text": [
      "784\n",
      "(784, 157)\n"
     ]
    },
    {
     "name": "stderr",
     "output_type": "stream",
     "text": [
      "\n"
     ]
    }
   ],
   "source": [
    "# Pobieramy dane dotyczące BTC z yahoo\n",
    "BTC = yf.download('BTC-USD', start = '2020-01-01', end = '2022-02-23')\n",
    "\n",
    "BTC['Target'] = (BTC['Close'].diff() > 0).astype(int)\n",
    "\n",
    "def add_lagged_features(data, column_name, n_days):\n",
    "    for i in range(1, n_days + 1):\n",
    "        lagged_column_name = f'{column_name}_{i}d_back'\n",
    "        data[lagged_column_name] = data[column_name].shift(i)\n",
    "    return data\n",
    "\n",
    "BTC = add_lagged_features(BTC, 'Close', 30)\n",
    "BTC = add_lagged_features(BTC, 'Open', 30)\n",
    "BTC = add_lagged_features(BTC, 'Volume', 30)\n",
    "BTC = add_lagged_features(BTC, 'High', 30)\n",
    "BTC = add_lagged_features(BTC, 'Low', 30)\n",
    "\n",
    "# df = pd.DataFrame()\n",
    "# df = BTC.copy()\n",
    "# print(BTC.head())\n",
    "print(len(BTC))\n",
    "print(BTC.shape)"
   ]
  },
  {
   "cell_type": "code",
   "execution_count": 5,
   "id": "bea0121c",
   "metadata": {},
   "outputs": [],
   "source": [
    "BTC = BTC.drop('Adj Close', axis=1)\n",
    "BTC = BTC.dropna().reset_index(drop = True)\n",
    "# BTC"
   ]
  },
  {
   "cell_type": "code",
   "execution_count": 6,
   "id": "148e7526",
   "metadata": {
    "scrolled": true
   },
   "outputs": [],
   "source": [
    "dataset = pd.DataFrame()\n",
    "dataset = BTC[['Open', 'High', 'Low', 'Close', 'Volume', 'Target']].copy()\n",
    "# dataset"
   ]
  },
  {
   "cell_type": "code",
   "execution_count": 7,
   "id": "a4639688",
   "metadata": {},
   "outputs": [],
   "source": [
    "n_steps_in = 20\n",
    "output_features = 2"
   ]
  },
  {
   "cell_type": "code",
   "execution_count": 8,
   "id": "c36088bd",
   "metadata": {},
   "outputs": [],
   "source": [
    "X_value = pd.DataFrame(dataset.iloc[:, :])\n",
    "X_value = X_value.drop('Target', axis='columns')\n",
    "# X_value"
   ]
  },
  {
   "cell_type": "code",
   "execution_count": 9,
   "id": "9eb64e54",
   "metadata": {},
   "outputs": [],
   "source": [
    "y_value = pd.DataFrame(dataset.Target)\n",
    "y_value = to_categorical(y_value)\n",
    "# y_value"
   ]
  },
  {
   "cell_type": "code",
   "execution_count": 10,
   "id": "d3d27bf1",
   "metadata": {},
   "outputs": [],
   "source": [
    "scaler = MinMaxScaler(feature_range=(-1, 1))\n",
    "scaler.fit(X_value)\n",
    "X_value = scaler.fit_transform(X_value)"
   ]
  },
  {
   "cell_type": "code",
   "execution_count": 11,
   "id": "b089df56",
   "metadata": {},
   "outputs": [],
   "source": [
    "def get_X_y(X_data, y_data):\n",
    "    X = list()\n",
    "    y = list()\n",
    "\n",
    "    length = len(X_data)\n",
    "    for i in range(0, length-n_steps_in, 1):\n",
    "        X_value = X_data[i: i + n_steps_in][:, :]\n",
    "        # y_value = y_data[i + n_steps_in: i + (n_steps_in + n_steps_out)][:, :]\n",
    "        y_value = y_data[i + n_steps_in]\n",
    "        if len(X_value) == n_steps_in and len(y_value) == output_features:\n",
    "            X.append(X_value)\n",
    "            y.append(y_value)\n",
    "\n",
    "    return np.array(X), np.array(y)"
   ]
  },
  {
   "cell_type": "code",
   "execution_count": 12,
   "id": "421d0771",
   "metadata": {},
   "outputs": [],
   "source": [
    "def split_train_test(data):\n",
    "    train_size = int(0.8 * len(X))\n",
    "    data_train = data[0:train_size]\n",
    "    data_test = data[train_size:]\n",
    "    return data_train, data_test"
   ]
  },
  {
   "cell_type": "code",
   "execution_count": 13,
   "id": "d239ce9e",
   "metadata": {},
   "outputs": [
    {
     "name": "stdout",
     "output_type": "stream",
     "text": [
      "X shape:  (734, 20, 5)\n",
      "y shape:  (734, 2)\n",
      "Train features shape:  (587, 20, 5)\n",
      "Test features shape:  (147, 20, 5)\n",
      "Train features shape:  (587, 2)\n",
      "Test features shape:  (147, 2)\n"
     ]
    }
   ],
   "source": [
    "X, y = get_X_y(X_value, y_value)\n",
    "print('X shape: ', X.shape)\n",
    "print('y shape: ', y.shape)\n",
    "train_features, test_features = split_train_test(X) \n",
    "train_target, test_target = split_train_test(y) \n",
    "\n",
    "print('Train features shape: ', train_features.shape)\n",
    "print('Test features shape: ', test_features.shape)\n",
    "print('Train features shape: ', train_target.shape)\n",
    "print('Test features shape: ', test_target.shape)"
   ]
  },
  {
   "cell_type": "code",
   "execution_count": 14,
   "id": "2450a260",
   "metadata": {},
   "outputs": [],
   "source": [
    "input_dim = train_features.shape[1]\n",
    "input_feature_size = train_features.shape[2]\n",
    "output_dim = train_target.shape[1]"
   ]
  },
  {
   "cell_type": "code",
   "execution_count": 15,
   "id": "0f4fece6",
   "metadata": {},
   "outputs": [],
   "source": [
    "N_EPOCH = 50\n",
    "BATCH_SIZE = 64\n",
    "\n",
    "def basic_simpleRNN(input_dim, output_dim, input_feature_size):\n",
    "    model = Sequential()\n",
    "    model.add(SimpleRNN(units=63, return_sequences=True, activation='relu', input_shape=(input_dim, input_feature_size)))\n",
    "    model.add(Dropout(0.2))\n",
    "    model.add(SimpleRNN(250, return_sequences=False))\n",
    "    model.add(Dropout(0.2))\n",
    "    model.add(Dense(output_dim, activation='softmax'))\n",
    "\n",
    "    model.compile(optimizer=Adam(),\n",
    "                  loss='categorical_crossentropy',\n",
    "                  metrics=['accuracy'])\n",
    "    \n",
    "    history = model.fit(train_features, train_target, epochs = N_EPOCH, \n",
    "                        validation_data = (test_features, test_target),\n",
    "                        batch_size = BATCH_SIZE, verbose = 2, shuffle = False)\n",
    "\n",
    "    return model, history"
   ]
  },
  {
   "cell_type": "code",
   "execution_count": 16,
   "id": "5b79d271",
   "metadata": {
    "scrolled": true
   },
   "outputs": [
    {
     "name": "stderr",
     "output_type": "stream",
     "text": [
      "C:\\Users\\48798\\anaconda3\\Lib\\site-packages\\keras\\src\\layers\\rnn\\rnn.py:204: UserWarning: Do not pass an `input_shape`/`input_dim` argument to a layer. When using Sequential models, prefer using an `Input(shape)` object as the first layer in the model instead.\n",
      "  super().__init__(**kwargs)\n"
     ]
    },
    {
     "name": "stdout",
     "output_type": "stream",
     "text": [
      "Epoch 1/50\n",
      "10/10 - 6s - 607ms/step - accuracy: 0.5349 - loss: 0.7818 - val_accuracy: 0.4966 - val_loss: 0.6991\n",
      "Epoch 2/50\n",
      "10/10 - 0s - 35ms/step - accuracy: 0.5145 - loss: 0.7283 - val_accuracy: 0.4966 - val_loss: 0.7566\n",
      "Epoch 3/50\n",
      "10/10 - 0s - 33ms/step - accuracy: 0.4736 - loss: 0.7965 - val_accuracy: 0.4558 - val_loss: 0.6964\n",
      "Epoch 4/50\n",
      "10/10 - 0s - 33ms/step - accuracy: 0.4974 - loss: 0.7930 - val_accuracy: 0.4966 - val_loss: 0.7052\n",
      "Epoch 5/50\n",
      "10/10 - 0s - 33ms/step - accuracy: 0.5128 - loss: 0.7424 - val_accuracy: 0.5034 - val_loss: 0.7307\n",
      "Epoch 6/50\n",
      "10/10 - 0s - 34ms/step - accuracy: 0.5230 - loss: 0.7946 - val_accuracy: 0.4966 - val_loss: 0.6988\n",
      "Epoch 7/50\n",
      "10/10 - 0s - 36ms/step - accuracy: 0.5213 - loss: 0.7153 - val_accuracy: 0.5034 - val_loss: 0.6952\n",
      "Epoch 8/50\n",
      "10/10 - 0s - 36ms/step - accuracy: 0.5060 - loss: 0.7545 - val_accuracy: 0.4966 - val_loss: 0.7112\n",
      "Epoch 9/50\n",
      "10/10 - 0s - 46ms/step - accuracy: 0.5298 - loss: 0.7231 - val_accuracy: 0.5510 - val_loss: 0.6894\n",
      "Epoch 10/50\n",
      "10/10 - 0s - 37ms/step - accuracy: 0.5128 - loss: 0.7424 - val_accuracy: 0.5238 - val_loss: 0.6951\n",
      "Epoch 11/50\n",
      "10/10 - 0s - 40ms/step - accuracy: 0.5332 - loss: 0.7058 - val_accuracy: 0.5034 - val_loss: 0.6940\n",
      "Epoch 12/50\n",
      "10/10 - 0s - 39ms/step - accuracy: 0.5520 - loss: 0.7288 - val_accuracy: 0.5374 - val_loss: 0.6842\n",
      "Epoch 13/50\n",
      "10/10 - 1s - 101ms/step - accuracy: 0.5741 - loss: 0.6931 - val_accuracy: 0.4898 - val_loss: 0.6899\n",
      "Epoch 14/50\n",
      "10/10 - 1s - 104ms/step - accuracy: 0.5503 - loss: 0.7069 - val_accuracy: 0.5374 - val_loss: 0.6921\n",
      "Epoch 15/50\n",
      "10/10 - 1s - 110ms/step - accuracy: 0.5656 - loss: 0.6931 - val_accuracy: 0.5918 - val_loss: 0.6937\n",
      "Epoch 16/50\n",
      "10/10 - 1s - 120ms/step - accuracy: 0.5741 - loss: 0.7019 - val_accuracy: 0.5102 - val_loss: 0.6867\n",
      "Epoch 17/50\n",
      "10/10 - 3s - 265ms/step - accuracy: 0.5247 - loss: 0.7064 - val_accuracy: 0.5170 - val_loss: 0.6985\n",
      "Epoch 18/50\n",
      "10/10 - 1s - 69ms/step - accuracy: 0.5400 - loss: 0.7047 - val_accuracy: 0.5238 - val_loss: 0.6872\n",
      "Epoch 19/50\n",
      "10/10 - 1s - 137ms/step - accuracy: 0.5247 - loss: 0.7017 - val_accuracy: 0.4898 - val_loss: 0.7151\n",
      "Epoch 20/50\n",
      "10/10 - 1s - 136ms/step - accuracy: 0.5094 - loss: 0.7324 - val_accuracy: 0.4762 - val_loss: 0.6996\n",
      "Epoch 21/50\n",
      "10/10 - 1s - 114ms/step - accuracy: 0.5520 - loss: 0.6860 - val_accuracy: 0.5170 - val_loss: 0.7040\n",
      "Epoch 22/50\n",
      "10/10 - 1s - 134ms/step - accuracy: 0.5264 - loss: 0.7084 - val_accuracy: 0.5782 - val_loss: 0.6801\n",
      "Epoch 23/50\n",
      "10/10 - 1s - 137ms/step - accuracy: 0.5247 - loss: 0.6982 - val_accuracy: 0.5170 - val_loss: 0.6915\n",
      "Epoch 24/50\n",
      "10/10 - 1s - 143ms/step - accuracy: 0.5434 - loss: 0.6788 - val_accuracy: 0.4830 - val_loss: 0.7484\n",
      "Epoch 25/50\n",
      "10/10 - 1s - 77ms/step - accuracy: 0.5417 - loss: 0.7057 - val_accuracy: 0.5306 - val_loss: 0.6831\n",
      "Epoch 26/50\n",
      "10/10 - 1s - 135ms/step - accuracy: 0.5843 - loss: 0.6859 - val_accuracy: 0.5850 - val_loss: 0.6851\n",
      "Epoch 27/50\n",
      "10/10 - 1s - 68ms/step - accuracy: 0.5417 - loss: 0.6830 - val_accuracy: 0.5238 - val_loss: 0.6984\n",
      "Epoch 28/50\n",
      "10/10 - 1s - 69ms/step - accuracy: 0.5503 - loss: 0.6922 - val_accuracy: 0.4898 - val_loss: 0.6896\n",
      "Epoch 29/50\n",
      "10/10 - 1s - 83ms/step - accuracy: 0.5571 - loss: 0.6807 - val_accuracy: 0.5306 - val_loss: 0.6936\n",
      "Epoch 30/50\n",
      "10/10 - 1s - 82ms/step - accuracy: 0.5588 - loss: 0.6899 - val_accuracy: 0.5850 - val_loss: 0.6888\n",
      "Epoch 31/50\n",
      "10/10 - 1s - 81ms/step - accuracy: 0.5622 - loss: 0.6757 - val_accuracy: 0.5306 - val_loss: 0.6955\n",
      "Epoch 32/50\n",
      "10/10 - 1s - 70ms/step - accuracy: 0.5707 - loss: 0.6943 - val_accuracy: 0.5102 - val_loss: 0.7190\n",
      "Epoch 33/50\n",
      "10/10 - 1s - 74ms/step - accuracy: 0.5707 - loss: 0.6865 - val_accuracy: 0.4966 - val_loss: 0.7195\n",
      "Epoch 34/50\n",
      "10/10 - 1s - 76ms/step - accuracy: 0.5963 - loss: 0.6676 - val_accuracy: 0.5510 - val_loss: 0.6870\n",
      "Epoch 35/50\n",
      "10/10 - 1s - 78ms/step - accuracy: 0.5809 - loss: 0.6575 - val_accuracy: 0.5170 - val_loss: 0.7099\n",
      "Epoch 36/50\n",
      "10/10 - 1s - 75ms/step - accuracy: 0.5997 - loss: 0.6731 - val_accuracy: 0.5850 - val_loss: 0.7024\n",
      "Epoch 37/50\n",
      "10/10 - 1s - 90ms/step - accuracy: 0.5792 - loss: 0.6692 - val_accuracy: 0.5238 - val_loss: 0.7092\n",
      "Epoch 38/50\n",
      "10/10 - 1s - 77ms/step - accuracy: 0.5843 - loss: 0.6962 - val_accuracy: 0.5034 - val_loss: 0.7109\n",
      "Epoch 39/50\n",
      "10/10 - 2s - 157ms/step - accuracy: 0.5588 - loss: 0.6755 - val_accuracy: 0.5510 - val_loss: 0.6949\n",
      "Epoch 40/50\n",
      "10/10 - 1s - 84ms/step - accuracy: 0.5451 - loss: 0.7273 - val_accuracy: 0.5442 - val_loss: 0.7115\n",
      "Epoch 41/50\n",
      "10/10 - 1s - 98ms/step - accuracy: 0.5417 - loss: 0.6965 - val_accuracy: 0.5102 - val_loss: 0.7120\n",
      "Epoch 42/50\n",
      "10/10 - 1s - 79ms/step - accuracy: 0.5588 - loss: 0.6777 - val_accuracy: 0.5578 - val_loss: 0.7140\n",
      "Epoch 43/50\n",
      "10/10 - 1s - 72ms/step - accuracy: 0.5417 - loss: 0.7208 - val_accuracy: 0.5238 - val_loss: 0.7081\n",
      "Epoch 44/50\n",
      "10/10 - 1s - 83ms/step - accuracy: 0.5196 - loss: 0.7204 - val_accuracy: 0.5510 - val_loss: 0.7164\n",
      "Epoch 45/50\n",
      "10/10 - 2s - 159ms/step - accuracy: 0.5264 - loss: 0.7329 - val_accuracy: 0.5238 - val_loss: 0.7295\n",
      "Epoch 46/50\n",
      "10/10 - 1s - 118ms/step - accuracy: 0.5571 - loss: 0.6787 - val_accuracy: 0.5374 - val_loss: 0.7329\n",
      "Epoch 47/50\n",
      "10/10 - 1s - 134ms/step - accuracy: 0.5605 - loss: 0.6669 - val_accuracy: 0.5646 - val_loss: 0.7155\n",
      "Epoch 48/50\n",
      "10/10 - 1s - 111ms/step - accuracy: 0.5741 - loss: 0.6667 - val_accuracy: 0.5306 - val_loss: 0.7503\n",
      "Epoch 49/50\n",
      "10/10 - 2s - 167ms/step - accuracy: 0.5928 - loss: 0.6868 - val_accuracy: 0.5442 - val_loss: 0.7316\n",
      "Epoch 50/50\n",
      "10/10 - 1s - 149ms/step - accuracy: 0.5520 - loss: 0.6819 - val_accuracy: 0.5442 - val_loss: 0.8188\n"
     ]
    }
   ],
   "source": [
    "model, history = basic_simpleRNN(input_dim, output_dim, input_feature_size)"
   ]
  },
  {
   "cell_type": "code",
   "execution_count": 17,
   "id": "65419d2a",
   "metadata": {},
   "outputs": [
    {
     "name": "stdout",
     "output_type": "stream",
     "text": [
      "\u001b[1m19/19\u001b[0m \u001b[32m━━━━━━━━━━━━━━━━━━━━\u001b[0m\u001b[37m\u001b[0m \u001b[1m1s\u001b[0m 22ms/step - accuracy: 0.5578 - loss: 0.6796\n",
      "Train loss: 0.6448495984077454\n",
      "Train accuracy: 0.6201022267341614\n",
      "\u001b[1m5/5\u001b[0m \u001b[32m━━━━━━━━━━━━━━━━━━━━\u001b[0m\u001b[37m\u001b[0m \u001b[1m0s\u001b[0m 23ms/step - accuracy: 0.5694 - loss: 0.7722\n",
      "Test loss: 0.8187572956085205\n",
      "Test accuracy: 0.5442177057266235\n"
     ]
    }
   ],
   "source": [
    "# Ocena modelu na danych treningowych\n",
    "train_performance = model.evaluate(train_features, train_target)\n",
    "print('Train loss:', train_performance[0])\n",
    "print('Train accuracy:', train_performance[1])\n",
    "\n",
    "test_performance = model.evaluate(test_features, test_target)\n",
    "print('Test loss:', test_performance[0])\n",
    "print('Test accuracy:', test_performance[1])"
   ]
  },
  {
   "cell_type": "code",
   "execution_count": 18,
   "id": "4bce4c33",
   "metadata": {
    "scrolled": true
   },
   "outputs": [
    {
     "name": "stdout",
     "output_type": "stream",
     "text": [
      "\u001b[1m19/19\u001b[0m \u001b[32m━━━━━━━━━━━━━━━━━━━━\u001b[0m\u001b[37m\u001b[0m \u001b[1m4s\u001b[0m 117ms/step\n",
      "298\n",
      "66\n",
      "204\n",
      "19\n",
      "Accuracy (ACC): 0.6201022146507666\n",
      "True Positive Rate (TPR): 0.9400630914826499\n",
      "False Positive Rate (FPR): 0.7555555555555555\n",
      "True Negative Rate (TNR): 0.24444444444444444\n",
      "Positive Predictive Value (PPV): 0.5936254980079682\n",
      "Negative Predictive Value (NPV): 0.7764705882352941\n"
     ]
    }
   ],
   "source": [
    "# Predykcja na zbiorze treningowym\n",
    "train_predictions = model.predict(train_features)\n",
    "train_predictions = np.argmax(train_predictions, axis = 1)\n",
    "train_true = np.argmax(train_target, axis = 1)\n",
    "\n",
    "# Obliczanie macierzy pomyłek\n",
    "cm = confusion_matrix(train_true, train_predictions)\n",
    "TP = cm[1, 1]  # True Positives\n",
    "TN = cm[0, 0]  # True Negatives\n",
    "FP = cm[0, 1]  # False Positives\n",
    "FN = cm[1, 0]  # False Negatives\n",
    "\n",
    "print(TP)\n",
    "print(TN)\n",
    "print(FP)\n",
    "print(FN)\n",
    "\n",
    "# TPR, FPR, TNR, PPV, NPV\n",
    "ACC = (TP + TN) / (TP + TN + FP + FN)\n",
    "TPR = TP / (TP + FN)\n",
    "FPR = FP / (FP + TN)\n",
    "TNR = TN / (TN + FP)\n",
    "PPV = TP / (TP + FP)\n",
    "NPV = TN / (TN + FN)\n",
    "\n",
    "print('Accuracy (ACC):', ACC)\n",
    "print('True Positive Rate (TPR):', TPR)\n",
    "print('False Positive Rate (FPR):', FPR)\n",
    "print('True Negative Rate (TNR):', TNR)\n",
    "print('Positive Predictive Value (PPV):', PPV)\n",
    "print('Negative Predictive Value (NPV):', NPV)"
   ]
  },
  {
   "cell_type": "code",
   "execution_count": 19,
   "id": "8e441350",
   "metadata": {},
   "outputs": [
    {
     "name": "stdout",
     "output_type": "stream",
     "text": [
      "\u001b[1m5/5\u001b[0m \u001b[32m━━━━━━━━━━━━━━━━━━━━\u001b[0m\u001b[37m\u001b[0m \u001b[1m0s\u001b[0m 17ms/step\n",
      "50\n",
      "30\n",
      "43\n",
      "24\n",
      "Accuracy (ACC): 0.54421768707483\n",
      "True Positive Rate (TPR): 0.6756756756756757\n",
      "False Positive Rate (FPR): 0.589041095890411\n",
      "True Negative Rate (TNR): 0.410958904109589\n",
      "Positive Predictive Value (PPV): 0.5376344086021505\n",
      "Negative Predictive Value (NPV): 0.5555555555555556\n"
     ]
    }
   ],
   "source": [
    "# Predykcja na zbiorze testowym\n",
    "test_predictions = model.predict(test_features)\n",
    "test_predictions = np.argmax(test_predictions, axis = 1)\n",
    "test_true = np.argmax(test_target, axis = 1)\n",
    "\n",
    "# Obliczanie macierzy pomyłek\n",
    "cm = confusion_matrix(test_true, test_predictions)\n",
    "TP = cm[1, 1]  # True Positives\n",
    "TN = cm[0, 0]  # True Negatives\n",
    "FP = cm[0, 1]  # False Positives\n",
    "FN = cm[1, 0]  # False Negatives\n",
    "\n",
    "print(TP)\n",
    "print(TN)\n",
    "print(FP)\n",
    "print(FN)\n",
    "\n",
    "# TPR, FPR, TNR, PPV, NPV\n",
    "ACC = (TP + TN) / (TP + TN + FP + FN)\n",
    "TPR = TP / (TP + FN)\n",
    "FPR = FP / (FP + TN)\n",
    "TNR = TN / (TN + FP)\n",
    "PPV = TP / (TP + FP)\n",
    "NPV = TN / (TN + FN)\n",
    "\n",
    "print('Accuracy (ACC):', ACC)\n",
    "print('True Positive Rate (TPR):', TPR)\n",
    "print('False Positive Rate (FPR):', FPR)\n",
    "print('True Negative Rate (TNR):', TNR)\n",
    "print('Positive Predictive Value (PPV):', PPV)\n",
    "print('Negative Predictive Value (NPV):', NPV)"
   ]
  }
 ],
 "metadata": {
  "kernelspec": {
   "display_name": "Python 3 (ipykernel)",
   "language": "python",
   "name": "python3"
  },
  "language_info": {
   "codemirror_mode": {
    "name": "ipython",
    "version": 3
   },
   "file_extension": ".py",
   "mimetype": "text/x-python",
   "name": "python",
   "nbconvert_exporter": "python",
   "pygments_lexer": "ipython3",
   "version": "3.11.5"
  }
 },
 "nbformat": 4,
 "nbformat_minor": 5
}
